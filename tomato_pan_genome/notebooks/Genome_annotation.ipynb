{
 "cells": [
  {
   "cell_type": "markdown",
   "metadata": {},
   "source": [
    "# Genome annotation\n",
    "This notebook contains preparations for, and the genome annotation itself using MAKER-P.\n",
    "First, evidence data (transcripts, proteins and gene models) are collected and arranged. Next, the Heinz reference is annotated and the result is compared to the official annotation to assess the quality of annotation that the procedure used can produce. Finally, all genomes are annotated."
   ]
  },
  {
   "cell_type": "code",
   "execution_count": 1,
   "metadata": {
    "collapsed": true
   },
   "outputs": [],
   "source": [
    "import sys\n",
    "sys.path.append('../../queue_utilities/')\n",
    "from queueUtils import *\n",
    "queue_conf = '../../queue_utilities/queue.conf'\n",
    "sys.path.append('../python/')\n",
    "from os.path import realpath\n",
    "from os import chdir\n",
    "import os\n",
    "from get_genome_stats import get_stats\n",
    "import pandas\n",
    "from IPython.display import display\n",
    "pandas.set_option('display.float_format', lambda x: \"{:,.2f}\".format(x) if int(x) != x else \"{:,.0f}\".format(x))\n",
    "from shutil import rmtree\n",
    "from subprocess import Popen\n",
    "\n",
    "DATA_PATH = realpath(\"../data/\")\n",
    "PY_PATH = realpath(\"../python/\")\n",
    "FIGS_PATH = realpath(\"../figs/\")\n",
    "OUT_PATH = realpath(\"../output/\")\n",
    "\n",
    "bedtools_exe = \"/share/apps/bedtools2/bin/bedtools\""
   ]
  },
  {
   "cell_type": "markdown",
   "metadata": {},
   "source": [
    "## Collect evidence data\n",
    "### Proteins\n",
    "The proteins evidence data is comprised of 5 proteomes of high-quality reference annotations:\n",
    "- A. thaliana\n",
    "- V. vinifira (grape vine)\n",
    "- S. lycopersicum (tomato)\n",
    "- O. sativa (rice)\n",
    "- G. max (soybean)\n",
    "\n",
    "Additionally, all SwissProt (i.e manually curated/reviewed) proteins from other Embryophyte plants were used."
   ]
  },
  {
   "cell_type": "code",
   "execution_count": 20,
   "metadata": {
    "collapsed": true
   },
   "outputs": [],
   "source": [
    "proteins_evidence_dir = DATA_PATH + \"/proteins_evidence\""
   ]
  },
  {
   "cell_type": "code",
   "execution_count": 3,
   "metadata": {
    "collapsed": true
   },
   "outputs": [],
   "source": [
    "! mkdir $proteins_evidence_dir"
   ]
  },
  {
   "cell_type": "code",
   "execution_count": 3,
   "metadata": {
    "collapsed": true
   },
   "outputs": [],
   "source": [
    "# download and extract proteins data\n",
    "s_lyc_proteins_url = \"ftp://ftp.solgenomics.net/tomato_genome/annotation/ITAG3.2_release/ITAG3.2_proteins.fasta\"\n",
    "a_thaliana_proteins_url = \"ftp://ftp.ensemblgenomes.org/pub/plants/release-39/fasta/arabidopsis_thaliana/pep/Arabidopsis_thaliana.TAIR10.pep.all.fa.gz\"\n",
    "o_sativa_proteins_url = \"ftp://ftp.ensemblgenomes.org/pub/plants/release-39/fasta/oryza_sativa/pep/Oryza_sativa.IRGSP-1.0.pep.all.fa.gz\"\n",
    "v_vinifera_proteins_url = \"ftp://ftp.ensemblgenomes.org/pub/plants/release-39/fasta/vitis_vinifera/pep/Vitis_vinifera.IGGP_12x.pep.all.fa.gz\"\n",
    "g_max_proteins_url = \"ftp://ftp.ensemblgenomes.org/pub/plants/release-39/fasta/glycine_max/pep/Glycine_max.Glycine_max_v2.0.pep.all.fa.gz\"\n",
    "swiss_prot_embryophte_proteins_url = \"https://www.uniprot.org/uniprot/?sort=&desc=&compress=yes&query=reviewed:yes%20taxonomy:3193&fil&format=fasta&force=yes\""
   ]
  },
  {
   "cell_type": "code",
   "execution_count": 19,
   "metadata": {
    "collapsed": true
   },
   "outputs": [
    {
     "ename": "NameError",
     "evalue": "name 's_lyc_proteins_url' is not defined",
     "output_type": "error",
     "traceback": [
      "\u001b[0;31m---------------------------------------------------------------------------\u001b[0m",
      "\u001b[0;31mNameError\u001b[0m                                 Traceback (most recent call last)",
      "\u001b[0;32m<ipython-input-19-0008058793e9>\u001b[0m in \u001b[0;36m<module>\u001b[0;34m()\u001b[0m\n\u001b[1;32m      1\u001b[0m \u001b[0mprotein_download_commads\u001b[0m \u001b[0;34m=\u001b[0m \u001b[0;34m[\u001b[0m\u001b[0;34m]\u001b[0m\u001b[0;34m\u001b[0m\u001b[0m\n\u001b[0;32m----> 2\u001b[0;31m \u001b[0mprotein_download_commads\u001b[0m\u001b[0;34m.\u001b[0m\u001b[0mappend\u001b[0m\u001b[0;34m(\u001b[0m\u001b[0;34m\"wget \\\"%s\\\" -P %s\"\u001b[0m \u001b[0;34m%\u001b[0m\u001b[0;34m(\u001b[0m\u001b[0ms_lyc_proteins_url\u001b[0m\u001b[0;34m,\u001b[0m \u001b[0mproteins_evidence_dir\u001b[0m\u001b[0;34m)\u001b[0m\u001b[0;34m)\u001b[0m\u001b[0;34m\u001b[0m\u001b[0m\n\u001b[0m\u001b[1;32m      3\u001b[0m \u001b[0mprotein_download_commads\u001b[0m\u001b[0;34m.\u001b[0m\u001b[0mappend\u001b[0m\u001b[0;34m(\u001b[0m\u001b[0;34m\"wget \\\"%s\\\" -P %s\"\u001b[0m \u001b[0;34m%\u001b[0m\u001b[0;34m(\u001b[0m\u001b[0ma_thaliana_proteins_url\u001b[0m\u001b[0;34m,\u001b[0m \u001b[0mproteins_evidence_dir\u001b[0m\u001b[0;34m)\u001b[0m\u001b[0;34m)\u001b[0m\u001b[0;34m\u001b[0m\u001b[0m\n\u001b[1;32m      4\u001b[0m \u001b[0mprotein_download_commads\u001b[0m\u001b[0;34m.\u001b[0m\u001b[0mappend\u001b[0m\u001b[0;34m(\u001b[0m\u001b[0;34m\"wget \\\"%s\\\" -P %s\"\u001b[0m \u001b[0;34m%\u001b[0m\u001b[0;34m(\u001b[0m\u001b[0mo_sativa_proteins_url\u001b[0m\u001b[0;34m,\u001b[0m \u001b[0mproteins_evidence_dir\u001b[0m\u001b[0;34m)\u001b[0m\u001b[0;34m)\u001b[0m\u001b[0;34m\u001b[0m\u001b[0m\n\u001b[1;32m      5\u001b[0m \u001b[0mprotein_download_commads\u001b[0m\u001b[0;34m.\u001b[0m\u001b[0mappend\u001b[0m\u001b[0;34m(\u001b[0m\u001b[0;34m\"wget \\\"%s\\\" -P %s\"\u001b[0m \u001b[0;34m%\u001b[0m\u001b[0;34m(\u001b[0m\u001b[0mv_vinifera_proteins_url\u001b[0m\u001b[0;34m,\u001b[0m \u001b[0mproteins_evidence_dir\u001b[0m\u001b[0;34m)\u001b[0m\u001b[0;34m)\u001b[0m\u001b[0;34m\u001b[0m\u001b[0m\n",
      "\u001b[0;31mNameError\u001b[0m: name 's_lyc_proteins_url' is not defined"
     ]
    }
   ],
   "source": [
    "protein_download_commads = []\n",
    "protein_download_commads.append(\"wget \\\"%s\\\" -P %s\" %(s_lyc_proteins_url, proteins_evidence_dir))\n",
    "protein_download_commads.append(\"wget \\\"%s\\\" -P %s\" %(a_thaliana_proteins_url, proteins_evidence_dir))\n",
    "protein_download_commads.append(\"wget \\\"%s\\\" -P %s\" %(o_sativa_proteins_url, proteins_evidence_dir))\n",
    "protein_download_commads.append(\"wget \\\"%s\\\" -P %s\" %(v_vinifera_proteins_url, proteins_evidence_dir))\n",
    "protein_download_commads.append(\"wget \\\"%s\\\" -P %s\" %(g_max_proteins_url, proteins_evidence_dir))\n",
    "protein_download_commads.append(\"wget \\\"%s\\\" -O %s/swissProt_emb_proteins.fasta.gz\" %(swiss_prot_embryophte_proteins_url, proteins_evidence_dir))\n",
    "protein_download_commads.append(\"for f in `ls -1 %s/*.gz`; do gzip -d $f; done\" % proteins_evidence_dir)\n",
    "\n",
    "send_commands_to_queue(\"download_extract_proteins\", protein_download_commads, queue_conf)"
   ]
  },
  {
   "cell_type": "code",
   "execution_count": 10,
   "metadata": {},
   "outputs": [
    {
     "name": "stdout",
     "output_type": "stream",
     "text": [
      "Job filter_swissprot (job id 5977785) completed successfully\n"
     ]
    },
    {
     "data": {
      "text/plain": [
       "('5977785', 0)"
      ]
     },
     "execution_count": 10,
     "metadata": {},
     "output_type": "execute_result"
    }
   ],
   "source": [
    "# filter SwissProt proteins to remove species for which a proteome was downloaded\n",
    "filter_commands = ['module load python/python-3.3.0']\n",
    "filter_commands.append(\"python %s/filter_fasta.py %s/swissProt_emb_proteins.fasta -out_fasta %s/swissProt_emb_proteins_filtered.fasta -v %s\" %(PY_PATH, proteins_evidence_dir, proteins_evidence_dir, \"'Arabidopsis thaliana' 'Solanum lycopersicum' 'Oryza sativa' 'Glycine max' 'Vitis vinifera'\"))\n",
    "send_commands_to_queue('filter_swissprot', filter_commands, queue_conf)"
   ]
  },
  {
   "cell_type": "code",
   "execution_count": 21,
   "metadata": {
    "collapsed": true
   },
   "outputs": [],
   "source": [
    "# finally, concatenate all protein fasta files\n",
    "all_protein_evidence_fasta = \"%s/all_proteins.fasta\" % proteins_evidence_dir\n",
    "s_lyc_proteins_fasta = \"%s/ITAG3.2_proteins.fasta\" % proteins_evidence_dir\n",
    "a_thaliana_proteins_fasta = \"%s/Arabidopsis_thaliana.TAIR10.pep.all.fa\" % proteins_evidence_dir\n",
    "o_sativa_proteins_fasta = \"%s/Oryza_sativa.IRGSP-1.0.pep.all.fa\" % proteins_evidence_dir\n",
    "v_vinifera_proteins_fasta = \"%s/Vitis_vinifera.IGGP_12x.pep.all.fa\" % proteins_evidence_dir\n",
    "g_max_proteins_fasta = \"%s/Glycine_max.Glycine_max_v2.0.pep.all.fa\" % proteins_evidence_dir\n",
    "swiss_prot_embryophte_proteins_filtered_fasta = \"%s/swissProt_emb_proteins_filtered.fasta\" % proteins_evidence_dir"
   ]
  },
  {
   "cell_type": "code",
   "execution_count": 11,
   "metadata": {},
   "outputs": [
    {
     "name": "stdout",
     "output_type": "stream",
     "text": [
      "Job cat_protein_evidence (job id 5988646) completed successfully\n"
     ]
    },
    {
     "data": {
      "text/plain": [
       "('5988646', 0)"
      ]
     },
     "execution_count": 11,
     "metadata": {},
     "output_type": "execute_result"
    }
   ],
   "source": [
    "command = \"cat %s > %s\" %(' '.join([s_lyc_proteins_fasta, a_thaliana_proteins_fasta,\n",
    "                               o_sativa_proteins_fasta, v_vinifera_proteins_fasta, g_max_proteins_fasta,\n",
    "                               swiss_prot_embryophte_proteins_filtered_fasta]), all_protein_evidence_fasta)\n",
    "send_commands_to_queue('cat_protein_evidence',command, queue_conf)"
   ]
  },
  {
   "cell_type": "markdown",
   "metadata": {
    "collapsed": true
   },
   "source": [
    "### Transcripts\n",
    "Collect all transcript assemblies by concatenating into one file, while including the data set name in the headers.\n",
    "This was already done in transcriptome assembly notebook.\n",
    "At this point, I decided to just concatenate all transcripts, but I might come back here in order to filter the transcripts in some way or merge redundant transcripts."
   ]
  },
  {
   "cell_type": "code",
   "execution_count": 12,
   "metadata": {
    "collapsed": true
   },
   "outputs": [],
   "source": [
    "s_lyc_transcript_assemblies_dir = OUT_PATH + \"/S_lyc_transcriptome_assembly\"\n",
    "s_lyc_all_transcripts_concat = transcript_assemblies_dir + \"/all_transcripts_concat.fasta\""
   ]
  },
  {
   "cell_type": "markdown",
   "metadata": {},
   "source": [
    "### Repeats library\n",
    "In addition to the RepBase library, a species-specific library was created. This was done based on the ITAG3.2_RepeatModeler_repeats_light.gff file downloaded from SolGenomics. The gff file was used on the reference genome to extract fasta sequences."
   ]
  },
  {
   "cell_type": "code",
   "execution_count": 10,
   "metadata": {},
   "outputs": [
    {
     "name": "stdout",
     "output_type": "stream",
     "text": [
      "--2018-07-23 14:31:57--  ftp://ftp.solgenomics.net/tomato_genome/annotation/ITAG3.2_release/ITAG3.2_RepeatModeler_repeats_light.gff\n",
      "           => “/groups/itay_mayrose/liorglic/Projects/tomato_pan_genome/data/ITAG3.2_RepeatModeler_repeats_light.gff”\n",
      "Resolving ftp.solgenomics.net... 132.236.81.147\n",
      "Connecting to ftp.solgenomics.net|132.236.81.147|:21... connected.\n",
      "Logging in as anonymous ... Logged in!\n",
      "==> SYST ... done.    ==> PWD ... done.\n",
      "==> TYPE I ... done.  ==> CWD (1) /tomato_genome/annotation/ITAG3.2_release ... done.\n",
      "==> SIZE ITAG3.2_RepeatModeler_repeats_light.gff ... 86039779\n",
      "==> PASV ... done.    ==> RETR ITAG3.2_RepeatModeler_repeats_light.gff ... done.\n",
      "Length: 86039779 (82M) (unauthoritative)\n",
      "\n",
      "100%[======================================>] 86,039,779  19.2M/s   in 9.8s    \n",
      "\n",
      "2018-07-23 14:32:09 (8.40 MB/s) - “/groups/itay_mayrose/liorglic/Projects/tomato_pan_genome/data/ITAG3.2_RepeatModeler_repeats_light.gff” saved [86039779]\n",
      "\n"
     ]
    }
   ],
   "source": [
    "# get repeats gff\n",
    "!wget ftp://ftp.solgenomics.net/tomato_genome/annotation/ITAG3.2_release/ITAG3.2_RepeatModeler_repeats_light.gff -P $DATA_PATH"
   ]
  },
  {
   "cell_type": "code",
   "execution_count": 15,
   "metadata": {
    "collapsed": true
   },
   "outputs": [],
   "source": [
    "s_lyc_repeats_gff = \"%s/ITAG3.2_RepeatModeler_repeats_light.gff\" % DATA_PATH\n",
    "s_lyc_genome_fasta = \"%s/S_lycopersicum_chromosomes.3.00.fa\" % DATA_PATH\n",
    "s_lyc_repeats_fasta = \"%s/ITAG3.2_RepeatModeler_repeats_light.fasta\" % OUT_PATH"
   ]
  },
  {
   "cell_type": "code",
   "execution_count": 17,
   "metadata": {},
   "outputs": [
    {
     "name": "stdout",
     "output_type": "stream",
     "text": [
      "Job repeats_gff_to_fasta (job id 6087294) completed successfully\n"
     ]
    },
    {
     "data": {
      "text/plain": [
       "('6087294', 0)"
      ]
     },
     "execution_count": 17,
     "metadata": {},
     "output_type": "execute_result"
    }
   ],
   "source": [
    "gff_to_fasta_command = \"%s getfasta -fi %s -bed %s -fo %s\" %(bedtools_exe, s_lyc_genome_fasta, s_lyc_repeats_gff, s_lyc_repeats_fasta)\n",
    "send_commands_to_queue(\"repeats_gff_to_fasta\", gff_to_fasta_command, queue_conf)"
   ]
  },
  {
   "cell_type": "code",
   "execution_count": 23,
   "metadata": {},
   "outputs": [
    {
     "name": "stdout",
     "output_type": "stream",
     "text": [
      "/groups/itay_mayrose/liorglic/Projects/tomato_pan_genome/output/ITAG3.2_RepeatModeler_repeats_light.fasta\n"
     ]
    }
   ],
   "source": [
    "print(s_lyc_repeats_fasta)"
   ]
  },
  {
   "cell_type": "code",
   "execution_count": null,
   "metadata": {
    "collapsed": true
   },
   "outputs": [],
   "source": []
  }
 ],
 "metadata": {
  "kernelspec": {
   "display_name": "Python 3",
   "language": "python",
   "name": "python3"
  },
  "language_info": {
   "codemirror_mode": {
    "name": "ipython",
    "version": 3
   },
   "file_extension": ".py",
   "mimetype": "text/x-python",
   "name": "python",
   "nbconvert_exporter": "python",
   "pygments_lexer": "ipython3",
   "version": "3.6.2"
  }
 },
 "nbformat": 4,
 "nbformat_minor": 2
}
