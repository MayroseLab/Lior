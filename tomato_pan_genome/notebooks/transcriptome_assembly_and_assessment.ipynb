{
 "cells": [
  {
   "cell_type": "markdown",
   "metadata": {},
   "source": [
    "# Transcriptome assembly and assessment\n",
    "This notebook includes the analyses performed in order to assemble transcriptome data from multiple tomato accessions towards transcript-based genome annotation.  \n",
    "The analysis starts by exploring the official ITAG _S. lycopersicum_ annotation in order to set a baseline for quality metrics.  \n",
    "Then, a pan-transcriptome-assembly procedure per _Solanum_ species is performed. This analysis includes the following general steps (although see detailed description below):\n",
    "1. Download RNA-seq data from multiple studies (hosted on SRA), covering diverse variants, tissues and conditions.\n",
    "2. Assemble each data set independently, using Trinity with its genome-guided mode.\n",
    "3. QA each result and filter unreliable outputs.\n",
    "4. Perform transcriptome-merging from all data sets, using StringTie (merge mode) to obtain a single non-redundant species-specific pan-transcriptome.\n",
    "5. Further QA and cleanup on merged transcriptome."
   ]
  },
  {
   "cell_type": "code",
   "execution_count": 1,
   "metadata": {
    "collapsed": true
   },
   "outputs": [],
   "source": [
    "import sys\n",
    "sys.path.append('../../queue_utilities/')\n",
    "from queueUtils import *\n",
    "queue_conf = '../../queue_utilities/queue.conf'\n",
    "sys.path.append('../python/')\n",
    "from os.path import realpath\n",
    "from os import chdir\n",
    "import os\n",
    "from get_genome_stats import get_stats\n",
    "import pandas\n",
    "from IPython.display import display\n",
    "pandas.set_option('display.float_format', lambda x: \"{:,.2f}\".format(x) if int(x) != x else \"{:,.0f}\".format(x))\n",
    "from shutil import rmtree\n",
    "\n",
    "DATA_PATH = realpath(\"../data/\")\n",
    "PY_PATH = realpath(\"../python/\")\n",
    "FIGS_PATH = realpath(\"../figs/\")\n",
    "OUT_PATH = realpath(\"../output/\")"
   ]
  },
  {
   "cell_type": "markdown",
   "metadata": {},
   "source": [
    "## Reference transcriptome assessment\n",
    "The first stage of this analysis is to get some statistics on the official tomato reference transcriptome.  \n",
    "This should serve as a baseline for later QA of newly-assembled transcriptomes from non-reference accessions.  \n",
    "QA procedures outlined in the [trinity tutorial](https://github.com/trinityrnaseq/trinityrnaseq/wiki/Transcriptome-Assembly-Quality-Assessment) were followed."
   ]
  },
  {
   "cell_type": "markdown",
   "metadata": {},
   "source": [
    "### Get data\n",
    "Data from the Heinz 1706 reference assembly SL3.0 annotation build ITAG3.2"
   ]
  },
  {
   "cell_type": "code",
   "execution_count": 7,
   "metadata": {},
   "outputs": [
    {
     "name": "stdout",
     "output_type": "stream",
     "text": [
      "Job download_itag32_cdna (job id 1277211) completed successfully\n"
     ]
    },
    {
     "data": {
      "text/plain": [
       "('1277211', '0')"
      ]
     },
     "execution_count": 7,
     "metadata": {},
     "output_type": "execute_result"
    }
   ],
   "source": [
    "itag32_ftp_url = \"ftp://ftp.solgenomics.net/tomato_genome/annotation/ITAG3.2_release/ITAG3.2_cDNA.fasta\"\n",
    "download_command = \"wget %s -P %s\" % (itag32_ftp_url, realpath(DATA_PATH))\n",
    "send_commands_to_queue('download_itag32_cdna', download_command, queue_conf)"
   ]
  },
  {
   "cell_type": "code",
   "execution_count": 6,
   "metadata": {
    "collapsed": true
   },
   "outputs": [],
   "source": [
    "itag32_cdna_fasta_path = \"%s/ITAG3.2_cDNA.fasta\" % DATA_PATH"
   ]
  },
  {
   "cell_type": "markdown",
   "metadata": {},
   "source": [
    "### Basic stats"
   ]
  },
  {
   "cell_type": "code",
   "execution_count": 33,
   "metadata": {
    "collapsed": true
   },
   "outputs": [],
   "source": [
    "itag32_stats = get_stats(itag32_cdna_fasta_path)"
   ]
  },
  {
   "cell_type": "code",
   "execution_count": 35,
   "metadata": {},
   "outputs": [
    {
     "data": {
      "text/html": [
       "<div>\n",
       "<style>\n",
       "    .dataframe thead tr:only-child th {\n",
       "        text-align: right;\n",
       "    }\n",
       "\n",
       "    .dataframe thead th {\n",
       "        text-align: left;\n",
       "    }\n",
       "\n",
       "    .dataframe tbody tr th {\n",
       "        vertical-align: top;\n",
       "    }\n",
       "</style>\n",
       "<table border=\"1\" class=\"dataframe\">\n",
       "  <thead>\n",
       "    <tr style=\"text-align: right;\">\n",
       "      <th></th>\n",
       "      <th>0</th>\n",
       "    </tr>\n",
       "  </thead>\n",
       "  <tbody>\n",
       "    <tr>\n",
       "      <th>Total length</th>\n",
       "      <td>54,440,050</td>\n",
       "    </tr>\n",
       "    <tr>\n",
       "      <th>Total scaffolds</th>\n",
       "      <td>35,768</td>\n",
       "    </tr>\n",
       "    <tr>\n",
       "      <th># of gaps</th>\n",
       "      <td>241,894</td>\n",
       "    </tr>\n",
       "    <tr>\n",
       "      <th>% gaps</th>\n",
       "      <td>0.44</td>\n",
       "    </tr>\n",
       "    <tr>\n",
       "      <th>N50</th>\n",
       "      <td>2,226</td>\n",
       "    </tr>\n",
       "    <tr>\n",
       "      <th>L50</th>\n",
       "      <td>7,838</td>\n",
       "    </tr>\n",
       "    <tr>\n",
       "      <th>N90</th>\n",
       "      <td>801</td>\n",
       "    </tr>\n",
       "    <tr>\n",
       "      <th>L90</th>\n",
       "      <td>22,989</td>\n",
       "    </tr>\n",
       "    <tr>\n",
       "      <th>Min scaffold length</th>\n",
       "      <td>63</td>\n",
       "    </tr>\n",
       "    <tr>\n",
       "      <th>Max scaffold length</th>\n",
       "      <td>23,222</td>\n",
       "    </tr>\n",
       "  </tbody>\n",
       "</table>\n",
       "</div>"
      ],
      "text/plain": [
       "                             0\n",
       "Total length        54,440,050\n",
       "Total scaffolds         35,768\n",
       "# of gaps              241,894\n",
       "% gaps                    0.44\n",
       "N50                      2,226\n",
       "L50                      7,838\n",
       "N90                        801\n",
       "L90                     22,989\n",
       "Min scaffold length         63\n",
       "Max scaffold length     23,222"
      ]
     },
     "metadata": {},
     "output_type": "display_data"
    }
   ],
   "source": [
    "display(pandas.DataFrame.from_dict(itag32_stats, orient='index'))"
   ]
  },
  {
   "cell_type": "markdown",
   "metadata": {},
   "source": [
    "### Run BUSCO\n",
    "Run BUSCO to assess completeness of transcripts set."
   ]
  },
  {
   "cell_type": "code",
   "execution_count": 31,
   "metadata": {},
   "outputs": [
    {
     "data": {
      "text/plain": [
       "('1281124', None)"
      ]
     },
     "execution_count": 31,
     "metadata": {},
     "output_type": "execute_result"
    }
   ],
   "source": [
    "busco_dir = \"/groups/itay_mayrose/liorglic/software/busco\"\n",
    "busco_command = \"python %s/scripts/run_BUSCO.py --in %s --out ITAG3.2_BUSCO --lineage_path %s/embryophyta_odb9/ --mode transcriptome\" \\\n",
    "% (busco_dir, realpath(itag32_cdna_fasta_path), busco_dir)\n",
    "env_commands = ['export PATH=\"/share/apps/augustus/bin:$PATH\"',\n",
    "               'export PATH=\"/share/apps/augustus/scripts:$PATH\"',\n",
    "               'export AUGUSTUS_CONFIG_PATH=\"/groups/itay_mayrose/liorglic/software/busco/augustus_config\"',\n",
    "               \"cd %s\" % realpath(OUT_PATH)]\n",
    "busco_run_commands = env_commands + [busco_command]\n",
    "send_commands_to_queue(\"ITAG32_BUSCO\", busco_run_commands, queue_conf, block=False, n_cpu=20)"
   ]
  },
  {
   "cell_type": "markdown",
   "metadata": {},
   "source": [
    "### Full length transcripts\n",
    "In this analysis, transcripts are aligned to all known proteins from SwissProt in order to determine the distribution of % coverage of protein sequences by transcripts. See further explanation [here](https://github.com/trinityrnaseq/trinityrnaseq/wiki/Counting-Full-Length-Trinity-Transcripts)."
   ]
  },
  {
   "cell_type": "code",
   "execution_count": 3,
   "metadata": {
    "collapsed": true
   },
   "outputs": [],
   "source": [
    "# download and extract SwissProt\n",
    "sp_ftp_url = \"ftp://ftp.uniprot.org/pub/databases/uniprot/current_release/knowledgebase/complete/uniprot_sprot.fasta.gz\"\n",
    "download_command = \"wget %s -P %s\" %(sp_ftp_url, realpath(DATA_PATH))\n",
    "extract_command = \"gzip -d %s/uniprot_sprot.fasta.gz\" % realpath(DATA_PATH)\n",
    "send_commands_to_queue(\"get_SwissProt\",[download_command, extract_command],queue_conf)"
   ]
  },
  {
   "cell_type": "code",
   "execution_count": 7,
   "metadata": {
    "collapsed": true
   },
   "outputs": [],
   "source": [
    "# build blast DB\n",
    "sp_fasta = \"%s/uniprot_sprot.fasta\" % DATA_PATH\n",
    "build_blast_db_commands = ['module load blast/blast240',\n",
    "                          'makeblastdb -in %s -dbtype prot' % realpath(sp_fasta)]\n",
    "send_commands_to_queue(\"build_SP_blast_DB\",build_blast_db_commands,queue_conf, block=False)"
   ]
  },
  {
   "cell_type": "code",
   "execution_count": 8,
   "metadata": {
    "collapsed": true
   },
   "outputs": [],
   "source": [
    "# Perform the blast search, reporting only the top alignment:\n",
    "blast_res = OUT_PATH + \"ITAG_vs_SP.blastx.outfmt6\"\n",
    "blast_search_commands = ['module load blast/blast240',\n",
    "                        'blastx -query %s -db %s -out %s -evalue 1e-20 -num_threads 10 -max_target_seqs 1 -outfmt 6'\n",
    "                         %(realpath(itag32_cdna_fasta_path), realpath(sp_fasta), realpath(blast_res))]\n",
    "send_commands_to_queue(\"blast_ITAG_vs_SP\",blast_search_commands,queue_conf, block=False, n_cpu=10)"
   ]
  },
  {
   "cell_type": "code",
   "execution_count": 10,
   "metadata": {},
   "outputs": [
    {
     "name": "stdout",
     "output_type": "stream",
     "text": [
      "Job parse_ITAG_blast_res (job id 1508779) completed successfully\n"
     ]
    },
    {
     "data": {
      "text/plain": [
       "('1508779', '0')"
      ]
     },
     "execution_count": 10,
     "metadata": {},
     "output_type": "execute_result"
    }
   ],
   "source": [
    "# use utility script provided within Trinity to parse blast result\n",
    "script_path = \"/share/apps/Trinity-v2.6.6/util/analyze_blastPlus_topHit_coverage.pl\"\n",
    "parse_blast_res_commands = [\"%s %s %s %s\"\n",
    "                            %(script_path, realpath(blast_res), realpath(itag32_cdna_fasta_path), realpath(sp_fasta))]\n",
    "send_commands_to_queue('parse_ITAG_blast_res', parse_blast_res_commands, queue_conf)"
   ]
  },
  {
   "cell_type": "code",
   "execution_count": 13,
   "metadata": {},
   "outputs": [
    {
     "data": {
      "text/html": [
       "<div>\n",
       "<style>\n",
       "    .dataframe thead tr:only-child th {\n",
       "        text-align: right;\n",
       "    }\n",
       "\n",
       "    .dataframe thead th {\n",
       "        text-align: left;\n",
       "    }\n",
       "\n",
       "    .dataframe tbody tr th {\n",
       "        vertical-align: top;\n",
       "    }\n",
       "</style>\n",
       "<table border=\"1\" class=\"dataframe\">\n",
       "  <thead>\n",
       "    <tr style=\"text-align: right;\">\n",
       "      <th></th>\n",
       "      <th>count_in_bin</th>\n",
       "      <th>&gt;bin_below</th>\n",
       "    </tr>\n",
       "    <tr>\n",
       "      <th>#hit_pct_cov_bin</th>\n",
       "      <th></th>\n",
       "      <th></th>\n",
       "    </tr>\n",
       "  </thead>\n",
       "  <tbody>\n",
       "    <tr>\n",
       "      <th>100</th>\n",
       "      <td>6751</td>\n",
       "      <td>6751</td>\n",
       "    </tr>\n",
       "    <tr>\n",
       "      <th>90</th>\n",
       "      <td>1538</td>\n",
       "      <td>8289</td>\n",
       "    </tr>\n",
       "    <tr>\n",
       "      <th>80</th>\n",
       "      <td>759</td>\n",
       "      <td>9048</td>\n",
       "    </tr>\n",
       "    <tr>\n",
       "      <th>70</th>\n",
       "      <td>534</td>\n",
       "      <td>9582</td>\n",
       "    </tr>\n",
       "    <tr>\n",
       "      <th>60</th>\n",
       "      <td>447</td>\n",
       "      <td>10029</td>\n",
       "    </tr>\n",
       "    <tr>\n",
       "      <th>50</th>\n",
       "      <td>418</td>\n",
       "      <td>10447</td>\n",
       "    </tr>\n",
       "    <tr>\n",
       "      <th>40</th>\n",
       "      <td>318</td>\n",
       "      <td>10765</td>\n",
       "    </tr>\n",
       "    <tr>\n",
       "      <th>30</th>\n",
       "      <td>260</td>\n",
       "      <td>11025</td>\n",
       "    </tr>\n",
       "    <tr>\n",
       "      <th>20</th>\n",
       "      <td>218</td>\n",
       "      <td>11243</td>\n",
       "    </tr>\n",
       "    <tr>\n",
       "      <th>10</th>\n",
       "      <td>62</td>\n",
       "      <td>11305</td>\n",
       "    </tr>\n",
       "  </tbody>\n",
       "</table>\n",
       "</div>"
      ],
      "text/plain": [
       "                  count_in_bin  >bin_below\n",
       "#hit_pct_cov_bin                          \n",
       "100                       6751        6751\n",
       "90                        1538        8289\n",
       "80                         759        9048\n",
       "70                         534        9582\n",
       "60                         447       10029\n",
       "50                         418       10447\n",
       "40                         318       10765\n",
       "30                         260       11025\n",
       "20                         218       11243\n",
       "10                          62       11305"
      ]
     },
     "metadata": {},
     "output_type": "display_data"
    }
   ],
   "source": [
    "full_length_hist = OUT_PATH + \"ITAG_vs_SP.blastx.outfmt6.hist\"\n",
    "display(pandas.DataFrame.from_csv(full_length_hist, sep='\\t'))"
   ]
  },
  {
   "cell_type": "markdown",
   "metadata": {
    "collapsed": true
   },
   "source": [
    "## _S. lycopersicum_ pan transcriptome"
   ]
  },
  {
   "cell_type": "markdown",
   "metadata": {},
   "source": [
    "The table below describes the data sets used in the analysis. Each data set corresponds to a single variant from a single study. Multiple tissues, conditions, developmental stages and library types may be included. A data set ID is composed of the study ID (s) and the variant ID (v)."
   ]
  },
  {
   "cell_type": "code",
   "execution_count": 17,
   "metadata": {},
   "outputs": [
    {
     "name": "stderr",
     "output_type": "stream",
     "text": [
      "/share/apps/python/anaconda3-5.0.0/lib/python3.6/site-packages/ipykernel_launcher.py:2: FutureWarning: from_csv is deprecated. Please use read_csv(...) instead. Note that some of the default arguments are different, so please refer to the documentation for from_csv when changing your function calls\n",
      "  \n"
     ]
    },
    {
     "data": {
      "text/html": [
       "<div>\n",
       "<style scoped>\n",
       "    .dataframe tbody tr th:only-of-type {\n",
       "        vertical-align: middle;\n",
       "    }\n",
       "\n",
       "    .dataframe tbody tr th {\n",
       "        vertical-align: top;\n",
       "    }\n",
       "\n",
       "    .dataframe thead th {\n",
       "        text-align: right;\n",
       "    }\n",
       "</style>\n",
       "<table border=\"1\" class=\"dataframe\">\n",
       "  <thead>\n",
       "    <tr style=\"text-align: right;\">\n",
       "      <th></th>\n",
       "      <th>ID</th>\n",
       "      <th>Variant</th>\n",
       "      <th>SRR list</th>\n",
       "    </tr>\n",
       "  </thead>\n",
       "  <tbody>\n",
       "    <tr>\n",
       "      <th>0</th>\n",
       "      <td>s1v1</td>\n",
       "      <td>Micro-Tom</td>\n",
       "      <td>DRR074670 DRR074671 DRR074672 DRR074673</td>\n",
       "    </tr>\n",
       "    <tr>\n",
       "      <th>1</th>\n",
       "      <td>s2v1</td>\n",
       "      <td>Moneymaker</td>\n",
       "      <td>ERR1533151 ERR1533152 ERR1533153 ERR1533156 ER...</td>\n",
       "    </tr>\n",
       "    <tr>\n",
       "      <th>2</th>\n",
       "      <td>s4v1</td>\n",
       "      <td>PI114490</td>\n",
       "      <td>SRR390335 SRR390336</td>\n",
       "    </tr>\n",
       "    <tr>\n",
       "      <th>3</th>\n",
       "      <td>s4v2</td>\n",
       "      <td>FL7600</td>\n",
       "      <td>SRR389806 SRR389807</td>\n",
       "    </tr>\n",
       "    <tr>\n",
       "      <th>4</th>\n",
       "      <td>s4v3</td>\n",
       "      <td>NC84173</td>\n",
       "      <td>SRR389808 SRR390315</td>\n",
       "    </tr>\n",
       "    <tr>\n",
       "      <th>5</th>\n",
       "      <td>s4v4</td>\n",
       "      <td>OH9242</td>\n",
       "      <td>SRR390328 SRR390329</td>\n",
       "    </tr>\n",
       "    <tr>\n",
       "      <th>6</th>\n",
       "      <td>s4v5</td>\n",
       "      <td>T5</td>\n",
       "      <td>SRR390330 SRR390331</td>\n",
       "    </tr>\n",
       "    <tr>\n",
       "      <th>7</th>\n",
       "      <td>s5v1</td>\n",
       "      <td>M82</td>\n",
       "      <td>SRR863016 SRR863017 SRR863018 SRR863024 SRR863025</td>\n",
       "    </tr>\n",
       "    <tr>\n",
       "      <th>8</th>\n",
       "      <td>s6v1</td>\n",
       "      <td>Ailsa Craig</td>\n",
       "      <td>SRR863042 SRR863043 SRR863044 SRR863045 SRR863...</td>\n",
       "    </tr>\n",
       "    <tr>\n",
       "      <th>9</th>\n",
       "      <td>s7v1</td>\n",
       "      <td>HG6-61</td>\n",
       "      <td>SRR1759290 SRR1759289 SRR1759288 SRR1759287 SR...</td>\n",
       "    </tr>\n",
       "    <tr>\n",
       "      <th>10</th>\n",
       "      <td>s8v1</td>\n",
       "      <td>Micro-Tom</td>\n",
       "      <td>SRR988278 SRR988418 SRR988529 SRR988530 SRR988...</td>\n",
       "    </tr>\n",
       "    <tr>\n",
       "      <th>11</th>\n",
       "      <td>s9v1</td>\n",
       "      <td>Micro-Tom</td>\n",
       "      <td>SRR988673 SRR988675 SRR988676 SRR988677 SRR993...</td>\n",
       "    </tr>\n",
       "    <tr>\n",
       "      <th>12</th>\n",
       "      <td>s10v1</td>\n",
       "      <td>Heinz 1706</td>\n",
       "      <td>SRP051696 SRP051696 SRP051696 SRP051696 SRP051...</td>\n",
       "    </tr>\n",
       "    <tr>\n",
       "      <th>13</th>\n",
       "      <td>s11v1</td>\n",
       "      <td>Rutgers</td>\n",
       "      <td>SRR1771341 SRR1771340 SRR1771342</td>\n",
       "    </tr>\n",
       "    <tr>\n",
       "      <th>14</th>\n",
       "      <td>s12v1</td>\n",
       "      <td>M82</td>\n",
       "      <td>SRR1980239 SRR1980240 SRR1980241 SRR1980242</td>\n",
       "    </tr>\n",
       "    <tr>\n",
       "      <th>15</th>\n",
       "      <td>s13v1</td>\n",
       "      <td>Chico III</td>\n",
       "      <td>SRR2840515 SRR2840513 SRR2840511 SRR2840509 SR...</td>\n",
       "    </tr>\n",
       "    <tr>\n",
       "      <th>16</th>\n",
       "      <td>s14v1</td>\n",
       "      <td>LA1310 / PI365922</td>\n",
       "      <td>SRR2932526</td>\n",
       "    </tr>\n",
       "    <tr>\n",
       "      <th>17</th>\n",
       "      <td>s15v1</td>\n",
       "      <td>San Marzano</td>\n",
       "      <td>SRR2939232 SRR2939231 SRR2939230 SRR2939229 SR...</td>\n",
       "    </tr>\n",
       "    <tr>\n",
       "      <th>18</th>\n",
       "      <td>s15v2</td>\n",
       "      <td>Vesuviano</td>\n",
       "      <td>SRR2939237 SRR2939236 SRR2939235 SRR2939234 SR...</td>\n",
       "    </tr>\n",
       "    <tr>\n",
       "      <th>19</th>\n",
       "      <td>s16v1</td>\n",
       "      <td>Pusa Ruby</td>\n",
       "      <td>SRR2989582 SRR2989581</td>\n",
       "    </tr>\n",
       "    <tr>\n",
       "      <th>20</th>\n",
       "      <td>s19v1</td>\n",
       "      <td>Hawaii7996</td>\n",
       "      <td>SRR3784916 SRR3784934 SRR3785115 SRR3785116 SR...</td>\n",
       "    </tr>\n",
       "    <tr>\n",
       "      <th>21</th>\n",
       "      <td>s20v1</td>\n",
       "      <td>Hawaii7996</td>\n",
       "      <td>SRR3825158 SRR3825159 SRR3825160 SRR3825173 SR...</td>\n",
       "    </tr>\n",
       "  </tbody>\n",
       "</table>\n",
       "</div>"
      ],
      "text/plain": [
       "       ID            Variant  \\\n",
       "0    s1v1          Micro-Tom   \n",
       "1    s2v1         Moneymaker   \n",
       "2    s4v1           PI114490   \n",
       "3    s4v2             FL7600   \n",
       "4    s4v3            NC84173   \n",
       "5    s4v4             OH9242   \n",
       "6    s4v5                 T5   \n",
       "7    s5v1                M82   \n",
       "8    s6v1        Ailsa Craig   \n",
       "9    s7v1             HG6-61   \n",
       "10   s8v1          Micro-Tom   \n",
       "11   s9v1          Micro-Tom   \n",
       "12  s10v1         Heinz 1706   \n",
       "13  s11v1            Rutgers   \n",
       "14  s12v1                M82   \n",
       "15  s13v1          Chico III   \n",
       "16  s14v1  LA1310 / PI365922   \n",
       "17  s15v1        San Marzano   \n",
       "18  s15v2          Vesuviano   \n",
       "19  s16v1          Pusa Ruby   \n",
       "20  s19v1         Hawaii7996   \n",
       "21  s20v1         Hawaii7996   \n",
       "\n",
       "                                             SRR list  \n",
       "0             DRR074670 DRR074671 DRR074672 DRR074673  \n",
       "1   ERR1533151 ERR1533152 ERR1533153 ERR1533156 ER...  \n",
       "2                                 SRR390335 SRR390336  \n",
       "3                                 SRR389806 SRR389807  \n",
       "4                                 SRR389808 SRR390315  \n",
       "5                                 SRR390328 SRR390329  \n",
       "6                                 SRR390330 SRR390331  \n",
       "7   SRR863016 SRR863017 SRR863018 SRR863024 SRR863025  \n",
       "8   SRR863042 SRR863043 SRR863044 SRR863045 SRR863...  \n",
       "9   SRR1759290 SRR1759289 SRR1759288 SRR1759287 SR...  \n",
       "10  SRR988278 SRR988418 SRR988529 SRR988530 SRR988...  \n",
       "11  SRR988673 SRR988675 SRR988676 SRR988677 SRR993...  \n",
       "12  SRP051696 SRP051696 SRP051696 SRP051696 SRP051...  \n",
       "13                   SRR1771341 SRR1771340 SRR1771342  \n",
       "14        SRR1980239 SRR1980240 SRR1980241 SRR1980242  \n",
       "15  SRR2840515 SRR2840513 SRR2840511 SRR2840509 SR...  \n",
       "16                                         SRR2932526  \n",
       "17  SRR2939232 SRR2939231 SRR2939230 SRR2939229 SR...  \n",
       "18  SRR2939237 SRR2939236 SRR2939235 SRR2939234 SR...  \n",
       "19                              SRR2989582 SRR2989581  \n",
       "20  SRR3784916 SRR3784934 SRR3785115 SRR3785116 SR...  \n",
       "21  SRR3825158 SRR3825159 SRR3825160 SRR3825173 SR...  "
      ]
     },
     "metadata": {},
     "output_type": "display_data"
    }
   ],
   "source": [
    "s_lyc_datasets_tsv = DATA_PATH + \"/S_lyc_RNA_seq_datasets.tsv\"\n",
    "s_lyc_datasets = pandas.DataFrame.from_csv(s_lyc_datasets_tsv, sep='\\t')\n",
    "s_lyc_datasets.index.name = 'ID'\n",
    "s_lyc_datasets.reset_index(inplace=True)\n",
    "display(s_lyc_datasets)"
   ]
  },
  {
   "cell_type": "markdown",
   "metadata": {},
   "source": [
    "Each data set was processed using the following steps:\n",
    "1. Download raw RNA-seq data using sra-dump\n",
    "1. Unzip downloaded files\n",
    "1. Parse downloaded file names to detect paired end libraries and prepare for assembly\n",
    "1. Align reads to reference genome using TopHat and sort bam file using samtools\n",
    "1. Use alignment results and raw data for genome-guided assembly using Trinity\n",
    "1. Run BUSCO on the assembly\n",
    "1. Clean up - remove raw data and other intermediate files to save disc space\n",
    "\n",
    "However, in order to allow for genome-guided transcriptome assembly, the reference genome was first downloaded and indexed (using Bowtie). For improved reads alignment, the reference annotation was also used."
   ]
  },
  {
   "cell_type": "code",
   "execution_count": 12,
   "metadata": {
    "collapsed": true
   },
   "outputs": [],
   "source": [
    "FASTQ_DUMP_PATH = \"/groups/itay_mayrose/liorglic/sratoolkit.2.9.0-ubuntu64/bin/fastq-dump\"\n",
    "download_to_dir = \"%s/S_lyc_RNA_Seq\" % realpath(DATA_PATH)\n",
    "analysis_dir = \"%s/S_lyc_RNA_Seq\" % realpath(OUT_PATH)\n",
    "TOPHAT_EXEC_PATH = \"/share/apps/tophat210/bin/tophat\"\n",
    "SAMTOOLS_EXEC_PATH = \"/share/apps/samtools12/bin/samtools\"\n",
    "BOWTIE_EXEC_PATH = \"/share/apps/bowtie112/bin/bowtie-build\""
   ]
  },
  {
   "cell_type": "code",
   "execution_count": 10,
   "metadata": {
    "collapsed": true
   },
   "outputs": [],
   "source": [
    "!mkdir $download_to_dir"
   ]
  },
  {
   "cell_type": "code",
   "execution_count": 32,
   "metadata": {},
   "outputs": [
    {
     "name": "stdout",
     "output_type": "stream",
     "text": [
      "--2018-05-27 14:53:08--  ftp://ftp.solgenomics.net/tomato_genome/annotation/ITAG3.2_release/ITAG3.2_gene_models.gff\n",
      "           => “/groups/itay_mayrose/liorglic/Projects/tomato_pan_genome/data/ITAG3.2_gene_models.gff.2”\n",
      "Resolving ftp.solgenomics.net... 132.236.81.147\n",
      "Connecting to ftp.solgenomics.net|132.236.81.147|:21... connected.\n",
      "Logging in as anonymous ... Logged in!\n",
      "==> SYST ... done.    ==> PWD ... done.\n",
      "==> TYPE I ... done.  ==> CWD (1) /tomato_genome/annotation/ITAG3.2_release ... done.\n",
      "==> SIZE ITAG3.2_gene_models.gff ... 56409515\n",
      "==> PASV ... done.    ==> RETR ITAG3.2_gene_models.gff ... done.\n",
      "Length: 56409515 (54M) (unauthoritative)\n",
      "\n",
      "100%[======================================>] 56,409,515  13.4M/s   in 9.0s    \n",
      "\n",
      "2018-05-27 14:53:20 (5.99 MB/s) - “/groups/itay_mayrose/liorglic/Projects/tomato_pan_genome/data/ITAG3.2_gene_models.gff.2” saved [56409515]\n",
      "\n",
      "--2018-05-27 14:53:20--  ftp://ftp.solgenomics.net/tomato_genome/assembly/build_3.00/S_lycopersicum_chromosomes.3.00.fa\n",
      "           => “/groups/itay_mayrose/liorglic/Projects/tomato_pan_genome/data/S_lycopersicum_chromosomes.3.00.fa”\n",
      "Resolving ftp.solgenomics.net... 132.236.81.147\n",
      "Connecting to ftp.solgenomics.net|132.236.81.147|:21... connected.\n",
      "Logging in as anonymous ... Logged in!\n",
      "==> SYST ... done.    ==> PWD ... done.\n",
      "==> TYPE I ... done.  ==> CWD (1) /tomato_genome/assembly/build_3.00 ... done.\n",
      "==> SIZE S_lycopersicum_chromosomes.3.00.fa ... 841878399\n",
      "==> PASV ... done.    ==> RETR S_lycopersicum_chromosomes.3.00.fa ... done.\n",
      "Length: 841878399 (803M) (unauthoritative)\n",
      "\n",
      "100%[======================================>] 841,878,399 18.5M/s   in 61s     \n",
      "\n",
      "2018-05-27 14:54:25 (13.3 MB/s) - “/groups/itay_mayrose/liorglic/Projects/tomato_pan_genome/data/S_lycopersicum_chromosomes.3.00.fa” saved [841878399]\n",
      "\n"
     ]
    }
   ],
   "source": [
    "# download reference genome and annotation\n",
    "S_lyc_ref_annotation_url = \"ftp://ftp.solgenomics.net/tomato_genome/annotation/ITAG3.2_release/ITAG3.2_gene_models.gff\"\n",
    "!wget $S_lyc_ref_annotation_url -P $DATA_PATH\n",
    "S_lyc_ref_genome_url = \"ftp://ftp.solgenomics.net/tomato_genome/assembly/build_3.00/S_lycopersicum_chromosomes.3.00.fa\"\n",
    "!wget $S_lyc_ref_genome_url -P $DATA_PATH"
   ]
  },
  {
   "cell_type": "code",
   "execution_count": 10,
   "metadata": {
    "collapsed": true
   },
   "outputs": [],
   "source": [
    "s_lyc_ref_annotation_path = \"%s/ITAG3.2_gene_models.gff\" % DATA_PATH\n",
    "s_lyc_ref_genome_path = \"%s/S_lycopersicum_chromosomes.3.00.fa\" % DATA_PATH"
   ]
  },
  {
   "cell_type": "code",
   "execution_count": 35,
   "metadata": {},
   "outputs": [
    {
     "name": "stdout",
     "output_type": "stream",
     "text": [
      "Job bowtie_index_s_lyc (job id 3743509) completed successfully\n"
     ]
    },
    {
     "data": {
      "text/plain": [
       "('3743509', '0')"
      ]
     },
     "execution_count": 35,
     "metadata": {},
     "output_type": "execute_result"
    }
   ],
   "source": [
    "# index reference genome\n",
    "bowtie_index_command = \"%s %s %s\" %(BOWTIE_EXEC_PATH, s_lyc_ref_genome_path, genome_index_base)\n",
    "send_commands_to_queue(\"bowtie_index_s_lyc\", [bowtie_index_command], queue_conf)"
   ]
  },
  {
   "cell_type": "code",
   "execution_count": 17,
   "metadata": {
    "collapsed": true
   },
   "outputs": [],
   "source": [
    "genome_index_base = os.path.splitext(s_lyc_ref_genome_path)[0]"
   ]
  },
  {
   "cell_type": "code",
   "execution_count": 11,
   "metadata": {
    "collapsed": true
   },
   "outputs": [
    {
     "ename": "FileNotFoundError",
     "evalue": "[Errno 2] No such file or directory: '/groups/itay_mayrose/liorglic/Projects/tomato_pan_genome/data/S_lyc_RNA_Seq/s5v1'",
     "output_type": "error",
     "traceback": [
      "\u001b[0;31m---------------------------------------------------------------------------\u001b[0m",
      "\u001b[0;31mFileNotFoundError\u001b[0m                         Traceback (most recent call last)",
      "\u001b[0;32m~/Projects/tomato_pan_genome/python/transcriptome_assembly_pipeline.py\u001b[0m in \u001b[0;36m<module>\u001b[0;34m()\u001b[0m\n\u001b[1;32m    186\u001b[0m \u001b[0;34m\u001b[0m\u001b[0m\n\u001b[1;32m    187\u001b[0m   \u001b[0mqueue_conf\u001b[0m \u001b[0;34m=\u001b[0m \u001b[0margs\u001b[0m\u001b[0;34m.\u001b[0m\u001b[0mqueue_conf\u001b[0m\u001b[0;34m\u001b[0m\u001b[0m\n\u001b[0;32m--> 188\u001b[0;31m   \u001b[0mtranscriptome_assembly_pipeline\u001b[0m\u001b[0;34m(\u001b[0m\u001b[0margs\u001b[0m\u001b[0;34m.\u001b[0m\u001b[0mdata_set_name\u001b[0m\u001b[0;34m,\u001b[0m \u001b[0margs\u001b[0m\u001b[0;34m.\u001b[0m\u001b[0msra_accessions\u001b[0m\u001b[0;34m,\u001b[0m \u001b[0margs\u001b[0m\u001b[0;34m.\u001b[0m\u001b[0mdownload_target\u001b[0m\u001b[0;34m,\u001b[0m \u001b[0margs\u001b[0m\u001b[0;34m.\u001b[0m\u001b[0manalysis_target\u001b[0m\u001b[0;34m,\u001b[0m\u001b[0margs\u001b[0m\u001b[0;34m.\u001b[0m\u001b[0mreference_annotation\u001b[0m\u001b[0;34m,\u001b[0m\u001b[0margs\u001b[0m\u001b[0;34m.\u001b[0m\u001b[0mreference_genome\u001b[0m\u001b[0;34m,\u001b[0m\u001b[0margs\u001b[0m\u001b[0;34m.\u001b[0m\u001b[0mforcie_overwrite\u001b[0m\u001b[0;34m,\u001b[0m\u001b[0margs\u001b[0m\u001b[0;34m.\u001b[0m\u001b[0mfirst_command\u001b[0m\u001b[0;34m,\u001b[0m\u001b[0margs\u001b[0m\u001b[0;34m.\u001b[0m\u001b[0mlast_command\u001b[0m\u001b[0;34m)\u001b[0m\u001b[0;34m\u001b[0m\u001b[0m\n\u001b[0m",
      "\u001b[0;32m~/Projects/tomato_pan_genome/python/transcriptome_assembly_pipeline.py\u001b[0m in \u001b[0;36mtranscriptome_assembly_pipeline\u001b[0;34m(data_set_name, sra_accessions, download_target, analysis_target, reference_annotation, reference_genome, force_overwrite, first_command, last_command)\u001b[0m\n\u001b[1;32m     49\u001b[0m       \u001b[0msys\u001b[0m\u001b[0;34m.\u001b[0m\u001b[0mexit\u001b[0m\u001b[0;34m(\u001b[0m\u001b[0;34m\"Failed in files download\"\u001b[0m\u001b[0;34m)\u001b[0m\u001b[0;34m\u001b[0m\u001b[0m\n\u001b[1;32m     50\u001b[0m   \u001b[0;31m# parse libs\u001b[0m\u001b[0;34m\u001b[0m\u001b[0;34m\u001b[0m\u001b[0m\n\u001b[0;32m---> 51\u001b[0;31m   \u001b[0mdata_set_PE\u001b[0m\u001b[0;34m,\u001b[0m \u001b[0mdata_set_SE\u001b[0m \u001b[0;34m=\u001b[0m \u001b[0mprep_libs_lists\u001b[0m\u001b[0;34m(\u001b[0m\u001b[0mdownload_target\u001b[0m\u001b[0;34m)\u001b[0m\u001b[0;34m\u001b[0m\u001b[0m\n\u001b[0m\u001b[1;32m     52\u001b[0m   \u001b[0;32mif\u001b[0m \u001b[0;32mnot\u001b[0m \u001b[0mdata_set_PE\u001b[0m \u001b[0;32mand\u001b[0m \u001b[0;32mnot\u001b[0m \u001b[0mdata_set_SE\u001b[0m\u001b[0;34m:\u001b[0m\u001b[0;34m\u001b[0m\u001b[0m\n\u001b[1;32m     53\u001b[0m     \u001b[0mprint\u001b[0m\u001b[0;34m(\u001b[0m\u001b[0;34m\"No files found for data set %s\"\u001b[0m \u001b[0;34m%\u001b[0m \u001b[0mdata_set_name\u001b[0m\u001b[0;34m)\u001b[0m\u001b[0;34m\u001b[0m\u001b[0m\n",
      "\u001b[0;32m~/Projects/tomato_pan_genome/python/transcriptome_assembly_pipeline.py\u001b[0m in \u001b[0;36mprep_libs_lists\u001b[0;34m(dir_path)\u001b[0m\n\u001b[1;32m     14\u001b[0m   \u001b[0mPE\u001b[0m \u001b[0;34m=\u001b[0m \u001b[0;34m[\u001b[0m\u001b[0;34m]\u001b[0m\u001b[0;34m\u001b[0m\u001b[0m\n\u001b[1;32m     15\u001b[0m   \u001b[0mSE\u001b[0m \u001b[0;34m=\u001b[0m \u001b[0;34m[\u001b[0m\u001b[0;34m]\u001b[0m\u001b[0;34m\u001b[0m\u001b[0m\n\u001b[0;32m---> 16\u001b[0;31m   \u001b[0mdir_files\u001b[0m \u001b[0;34m=\u001b[0m \u001b[0mos\u001b[0m\u001b[0;34m.\u001b[0m\u001b[0mlistdir\u001b[0m\u001b[0;34m(\u001b[0m\u001b[0mdir_path\u001b[0m\u001b[0;34m)\u001b[0m\u001b[0;34m\u001b[0m\u001b[0m\n\u001b[0m\u001b[1;32m     17\u001b[0m   r1_files = [f for f in dir_files if \n\u001b[1;32m     18\u001b[0m         \u001b[0;34m(\u001b[0m\u001b[0mf\u001b[0m\u001b[0;34m.\u001b[0m\u001b[0mendswith\u001b[0m\u001b[0;34m(\u001b[0m\u001b[0;34m'fastq.gz'\u001b[0m\u001b[0;34m)\u001b[0m \u001b[0;32mor\u001b[0m \u001b[0mf\u001b[0m\u001b[0;34m.\u001b[0m\u001b[0mendswith\u001b[0m\u001b[0;34m(\u001b[0m\u001b[0;34m'fq.gz'\u001b[0m\u001b[0;34m)\u001b[0m\u001b[0;34m)\u001b[0m \u001b[0;32mor\u001b[0m \u001b[0mf\u001b[0m\u001b[0;34m.\u001b[0m\u001b[0mendswith\u001b[0m\u001b[0;34m(\u001b[0m\u001b[0;34m'fastq'\u001b[0m\u001b[0;34m)\u001b[0m \u001b[0;32mor\u001b[0m \u001b[0mf\u001b[0m\u001b[0;34m.\u001b[0m\u001b[0mendswith\u001b[0m\u001b[0;34m(\u001b[0m\u001b[0;34m'fq'\u001b[0m\u001b[0;34m)\u001b[0m\u001b[0;34m\u001b[0m\u001b[0m\n",
      "\u001b[0;31mFileNotFoundError\u001b[0m: [Errno 2] No such file or directory: '/groups/itay_mayrose/liorglic/Projects/tomato_pan_genome/data/S_lyc_RNA_Seq/s5v1'"
     ]
    }
   ],
   "source": [
    "ds = \"s5v1\"\n",
    "sra = \"SRR863016 SRR863017 SRR863018 SRR863024 SRR863025\"\n",
    "download_dir = \"%s/S_lyc_RNA_Seq/%s\" %(DATA_PATH, ds)\n",
    "analysis_dir = \"%s/S_lyc_transcriptome_assembly/%s\" %(OUT_PATH,ds)\n",
    "\n",
    "pipeline_script = \"%s/transcriptome_assembly_pipeline.py\" % PY_PATH\n",
    "%run $pipeline_script $queue_conf $ds \"$sra\" $download_dir $analysis_dir -a $s_lyc_ref_annotation_path -g $s_lyc_ref_genome_path --first_command 5"
   ]
  },
  {
   "cell_type": "code",
   "execution_count": 12,
   "metadata": {},
   "outputs": [
    {
     "name": "stdout",
     "output_type": "stream",
     "text": [
      "Job s4v1_BUSCO (job id 3932479) completed successfully\n",
      "Failed to clean seembly dir\n"
     ]
    }
   ],
   "source": [
    "ds = \"s4v1\"\n",
    "sra = \"SRR390335 SRR390336\"\n",
    "download_dir = \"%s/S_lyc_RNA_Seq/%s\" %(DATA_PATH, ds)\n",
    "analysis_dir = \"%s/S_lyc_transcriptome_assembly/%s\" %(OUT_PATH,ds)\n",
    "pipeline_script = \"%s/transcriptome_assembly_pipeline.py\" % PY_PATH\n",
    "%run $pipeline_script $queue_conf $ds \"$sra\" $download_dir $analysis_dir -a $s_lyc_ref_annotation_path -g $s_lyc_ref_genome_path --first_command 4"
   ]
  },
  {
   "cell_type": "code",
   "execution_count": 13,
   "metadata": {},
   "outputs": [
    {
     "data": {
      "text/plain": [
       "137"
      ]
     },
     "execution_count": 13,
     "metadata": {},
     "output_type": "execute_result"
    }
   ],
   "source": [
    "get_job_exit_code(3932479)"
   ]
  },
  {
   "cell_type": "code",
   "execution_count": null,
   "metadata": {
    "collapsed": true
   },
   "outputs": [],
   "source": [
    "ds = \"s4v2\"\n",
    "sra = \"SRR389806 SRR389807\"\n",
    "download_dir = \"%s/S_lyc_RNA_Seq/%s\" %(DATA_PATH, ds)\n",
    "analysis_dir = \"%s/S_lyc_transcriptome_assembly/%s\" %(OUT_PATH,ds)\n",
    "pipeline_script = \"%s/transcriptome_assembly_pipeline.py\" % PY_PATH\n",
    "%run $pipeline_script $queue_conf $ds \"$sra\" $download_dir $analysis_dir -a $s_lyc_ref_annotation_path -g $s_lyc_ref_genome_path"
   ]
  },
  {
   "cell_type": "code",
   "execution_count": null,
   "metadata": {
    "collapsed": true
   },
   "outputs": [],
   "source": [
    "send_commands_to_queue('try',['echo \"hi\"', 'sleep 30', 'echo \"bye\"'], queue_conf)"
   ]
  },
  {
   "cell_type": "code",
   "execution_count": null,
   "metadata": {
    "collapsed": true
   },
   "outputs": [],
   "source": []
  }
 ],
 "metadata": {
  "kernelspec": {
   "display_name": "Python 3",
   "language": "python",
   "name": "python3"
  },
  "language_info": {
   "codemirror_mode": {
    "name": "ipython",
    "version": 3
   },
   "file_extension": ".py",
   "mimetype": "text/x-python",
   "name": "python",
   "nbconvert_exporter": "python",
   "pygments_lexer": "ipython3",
   "version": "3.6.2"
  }
 },
 "nbformat": 4,
 "nbformat_minor": 2
}
