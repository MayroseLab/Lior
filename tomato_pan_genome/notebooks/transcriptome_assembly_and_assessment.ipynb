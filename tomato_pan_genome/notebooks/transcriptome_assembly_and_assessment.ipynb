{
 "cells": [
  {
   "cell_type": "markdown",
   "metadata": {},
   "source": [
    "# Transcriptome assembly and assessment\n",
    "This notebook includes the analyses performed in order to assemble transcriptome data from multiple tomato accessions towards transcript-based genome annotation.  \n",
    "The analysis starts by exploring the official ITAG _S. lycopersicum_ annotation in order to set a baseline for quality metrics.  \n",
    "Then, a pan-transcriptome-assembly procedure per _Solanum_ species is performed. This analysis includes the following general steps (although see detailed description below):\n",
    "1. Download RNA-seq data from multiple studies (hosted on SRA), covering diverse variants, tissues and conditions.\n",
    "2. Assemble each data set independently, using Trinity with its genome-guided mode.\n",
    "3. QA each result and filter unreliable outputs.\n",
    "4. Perform transcriptome-merging from all data sets, using StringTie (merge mode) to obtain a single non-redundant species-specific pan-transcriptome.\n",
    "5. Further QA and cleanup on merged transcriptome."
   ]
  },
  {
   "cell_type": "code",
   "execution_count": 1,
   "metadata": {
    "collapsed": true
   },
   "outputs": [],
   "source": [
    "import sys\n",
    "sys.path.append('../../queue_utilities/')\n",
    "from queueUtils import *\n",
    "queue_conf = '../../queue_utilities/queue.conf'\n",
    "sys.path.append('../python/')\n",
    "from os.path import realpath\n",
    "from os import chdir\n",
    "import os\n",
    "from get_genome_stats import get_stats\n",
    "import pandas\n",
    "from IPython.display import display\n",
    "pandas.set_option('display.float_format', lambda x: \"{:,.2f}\".format(x) if int(x) != x else \"{:,.0f}\".format(x))\n",
    "from shutil import rmtree\n",
    "from subprocess import Popen\n",
    "\n",
    "DATA_PATH = realpath(\"../data/\")\n",
    "PY_PATH = realpath(\"../python/\")\n",
    "FIGS_PATH = realpath(\"../figs/\")\n",
    "OUT_PATH = realpath(\"../output/\")\n",
    "\n",
    "busco_dir = \"/groups/itay_mayrose/liorglic/software/busco\"\n",
    "%matplotlib inline\n",
    "import matplotlib.pyplot as plt"
   ]
  },
  {
   "cell_type": "markdown",
   "metadata": {},
   "source": [
    "## Reference transcriptome assessment\n",
    "The first stage of this analysis is to get some statistics on the official tomato reference transcriptome.  \n",
    "This should serve as a baseline for later QA of newly-assembled transcriptomes from non-reference accessions.  \n",
    "QA procedures outlined in the [trinity tutorial](https://github.com/trinityrnaseq/trinityrnaseq/wiki/Transcriptome-Assembly-Quality-Assessment) were followed."
   ]
  },
  {
   "cell_type": "markdown",
   "metadata": {},
   "source": [
    "### Get data\n",
    "Data from the Heinz 1706 reference assembly SL3.0 annotation build ITAG3.2"
   ]
  },
  {
   "cell_type": "code",
   "execution_count": 7,
   "metadata": {},
   "outputs": [
    {
     "name": "stdout",
     "output_type": "stream",
     "text": [
      "Job download_itag32_cdna (job id 1277211) completed successfully\n"
     ]
    },
    {
     "data": {
      "text/plain": [
       "('1277211', '0')"
      ]
     },
     "execution_count": 7,
     "metadata": {},
     "output_type": "execute_result"
    }
   ],
   "source": [
    "itag32_ftp_url = \"ftp://ftp.solgenomics.net/tomato_genome/annotation/ITAG3.2_release/ITAG3.2_cDNA.fasta\"\n",
    "download_command = \"wget %s -P %s\" % (itag32_ftp_url, realpath(DATA_PATH))\n",
    "send_commands_to_queue('download_itag32_cdna', download_command, queue_conf)"
   ]
  },
  {
   "cell_type": "code",
   "execution_count": 6,
   "metadata": {
    "collapsed": true
   },
   "outputs": [],
   "source": [
    "itag32_cdna_fasta_path = \"%s/ITAG3.2_cDNA.fasta\" % DATA_PATH"
   ]
  },
  {
   "cell_type": "markdown",
   "metadata": {},
   "source": [
    "### Basic stats"
   ]
  },
  {
   "cell_type": "code",
   "execution_count": 33,
   "metadata": {
    "collapsed": true
   },
   "outputs": [],
   "source": [
    "itag32_stats = get_stats(itag32_cdna_fasta_path)"
   ]
  },
  {
   "cell_type": "code",
   "execution_count": 35,
   "metadata": {},
   "outputs": [
    {
     "data": {
      "text/html": [
       "<div>\n",
       "<style>\n",
       "    .dataframe thead tr:only-child th {\n",
       "        text-align: right;\n",
       "    }\n",
       "\n",
       "    .dataframe thead th {\n",
       "        text-align: left;\n",
       "    }\n",
       "\n",
       "    .dataframe tbody tr th {\n",
       "        vertical-align: top;\n",
       "    }\n",
       "</style>\n",
       "<table border=\"1\" class=\"dataframe\">\n",
       "  <thead>\n",
       "    <tr style=\"text-align: right;\">\n",
       "      <th></th>\n",
       "      <th>0</th>\n",
       "    </tr>\n",
       "  </thead>\n",
       "  <tbody>\n",
       "    <tr>\n",
       "      <th>Total length</th>\n",
       "      <td>54,440,050</td>\n",
       "    </tr>\n",
       "    <tr>\n",
       "      <th>Total scaffolds</th>\n",
       "      <td>35,768</td>\n",
       "    </tr>\n",
       "    <tr>\n",
       "      <th># of gaps</th>\n",
       "      <td>241,894</td>\n",
       "    </tr>\n",
       "    <tr>\n",
       "      <th>% gaps</th>\n",
       "      <td>0.44</td>\n",
       "    </tr>\n",
       "    <tr>\n",
       "      <th>N50</th>\n",
       "      <td>2,226</td>\n",
       "    </tr>\n",
       "    <tr>\n",
       "      <th>L50</th>\n",
       "      <td>7,838</td>\n",
       "    </tr>\n",
       "    <tr>\n",
       "      <th>N90</th>\n",
       "      <td>801</td>\n",
       "    </tr>\n",
       "    <tr>\n",
       "      <th>L90</th>\n",
       "      <td>22,989</td>\n",
       "    </tr>\n",
       "    <tr>\n",
       "      <th>Min scaffold length</th>\n",
       "      <td>63</td>\n",
       "    </tr>\n",
       "    <tr>\n",
       "      <th>Max scaffold length</th>\n",
       "      <td>23,222</td>\n",
       "    </tr>\n",
       "  </tbody>\n",
       "</table>\n",
       "</div>"
      ],
      "text/plain": [
       "                             0\n",
       "Total length        54,440,050\n",
       "Total scaffolds         35,768\n",
       "# of gaps              241,894\n",
       "% gaps                    0.44\n",
       "N50                      2,226\n",
       "L50                      7,838\n",
       "N90                        801\n",
       "L90                     22,989\n",
       "Min scaffold length         63\n",
       "Max scaffold length     23,222"
      ]
     },
     "metadata": {},
     "output_type": "display_data"
    }
   ],
   "source": [
    "display(pandas.DataFrame.from_dict(itag32_stats, orient='index'))"
   ]
  },
  {
   "cell_type": "markdown",
   "metadata": {},
   "source": [
    "### Run BUSCO\n",
    "Run BUSCO to assess completeness of transcripts set."
   ]
  },
  {
   "cell_type": "code",
   "execution_count": 31,
   "metadata": {},
   "outputs": [
    {
     "data": {
      "text/plain": [
       "('1281124', None)"
      ]
     },
     "execution_count": 31,
     "metadata": {},
     "output_type": "execute_result"
    }
   ],
   "source": [
    "busco_command = \"python %s/scripts/run_BUSCO.py --in %s --out ITAG3.2_BUSCO --lineage_path %s/embryophyta_odb9/ --mode transcriptome\" \\\n",
    "% (busco_dir, realpath(itag32_cdna_fasta_path), busco_dir)\n",
    "env_commands = ['export PATH=\"/share/apps/augustus/bin:$PATH\"',\n",
    "               'export PATH=\"/share/apps/augustus/scripts:$PATH\"',\n",
    "               'export AUGUSTUS_CONFIG_PATH=\"/groups/itay_mayrose/liorglic/software/busco/augustus_config\"',\n",
    "               \"cd %s\" % realpath(OUT_PATH)]\n",
    "busco_run_commands = env_commands + [busco_command]\n",
    "send_commands_to_queue(\"ITAG32_BUSCO\", busco_run_commands, queue_conf, block=False, n_cpu=20)"
   ]
  },
  {
   "cell_type": "markdown",
   "metadata": {},
   "source": [
    "### Full length transcripts\n",
    "In this analysis, transcripts are aligned to all known proteins from SwissProt in order to determine the distribution of % coverage of protein sequences by transcripts. See further explanation [here](https://github.com/trinityrnaseq/trinityrnaseq/wiki/Counting-Full-Length-Trinity-Transcripts)."
   ]
  },
  {
   "cell_type": "code",
   "execution_count": 3,
   "metadata": {
    "collapsed": true
   },
   "outputs": [],
   "source": [
    "# download and extract SwissProt\n",
    "sp_ftp_url = \"ftp://ftp.uniprot.org/pub/databases/uniprot/current_release/knowledgebase/complete/uniprot_sprot.fasta.gz\"\n",
    "download_command = \"wget %s -P %s\" %(sp_ftp_url, realpath(DATA_PATH))\n",
    "extract_command = \"gzip -d %s/uniprot_sprot.fasta.gz\" % realpath(DATA_PATH)\n",
    "send_commands_to_queue(\"get_SwissProt\",[download_command, extract_command],queue_conf)"
   ]
  },
  {
   "cell_type": "code",
   "execution_count": 7,
   "metadata": {
    "collapsed": true
   },
   "outputs": [],
   "source": [
    "# build blast DB\n",
    "sp_fasta = \"%s/uniprot_sprot.fasta\" % DATA_PATH"
   ]
  },
  {
   "cell_type": "code",
   "execution_count": null,
   "metadata": {
    "collapsed": true
   },
   "outputs": [],
   "source": [
    "build_blast_db_commands = ['module load blast/blast240',\n",
    "                          'makeblastdb -in %s -dbtype prot' % realpath(sp_fasta)]\n",
    "send_commands_to_queue(\"build_SP_blast_DB\",build_blast_db_commands,queue_conf, block=False)"
   ]
  },
  {
   "cell_type": "code",
   "execution_count": 8,
   "metadata": {
    "collapsed": true
   },
   "outputs": [],
   "source": [
    "# Perform the blast search, reporting only the top alignment:\n",
    "blast_res = OUT_PATH + \"ITAG_vs_SP.blastx.outfmt6\"\n",
    "blast_search_commands = ['module load blast/blast240',\n",
    "                        'blastx -query %s -db %s -out %s -evalue 1e-20 -num_threads 10 -max_target_seqs 1 -outfmt 6'\n",
    "                         %(realpath(itag32_cdna_fasta_path), realpath(sp_fasta), realpath(blast_res))]\n",
    "send_commands_to_queue(\"blast_ITAG_vs_SP\",blast_search_commands,queue_conf, block=False, n_cpu=10)"
   ]
  },
  {
   "cell_type": "code",
   "execution_count": 10,
   "metadata": {},
   "outputs": [
    {
     "name": "stdout",
     "output_type": "stream",
     "text": [
      "Job parse_ITAG_blast_res (job id 1508779) completed successfully\n"
     ]
    },
    {
     "data": {
      "text/plain": [
       "('1508779', '0')"
      ]
     },
     "execution_count": 10,
     "metadata": {},
     "output_type": "execute_result"
    }
   ],
   "source": [
    "# use utility script provided within Trinity to parse blast result\n",
    "script_path = \"/share/apps/Trinity-v2.6.6/util/analyze_blastPlus_topHit_coverage.pl\"\n",
    "parse_blast_res_commands = [\"%s %s %s %s\"\n",
    "                            %(script_path, realpath(blast_res), realpath(itag32_cdna_fasta_path), realpath(sp_fasta))]\n",
    "send_commands_to_queue('parse_ITAG_blast_res', parse_blast_res_commands, queue_conf)"
   ]
  },
  {
   "cell_type": "code",
   "execution_count": 13,
   "metadata": {},
   "outputs": [
    {
     "data": {
      "text/html": [
       "<div>\n",
       "<style>\n",
       "    .dataframe thead tr:only-child th {\n",
       "        text-align: right;\n",
       "    }\n",
       "\n",
       "    .dataframe thead th {\n",
       "        text-align: left;\n",
       "    }\n",
       "\n",
       "    .dataframe tbody tr th {\n",
       "        vertical-align: top;\n",
       "    }\n",
       "</style>\n",
       "<table border=\"1\" class=\"dataframe\">\n",
       "  <thead>\n",
       "    <tr style=\"text-align: right;\">\n",
       "      <th></th>\n",
       "      <th>count_in_bin</th>\n",
       "      <th>&gt;bin_below</th>\n",
       "    </tr>\n",
       "    <tr>\n",
       "      <th>#hit_pct_cov_bin</th>\n",
       "      <th></th>\n",
       "      <th></th>\n",
       "    </tr>\n",
       "  </thead>\n",
       "  <tbody>\n",
       "    <tr>\n",
       "      <th>100</th>\n",
       "      <td>6751</td>\n",
       "      <td>6751</td>\n",
       "    </tr>\n",
       "    <tr>\n",
       "      <th>90</th>\n",
       "      <td>1538</td>\n",
       "      <td>8289</td>\n",
       "    </tr>\n",
       "    <tr>\n",
       "      <th>80</th>\n",
       "      <td>759</td>\n",
       "      <td>9048</td>\n",
       "    </tr>\n",
       "    <tr>\n",
       "      <th>70</th>\n",
       "      <td>534</td>\n",
       "      <td>9582</td>\n",
       "    </tr>\n",
       "    <tr>\n",
       "      <th>60</th>\n",
       "      <td>447</td>\n",
       "      <td>10029</td>\n",
       "    </tr>\n",
       "    <tr>\n",
       "      <th>50</th>\n",
       "      <td>418</td>\n",
       "      <td>10447</td>\n",
       "    </tr>\n",
       "    <tr>\n",
       "      <th>40</th>\n",
       "      <td>318</td>\n",
       "      <td>10765</td>\n",
       "    </tr>\n",
       "    <tr>\n",
       "      <th>30</th>\n",
       "      <td>260</td>\n",
       "      <td>11025</td>\n",
       "    </tr>\n",
       "    <tr>\n",
       "      <th>20</th>\n",
       "      <td>218</td>\n",
       "      <td>11243</td>\n",
       "    </tr>\n",
       "    <tr>\n",
       "      <th>10</th>\n",
       "      <td>62</td>\n",
       "      <td>11305</td>\n",
       "    </tr>\n",
       "  </tbody>\n",
       "</table>\n",
       "</div>"
      ],
      "text/plain": [
       "                  count_in_bin  >bin_below\n",
       "#hit_pct_cov_bin                          \n",
       "100                       6751        6751\n",
       "90                        1538        8289\n",
       "80                         759        9048\n",
       "70                         534        9582\n",
       "60                         447       10029\n",
       "50                         418       10447\n",
       "40                         318       10765\n",
       "30                         260       11025\n",
       "20                         218       11243\n",
       "10                          62       11305"
      ]
     },
     "metadata": {},
     "output_type": "display_data"
    }
   ],
   "source": [
    "full_length_hist = OUT_PATH + \"ITAG_vs_SP.blastx.outfmt6.hist\"\n",
    "display(pandas.DataFrame.from_csv(full_length_hist, sep='\\t'))"
   ]
  },
  {
   "cell_type": "markdown",
   "metadata": {
    "collapsed": true
   },
   "source": [
    "## _S. lycopersicum_ pan transcriptome"
   ]
  },
  {
   "cell_type": "markdown",
   "metadata": {},
   "source": [
    "The table below describes the data sets used in the analysis. Each data set corresponds to a single variant from a single study. Multiple tissues, conditions, developmental stages and library types may be included. A data set ID is composed of the study ID (s) and the variant ID (v)."
   ]
  },
  {
   "cell_type": "code",
   "execution_count": 3,
   "metadata": {},
   "outputs": [
    {
     "data": {
      "text/html": [
       "<div>\n",
       "<style scoped>\n",
       "    .dataframe tbody tr th:only-of-type {\n",
       "        vertical-align: middle;\n",
       "    }\n",
       "\n",
       "    .dataframe tbody tr th {\n",
       "        vertical-align: top;\n",
       "    }\n",
       "\n",
       "    .dataframe thead th {\n",
       "        text-align: right;\n",
       "    }\n",
       "</style>\n",
       "<table border=\"1\" class=\"dataframe\">\n",
       "  <thead>\n",
       "    <tr style=\"text-align: right;\">\n",
       "      <th></th>\n",
       "      <th>Code</th>\n",
       "      <th>Variant</th>\n",
       "      <th>SRR list</th>\n",
       "      <th>Gb data</th>\n",
       "    </tr>\n",
       "    <tr>\n",
       "      <th>ID</th>\n",
       "      <th></th>\n",
       "      <th></th>\n",
       "      <th></th>\n",
       "      <th></th>\n",
       "    </tr>\n",
       "  </thead>\n",
       "  <tbody>\n",
       "    <tr>\n",
       "      <th>0</th>\n",
       "      <td>s1v1</td>\n",
       "      <td>Micro-Tom</td>\n",
       "      <td>DRR074670 DRR074671 DRR074672 DRR074673</td>\n",
       "      <td>9.50</td>\n",
       "    </tr>\n",
       "    <tr>\n",
       "      <th>1</th>\n",
       "      <td>s2v1</td>\n",
       "      <td>Moneymaker</td>\n",
       "      <td>ERR1533151 ERR1533152 ERR1533153 ERR1533156 ER...</td>\n",
       "      <td>26</td>\n",
       "    </tr>\n",
       "    <tr>\n",
       "      <th>2</th>\n",
       "      <td>s4v1</td>\n",
       "      <td>PI114490</td>\n",
       "      <td>SRR390335 SRR390336</td>\n",
       "      <td>2.58</td>\n",
       "    </tr>\n",
       "    <tr>\n",
       "      <th>3</th>\n",
       "      <td>s4v2</td>\n",
       "      <td>FL7600</td>\n",
       "      <td>SRR389806 SRR389807</td>\n",
       "      <td>2.70</td>\n",
       "    </tr>\n",
       "    <tr>\n",
       "      <th>4</th>\n",
       "      <td>s4v3</td>\n",
       "      <td>NC84173</td>\n",
       "      <td>SRR389808 SRR390315</td>\n",
       "      <td>2.64</td>\n",
       "    </tr>\n",
       "    <tr>\n",
       "      <th>5</th>\n",
       "      <td>s4v4</td>\n",
       "      <td>OH9242</td>\n",
       "      <td>SRR390328 SRR390329</td>\n",
       "      <td>2.58</td>\n",
       "    </tr>\n",
       "    <tr>\n",
       "      <th>6</th>\n",
       "      <td>s4v5</td>\n",
       "      <td>T5</td>\n",
       "      <td>SRR390330 SRR390331</td>\n",
       "      <td>2.91</td>\n",
       "    </tr>\n",
       "    <tr>\n",
       "      <th>7</th>\n",
       "      <td>s5v1</td>\n",
       "      <td>M82</td>\n",
       "      <td>SRR863016 SRR863017 SRR863018 SRR863024 SRR863025</td>\n",
       "      <td>1.54</td>\n",
       "    </tr>\n",
       "    <tr>\n",
       "      <th>8</th>\n",
       "      <td>s6v1</td>\n",
       "      <td>Ailsa Craig</td>\n",
       "      <td>SRR863042 SRR863043 SRR863044 SRR863045 SRR863...</td>\n",
       "      <td>20.08</td>\n",
       "    </tr>\n",
       "    <tr>\n",
       "      <th>9</th>\n",
       "      <td>s7v1</td>\n",
       "      <td>HG6-61</td>\n",
       "      <td>SRR1759290 SRR1759289 SRR1759288 SRR1759287 SR...</td>\n",
       "      <td>2.48</td>\n",
       "    </tr>\n",
       "    <tr>\n",
       "      <th>10</th>\n",
       "      <td>s9v1</td>\n",
       "      <td>Micro-Tom</td>\n",
       "      <td>SRR988673 SRR988675 SRR988676 SRR988677 SRR993...</td>\n",
       "      <td>22.50</td>\n",
       "    </tr>\n",
       "    <tr>\n",
       "      <th>11</th>\n",
       "      <td>s10v1</td>\n",
       "      <td>Heinz 1706</td>\n",
       "      <td>SRR1740445 SRR1740444 SRR1740443 SRR1740442 SR...</td>\n",
       "      <td>12</td>\n",
       "    </tr>\n",
       "    <tr>\n",
       "      <th>12</th>\n",
       "      <td>s11v1</td>\n",
       "      <td>Rutgers</td>\n",
       "      <td>SRR1771341 SRR1771340 SRR1771342</td>\n",
       "      <td>6.94</td>\n",
       "    </tr>\n",
       "    <tr>\n",
       "      <th>13</th>\n",
       "      <td>s12v1</td>\n",
       "      <td>M82</td>\n",
       "      <td>SRR1980239 SRR1980240 SRR1980241 SRR1980242</td>\n",
       "      <td>10.74</td>\n",
       "    </tr>\n",
       "    <tr>\n",
       "      <th>14</th>\n",
       "      <td>s13v1</td>\n",
       "      <td>Chico III</td>\n",
       "      <td>SRR2840515 SRR2840513 SRR2840511 SRR2840509 SR...</td>\n",
       "      <td>23.60</td>\n",
       "    </tr>\n",
       "    <tr>\n",
       "      <th>15</th>\n",
       "      <td>s14v1</td>\n",
       "      <td>LA1310 / PI365922</td>\n",
       "      <td>SRR2932526</td>\n",
       "      <td>5.94</td>\n",
       "    </tr>\n",
       "    <tr>\n",
       "      <th>16</th>\n",
       "      <td>s15v1</td>\n",
       "      <td>San Marzano</td>\n",
       "      <td>SRR2939232 SRR2939231 SRR2939230 SRR2939229 SR...</td>\n",
       "      <td>48.34</td>\n",
       "    </tr>\n",
       "    <tr>\n",
       "      <th>17</th>\n",
       "      <td>s16v1</td>\n",
       "      <td>Pusa Ruby</td>\n",
       "      <td>SRR2989582 SRR2989581</td>\n",
       "      <td>15.08</td>\n",
       "    </tr>\n",
       "    <tr>\n",
       "      <th>18</th>\n",
       "      <td>s23v1</td>\n",
       "      <td>Levovil</td>\n",
       "      <td>NaN</td>\n",
       "      <td>2.86</td>\n",
       "    </tr>\n",
       "    <tr>\n",
       "      <th>19</th>\n",
       "      <td>s23v2</td>\n",
       "      <td>Stupicke Polni Rane</td>\n",
       "      <td>NaN</td>\n",
       "      <td>2.38</td>\n",
       "    </tr>\n",
       "    <tr>\n",
       "      <th>20</th>\n",
       "      <td>s23v3</td>\n",
       "      <td>Plovdiv 24A</td>\n",
       "      <td>NaN</td>\n",
       "      <td>2.50</td>\n",
       "    </tr>\n",
       "    <tr>\n",
       "      <th>21</th>\n",
       "      <td>s23v4</td>\n",
       "      <td>LA1420</td>\n",
       "      <td>NaN</td>\n",
       "      <td>1.60</td>\n",
       "    </tr>\n",
       "    <tr>\n",
       "      <th>22</th>\n",
       "      <td>s23v5</td>\n",
       "      <td>Criollo</td>\n",
       "      <td>NaN</td>\n",
       "      <td>2.18</td>\n",
       "    </tr>\n",
       "    <tr>\n",
       "      <th>23</th>\n",
       "      <td>s23v6</td>\n",
       "      <td>LA0147</td>\n",
       "      <td>NaN</td>\n",
       "      <td>1.98</td>\n",
       "    </tr>\n",
       "    <tr>\n",
       "      <th>24</th>\n",
       "      <td>s23v7</td>\n",
       "      <td>FERUM</td>\n",
       "      <td>NaN</td>\n",
       "      <td>1.04</td>\n",
       "    </tr>\n",
       "    <tr>\n",
       "      <th>25</th>\n",
       "      <td>s23v8</td>\n",
       "      <td>LA0767</td>\n",
       "      <td>NaN</td>\n",
       "      <td>1.69</td>\n",
       "    </tr>\n",
       "    <tr>\n",
       "      <th>26</th>\n",
       "      <td>s23v9</td>\n",
       "      <td>LA0409</td>\n",
       "      <td>NaN</td>\n",
       "      <td>2.06</td>\n",
       "    </tr>\n",
       "  </tbody>\n",
       "</table>\n",
       "</div>"
      ],
      "text/plain": [
       "     Code              Variant  \\\n",
       "ID                               \n",
       "0    s1v1            Micro-Tom   \n",
       "1    s2v1           Moneymaker   \n",
       "2    s4v1             PI114490   \n",
       "3    s4v2               FL7600   \n",
       "4    s4v3              NC84173   \n",
       "5    s4v4               OH9242   \n",
       "6    s4v5                   T5   \n",
       "7    s5v1                  M82   \n",
       "8    s6v1          Ailsa Craig   \n",
       "9    s7v1               HG6-61   \n",
       "10   s9v1            Micro-Tom   \n",
       "11  s10v1           Heinz 1706   \n",
       "12  s11v1              Rutgers   \n",
       "13  s12v1                  M82   \n",
       "14  s13v1            Chico III   \n",
       "15  s14v1    LA1310 / PI365922   \n",
       "16  s15v1          San Marzano   \n",
       "17  s16v1            Pusa Ruby   \n",
       "18  s23v1              Levovil   \n",
       "19  s23v2  Stupicke Polni Rane   \n",
       "20  s23v3          Plovdiv 24A   \n",
       "21  s23v4               LA1420   \n",
       "22  s23v5              Criollo   \n",
       "23  s23v6               LA0147   \n",
       "24  s23v7                FERUM   \n",
       "25  s23v8               LA0767   \n",
       "26  s23v9               LA0409   \n",
       "\n",
       "                                             SRR list  Gb data  \n",
       "ID                                                              \n",
       "0             DRR074670 DRR074671 DRR074672 DRR074673     9.50  \n",
       "1   ERR1533151 ERR1533152 ERR1533153 ERR1533156 ER...       26  \n",
       "2                                 SRR390335 SRR390336     2.58  \n",
       "3                                 SRR389806 SRR389807     2.70  \n",
       "4                                 SRR389808 SRR390315     2.64  \n",
       "5                                 SRR390328 SRR390329     2.58  \n",
       "6                                 SRR390330 SRR390331     2.91  \n",
       "7   SRR863016 SRR863017 SRR863018 SRR863024 SRR863025     1.54  \n",
       "8   SRR863042 SRR863043 SRR863044 SRR863045 SRR863...    20.08  \n",
       "9   SRR1759290 SRR1759289 SRR1759288 SRR1759287 SR...     2.48  \n",
       "10  SRR988673 SRR988675 SRR988676 SRR988677 SRR993...    22.50  \n",
       "11  SRR1740445 SRR1740444 SRR1740443 SRR1740442 SR...       12  \n",
       "12                   SRR1771341 SRR1771340 SRR1771342     6.94  \n",
       "13        SRR1980239 SRR1980240 SRR1980241 SRR1980242    10.74  \n",
       "14  SRR2840515 SRR2840513 SRR2840511 SRR2840509 SR...    23.60  \n",
       "15                                         SRR2932526     5.94  \n",
       "16  SRR2939232 SRR2939231 SRR2939230 SRR2939229 SR...    48.34  \n",
       "17                              SRR2989582 SRR2989581    15.08  \n",
       "18                                                NaN     2.86  \n",
       "19                                                NaN     2.38  \n",
       "20                                                NaN     2.50  \n",
       "21                                                NaN     1.60  \n",
       "22                                                NaN     2.18  \n",
       "23                                                NaN     1.98  \n",
       "24                                                NaN     1.04  \n",
       "25                                                NaN     1.69  \n",
       "26                                                NaN     2.06  "
      ]
     },
     "execution_count": 3,
     "metadata": {},
     "output_type": "execute_result"
    }
   ],
   "source": [
    "s_lyc_datasets_tsv = DATA_PATH + \"/S_lyc_RNA_seq_datasets.tsv\"\n",
    "s_lyc_datasets = pandas.read_csv(s_lyc_datasets_tsv, sep='\\t')\n",
    "s_lyc_datasets.index.name = 'ID'\n",
    "s_lyc_datasets"
   ]
  },
  {
   "cell_type": "markdown",
   "metadata": {},
   "source": [
    "Each data set was processed using the following steps:\n",
    "1. Download raw RNA-seq data using sra toolkit fastq-dump\n",
    "1. Parse downloaded file names to detect paired end libraries and prepare for assembly\n",
    "1. Align reads to reference genome using STAR and sort bam file using samtools. This step also generates a fastq of unmapped (and disconcordant) reads.\n",
    "1. Use alignment results and raw data for genome-guided assembly using Trinity.\n",
    "1. Use unmapped reads for de-novo assembly using Trinity.\n",
    "1. Combine assemblies from mapped and unmapped reads.\n",
    "1. Run BUSCO on the combined assembly.\n",
    "1. Collect summary stats on the assembly result.\n",
    "1. Clean up - remove raw data and other intermediate files to save disc space\n",
    "\n",
    "To allow for genome-guided transcriptome assembly, the reference genome was first downloaded and indexed (using STAR). For improved reads alignment, the reference annotation was also used."
   ]
  },
  {
   "cell_type": "code",
   "execution_count": 2,
   "metadata": {
    "collapsed": true
   },
   "outputs": [],
   "source": [
    "FASTQ_DUMP_PATH = \"/groups/itay_mayrose/liorglic/sratoolkit.2.9.0-ubuntu64/bin/fastq-dump\"\n",
    "download_to_dir = \"%s/S_lyc_RNA_Seq\" % realpath(DATA_PATH)\n",
    "analysis_dir = \"%s/S_lyc_transcriptome_assembly\" % realpath(OUT_PATH)"
   ]
  },
  {
   "cell_type": "code",
   "execution_count": 10,
   "metadata": {
    "collapsed": true
   },
   "outputs": [],
   "source": [
    "!mkdir $download_to_dir"
   ]
  },
  {
   "cell_type": "code",
   "execution_count": 32,
   "metadata": {},
   "outputs": [
    {
     "name": "stdout",
     "output_type": "stream",
     "text": [
      "--2018-05-27 14:53:08--  ftp://ftp.solgenomics.net/tomato_genome/annotation/ITAG3.2_release/ITAG3.2_gene_models.gff\n",
      "           => “/groups/itay_mayrose/liorglic/Projects/tomato_pan_genome/data/ITAG3.2_gene_models.gff.2”\n",
      "Resolving ftp.solgenomics.net... 132.236.81.147\n",
      "Connecting to ftp.solgenomics.net|132.236.81.147|:21... connected.\n",
      "Logging in as anonymous ... Logged in!\n",
      "==> SYST ... done.    ==> PWD ... done.\n",
      "==> TYPE I ... done.  ==> CWD (1) /tomato_genome/annotation/ITAG3.2_release ... done.\n",
      "==> SIZE ITAG3.2_gene_models.gff ... 56409515\n",
      "==> PASV ... done.    ==> RETR ITAG3.2_gene_models.gff ... done.\n",
      "Length: 56409515 (54M) (unauthoritative)\n",
      "\n",
      "100%[======================================>] 56,409,515  13.4M/s   in 9.0s    \n",
      "\n",
      "2018-05-27 14:53:20 (5.99 MB/s) - “/groups/itay_mayrose/liorglic/Projects/tomato_pan_genome/data/ITAG3.2_gene_models.gff.2” saved [56409515]\n",
      "\n",
      "--2018-05-27 14:53:20--  ftp://ftp.solgenomics.net/tomato_genome/assembly/build_3.00/S_lycopersicum_chromosomes.3.00.fa\n",
      "           => “/groups/itay_mayrose/liorglic/Projects/tomato_pan_genome/data/S_lycopersicum_chromosomes.3.00.fa”\n",
      "Resolving ftp.solgenomics.net... 132.236.81.147\n",
      "Connecting to ftp.solgenomics.net|132.236.81.147|:21... connected.\n",
      "Logging in as anonymous ... Logged in!\n",
      "==> SYST ... done.    ==> PWD ... done.\n",
      "==> TYPE I ... done.  ==> CWD (1) /tomato_genome/assembly/build_3.00 ... done.\n",
      "==> SIZE S_lycopersicum_chromosomes.3.00.fa ... 841878399\n",
      "==> PASV ... done.    ==> RETR S_lycopersicum_chromosomes.3.00.fa ... done.\n",
      "Length: 841878399 (803M) (unauthoritative)\n",
      "\n",
      "100%[======================================>] 841,878,399 18.5M/s   in 61s     \n",
      "\n",
      "2018-05-27 14:54:25 (13.3 MB/s) - “/groups/itay_mayrose/liorglic/Projects/tomato_pan_genome/data/S_lycopersicum_chromosomes.3.00.fa” saved [841878399]\n",
      "\n"
     ]
    }
   ],
   "source": [
    "# download reference genome and annotation\n",
    "S_lyc_ref_annotation_url = \"ftp://ftp.solgenomics.net/tomato_genome/annotation/ITAG3.2_release/ITAG3.2_gene_models.gff\"\n",
    "!wget $S_lyc_ref_annotation_url -P $DATA_PATH\n",
    "S_lyc_ref_genome_url = \"ftp://ftp.solgenomics.net/tomato_genome/assembly/build_3.00/S_lycopersicum_chromosomes.3.00.fa\"\n",
    "!wget $S_lyc_ref_genome_url -P $DATA_PATH"
   ]
  },
  {
   "cell_type": "code",
   "execution_count": 18,
   "metadata": {
    "collapsed": true
   },
   "outputs": [],
   "source": [
    "s_lyc_ref_annotation_path = \"%s/ITAG3.2_gene_models.gff\" % DATA_PATH\n",
    "s_lyc_ref_genome_path = \"%s/S_lycopersicum_chromosomes.3.00.fa\" % DATA_PATH\n",
    "s_lyc_STAR_index = \"%s/S_lyc_STAR_index\" % realpath(OUT_PATH)"
   ]
  },
  {
   "cell_type": "code",
   "execution_count": 19,
   "metadata": {
    "collapsed": true
   },
   "outputs": [],
   "source": [
    "# index reference genome\n",
    "os.mkdir(s_lyc_STAR_index)\n",
    "STAR_index_commands = [\"module load gcc/gcc620 perl/perl518 STAR/STAR-2.6.0a\",\n",
    "                       \"STAR --runThreadN 20 --runMode genomeGenerate --genomeDir %s --genomeFastaFiles %s --sjdbGTFfile %s --sjdbGTFtagExonParentTranscript Parent\" %(s_lyc_STAR_index, s_lyc_ref_genome_path, s_lyc_ref_annotation_path)]\n",
    "send_commands_to_queue(\"STAR_index_s_lyc\", STAR_index_commands, queue_conf, block=False, n_cpu=20)"
   ]
  },
  {
   "cell_type": "code",
   "execution_count": 20,
   "metadata": {
    "collapsed": true
   },
   "outputs": [
    {
     "name": "stdout",
     "output_type": "stream",
     "text": [
      "s1v1\n",
      "s2v1\n",
      "s4v1\n",
      "s4v2\n",
      "s4v3\n",
      "s4v4\n",
      "s4v5\n",
      "s5v1\n",
      "s6v1\n",
      "s7v1\n",
      "s9v1\n",
      "s10v1\n",
      "s11v1\n",
      "s12v1\n",
      "s13v1\n",
      "s14v1\n",
      "s15v1\n",
      "s16v1\n"
     ]
    }
   ],
   "source": [
    "# iterate over data sets and perform transcriptome assembly for each\n",
    "transcriptome_assembly_pipeline_script = \"%s/transcriptome_assembly_pipeline.py\" % PY_PATH\n",
    "for index, row in s_lyc_datasets.iterrows():\n",
    "    if index > 17:\n",
    "        continue\n",
    "    ds_id = row['Code']\n",
    "    ds_srr_list = row['SRR list']\n",
    "    ds_download_dir = \"%s/%s\" %(download_to_dir, ds_id)\n",
    "    ds_analysis_dir = \"%s/%s\" %(analysis_dir, ds_id)\n",
    "    ds_log = \"%s/%s.log\" %(analysis_dir, ds_id)\n",
    "    ds_command = ['python', transcriptome_assembly_pipeline_script, realpath(queue_conf),\n",
    "                  ds_id, ds_srr_list, ds_download_dir, ds_analysis_dir, ds_log, '-a',\n",
    "                  s_lyc_ref_annotation_path, '-g', s_lyc_STAR_index]\n",
    "    p = Popen(ds_command)"
   ]
  },
  {
   "cell_type": "code",
   "execution_count": 11,
   "metadata": {},
   "outputs": [
    {
     "name": "stdout",
     "output_type": "stream",
     "text": [
      "Job reformat_s13v1 (job id 5977755) completed successfully\n"
     ]
    },
    {
     "data": {
      "text/plain": [
       "('5977755', 0)"
      ]
     },
     "execution_count": 11,
     "metadata": {},
     "output_type": "execute_result"
    }
   ],
   "source": [
    "# manual reformating of fastq for s13v1 before rerunning.\n",
    "# remove _forward and _reverse strings from fastq headers\n",
    "command = \"for x in `ls -1 /groups/itay_mayrose/liorglic/Projects/tomato_pan_genome/data/S_lyc_RNA_Seq/s13v1/*.gz`; do echo $x; zcat $x | sed -e 's/_forward//' -e 's/_reverse//' > `echo $x | sed 's/.gz//'`; do mv $x $x\\\"_\\\"; done\"\n",
    "send_commands_to_queue(\"reformat_s13v1\", [command], queue_conf)"
   ]
  },
  {
   "cell_type": "markdown",
   "metadata": {
    "collapsed": true
   },
   "source": [
    "A separate set of data sets was provided by direct communication with Christopher Sauvage, related to the publication \"Domestication rewired gene expression and nucleotide diversity patterns in tomato\". Therefore, no need to download from SRA - just run starting at step 2.\n",
    "Fastq headers had to be re-formated first to be ingested by Trinity."
   ]
  },
  {
   "cell_type": "code",
   "execution_count": 20,
   "metadata": {},
   "outputs": [
    {
     "name": "stdout",
     "output_type": "stream",
     "text": [
      "Job fastq_headers_reformat (job id 5977646) completed successfully\n"
     ]
    },
    {
     "data": {
      "text/plain": [
       "('5977646', 0)"
      ]
     },
     "execution_count": 20,
     "metadata": {},
     "output_type": "execute_result"
    }
   ],
   "source": [
    "commands = []\n",
    "for d in [download_to_dir + \"/\" + x for x in os.listdir(download_to_dir) if os.path.isdir(download_to_dir + \"/\" + x) and x.startswith('s23')]:\n",
    "    for f in os.listdir(d):\n",
    "        f_full_path = \"%s/%s\" %(d, f)\n",
    "        res_path = f_full_path[:-3]    # remove .gz\n",
    "        if f.endswith('_1_sequence.fastq.gz'):\n",
    "            suff = '1'\n",
    "        elif f.endswith('_2_sequence.fastq.gz'):\n",
    "            suff = '2'\n",
    "        commands.append(\"zcat %s | awk '{if (NR %% 4 == 1) {print $0\\\"/%s\\\"} else {print $0}}' > %s\" %(f_full_path, suff, res_path))\n",
    "        commands.append(\"mv %s %s\" %(f_full_path, f_full_path + '_') )\n",
    "send_commands_to_queue('fastq_headers_reformat', commands, queue_conf)"
   ]
  },
  {
   "cell_type": "code",
   "execution_count": 30,
   "metadata": {
    "collapsed": true
   },
   "outputs": [],
   "source": [
    "s = 23\n",
    "transcriptome_assembly_pipeline_script = \"%s/transcriptome_assembly_pipeline.py\" % PY_PATH\n",
    "for v in range(1,11):\n",
    "    ds_id = \"s%sv%s\" %(s,v)\n",
    "    ds_srr_list = \"NA\"\n",
    "    ds_download_dir = \"%s/%s\" %(download_to_dir, ds_id)\n",
    "    ds_analysis_dir = \"%s/%s\" %(analysis_dir, ds_id)\n",
    "    ds_log = \"%s/%s.log\" %(analysis_dir, ds_id)\n",
    "    ds_command = ['python', transcriptome_assembly_pipeline_script, realpath(queue_conf),\n",
    "                  ds_id, ds_srr_list, ds_download_dir, ds_analysis_dir, ds_log, '-a',\n",
    "                  s_lyc_ref_annotation_path, '-g', s_lyc_STAR_index, '--first_command', '2']\n",
    "    p = Popen(ds_command, stdout=subprocess.PIPE, stderr=subprocess.PIPE)"
   ]
  },
  {
   "cell_type": "markdown",
   "metadata": {
    "collapsed": true
   },
   "source": [
    "### Evaluate the result\n",
    "After all 26 data sets were assembled, asses the quality of results by:\n",
    "1. Plot BUSCO score and N50 vs. Gb data per data set for sanity check and detect outliers.\n",
    "1. Run BUSCO for the combined result from all data sets.\n",
    "1. Calculate full length transcripts"
   ]
  },
  {
   "cell_type": "code",
   "execution_count": 21,
   "metadata": {
    "collapsed": true
   },
   "outputs": [],
   "source": [
    "# Fetch stats and add to table\n",
    "def fetch_c_busco(p):\n",
    "    with open(p) as f:\n",
    "        for line in f:\n",
    "            if line.startswith(\"\\tC:\"):\n",
    "                return line.split(\"C:\")[1].split(\"%\")[0]\n",
    "\n",
    "def fetch_n50(p):\n",
    "    with open(p) as f:\n",
    "        for line in f:\n",
    "            if line.startswith('N50'):\n",
    "                return line.strip().split('\\t')[1].replace(',','')\n",
    "\n",
    "s_lyc_datasets[\"Complete BUSCOs\"] = \"\"\n",
    "s_lyc_datasets[\"N50\"] = \"\"\n",
    "for index, row in s_lyc_datasets.iterrows():\n",
    "    ds_dir = \"%s/%s\" %(analysis_dir, row['Code'])\n",
    "    ds_busco_sum = \"%s/run_BUSCO/short_summary_BUSCO.txt\" % ds_dir\n",
    "    ds_stats = \"%s/transcriptome_stats.tsv\" % ds_dir\n",
    "    ds_c_busco = fetch_c_busco(ds_busco_sum)\n",
    "    ds_n50 = fetch_n50(ds_stats)\n",
    "    s_lyc_datasets.iloc[index,4] = ds_c_busco\n",
    "    s_lyc_datasets.iloc[index,5] = ds_n50"
   ]
  },
  {
   "cell_type": "code",
   "execution_count": 22,
   "metadata": {},
   "outputs": [
    {
     "data": {
      "text/html": [
       "<div>\n",
       "<style scoped>\n",
       "    .dataframe tbody tr th:only-of-type {\n",
       "        vertical-align: middle;\n",
       "    }\n",
       "\n",
       "    .dataframe tbody tr th {\n",
       "        vertical-align: top;\n",
       "    }\n",
       "\n",
       "    .dataframe thead th {\n",
       "        text-align: right;\n",
       "    }\n",
       "</style>\n",
       "<table border=\"1\" class=\"dataframe\">\n",
       "  <thead>\n",
       "    <tr style=\"text-align: right;\">\n",
       "      <th></th>\n",
       "      <th>Code</th>\n",
       "      <th>Variant</th>\n",
       "      <th>SRR list</th>\n",
       "      <th>Gb data</th>\n",
       "      <th>Complete BUSCOs</th>\n",
       "      <th>N50</th>\n",
       "    </tr>\n",
       "    <tr>\n",
       "      <th>ID</th>\n",
       "      <th></th>\n",
       "      <th></th>\n",
       "      <th></th>\n",
       "      <th></th>\n",
       "      <th></th>\n",
       "      <th></th>\n",
       "    </tr>\n",
       "  </thead>\n",
       "  <tbody>\n",
       "    <tr>\n",
       "      <th>0</th>\n",
       "      <td>s1v1</td>\n",
       "      <td>Micro-Tom</td>\n",
       "      <td>DRR074670 DRR074671 DRR074672 DRR074673</td>\n",
       "      <td>9.50</td>\n",
       "      <td>87.3</td>\n",
       "      <td>1500</td>\n",
       "    </tr>\n",
       "    <tr>\n",
       "      <th>1</th>\n",
       "      <td>s2v1</td>\n",
       "      <td>Moneymaker</td>\n",
       "      <td>ERR1533151 ERR1533152 ERR1533153 ERR1533156 ER...</td>\n",
       "      <td>26</td>\n",
       "      <td>77.4</td>\n",
       "      <td>888</td>\n",
       "    </tr>\n",
       "    <tr>\n",
       "      <th>2</th>\n",
       "      <td>s4v1</td>\n",
       "      <td>PI114490</td>\n",
       "      <td>SRR390335 SRR390336</td>\n",
       "      <td>2.58</td>\n",
       "      <td>82.7</td>\n",
       "      <td>1694</td>\n",
       "    </tr>\n",
       "    <tr>\n",
       "      <th>3</th>\n",
       "      <td>s4v2</td>\n",
       "      <td>FL7600</td>\n",
       "      <td>SRR389806 SRR389807</td>\n",
       "      <td>2.70</td>\n",
       "      <td>79.9</td>\n",
       "      <td>1644</td>\n",
       "    </tr>\n",
       "    <tr>\n",
       "      <th>4</th>\n",
       "      <td>s4v3</td>\n",
       "      <td>NC84173</td>\n",
       "      <td>SRR389808 SRR390315</td>\n",
       "      <td>2.64</td>\n",
       "      <td>81.3</td>\n",
       "      <td>1628</td>\n",
       "    </tr>\n",
       "    <tr>\n",
       "      <th>5</th>\n",
       "      <td>s4v4</td>\n",
       "      <td>OH9242</td>\n",
       "      <td>SRR390328 SRR390329</td>\n",
       "      <td>2.58</td>\n",
       "      <td>80.1</td>\n",
       "      <td>1602</td>\n",
       "    </tr>\n",
       "    <tr>\n",
       "      <th>6</th>\n",
       "      <td>s4v5</td>\n",
       "      <td>T5</td>\n",
       "      <td>SRR390330 SRR390331</td>\n",
       "      <td>2.91</td>\n",
       "      <td>80.1</td>\n",
       "      <td>1703</td>\n",
       "    </tr>\n",
       "    <tr>\n",
       "      <th>7</th>\n",
       "      <td>s5v1</td>\n",
       "      <td>M82</td>\n",
       "      <td>SRR863016 SRR863017 SRR863018 SRR863024 SRR863025</td>\n",
       "      <td>1.54</td>\n",
       "      <td>8.9</td>\n",
       "      <td>411</td>\n",
       "    </tr>\n",
       "    <tr>\n",
       "      <th>8</th>\n",
       "      <td>s6v1</td>\n",
       "      <td>Ailsa Craig</td>\n",
       "      <td>SRR863042 SRR863043 SRR863044 SRR863045 SRR863...</td>\n",
       "      <td>20.08</td>\n",
       "      <td>77.0</td>\n",
       "      <td>1231</td>\n",
       "    </tr>\n",
       "    <tr>\n",
       "      <th>9</th>\n",
       "      <td>s7v1</td>\n",
       "      <td>HG6-61</td>\n",
       "      <td>SRR1759290 SRR1759289 SRR1759288 SRR1759287 SR...</td>\n",
       "      <td>2.48</td>\n",
       "      <td>23.0</td>\n",
       "      <td>552</td>\n",
       "    </tr>\n",
       "    <tr>\n",
       "      <th>10</th>\n",
       "      <td>s9v1</td>\n",
       "      <td>Micro-Tom</td>\n",
       "      <td>SRR988673 SRR988675 SRR988676 SRR988677 SRR993...</td>\n",
       "      <td>22.50</td>\n",
       "      <td>93.8</td>\n",
       "      <td>1591</td>\n",
       "    </tr>\n",
       "    <tr>\n",
       "      <th>11</th>\n",
       "      <td>s10v1</td>\n",
       "      <td>Heinz 1706</td>\n",
       "      <td>SRR1740445 SRR1740444 SRR1740443 SRR1740442 SR...</td>\n",
       "      <td>12</td>\n",
       "      <td>89.1</td>\n",
       "      <td>1737</td>\n",
       "    </tr>\n",
       "    <tr>\n",
       "      <th>12</th>\n",
       "      <td>s11v1</td>\n",
       "      <td>Rutgers</td>\n",
       "      <td>SRR1771341 SRR1771340 SRR1771342</td>\n",
       "      <td>6.94</td>\n",
       "      <td>95.8</td>\n",
       "      <td>1932</td>\n",
       "    </tr>\n",
       "    <tr>\n",
       "      <th>13</th>\n",
       "      <td>s12v1</td>\n",
       "      <td>M82</td>\n",
       "      <td>SRR1980239 SRR1980240 SRR1980241 SRR1980242</td>\n",
       "      <td>10.74</td>\n",
       "      <td>66.3</td>\n",
       "      <td>1394</td>\n",
       "    </tr>\n",
       "    <tr>\n",
       "      <th>14</th>\n",
       "      <td>s13v1</td>\n",
       "      <td>Chico III</td>\n",
       "      <td>SRR2840515 SRR2840513 SRR2840511 SRR2840509 SR...</td>\n",
       "      <td>23.60</td>\n",
       "      <td>96.7</td>\n",
       "      <td>2479</td>\n",
       "    </tr>\n",
       "    <tr>\n",
       "      <th>15</th>\n",
       "      <td>s14v1</td>\n",
       "      <td>LA1310 / PI365922</td>\n",
       "      <td>SRR2932526</td>\n",
       "      <td>5.94</td>\n",
       "      <td>54.8</td>\n",
       "      <td>1055</td>\n",
       "    </tr>\n",
       "    <tr>\n",
       "      <th>16</th>\n",
       "      <td>s15v1</td>\n",
       "      <td>San Marzano</td>\n",
       "      <td>SRR2939232 SRR2939231 SRR2939230 SRR2939229 SR...</td>\n",
       "      <td>48.34</td>\n",
       "      <td>93.8</td>\n",
       "      <td>1956</td>\n",
       "    </tr>\n",
       "    <tr>\n",
       "      <th>17</th>\n",
       "      <td>s16v1</td>\n",
       "      <td>Pusa Ruby</td>\n",
       "      <td>SRR2989582 SRR2989581</td>\n",
       "      <td>15.08</td>\n",
       "      <td>95.3</td>\n",
       "      <td>2082</td>\n",
       "    </tr>\n",
       "    <tr>\n",
       "      <th>18</th>\n",
       "      <td>s23v1</td>\n",
       "      <td>Levovil</td>\n",
       "      <td>NaN</td>\n",
       "      <td>2.86</td>\n",
       "      <td>86.8</td>\n",
       "      <td>1772</td>\n",
       "    </tr>\n",
       "    <tr>\n",
       "      <th>19</th>\n",
       "      <td>s23v2</td>\n",
       "      <td>Stupicke Polni Rane</td>\n",
       "      <td>NaN</td>\n",
       "      <td>2.38</td>\n",
       "      <td>82.8</td>\n",
       "      <td>1706</td>\n",
       "    </tr>\n",
       "    <tr>\n",
       "      <th>20</th>\n",
       "      <td>s23v3</td>\n",
       "      <td>Plovdiv 24A</td>\n",
       "      <td>NaN</td>\n",
       "      <td>2.50</td>\n",
       "      <td>84.3</td>\n",
       "      <td>1739</td>\n",
       "    </tr>\n",
       "    <tr>\n",
       "      <th>21</th>\n",
       "      <td>s23v4</td>\n",
       "      <td>LA1420</td>\n",
       "      <td>NaN</td>\n",
       "      <td>1.60</td>\n",
       "      <td>76.3</td>\n",
       "      <td>1631</td>\n",
       "    </tr>\n",
       "    <tr>\n",
       "      <th>22</th>\n",
       "      <td>s23v5</td>\n",
       "      <td>Criollo</td>\n",
       "      <td>NaN</td>\n",
       "      <td>2.18</td>\n",
       "      <td>82.5</td>\n",
       "      <td>1709</td>\n",
       "    </tr>\n",
       "    <tr>\n",
       "      <th>23</th>\n",
       "      <td>s23v6</td>\n",
       "      <td>LA0147</td>\n",
       "      <td>NaN</td>\n",
       "      <td>1.98</td>\n",
       "      <td>81.4</td>\n",
       "      <td>1681</td>\n",
       "    </tr>\n",
       "    <tr>\n",
       "      <th>24</th>\n",
       "      <td>s23v7</td>\n",
       "      <td>FERUM</td>\n",
       "      <td>NaN</td>\n",
       "      <td>1.04</td>\n",
       "      <td>72.0</td>\n",
       "      <td>1519</td>\n",
       "    </tr>\n",
       "    <tr>\n",
       "      <th>25</th>\n",
       "      <td>s23v8</td>\n",
       "      <td>LA0767</td>\n",
       "      <td>NaN</td>\n",
       "      <td>1.69</td>\n",
       "      <td>66.0</td>\n",
       "      <td>1427</td>\n",
       "    </tr>\n",
       "    <tr>\n",
       "      <th>26</th>\n",
       "      <td>s23v9</td>\n",
       "      <td>LA0409</td>\n",
       "      <td>NaN</td>\n",
       "      <td>2.06</td>\n",
       "      <td>79.8</td>\n",
       "      <td>1747</td>\n",
       "    </tr>\n",
       "  </tbody>\n",
       "</table>\n",
       "</div>"
      ],
      "text/plain": [
       "     Code              Variant  \\\n",
       "ID                               \n",
       "0    s1v1            Micro-Tom   \n",
       "1    s2v1           Moneymaker   \n",
       "2    s4v1             PI114490   \n",
       "3    s4v2               FL7600   \n",
       "4    s4v3              NC84173   \n",
       "5    s4v4               OH9242   \n",
       "6    s4v5                   T5   \n",
       "7    s5v1                  M82   \n",
       "8    s6v1          Ailsa Craig   \n",
       "9    s7v1               HG6-61   \n",
       "10   s9v1            Micro-Tom   \n",
       "11  s10v1           Heinz 1706   \n",
       "12  s11v1              Rutgers   \n",
       "13  s12v1                  M82   \n",
       "14  s13v1            Chico III   \n",
       "15  s14v1    LA1310 / PI365922   \n",
       "16  s15v1          San Marzano   \n",
       "17  s16v1            Pusa Ruby   \n",
       "18  s23v1              Levovil   \n",
       "19  s23v2  Stupicke Polni Rane   \n",
       "20  s23v3          Plovdiv 24A   \n",
       "21  s23v4               LA1420   \n",
       "22  s23v5              Criollo   \n",
       "23  s23v6               LA0147   \n",
       "24  s23v7                FERUM   \n",
       "25  s23v8               LA0767   \n",
       "26  s23v9               LA0409   \n",
       "\n",
       "                                             SRR list  Gb data  \\\n",
       "ID                                                               \n",
       "0             DRR074670 DRR074671 DRR074672 DRR074673     9.50   \n",
       "1   ERR1533151 ERR1533152 ERR1533153 ERR1533156 ER...       26   \n",
       "2                                 SRR390335 SRR390336     2.58   \n",
       "3                                 SRR389806 SRR389807     2.70   \n",
       "4                                 SRR389808 SRR390315     2.64   \n",
       "5                                 SRR390328 SRR390329     2.58   \n",
       "6                                 SRR390330 SRR390331     2.91   \n",
       "7   SRR863016 SRR863017 SRR863018 SRR863024 SRR863025     1.54   \n",
       "8   SRR863042 SRR863043 SRR863044 SRR863045 SRR863...    20.08   \n",
       "9   SRR1759290 SRR1759289 SRR1759288 SRR1759287 SR...     2.48   \n",
       "10  SRR988673 SRR988675 SRR988676 SRR988677 SRR993...    22.50   \n",
       "11  SRR1740445 SRR1740444 SRR1740443 SRR1740442 SR...       12   \n",
       "12                   SRR1771341 SRR1771340 SRR1771342     6.94   \n",
       "13        SRR1980239 SRR1980240 SRR1980241 SRR1980242    10.74   \n",
       "14  SRR2840515 SRR2840513 SRR2840511 SRR2840509 SR...    23.60   \n",
       "15                                         SRR2932526     5.94   \n",
       "16  SRR2939232 SRR2939231 SRR2939230 SRR2939229 SR...    48.34   \n",
       "17                              SRR2989582 SRR2989581    15.08   \n",
       "18                                                NaN     2.86   \n",
       "19                                                NaN     2.38   \n",
       "20                                                NaN     2.50   \n",
       "21                                                NaN     1.60   \n",
       "22                                                NaN     2.18   \n",
       "23                                                NaN     1.98   \n",
       "24                                                NaN     1.04   \n",
       "25                                                NaN     1.69   \n",
       "26                                                NaN     2.06   \n",
       "\n",
       "   Complete BUSCOs   N50  \n",
       "ID                        \n",
       "0             87.3  1500  \n",
       "1             77.4   888  \n",
       "2             82.7  1694  \n",
       "3             79.9  1644  \n",
       "4             81.3  1628  \n",
       "5             80.1  1602  \n",
       "6             80.1  1703  \n",
       "7              8.9   411  \n",
       "8             77.0  1231  \n",
       "9             23.0   552  \n",
       "10            93.8  1591  \n",
       "11            89.1  1737  \n",
       "12            95.8  1932  \n",
       "13            66.3  1394  \n",
       "14            96.7  2479  \n",
       "15            54.8  1055  \n",
       "16            93.8  1956  \n",
       "17            95.3  2082  \n",
       "18            86.8  1772  \n",
       "19            82.8  1706  \n",
       "20            84.3  1739  \n",
       "21            76.3  1631  \n",
       "22            82.5  1709  \n",
       "23            81.4  1681  \n",
       "24            72.0  1519  \n",
       "25            66.0  1427  \n",
       "26            79.8  1747  "
      ]
     },
     "execution_count": 22,
     "metadata": {},
     "output_type": "execute_result"
    }
   ],
   "source": [
    "s_lyc_datasets"
   ]
  },
  {
   "cell_type": "markdown",
   "metadata": {},
   "source": [
    "#### Plot GB data vs. % BUSCOs and N50"
   ]
  },
  {
   "cell_type": "code",
   "execution_count": 44,
   "metadata": {},
   "outputs": [
    {
     "data": {
      "image/png": "[encoded data removed]",
      "text/plain": [
       "<matplotlib.figure.Figure at 0x7f0e90b6a7f0>"
      ]
     },
     "metadata": {},
     "output_type": "display_data"
    }
   ],
   "source": [
    "plt.figure(figsize=(15,5))\n",
    "plt.subplot(1, 2, 1)\n",
    "plt.plot(s_lyc_datasets['Gb data'], s_lyc_datasets['Complete BUSCOs'], 'ro', markersize=3)\n",
    "plt.xlabel(\"Gb data\")\n",
    "plt.ylabel(\"% Complete BUSCOs\")\n",
    "plt.subplot(1, 2, 2)\n",
    "plt.plot(s_lyc_datasets['Gb data'], s_lyc_datasets['N50'], 'bo', markersize=3)\n",
    "plt.xlabel(\"Gb data\")\n",
    "plt.ylabel(\"N50\")\n",
    "plt.tight_layout()\n",
    "plt.show()"
   ]
  },
  {
   "cell_type": "markdown",
   "metadata": {},
   "source": [
    "#### Plot N50 vs. % BUSCOs"
   ]
  },
  {
   "cell_type": "code",
   "execution_count": 40,
   "metadata": {},
   "outputs": [
    {
     "data": {
      "image/png": "[encoded data removed]",
      "text/plain": [
       "<matplotlib.figure.Figure at 0x7f0e92d3c9b0>"
      ]
     },
     "metadata": {},
     "output_type": "display_data"
    }
   ],
   "source": [
    "plt.plot(s_lyc_datasets['N50'], s_lyc_datasets['Complete BUSCOs'], 'ro', markersize=3)\n",
    "plt.xlabel(\"N50\")\n",
    "plt.ylabel(\"% Complete BUSCOs\")\n",
    "plt.show()"
   ]
  },
  {
   "cell_type": "markdown",
   "metadata": {},
   "source": [
    "#### Create combined result and evaluate\n",
    "Collect all transcript assemblies by concatenating into one file, while including the data set name in the headers.\n",
    "At this point, I decided to just concatenate all transcripts, but I might come back here in order to filter the transcripts in some way or merge redundant transcripts."
   ]
  },
  {
   "cell_type": "code",
   "execution_count": 4,
   "metadata": {
    "collapsed": true
   },
   "outputs": [],
   "source": [
    "s_lyc_all_transcripts_concat = \"%s/all_transcripts_concat.fasta\" % analysis_dir"
   ]
  },
  {
   "cell_type": "code",
   "execution_count": null,
   "metadata": {
    "collapsed": true
   },
   "outputs": [],
   "source": [
    "# Concatenate all data sets\n",
    "command = \"for f in `find %s -name 'Trinity-combined.fasta'`; do dsName=`dirname $f | awk '{split($0,a,\\\"/\\\"); print a[9]}'`; sed \\\"s/>/>$dsName\\_/\\\" $f >> %s; done\"  %(analysis_dir, s_lyc_all_transcripts_concat)\n",
    "send_commands_to_queue(\"concat_transcript_assemblies\", [command], queue_conf)"
   ]
  },
  {
   "cell_type": "code",
   "execution_count": 25,
   "metadata": {},
   "outputs": [
    {
     "name": "stdout",
     "output_type": "stream",
     "text": [
      "Job all_transcripts_concat_BUSCO (job id 6111419) sent to queue\n"
     ]
    },
    {
     "data": {
      "text/plain": [
       "('6111419', None)"
      ]
     },
     "execution_count": 25,
     "metadata": {},
     "output_type": "execute_result"
    }
   ],
   "source": [
    "# BUSCO on concat result\n",
    "busco_command = \"python %s/scripts/run_BUSCO.py --in %s --out all_transcripts_concat_BUSCO --lineage_path %s/embryophyta_odb9/ --mode transcriptome --cpu 10\" \\\n",
    "% (busco_dir, s_lyc_all_transcripts_concat, busco_dir)\n",
    "env_commands = ['export PATH=\"/share/apps/augustus/bin:$PATH\"',\n",
    "               'export PATH=\"/share/apps/augustus/scripts:$PATH\"',\n",
    "               'export AUGUSTUS_CONFIG_PATH=\"/groups/itay_mayrose/liorglic/software/busco/augustus_config\"',\n",
    "                'module load python/python-3.3.0',\n",
    "               \"cd %s\" % analysis_dir]\n",
    "busco_run_commands = env_commands + [busco_command]\n",
    "send_commands_to_queue(\"all_transcripts_concat_BUSCO\", busco_run_commands, queue_conf, n_cpu=10, block=False)"
   ]
  },
  {
   "cell_type": "code",
   "execution_count": 5,
   "metadata": {},
   "outputs": [
    {
     "name": "stdout",
     "output_type": "stream",
     "text": [
      "Job transcripts_concat_stats (job id 6162161) completed successfully\n"
     ]
    },
    {
     "data": {
      "text/plain": [
       "('6162161', 0)"
      ]
     },
     "execution_count": 5,
     "metadata": {},
     "output_type": "execute_result"
    }
   ],
   "source": [
    "# get assembly stats of concat result\n",
    "commands = [\"module load python/python-2.7.6\", \"python %s/get_genome_stats.py %s > %s.stats\" %(PY_PATH, s_lyc_all_transcripts_concat, s_lyc_all_transcripts_concat)]\n",
    "send_commands_to_queue(\"transcripts_concat_stats\", commands, queue_conf)"
   ]
  },
  {
   "cell_type": "markdown",
   "metadata": {
    "collapsed": true
   },
   "source": [
    "Get full length transcripts histogram"
   ]
  },
  {
   "cell_type": "code",
   "execution_count": 8,
   "metadata": {},
   "outputs": [
    {
     "name": "stdout",
     "output_type": "stream",
     "text": [
      "Job full_length_trans (job id 6162162) sent to queue\n"
     ]
    },
    {
     "data": {
      "text/plain": [
       "('6162162', None)"
      ]
     },
     "execution_count": 8,
     "metadata": {},
     "output_type": "execute_result"
    }
   ],
   "source": [
    "# Perform the blast search, reporting only the top alignment:\n",
    "blast_res = \"%s/all_transcripts_concat_vs_SP.blastx.outfmt6\" % analysis_dir\n",
    "blast_search_commands = ['module load blast/blast240',\n",
    "                        'blastx -query %s -db %s -out %s -evalue 1e-20 -num_threads 20 -max_target_seqs 1 -outfmt 6'\n",
    "                         %(s_lyc_all_transcripts_concat, realpath(sp_fasta), blast_res)]\n",
    "# use utility script provided within Trinity to parse blast result\n",
    "script_path = \"/share/apps/Trinity-v2.6.6/util/analyze_blastPlus_topHit_coverage.pl\"\n",
    "parse_blast_res_commands = [\"%s %s %s %s\"\n",
    "                            %(script_path, blast_res, s_lyc_all_transcripts_concat, realpath(sp_fasta))]\n",
    "\n",
    "send_commands_to_queue(\"full_length_trans\",blast_search_commands + parse_blast_res_commands,queue_conf, block=False, n_cpu=20)"
   ]
  },
  {
   "cell_type": "code",
   "execution_count": 16,
   "metadata": {},
   "outputs": [
    {
     "data": {
      "text/html": [
       "<div>\n",
       "<style scoped>\n",
       "    .dataframe tbody tr th:only-of-type {\n",
       "        vertical-align: middle;\n",
       "    }\n",
       "\n",
       "    .dataframe tbody tr th {\n",
       "        vertical-align: top;\n",
       "    }\n",
       "\n",
       "    .dataframe thead th {\n",
       "        text-align: right;\n",
       "    }\n",
       "</style>\n",
       "<table border=\"1\" class=\"dataframe\">\n",
       "  <thead>\n",
       "    <tr style=\"text-align: right;\">\n",
       "      <th></th>\n",
       "      <th>1</th>\n",
       "    </tr>\n",
       "    <tr>\n",
       "      <th>0</th>\n",
       "      <th></th>\n",
       "    </tr>\n",
       "  </thead>\n",
       "  <tbody>\n",
       "    <tr>\n",
       "      <th>Total length</th>\n",
       "      <td>1,955,631,125</td>\n",
       "    </tr>\n",
       "    <tr>\n",
       "      <th>Total scaffolds</th>\n",
       "      <td>2,076,772</td>\n",
       "    </tr>\n",
       "    <tr>\n",
       "      <th># of gaps</th>\n",
       "      <td>17,845,298</td>\n",
       "    </tr>\n",
       "    <tr>\n",
       "      <th>% gaps</th>\n",
       "      <td>0</td>\n",
       "    </tr>\n",
       "    <tr>\n",
       "      <th>N50</th>\n",
       "      <td>1,678</td>\n",
       "    </tr>\n",
       "    <tr>\n",
       "      <th>L50</th>\n",
       "      <td>354,165</td>\n",
       "    </tr>\n",
       "    <tr>\n",
       "      <th>N90</th>\n",
       "      <td>350</td>\n",
       "    </tr>\n",
       "    <tr>\n",
       "      <th>L90</th>\n",
       "      <td>1,326,334</td>\n",
       "    </tr>\n",
       "    <tr>\n",
       "      <th>Min scaffold length</th>\n",
       "      <td>201</td>\n",
       "    </tr>\n",
       "    <tr>\n",
       "      <th>Max scaffold length</th>\n",
       "      <td>23,045</td>\n",
       "    </tr>\n",
       "  </tbody>\n",
       "</table>\n",
       "</div>"
      ],
      "text/plain": [
       "                                 1\n",
       "0                                 \n",
       "Total length         1,955,631,125\n",
       "Total scaffolds          2,076,772\n",
       "# of gaps               17,845,298\n",
       "% gaps                           0\n",
       "N50                          1,678\n",
       "L50                        354,165\n",
       "N90                            350\n",
       "L90                      1,326,334\n",
       "Min scaffold length            201\n",
       "Max scaffold length         23,045"
      ]
     },
     "execution_count": 16,
     "metadata": {},
     "output_type": "execute_result"
    }
   ],
   "source": [
    "all_concat_stats_path = s_lyc_all_transcripts_concat + '.stats'\n",
    "all_concat_stats = pandas.read_csv(all_concat_stats_path, sep='\\t', header=None, index_col=0)\n",
    "all_concat_stats"
   ]
  },
  {
   "cell_type": "markdown",
   "metadata": {},
   "source": []
  }
 ],
 "metadata": {
  "kernelspec": {
   "display_name": "Python 3",
   "language": "python",
   "name": "python3"
  },
  "language_info": {
   "codemirror_mode": {
    "name": "ipython",
    "version": 3
   },
   "file_extension": ".py",
   "mimetype": "text/x-python",
   "name": "python",
   "nbconvert_exporter": "python",
   "pygments_lexer": "ipython3",
   "version": "3.6.2"
  }
 },
 "nbformat": 4,
 "nbformat_minor": 2
}
