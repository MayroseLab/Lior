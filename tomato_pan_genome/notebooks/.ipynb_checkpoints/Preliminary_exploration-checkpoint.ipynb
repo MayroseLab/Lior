{
 "cells": [
  {
   "cell_type": "markdown",
   "metadata": {},
   "source": [
    "# Preliminary data exploration\n",
    "This notebook includes basic analyses of the data available from the publication:  \n",
    "Aflitos, Saulo, et al. \"Exploring genetic variation in the tomato (Solanum section Lycopersicon) clade by whole‐genome sequencing.\" The Plant Journal 80.1 (2014): 136-148.  \n",
    "http://onlinelibrary.wiley.com/doi/10.1111/tpj.12616/full  \n",
    "The data consists of 3 \"reference-level\" genome assemblies of wild relatives of tomato, and 84 resequenced lines of diverse tomatos and relatives.  \n",
    "Data was deposited in [ENA](https://www.ebi.ac.uk/ena) (project accession numbers given within the paper).  \n",
    "The main goal of this notebook is to explore the published data, extract some stats and get a feeling of the quality and what can be done with it."
   ]
  },
  {
   "cell_type": "code",
   "execution_count": 62,
   "metadata": {},
   "outputs": [],
   "source": [
    "DATA_PATH = \"../data/\"\n",
    "PY_PATH = \"../python/\"\n",
    "FIGS_PATH = \"../figs/\"\n",
    "OUT_PATH = \"../output/\"\n",
    "\n",
    "import sys\n",
    "sys.path.append('../')\n",
    "import get_genome_stats\n",
    "import pandas\n",
    "from IPython.display import display\n",
    "pandas.set_option('display.float_format', lambda x: \"{:,.2f}\".format(x) if int(x) != x else \"{:,.0f}\".format(x))"
   ]
  },
  {
   "cell_type": "markdown",
   "metadata": {},
   "source": [
    "## Get the genome assemblies\n",
    "3 assemblies for wild relatives need to be retrieved from ENA. Assemblies are given as contigs/scaffolds (same thing in this case), which are separated to different records in ENA. Download is performed through the ENA REST API, following the supplied [documentation](https://www.ebi.ac.uk/ena/browse/data-retrieval-rest)."
   ]
  },
  {
   "cell_type": "code",
   "execution_count": 34,
   "metadata": {
    "collapsed": true
   },
   "outputs": [],
   "source": [
    "ENA_base_url = \"http://www.ebi.ac.uk/ena/data/view/\"\n",
    "arcanum_range = \"CBYQ010000001-CBYQ010046594\"    # range of records of contigs"
   ]
  },
  {
   "cell_type": "code",
   "execution_count": 35,
   "metadata": {
    "collapsed": true
   },
   "outputs": [],
   "source": [
    "# download arcanum contigs\n",
    "arcanum_url = ENA_base_url + arcanum_range + \"&display=fasta\"\n",
    "arcanum_fasta_path = DATA_PATH + \"arcanum_contigs.fasta\"\n",
    "#download.file(arcanum_url, arcanum_fasta_path)"
   ]
  },
  {
   "cell_type": "code",
   "execution_count": 30,
   "metadata": {
    "collapsed": true
   },
   "outputs": [],
   "source": []
  },
  {
   "cell_type": "markdown",
   "metadata": {},
   "source": [
    "## Calculate basic assembly stats"
   ]
  },
  {
   "cell_type": "code",
   "execution_count": 39,
   "metadata": {},
   "outputs": [],
   "source": [
    "arcanum_genome_stats = get_genome_stats.get_stats(arcanum_fasta_path)"
   ]
  },
  {
   "cell_type": "code",
   "execution_count": 63,
   "metadata": {},
   "outputs": [
    {
     "data": {
      "text/html": [
       "<div>\n",
       "<style>\n",
       "    .dataframe thead tr:only-child th {\n",
       "        text-align: right;\n",
       "    }\n",
       "\n",
       "    .dataframe thead th {\n",
       "        text-align: left;\n",
       "    }\n",
       "\n",
       "    .dataframe tbody tr th {\n",
       "        vertical-align: top;\n",
       "    }\n",
       "</style>\n",
       "<table border=\"1\" class=\"dataframe\">\n",
       "  <thead>\n",
       "    <tr style=\"text-align: right;\">\n",
       "      <th></th>\n",
       "      <th>0</th>\n",
       "    </tr>\n",
       "  </thead>\n",
       "  <tbody>\n",
       "    <tr>\n",
       "      <th>Total length</th>\n",
       "      <td>665,186,956</td>\n",
       "    </tr>\n",
       "    <tr>\n",
       "      <th>Total scaffolds</th>\n",
       "      <td>46,594</td>\n",
       "    </tr>\n",
       "    <tr>\n",
       "      <th># of gaps</th>\n",
       "      <td>559,128</td>\n",
       "    </tr>\n",
       "    <tr>\n",
       "      <th>% gaps</th>\n",
       "      <td>0.08</td>\n",
       "    </tr>\n",
       "    <tr>\n",
       "      <th>N50</th>\n",
       "      <td>31,288</td>\n",
       "    </tr>\n",
       "    <tr>\n",
       "      <th>L50</th>\n",
       "      <td>5,928</td>\n",
       "    </tr>\n",
       "    <tr>\n",
       "      <th>N90</th>\n",
       "      <td>6,904</td>\n",
       "    </tr>\n",
       "    <tr>\n",
       "      <th>L90</th>\n",
       "      <td>22,922</td>\n",
       "    </tr>\n",
       "    <tr>\n",
       "      <th>Min scaffold length</th>\n",
       "      <td>266</td>\n",
       "    </tr>\n",
       "    <tr>\n",
       "      <th>Max scaffold length</th>\n",
       "      <td>392,206</td>\n",
       "    </tr>\n",
       "  </tbody>\n",
       "</table>\n",
       "</div>"
      ],
      "text/plain": [
       "                              0\n",
       "Total length        665,186,956\n",
       "Total scaffolds          46,594\n",
       "# of gaps               559,128\n",
       "% gaps                     0.08\n",
       "N50                      31,288\n",
       "L50                       5,928\n",
       "N90                       6,904\n",
       "L90                      22,922\n",
       "Min scaffold length         266\n",
       "Max scaffold length     392,206"
      ]
     },
     "metadata": {},
     "output_type": "display_data"
    }
   ],
   "source": [
    "display(pandas.DataFrame.from_dict(arcanum_genome_stats, orient='index'))"
   ]
  },
  {
   "cell_type": "code",
   "execution_count": null,
   "metadata": {
    "collapsed": true
   },
   "outputs": [],
   "source": []
  }
 ],
 "metadata": {
  "kernelspec": {
   "display_name": "Python 3",
   "language": "python",
   "name": "python3"
  },
  "language_info": {
   "codemirror_mode": {
    "name": "ipython",
    "version": 3
   },
   "file_extension": ".py",
   "mimetype": "text/x-python",
   "name": "python",
   "nbconvert_exporter": "python",
   "pygments_lexer": "ipython3",
   "version": "3.6.2"
  }
 },
 "nbformat": 4,
 "nbformat_minor": 2
}
