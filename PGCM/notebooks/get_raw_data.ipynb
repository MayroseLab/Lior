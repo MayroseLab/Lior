{
 "cells": [
  {
   "cell_type": "markdown",
   "metadata": {},
   "source": [
    "# Get raw data\n",
    "This notebook contains commands for obtaining and preparing raw data towards creation of the A. thaliana 8-ecotypes pan-genome."
   ]
  },
  {
   "cell_type": "code",
   "execution_count": 1,
   "metadata": {},
   "outputs": [],
   "source": [
    "from Bio import SeqIO\n",
    "from Bio.Seq import Seq\n",
    "from Bio.SeqRecord import SeqRecord\n",
    "import re"
   ]
  },
  {
   "cell_type": "markdown",
   "metadata": {},
   "source": [
    "## WGS data\n",
    "Get raw fastQ files from WGS of the 7 accessions."
   ]
  },
  {
   "cell_type": "code",
   "execution_count": 23,
   "metadata": {},
   "outputs": [],
   "source": [
    "run_ids = {\"Eri\": \"ERR3624573\",\n",
    "          \"Kyo\": \"ERR3624576\",\n",
    "          \"Cvi-0\": \"ERR3624578\",\n",
    "          \"Ler\": \"ERR3624574\",\n",
    "          \"Sha\": \"ERR3624575\",\n",
    "          \"C24\": \"ERR3624577\",\n",
    "          \"An-1\": \"ERR3624579\"}"
   ]
  },
  {
   "cell_type": "code",
   "execution_count": 2,
   "metadata": {},
   "outputs": [],
   "source": [
    "ena_fast_script = \"~/ena-fast-download.py\"\n",
    "download_dest = \"../data/raw_fastq\""
   ]
  },
  {
   "cell_type": "code",
   "execution_count": 3,
   "metadata": {},
   "outputs": [],
   "source": [
    "! mkdir -p $download_dest"
   ]
  },
  {
   "cell_type": "code",
   "execution_count": 9,
   "metadata": {},
   "outputs": [
    {
     "name": "stdout",
     "output_type": "stream",
     "text": [
      "mkdir: cannot create directory ‘../data/raw_fastq/Eri’: File exists\n",
      "10/18/2020 06:29:09 PM INFO: Using aspera ssh key file: $HOME/.aspera/connect/etc/asperaweb_id_dsa.openssh\n",
      "10/18/2020 06:29:09 PM INFO: Querying ENA for FTP paths for ERR3624573..\n",
      "10/18/2020 06:29:11 PM INFO: Downloading 2 FTP read set(s): ftp.sra.ebi.ac.uk/vol1/fastq/ERR362/003/ERR3624573/ERR3624573_1.fastq.gz, ftp.sra.ebi.ac.uk/vol1/fastq/ERR362/003/ERR3624573/ERR3624573_2.fastq.gz\n",
      "10/18/2020 06:29:11 PM INFO: Running command: ascp -T -l 300m -P33001  -i $HOME/.aspera/connect/etc/asperaweb_id_dsa.openssh era-fasp@fasp.sra.ebi.ac.uk:/vol1/fastq/ERR362/003/ERR3624573/ERR3624573_1.fastq.gz ../data/raw_fastq/Eri\n",
      "ERR3624573_1.fastq.gz                         100% 3269MB  128Mb/s    03:04    \n",
      "Completed: 3348404K bytes transferred in 184 seconds\n",
      " (148783K bits/sec), in 1 file.\n",
      "10/18/2020 06:32:24 PM INFO: Running command: ascp -T -l 300m -P33001  -i $HOME/.aspera/connect/etc/asperaweb_id_dsa.openssh era-fasp@fasp.sra.ebi.ac.uk:/vol1/fastq/ERR362/003/ERR3624573/ERR3624573_2.fastq.gz ../data/raw_fastq/Eri\n",
      "ERR3624573_2.fastq.gz                         100% 3058MB  288Mb/s    02:50    \n",
      "Completed: 3131810K bytes transferred in 170 seconds\n",
      " (150127K bits/sec), in 1 file.\n",
      "10/18/2020 06:35:25 PM INFO: All done.\n",
      "mkdir: cannot create directory ‘../data/raw_fastq/Kyo’: File exists\n",
      "10/18/2020 06:35:26 PM INFO: Using aspera ssh key file: $HOME/.aspera/connect/etc/asperaweb_id_dsa.openssh\n",
      "10/18/2020 06:35:26 PM INFO: Querying ENA for FTP paths for ERR3624576..\n",
      "10/18/2020 06:35:28 PM INFO: Downloading 2 FTP read set(s): ftp.sra.ebi.ac.uk/vol1/fastq/ERR362/006/ERR3624576/ERR3624576_1.fastq.gz, ftp.sra.ebi.ac.uk/vol1/fastq/ERR362/006/ERR3624576/ERR3624576_2.fastq.gz\n",
      "10/18/2020 06:35:28 PM INFO: Running command: ascp -T -l 300m -P33001  -i $HOME/.aspera/connect/etc/asperaweb_id_dsa.openssh era-fasp@fasp.sra.ebi.ac.uk:/vol1/fastq/ERR362/006/ERR3624576/ERR3624576_1.fastq.gz ../data/raw_fastq/Kyo\n",
      "Traceback (most recent call last):\n",
      "  File \"/groups/itay_mayrose/liorglic/ena-fast-download.py\", line 115, in <module>\n",
      "    subprocess.check_call(cmd,shell=True)\n",
      "  File \"/groups/itay_mayrose/liorglic/miniconda3/envs/jupyterlab/lib/python3.7/subprocess.py\", line 363, in check_call\n",
      "    raise CalledProcessError(retcode, cmd)\n",
      "subprocess.CalledProcessError: Command 'ascp -T -l 300m -P33001  -i $HOME/.aspera/connect/etc/asperaweb_id_dsa.openssh era-fasp@fasp.sra.ebi.ac.uk:/vol1/fastq/ERR362/006/ERR3624576/ERR3624576_1.fastq.gz ../data/raw_fastq/Kyo' returned non-zero exit status 1.\n",
      "mkdir: cannot create directory ‘../data/raw_fastq/Cvi-0’: File exists\n",
      "10/18/2020 06:35:28 PM INFO: Using aspera ssh key file: $HOME/.aspera/connect/etc/asperaweb_id_dsa.openssh\n",
      "10/18/2020 06:35:28 PM INFO: Querying ENA for FTP paths for ERR3624578..\n",
      "10/18/2020 06:35:30 PM INFO: Downloading 2 FTP read set(s): ftp.sra.ebi.ac.uk/vol1/fastq/ERR362/008/ERR3624578/ERR3624578_1.fastq.gz, ftp.sra.ebi.ac.uk/vol1/fastq/ERR362/008/ERR3624578/ERR3624578_2.fastq.gz\n",
      "10/18/2020 06:35:30 PM INFO: Running command: ascp -T -l 300m -P33001  -i $HOME/.aspera/connect/etc/asperaweb_id_dsa.openssh era-fasp@fasp.sra.ebi.ac.uk:/vol1/fastq/ERR362/008/ERR3624578/ERR3624578_1.fastq.gz ../data/raw_fastq/Cvi-0\n",
      "ERR3624578_1.fastq.gz                         100% 4701MB  285Mb/s    04:37    \n",
      "Completed: 4814164K bytes transferred in 277 seconds\n",
      " (142122K bits/sec), in 1 file.\n",
      "10/18/2020 06:40:12 PM INFO: Running command: ascp -T -l 300m -P33001  -i $HOME/.aspera/connect/etc/asperaweb_id_dsa.openssh era-fasp@fasp.sra.ebi.ac.uk:/vol1/fastq/ERR362/008/ERR3624578/ERR3624578_2.fastq.gz ../data/raw_fastq/Cvi-0\n",
      "ERR3624578_2.fastq.gz                         100% 4445MB  288Mb/s    04:25    \n",
      "Completed: 4552316K bytes transferred in 265 seconds\n",
      " (140517K bits/sec), in 1 file.\n",
      "10/18/2020 06:44:46 PM INFO: All done.\n",
      "mkdir: cannot create directory ‘../data/raw_fastq/Ler’: File exists\n",
      "10/18/2020 06:44:48 PM INFO: Using aspera ssh key file: $HOME/.aspera/connect/etc/asperaweb_id_dsa.openssh\n",
      "10/18/2020 06:44:48 PM INFO: Querying ENA for FTP paths for ERR3624574..\n",
      "10/18/2020 06:44:50 PM INFO: Downloading 2 FTP read set(s): ftp.sra.ebi.ac.uk/vol1/fastq/ERR362/004/ERR3624574/ERR3624574_1.fastq.gz, ftp.sra.ebi.ac.uk/vol1/fastq/ERR362/004/ERR3624574/ERR3624574_2.fastq.gz\n",
      "10/18/2020 06:44:50 PM INFO: Running command: ascp -T -l 300m -P33001  -i $HOME/.aspera/connect/etc/asperaweb_id_dsa.openssh era-fasp@fasp.sra.ebi.ac.uk:/vol1/fastq/ERR362/004/ERR3624574/ERR3624574_1.fastq.gz ../data/raw_fastq/Ler\n",
      "ERR3624574_1.fastq.gz                         100% 4172MB  241Mb/s    04:23    \n",
      "Completed: 4272514K bytes transferred in 263 seconds\n",
      " (132752K bits/sec), in 1 file.\n",
      "10/18/2020 06:49:20 PM INFO: Running command: ascp -T -l 300m -P33001  -i $HOME/.aspera/connect/etc/asperaweb_id_dsa.openssh era-fasp@fasp.sra.ebi.ac.uk:/vol1/fastq/ERR362/004/ERR3624574/ERR3624574_2.fastq.gz ../data/raw_fastq/Ler\n",
      "ERR3624574_2.fastq.gz                         100% 3884MB  290Mb/s    03:51    \n",
      "Completed: 3977442K bytes transferred in 231 seconds\n",
      " (140958K bits/sec), in 1 file.\n",
      "10/18/2020 06:53:24 PM INFO: All done.\n",
      "mkdir: cannot create directory ‘../data/raw_fastq/Sha’: File exists\n",
      "10/18/2020 06:53:25 PM INFO: Using aspera ssh key file: $HOME/.aspera/connect/etc/asperaweb_id_dsa.openssh\n",
      "10/18/2020 06:53:25 PM INFO: Querying ENA for FTP paths for ERR3624575..\n",
      "10/18/2020 06:53:26 PM INFO: Downloading 2 FTP read set(s): ftp.sra.ebi.ac.uk/vol1/fastq/ERR362/005/ERR3624575/ERR3624575_1.fastq.gz, ftp.sra.ebi.ac.uk/vol1/fastq/ERR362/005/ERR3624575/ERR3624575_2.fastq.gz\n",
      "10/18/2020 06:53:26 PM INFO: Running command: ascp -T -l 300m -P33001  -i $HOME/.aspera/connect/etc/asperaweb_id_dsa.openssh era-fasp@fasp.sra.ebi.ac.uk:/vol1/fastq/ERR362/005/ERR3624575/ERR3624575_1.fastq.gz ../data/raw_fastq/Sha\n",
      "ERR3624575_1.fastq.gz                         100% 4355MB  257Mb/s    04:41    \n",
      "Completed: 4460498K bytes transferred in 281 seconds\n",
      " (129842K bits/sec), in 1 file.\n",
      "10/18/2020 06:58:18 PM INFO: Running command: ascp -T -l 300m -P33001  -i $HOME/.aspera/connect/etc/asperaweb_id_dsa.openssh era-fasp@fasp.sra.ebi.ac.uk:/vol1/fastq/ERR362/005/ERR3624575/ERR3624575_2.fastq.gz ../data/raw_fastq/Sha\n",
      "ERR3624575_2.fastq.gz                         100% 4131MB  285Mb/s    03:30    \n",
      "Completed: 4230418K bytes transferred in 210 seconds\n",
      " (164491K bits/sec), in 1 file.\n",
      "10/18/2020 07:02:01 PM INFO: All done.\n",
      "mkdir: cannot create directory ‘../data/raw_fastq/C24’: File exists\n",
      "10/18/2020 07:02:02 PM INFO: Using aspera ssh key file: $HOME/.aspera/connect/etc/asperaweb_id_dsa.openssh\n",
      "10/18/2020 07:02:02 PM INFO: Querying ENA for FTP paths for ERR3624577..\n",
      "10/18/2020 07:02:09 PM INFO: Downloading 2 FTP read set(s): ftp.sra.ebi.ac.uk/vol1/fastq/ERR362/007/ERR3624577/ERR3624577_1.fastq.gz, ftp.sra.ebi.ac.uk/vol1/fastq/ERR362/007/ERR3624577/ERR3624577_2.fastq.gz\n",
      "10/18/2020 07:02:09 PM INFO: Running command: ascp -T -l 300m -P33001  -i $HOME/.aspera/connect/etc/asperaweb_id_dsa.openssh era-fasp@fasp.sra.ebi.ac.uk:/vol1/fastq/ERR362/007/ERR3624577/ERR3624577_1.fastq.gz ../data/raw_fastq/C24\n",
      "ERR3624577_1.fastq.gz                         100% 3226MB  206Mb/s    03:57    \n",
      "Completed: 3303862K bytes transferred in 237 seconds\n",
      " (113741K bits/sec), in 1 file.\n",
      "10/18/2020 07:06:17 PM INFO: Running command: ascp -T -l 300m -P33001  -i $HOME/.aspera/connect/etc/asperaweb_id_dsa.openssh era-fasp@fasp.sra.ebi.ac.uk:/vol1/fastq/ERR362/007/ERR3624577/ERR3624577_2.fastq.gz ../data/raw_fastq/C24\n",
      "ERR3624577_2.fastq.gz                         100% 3073MB  269Mb/s    03:05    \n",
      "Completed: 3147341K bytes transferred in 185 seconds\n",
      " (139049K bits/sec), in 1 file.\n",
      "10/18/2020 07:09:30 PM INFO: All done.\n",
      "mkdir: cannot create directory ‘../data/raw_fastq/An-1’: File exists\n",
      "10/18/2020 07:09:31 PM INFO: Using aspera ssh key file: $HOME/.aspera/connect/etc/asperaweb_id_dsa.openssh\n",
      "10/18/2020 07:09:31 PM INFO: Querying ENA for FTP paths for ERR3624579..\n",
      "10/18/2020 07:09:32 PM INFO: Downloading 2 FTP read set(s): ftp.sra.ebi.ac.uk/vol1/fastq/ERR362/009/ERR3624579/ERR3624579_1.fastq.gz, ftp.sra.ebi.ac.uk/vol1/fastq/ERR362/009/ERR3624579/ERR3624579_2.fastq.gz\n",
      "10/18/2020 07:09:32 PM INFO: Running command: ascp -T -l 300m -P33001  -i $HOME/.aspera/connect/etc/asperaweb_id_dsa.openssh era-fasp@fasp.sra.ebi.ac.uk:/vol1/fastq/ERR362/009/ERR3624579/ERR3624579_1.fastq.gz ../data/raw_fastq/An-1\n"
     ]
    },
    {
     "name": "stdout",
     "output_type": "stream",
     "text": [
      "ERR3624579_1.fastq.gz                         100% 4459MB  213Mb/s    04:16    \n",
      "Completed: 4566127K bytes transferred in 256 seconds\n",
      " (145761K bits/sec), in 1 file.\n",
      "10/18/2020 07:14:02 PM INFO: Running command: ascp -T -l 300m -P33001  -i $HOME/.aspera/connect/etc/asperaweb_id_dsa.openssh era-fasp@fasp.sra.ebi.ac.uk:/vol1/fastq/ERR362/009/ERR3624579/ERR3624579_2.fastq.gz ../data/raw_fastq/An-1\n",
      "ERR3624579_2.fastq.gz                         100% 4207MB  288Mb/s    03:59    \n",
      "Completed: 4308500K bytes transferred in 239 seconds\n",
      " (147471K bits/sec), in 1 file.\n",
      "10/18/2020 07:18:18 PM INFO: All done.\n"
     ]
    }
   ],
   "source": [
    "for ecotype in run_ids:\n",
    "    eco_dir = \"%s/%s\" %(download_dest, ecotype)\n",
    "    run_id = run_ids[ecotype]\n",
    "    ! mkdir $eco_dir\n",
    "    ! python $ena_fast_script $run_id --output_directory $eco_dir"
   ]
  },
  {
   "cell_type": "markdown",
   "metadata": {},
   "source": [
    "## Transcriptome data\n",
    "Transcripts will be used as annotation evidence. We'll use two different transcript sets:\n",
    "1. General - transcripts from 17 accessions (not overlapping with the 7 accessions) from the [\"WTCHGMott2011\" project ](http://mtweb.cs.ucl.ac.uk/mus/www/19genomes/index.html).\n",
    "2. Per-sample - transcripts for each of the 7 accessions from the MPIPZ project"
   ]
  },
  {
   "cell_type": "markdown",
   "metadata": {},
   "source": [
    "### General transcripts"
   ]
  },
  {
   "cell_type": "code",
   "execution_count": 1,
   "metadata": {},
   "outputs": [],
   "source": [
    "general_transcripts_data_dir = \"../data/transcripts/general\""
   ]
  },
  {
   "cell_type": "code",
   "execution_count": 2,
   "metadata": {},
   "outputs": [],
   "source": [
    "! mkdir -p $general_transcripts_data_dir"
   ]
  },
  {
   "cell_type": "code",
   "execution_count": 3,
   "metadata": {},
   "outputs": [],
   "source": [
    "general_transcripts_acc = [\"Bur_0\", \"Can_0\", \"Ct_1\", \"Edi_0\", \"Hi_0\", \"Kn_0\",\n",
    "                           \"Mt_0\", \"No_0\", \"Oy_0\", \"Po_0\", \"Rsch_4\", \"Sf_2\",\n",
    "                           \"Tsu_0\", \"Wil_2\", \"Ws_0\", \"Wu_0\", \"Zu_0\"]"
   ]
  },
  {
   "cell_type": "code",
   "execution_count": 7,
   "metadata": {},
   "outputs": [],
   "source": [
    "for acc in general_transcripts_acc:\n",
    "    url = \"http://mtweb.cs.ucl.ac.uk/mus/www/19genomes/sequences/RNA/RNA_sequences.%s.fasta.bz2\" % acc\n",
    "    ! wget $url -P $general_transcripts_data_dir\n",
    "    f = \"%s/RNA_sequences.%s.fasta.bz2\" %(general_transcripts_data_dir, acc)\n",
    "    ! bzip2 -d $f"
   ]
  },
  {
   "cell_type": "code",
   "execution_count": 12,
   "metadata": {},
   "outputs": [
    {
     "name": "stdout",
     "output_type": "stream",
     "text": [
      "Bur_0\n",
      "Transcripts: 41306\tNew: 40777\n",
      "Can_0\n",
      "Transcripts: 41097\tNew: 35463\n",
      "Ct_1\n",
      "Transcripts: 41341\tNew: 32276\n",
      "Edi_0\n",
      "Transcripts: 41332\tNew: 27962\n",
      "Hi_0\n",
      "Transcripts: 41428\tNew: 28848\n",
      "Kn_0\n",
      "Transcripts: 41275\tNew: 26710\n",
      "Mt_0\n",
      "Transcripts: 41281\tNew: 23805\n",
      "No_0\n",
      "Transcripts: 41206\tNew: 21437\n",
      "Oy_0\n",
      "Transcripts: 41238\tNew: 20440\n",
      "Po_0\n",
      "Transcripts: 41399\tNew: 23400\n",
      "Rsch_4\n",
      "Transcripts: 41211\tNew: 18122\n",
      "Sf_2\n",
      "Transcripts: 41173\tNew: 23433\n",
      "Tsu_0\n",
      "Transcripts: 41267\tNew: 17658\n",
      "Wil_2\n",
      "Transcripts: 41171\tNew: 18221\n",
      "Ws_0\n",
      "Transcripts: 41146\tNew: 17700\n",
      "Wu_0\n",
      "Transcripts: 41306\tNew: 15549\n",
      "Zu_0\n",
      "Transcripts: 41379\tNew: 17226\n"
     ]
    }
   ],
   "source": [
    "# go over all transcripts and remove duplicate sequences\n",
    "out_records = {}\n",
    "for acc in general_transcripts_acc:\n",
    "    print(acc)\n",
    "    fasta = \"%s/RNA_sequences.%s.fasta\" %(general_transcripts_data_dir, acc)\n",
    "    tot = 0\n",
    "    uniq = 0\n",
    "    for rec in SeqIO.parse(fasta, 'fasta'):\n",
    "        tot += 1\n",
    "        if rec.seq not in out_records:\n",
    "            out_records[rec.seq] = rec\n",
    "            uniq += 1\n",
    "    print(\"Transcripts: %s\\tNew: %s\" %(tot,uniq))"
   ]
  },
  {
   "cell_type": "code",
   "execution_count": 14,
   "metadata": {},
   "outputs": [
    {
     "data": {
      "text/plain": [
       "409027"
      ]
     },
     "execution_count": 14,
     "metadata": {},
     "output_type": "execute_result"
    }
   ],
   "source": [
    "general_transcripts_all = \"%s/unique_trans.fasta\" % general_transcripts_data_dir\n",
    "SeqIO.write(out_records.values(), general_transcripts_all, 'fasta')"
   ]
  },
  {
   "cell_type": "code",
   "execution_count": 15,
   "metadata": {},
   "outputs": [],
   "source": [
    "del out_records"
   ]
  },
  {
   "cell_type": "markdown",
   "metadata": {},
   "source": [
    "## Reference data\n",
    "Get A. thaliana ref data - TAIR10 assembly and Araport11 annotation (from Ensemble plants)."
   ]
  },
  {
   "cell_type": "code",
   "execution_count": 2,
   "metadata": {},
   "outputs": [],
   "source": [
    "ref_dir = \"../data/A_thaliana_ref\"\n",
    "! mkdir $ref_dir"
   ]
  },
  {
   "cell_type": "code",
   "execution_count": 18,
   "metadata": {},
   "outputs": [],
   "source": [
    "# genome\n",
    "! wget ftp://ftp.ensemblgenomes.org/pub/plants/release-48/fasta/arabidopsis_thaliana/dna/Arabidopsis_thaliana.TAIR10.dna.toplevel.fa.gz -P $ref_dir\n",
    "! pigz -d \"$ref_dir/Arabidopsis_thaliana.TAIR10.dna.toplevel.fa.gz\""
   ]
  },
  {
   "cell_type": "code",
   "execution_count": 19,
   "metadata": {},
   "outputs": [
    {
     "name": "stdout",
     "output_type": "stream",
     "text": [
      "--2020-10-21 15:36:04--  ftp://ftp.ensemblgenomes.org/pub/plants/release-48/fasta/arabidopsis_thaliana/cdna/Arabidopsis_thaliana.TAIR10.cdna.all.fa.gz\n",
      "           => ‘../data/A_thaliana_ref/Arabidopsis_thaliana.TAIR10.cdna.all.fa.gz’\n",
      "Resolving ftp.ensemblgenomes.org (ftp.ensemblgenomes.org)... 193.62.197.75\n",
      "Connecting to ftp.ensemblgenomes.org (ftp.ensemblgenomes.org)|193.62.197.75|:21... connected.\n",
      "Logging in as anonymous ... Logged in!\n",
      "==> SYST ... done.    ==> PWD ... done.\n",
      "==> TYPE I ... done.  ==> CWD (1) /pub/plants/release-48/fasta/arabidopsis_thaliana/cdna ... done.\n",
      "==> SIZE Arabidopsis_thaliana.TAIR10.cdna.all.fa.gz ... 21129666\n",
      "==> PASV ... done.    ==> RETR Arabidopsis_thaliana.TAIR10.cdna.all.fa.gz ... done.\n",
      "Length: 21129666 (20M) (unauthoritative)\n",
      "\n",
      "100%[======================================>] 21,129,666  5.91MB/s   in 3.6s   \n",
      "\n",
      "2020-10-21 15:36:09 (5.62 MB/s) - ‘../data/A_thaliana_ref/Arabidopsis_thaliana.TAIR10.cdna.all.fa.gz’ saved [21129666]\n",
      "\n"
     ]
    }
   ],
   "source": [
    "# transcripts\n",
    "! wget ftp://ftp.ensemblgenomes.org/pub/plants/release-48/fasta/arabidopsis_thaliana/cdna/Arabidopsis_thaliana.TAIR10.cdna.all.fa.gz -P $ref_dir\n",
    "! pigz -d \"$ref_dir/Arabidopsis_thaliana.TAIR10.cdna.all.fa.gz\"    "
   ]
  },
  {
   "cell_type": "code",
   "execution_count": 20,
   "metadata": {},
   "outputs": [
    {
     "name": "stdout",
     "output_type": "stream",
     "text": [
      "--2020-10-21 15:37:34--  ftp://ftp.ensemblgenomes.org/pub/plants/release-48/fasta/arabidopsis_thaliana/pep/Arabidopsis_thaliana.TAIR10.pep.all.fa.gz\n",
      "           => ‘../data/A_thaliana_ref/Arabidopsis_thaliana.TAIR10.pep.all.fa.gz’\n",
      "Resolving ftp.ensemblgenomes.org (ftp.ensemblgenomes.org)... 193.62.197.75\n",
      "Connecting to ftp.ensemblgenomes.org (ftp.ensemblgenomes.org)|193.62.197.75|:21... connected.\n",
      "Logging in as anonymous ... Logged in!\n",
      "==> SYST ... done.    ==> PWD ... done.\n",
      "==> TYPE I ... done.  ==> CWD (1) /pub/plants/release-48/fasta/arabidopsis_thaliana/pep ... done.\n",
      "==> SIZE Arabidopsis_thaliana.TAIR10.pep.all.fa.gz ... 9690822\n",
      "==> PASV ... done.    ==> RETR Arabidopsis_thaliana.TAIR10.pep.all.fa.gz ... done.\n",
      "Length: 9690822 (9.2M) (unauthoritative)\n",
      "\n",
      "100%[======================================>] 9,690,822   5.24MB/s   in 1.8s   \n",
      "\n",
      "2020-10-21 15:37:37 (5.24 MB/s) - ‘../data/A_thaliana_ref/Arabidopsis_thaliana.TAIR10.pep.all.fa.gz’ saved [9690822]\n",
      "\n"
     ]
    }
   ],
   "source": [
    "# proteins\n",
    "! wget ftp://ftp.ensemblgenomes.org/pub/plants/release-48/fasta/arabidopsis_thaliana/pep/Arabidopsis_thaliana.TAIR10.pep.all.fa.gz -P $ref_dir\n",
    "! pigz -d \"$ref_dir/Arabidopsis_thaliana.TAIR10.pep.all.fa.gz\""
   ]
  },
  {
   "cell_type": "code",
   "execution_count": 21,
   "metadata": {},
   "outputs": [
    {
     "name": "stdout",
     "output_type": "stream",
     "text": [
      "--2020-10-21 15:40:12--  ftp://ftp.ensemblgenomes.org/pub/plants/release-48/gff3/arabidopsis_thaliana/Arabidopsis_thaliana.TAIR10.48.gff3.gz\n",
      "           => ‘../data/A_thaliana_ref/Arabidopsis_thaliana.TAIR10.48.gff3.gz’\n",
      "Resolving ftp.ensemblgenomes.org (ftp.ensemblgenomes.org)... 193.62.197.75\n",
      "Connecting to ftp.ensemblgenomes.org (ftp.ensemblgenomes.org)|193.62.197.75|:21... connected.\n",
      "Logging in as anonymous ... Logged in!\n",
      "==> SYST ... done.    ==> PWD ... done.\n",
      "==> TYPE I ... done.  ==> CWD (1) /pub/plants/release-48/gff3/arabidopsis_thaliana ... done.\n",
      "==> SIZE Arabidopsis_thaliana.TAIR10.48.gff3.gz ... 9516561\n",
      "==> PASV ... done.    ==> RETR Arabidopsis_thaliana.TAIR10.48.gff3.gz ... done.\n",
      "Length: 9516561 (9.1M) (unauthoritative)\n",
      "\n",
      "100%[======================================>] 9,516,561   5.34MB/s   in 1.7s   \n",
      "\n",
      "2020-10-21 15:40:16 (5.34 MB/s) - ‘../data/A_thaliana_ref/Arabidopsis_thaliana.TAIR10.48.gff3.gz’ saved [9516561]\n",
      "\n"
     ]
    }
   ],
   "source": [
    "# annotation\n",
    "! wget ftp://ftp.ensemblgenomes.org/pub/plants/release-48/gff3/arabidopsis_thaliana/Arabidopsis_thaliana.TAIR10.48.gff3.gz -P $ref_dir\n",
    "! pigz -d \"$ref_dir/Arabidopsis_thaliana.TAIR10.48.gff3.gz\"    "
   ]
  },
  {
   "cell_type": "code",
   "execution_count": 3,
   "metadata": {},
   "outputs": [],
   "source": [
    "# rename transcripts and proteins to match mRNA IDs in GFF3\n",
    "! sed -i 's/>\\([^ ]*\\) .*/>transcript:\\1/' $ref_dir/Arabidopsis_thaliana.TAIR10.pep.all.fa\n",
    "! sed -i 's/>\\([^ ]*\\) .*/>transcript:\\1/' $ref_dir/Arabidopsis_thaliana.TAIR10.cdna.all.fa"
   ]
  },
  {
   "cell_type": "markdown",
   "metadata": {},
   "source": [
    "### Repeats library\n",
    "A repeats library is required for masking during annotation. I create the repeats library by downloading a soft-masked version of the genome and extracting lowercase sequences."
   ]
  },
  {
   "cell_type": "code",
   "execution_count": 3,
   "metadata": {},
   "outputs": [
    {
     "name": "stdout",
     "output_type": "stream",
     "text": [
      "--2020-10-22 15:09:26--  ftp://ftp.ensemblgenomes.org/pub/plants/release-48/fasta/arabidopsis_thaliana/dna/Arabidopsis_thaliana.TAIR10.dna_sm.toplevel.fa.gz\n",
      "           => ‘../data/A_thaliana_ref/Arabidopsis_thaliana.TAIR10.dna_sm.toplevel.fa.gz’\n",
      "Resolving ftp.ensemblgenomes.org (ftp.ensemblgenomes.org)... 193.62.197.75\n",
      "Connecting to ftp.ensemblgenomes.org (ftp.ensemblgenomes.org)|193.62.197.75|:21... connected.\n",
      "Logging in as anonymous ... Logged in!\n",
      "==> SYST ... done.    ==> PWD ... done.\n",
      "==> TYPE I ... done.  ==> CWD (1) /pub/plants/release-48/fasta/arabidopsis_thaliana/dna ... done.\n",
      "==> SIZE Arabidopsis_thaliana.TAIR10.dna_sm.toplevel.fa.gz ... 38108027\n",
      "==> PASV ... done.    ==> RETR Arabidopsis_thaliana.TAIR10.dna_sm.toplevel.fa.gz ... done.\n",
      "Length: 38108027 (36M) (unauthoritative)\n",
      "\n",
      "100%[======================================>] 38,108,027   587KB/s   in 47s    \n",
      "\n",
      "2020-10-22 15:10:14 (794 KB/s) - ‘../data/A_thaliana_ref/Arabidopsis_thaliana.TAIR10.dna_sm.toplevel.fa.gz’ saved [38108027]\n",
      "\n"
     ]
    }
   ],
   "source": [
    "! wget ftp://ftp.ensemblgenomes.org/pub/plants/release-48/fasta/arabidopsis_thaliana/dna/Arabidopsis_thaliana.TAIR10.dna_sm.toplevel.fa.gz -P $ref_dir"
   ]
  },
  {
   "cell_type": "code",
   "execution_count": 4,
   "metadata": {},
   "outputs": [],
   "source": [
    "! pigz -d $ref_dir/Arabidopsis_thaliana.TAIR10.dna_sm.toplevel.fa.gz"
   ]
  },
  {
   "cell_type": "code",
   "execution_count": 10,
   "metadata": {},
   "outputs": [
    {
     "data": {
      "text/plain": [
       "95671"
      ]
     },
     "execution_count": 10,
     "metadata": {},
     "output_type": "execute_result"
    }
   ],
   "source": [
    "sm_chr = \"%s/Arabidopsis_thaliana.TAIR10.dna_sm.toplevel.fa\" % ref_dir\n",
    "rep_records = {}\n",
    "rep_regex = re.compile(r'[atgcn]+')\n",
    "for chrom in SeqIO.parse(sm_chr, 'fasta'):\n",
    "    reps = rep_regex.finditer(str(chrom.seq))\n",
    "    for rep in reps:\n",
    "        rep_seq = rep.group()\n",
    "        if rep_seq in rep_records:\n",
    "            continue\n",
    "        rep_start = rep.start()\n",
    "        rep_end = rep.end()\n",
    "        rep_record = SeqRecord(Seq(rep_seq), id=\"%s_%s_%s\" %(chrom.id, rep_start, rep_end), description=\"\")\n",
    "        rep_records[rep_seq] = rep_record\n",
    "        \n",
    "repeats_lib = \"%s/Arabidopsis_thaliana.TAIR10.repeats_lib.fa\" % ref_dir\n",
    "SeqIO.write(rep_records.values(), repeats_lib, 'fasta')"
   ]
  },
  {
   "cell_type": "code",
   "execution_count": null,
   "metadata": {},
   "outputs": [],
   "source": []
  }
 ],
 "metadata": {
  "kernelspec": {
   "display_name": "Python 3",
   "language": "python",
   "name": "python3"
  },
  "language_info": {
   "codemirror_mode": {
    "name": "ipython",
    "version": 3
   },
   "file_extension": ".py",
   "mimetype": "text/x-python",
   "name": "python",
   "nbconvert_exporter": "python",
   "pygments_lexer": "ipython3",
   "version": "3.8.6"
  }
 },
 "nbformat": 4,
 "nbformat_minor": 4
}
