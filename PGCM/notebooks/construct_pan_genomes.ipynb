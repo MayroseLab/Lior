{
 "cells": [
  {
   "cell_type": "markdown",
   "metadata": {},
   "source": [
    "# Construct pan-genomes\n",
    "This notebook contains commands for constructing the various pan-genomes."
   ]
  },
  {
   "cell_type": "code",
   "execution_count": 1,
   "metadata": {},
   "outputs": [],
   "source": [
    "raw_reads_dir = \"../data/raw_fastq\""
   ]
  },
  {
   "cell_type": "code",
   "execution_count": 2,
   "metadata": {},
   "outputs": [],
   "source": [
    "run_ids = {\"Eri\": \"ERR3624573\",\n",
    "          \"Kyo\": \"ERR3624576\",\n",
    "          \"Cvi-0\": \"ERR3624578\",\n",
    "          \"Ler\": \"ERR3624574\",\n",
    "          \"Sha\": \"ERR3624575\",\n",
    "          \"C24\": \"ERR3624577\",\n",
    "          \"An-1\": \"ERR3624579\"}"
   ]
  },
  {
   "cell_type": "code",
   "execution_count": 3,
   "metadata": {},
   "outputs": [],
   "source": [
    "read_len = 101\n",
    "genome_size = 120000000\n",
    "def reads_for_cov(cov):\n",
    "    \"\"\"\n",
    "    How many read pairs are needed to get a coverage of X\n",
    "    \"\"\"\n",
    "    return int(cov*genome_size/(read_len*2))"
   ]
  },
  {
   "cell_type": "markdown",
   "metadata": {},
   "source": [
    "## x50\n",
    "This is the basic pan-genome of 7 A. thaliana ecotypes + reference - all LQ samples with x50 sequencing depth."
   ]
  },
  {
   "cell_type": "code",
   "execution_count": 4,
   "metadata": {},
   "outputs": [
    {
     "name": "stdout",
     "output_type": "stream",
     "text": [
      "Eri\n",
      "Kyo\n",
      "Cvi-0\n",
      "Ler\n",
      "Sha\n",
      "C24\n",
      "An-1\n"
     ]
    }
   ],
   "source": [
    "k = reads_for_cov(50)\n",
    "x50_dir = \"../output/A_thaliana_pan_genome/de_novo/x50/RESULT/per_sample\"\n",
    "seed = 100\n",
    "for ecotype, run_id in run_ids.items():\n",
    "    print(ecotype)\n",
    "    out_dir = \"%s/%s/data\" %(x50_dir, ecotype)\n",
    "    ! mkdir -p $out_dir\n",
    "    in_fastq1 = \"../data/raw_fastq/%s/%s_1.fastq.gz\" %(ecotype, run_id)\n",
    "    in_fastq2 = \"../data/raw_fastq/%s/%s_2.fastq.gz\" %(ecotype, run_id)\n",
    "    out_fastq1 = \"%s/%s_1.fastq\" %(out_dir,run_id)\n",
    "    out_fastq2 = \"%s/%s_2.fastq\" %(out_dir,run_id)\n",
    "    ! seqtk  sample -s$seed $in_fastq1 $k > $out_fastq1\n",
    "    ! gzip $out_fastq1\n",
    "    ! seqtk sample -s$seed $in_fastq2 $k > $out_fastq2\n",
    "    ! gzip $out_fastq2"
   ]
  },
  {
   "cell_type": "markdown",
   "metadata": {},
   "source": [
    "## x10\n",
    "Same as x50 set except for the sequencing depth"
   ]
  },
  {
   "cell_type": "code",
   "execution_count": 4,
   "metadata": {},
   "outputs": [
    {
     "name": "stdout",
     "output_type": "stream",
     "text": [
      "Eri\n",
      "Kyo\n",
      "Cvi-0\n",
      "Ler\n",
      "Sha\n",
      "C24\n",
      "An-1\n"
     ]
    }
   ],
   "source": [
    "k = reads_for_cov(10)\n",
    "x10_dir = \"../output/A_thaliana_pan_genome/de_novo/x10/RESULT/per_sample\"\n",
    "seed = 100\n",
    "for ecotype, run_id in run_ids.items():\n",
    "    print(ecotype)\n",
    "    out_dir = \"%s/%s/data\" %(x10_dir, ecotype)\n",
    "    ! mkdir -p $out_dir\n",
    "    in_fastq1 = \"../data/raw_fastq/%s/%s_1.fastq.gz\" %(ecotype, run_id)\n",
    "    in_fastq2 = \"../data/raw_fastq/%s/%s_2.fastq.gz\" %(ecotype, run_id)\n",
    "    out_fastq1 = \"%s/%s_1.fastq\" %(out_dir,run_id)\n",
    "    out_fastq2 = \"%s/%s_2.fastq\" %(out_dir,run_id)\n",
    "    ! seqtk sample -s$seed $in_fastq1 $k > $out_fastq1\n",
    "    ! gzip $out_fastq1\n",
    "    ! seqtk sample -s$seed $in_fastq2 $k > $out_fastq2\n",
    "    ! gzip $out_fastq2"
   ]
  },
  {
   "cell_type": "markdown",
   "metadata": {},
   "source": [
    "## x20"
   ]
  },
  {
   "cell_type": "code",
   "execution_count": 4,
   "metadata": {},
   "outputs": [
    {
     "name": "stdout",
     "output_type": "stream",
     "text": [
      "Eri\n",
      "Kyo\n",
      "Cvi-0\n",
      "Ler\n",
      "Sha\n",
      "C24\n",
      "An-1\n"
     ]
    }
   ],
   "source": [
    "k = reads_for_cov(20)\n",
    "x20_dir = \"../output/A_thaliana_pan_genome/de_novo/x20/RESULT/per_sample\"\n",
    "seed = 100\n",
    "for ecotype, run_id in run_ids.items():\n",
    "    print(ecotype)\n",
    "    out_dir = \"%s/%s/data\" %(x20_dir, ecotype)\n",
    "    ! mkdir -p $out_dir\n",
    "    in_fastq1 = \"../data/raw_fastq/%s/%s_1.fastq.gz\" %(ecotype, run_id)\n",
    "    in_fastq2 = \"../data/raw_fastq/%s/%s_2.fastq.gz\" %(ecotype, run_id)\n",
    "    out_fastq1 = \"%s/%s_1.fastq\" %(out_dir,run_id)\n",
    "    out_fastq2 = \"%s/%s_2.fastq\" %(out_dir,run_id)\n",
    "    ! seqtk sample -s$seed $in_fastq1 $k > $out_fastq1\n",
    "    ! gzip $out_fastq1\n",
    "    ! seqtk sample -s$seed $in_fastq2 $k > $out_fastq2\n",
    "    ! gzip $out_fastq2"
   ]
  },
  {
   "cell_type": "code",
   "execution_count": 4,
   "metadata": {},
   "outputs": [
    {
     "name": "stdout",
     "output_type": "stream",
     "text": [
      "Eri\n",
      "Kyo\n",
      "Cvi-0\n",
      "Ler\n",
      "Sha\n",
      "C24\n",
      "An-1\n"
     ]
    }
   ],
   "source": [
    "k = reads_for_cov(30)\n",
    "x30_dir = \"../output/A_thaliana_pan_genome/de_novo/x30/RESULT/per_sample\"\n",
    "seed = 100\n",
    "for ecotype, run_id in run_ids.items():\n",
    "    print(ecotype)\n",
    "    out_dir = \"%s/%s/data\" %(x30_dir, ecotype)\n",
    "    ! mkdir -p $out_dir\n",
    "    in_fastq1 = \"../data/raw_fastq/%s/%s_1.fastq.gz\" %(ecotype, run_id)\n",
    "    in_fastq2 = \"../data/raw_fastq/%s/%s_2.fastq.gz\" %(ecotype, run_id)\n",
    "    out_fastq1 = \"%s/%s_1.fastq\" %(out_dir,run_id)\n",
    "    out_fastq2 = \"%s/%s_2.fastq\" %(out_dir,run_id)\n",
    "    ! seqtk sample -s$seed $in_fastq1 $k > $out_fastq1\n",
    "    ! gzip $out_fastq1\n",
    "    ! seqtk sample -s$seed $in_fastq2 $k > $out_fastq2\n",
    "    ! gzip $out_fastq2"
   ]
  },
  {
   "cell_type": "code",
   "execution_count": null,
   "metadata": {},
   "outputs": [],
   "source": []
  }
 ],
 "metadata": {
  "kernelspec": {
   "display_name": "Python 3",
   "language": "python",
   "name": "python3"
  },
  "language_info": {
   "codemirror_mode": {
    "name": "ipython",
    "version": 3
   },
   "file_extension": ".py",
   "mimetype": "text/x-python",
   "name": "python",
   "nbconvert_exporter": "python",
   "pygments_lexer": "ipython3",
   "version": "3.8.6"
  }
 },
 "nbformat": 4,
 "nbformat_minor": 4
}
