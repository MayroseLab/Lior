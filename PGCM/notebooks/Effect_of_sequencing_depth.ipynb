{
 "cells": [
  {
   "cell_type": "markdown",
   "metadata": {},
   "source": [
    "# The effect of sequencing depth\n",
    "This notebook contains the analysis of the effect of sequencing depth on pan-genome results.  \n",
    "Pan-genomes are compared to a \"high-quality\" (HQ) pan-genome, constructed by running Panoramic with HQ assemblies and annotation-evidence. Pan-genomes were constructed from the full data of [PRJEB31147](https://www.ebi.ac.uk/ena/browser/view/PRJEB31147) or from sub-samples of it (x10, x50 etc)."
   ]
  },
  {
   "cell_type": "code",
   "execution_count": null,
   "metadata": {},
   "outputs": [],
   "source": [
    "import os\n",
    "import pandas as pd\n",
    "import plotly.graph_objects as go\n",
    "import plotly.express as px\n",
    "import plotly.figure_factory as ff\n",
    "from plotly.subplots import make_subplots\n",
    "from Bio import SeqIO\n",
    "import numpy as np\n",
    "from scipy.stats import ttest_ind\n",
    "from itertools import chain"
   ]
  },
  {
   "cell_type": "markdown",
   "metadata": {},
   "source": [
    "## Paths"
   ]
  },
  {
   "cell_type": "code",
   "execution_count": null,
   "metadata": {},
   "outputs": [],
   "source": [
    "# de novo pan-genomes\n",
    "dn_pan_genomes = {\n",
    "    'HQ-assembly': \"../output/A_thaliana_pan_genome/de_novo/HQ_assembly/RESULT\",\n",
    "    \"full-data\": \"../output/A_thaliana_pan_genome/de_novo/full_data/RESULT\",\n",
    "    \"x50\": \"../output/A_thaliana_pan_genome/de_novo/x50/RESULT\",\n",
    "    \"x30\": \"../output/A_thaliana_pan_genome/de_novo/x30/RESULT\",\n",
    "    \"x20\": \"../output/A_thaliana_pan_genome/de_novo/x20/RESULT\",\n",
    "    \"x10\": \"../output/A_thaliana_pan_genome/de_novo/x10/RESULT\",\n",
    "}"
   ]
  },
  {
   "cell_type": "code",
   "execution_count": null,
   "metadata": {},
   "outputs": [],
   "source": [
    "# map-to-pan pan-genomes\n",
    "mtp_pan_genomes = {\n",
    "    'HQ-assembly': \"../output/A_thaliana_pan_genome/map_to_pan/HQ_assembly/RESULT\",\n",
    "    \"full-data\": \"../output/A_thaliana_pan_genome/map_to_pan/full_data/RESULT\",\n",
    "    \"x50\": \"../output/A_thaliana_pan_genome/map_to_pan/x50/RESULT\",\n",
    "    \"x30\": \"../output/A_thaliana_pan_genome/map_to_pan/x30/RESULT\",\n",
    "    \"x20\": \"../output/A_thaliana_pan_genome/map_to_pan/x20/RESULT\",\n",
    "    \"x10\": \"../output/A_thaliana_pan_genome/map_to_pan/x10/RESULT\",\n",
    "}"
   ]
  },
  {
   "cell_type": "code",
   "execution_count": null,
   "metadata": {},
   "outputs": [],
   "source": [
    "# de novo comparison dirs\n",
    "dn_compare = {\n",
    "    \"full-data\": \"../output/A_thaliana_pan_genome/compare_pan_genomes/DN_HQ_asm_vs_DN_full_data/RESULT\",\n",
    "    \"x50\": \"../output/A_thaliana_pan_genome/compare_pan_genomes/DN_HQ_asm_vs_DN_x50/RESULT\",\n",
    "    \"x30\": \"../output/A_thaliana_pan_genome/compare_pan_genomes/DN_HQ_asm_vs_DN_x30/RESULT\",\n",
    "    \"x20\": \"../output/A_thaliana_pan_genome/compare_pan_genomes/DN_HQ_asm_vs_DN_x20/RESULT\",\n",
    "    \"x10\": \"../output/A_thaliana_pan_genome/compare_pan_genomes/DN_HQ_asm_vs_DN_x10/RESULT\",\n",
    "}"
   ]
  },
  {
   "cell_type": "code",
   "execution_count": null,
   "metadata": {},
   "outputs": [],
   "source": [
    "# map-to-pan comparison dirs\n",
    "mtp_compare = {\n",
    "    \"full-data\": \"../output/A_thaliana_pan_genome/compare_pan_genomes/MTP_HQ_asm_vs_MTP_full_data/RESULT\",\n",
    "    \"x50\": \"../output/A_thaliana_pan_genome/compare_pan_genomes/MTP_HQ_asm_vs_MTP_x50/RESULT\",\n",
    "    \"x30\": \"../output/A_thaliana_pan_genome/compare_pan_genomes/MTP_HQ_asm_vs_MTP_x30/RESULT\",\n",
    "    \"x20\": \"../output/A_thaliana_pan_genome/compare_pan_genomes/MTP_HQ_asm_vs_MTP_x20/RESULT\",\n",
    "    \"x10\": \"../output/A_thaliana_pan_genome/compare_pan_genomes/MTP_HQ_asm_vs_MTP_x10/RESULT\",\n",
    "}"
   ]
  },
  {
   "cell_type": "markdown",
   "metadata": {},
   "source": [
    "## Assembly stats\n",
    "Assemblies are common to the DN and MTP pan-genomes, so no need to present results for both"
   ]
  },
  {
   "cell_type": "code",
   "execution_count": null,
   "metadata": {},
   "outputs": [],
   "source": [
    "pg_order = [\"x10\", \"x20\", \"x30\", \"x50\",\"full-data\", \"HQ-assembly\"]"
   ]
  },
  {
   "cell_type": "code",
   "execution_count": null,
   "metadata": {},
   "outputs": [],
   "source": [
    "dn_pg_asm_stats = {pg: pd.read_csv(os.path.join(dn_pan_genomes[pg],\"all_samples/stats/assembly_stats.tsv\"),\n",
    "                                    sep='\\t', index_col=0) for pg in pg_order[:-1]}"
   ]
  },
  {
   "cell_type": "code",
   "execution_count": null,
   "metadata": {},
   "outputs": [],
   "source": [
    "keep_columns = ['Input bases', 'Clean bases', '# contigs (>= 0 bp)', 'Total length (>= 0 bp)',\n",
    "               'N50', '% Complete BUSCOs', '% unmapped (Chr0)']\n",
    "for pg in dn_pg_asm_stats:\n",
    "    dn_pg_asm_stats[pg] = dn_pg_asm_stats[pg][keep_columns]"
   ]
  },
  {
   "cell_type": "code",
   "execution_count": null,
   "metadata": {},
   "outputs": [],
   "source": [
    "n50_dfs = []\n",
    "for pg in pg_order[:-1]:\n",
    "    tmp = pd.DataFrame(dn_pg_asm_stats[pg]['N50'])\n",
    "    tmp = tmp.reset_index()\n",
    "    tmp.columns = ['sample','N50']\n",
    "    tmp['PG'] = pg\n",
    "    n50_dfs.append(tmp)\n",
    "n50_df = pd.concat(n50_dfs)"
   ]
  },
  {
   "cell_type": "code",
   "execution_count": null,
   "metadata": {},
   "outputs": [],
   "source": [
    "fig = px.strip(n50_df, x='PG', y='N50', color='sample', title='Contig N50')\n",
    "fig.update_xaxes(title_text = '')\n",
    "fig.show()"
   ]
  },
  {
   "cell_type": "code",
   "execution_count": null,
   "metadata": {},
   "outputs": [],
   "source": [
    "assembly_size_dfs = []\n",
    "for pg in pg_order[:-1]:\n",
    "    tmp = pd.DataFrame(dn_pg_asm_stats[pg]['Total length (>= 0 bp)'])\n",
    "    tmp = tmp.reset_index()\n",
    "    tmp.columns = ['sample','Assembly size']\n",
    "    tmp['PG'] = pg\n",
    "    assembly_size_dfs.append(tmp)\n",
    "assembly_size_df = pd.concat(assembly_size_dfs)"
   ]
  },
  {
   "cell_type": "code",
   "execution_count": null,
   "metadata": {},
   "outputs": [],
   "source": [
    "fig = px.strip(assembly_size_df, x='PG', y='Assembly size', color='sample', title='Assembly size')\n",
    "fig.update_xaxes(title_text = '')\n",
    "fig.show()"
   ]
  },
  {
   "cell_type": "markdown",
   "metadata": {},
   "source": [
    "## Pan genome size and composition"
   ]
  },
  {
   "cell_type": "markdown",
   "metadata": {},
   "source": [
    "### Occupancy categories"
   ]
  },
  {
   "cell_type": "code",
   "execution_count": null,
   "metadata": {},
   "outputs": [],
   "source": [
    "# read pan_PAV.tsv files as data frames\n",
    "dn_pg_pav = {pg: pd.read_csv(os.path.join(dn_pan_genomes[pg],\"all_samples/pan_genome/pan_PAV.tsv\"), sep='\\t', index_col='gene')\n",
    "             for pg in pg_order}\n",
    "mtp_pg_pav = {pg: pd.read_csv(os.path.join(mtp_pan_genomes[pg],\"all_samples/pan_genome/pan_PAV.tsv\"), sep='\\t', index_col='gene')\n",
    "             for pg in pg_order}"
   ]
  },
  {
   "cell_type": "code",
   "execution_count": null,
   "metadata": {},
   "outputs": [],
   "source": [
    "def count_catgories(pav_df):\n",
    "    \"\"\"\n",
    "    Given a PAV df, return [core genes, shell genes, singletons]\n",
    "    \"\"\"\n",
    "    n_samples = pav_df.shape[1]\n",
    "    occup_counts = pav_df.sum(axis=1).value_counts()\n",
    "    core = occup_counts.loc[n_samples]\n",
    "    singletons = occup_counts.loc[1]\n",
    "    shell = occup_counts.loc[(occup_counts.index > 1) & (occup_counts.index < n_samples)].sum()\n",
    "    return [core, shell, singletons]"
   ]
  },
  {
   "cell_type": "code",
   "execution_count": null,
   "metadata": {},
   "outputs": [],
   "source": [
    "dn_pg_sizes = {pg: count_catgories(dn_pg_pav[pg]) for pg in pg_order}\n",
    "mtp_pg_sizes = {pg: count_catgories(mtp_pg_pav[pg]) for pg in pg_order}"
   ]
  },
  {
   "cell_type": "raw",
   "metadata": {},
   "source": [
    "fig = go.Figure(data=[\n",
    "    go.Bar(name='Core', x=pg_order, y=[dn_pg_sizes[pg][0] for pg in pg_order], marker_color='green'),\n",
    "    go.Bar(name='Shell', x=pg_order, y=[dn_pg_sizes[pg][1] for pg in pg_order], marker_color='orange'),\n",
    "    go.Bar(name='Singletons', x=pg_order, y=[dn_pg_sizes[pg][2] for pg in pg_order], marker_color='red'),\n",
    "])\n",
    "# Change the bar mode\n",
    "fig.update_layout(title='De novo - pan-genome composition')\n",
    "fig.update_layout(barmode='stack')\n",
    "fig.update_yaxes(title_text = \"# of genes\")\n",
    "fig.show()"
   ]
  },
  {
   "cell_type": "code",
   "execution_count": null,
   "metadata": {
    "scrolled": false
   },
   "outputs": [],
   "source": [
    "fig = make_subplots(rows=2, cols=1,\n",
    "                    subplot_titles=(\"De novo\", \"Map-to-pan\"),\n",
    "                   vertical_spacing=0.1)\n",
    "fig.add_trace(go.Bar(name='Core', x=pg_order, y=[dn_pg_sizes[pg][0] for pg in pg_order], marker_color='darkgreen', legendgroup='core'), row=1, col=1)\n",
    "fig.add_trace(go.Bar(name='Shell', x=pg_order, y=[dn_pg_sizes[pg][1] for pg in pg_order], marker_color='orange', legendgroup='shell'), row=1, col=1)\n",
    "fig.add_trace(go.Bar(name='Singletons', x=pg_order, y=[dn_pg_sizes[pg][2] for pg in pg_order], marker_color='red', legendgroup='singletons'), row=1, col=1)\n",
    "fig.add_trace(go.Bar(name='Core', x=pg_order, y=[mtp_pg_sizes[pg][0] for pg in pg_order], marker_color='darkgreen', legendgroup='core', showlegend=False), row=2, col=1)\n",
    "fig.add_trace(go.Bar(name='Shell', x=pg_order, y=[mtp_pg_sizes[pg][1] for pg in pg_order], marker_color='orange', legendgroup='shell', showlegend=False), row=2, col=1)\n",
    "fig.add_trace(go.Bar(name='Singletons', x=pg_order, y=[mtp_pg_sizes[pg][2] for pg in pg_order], marker_color='red', legendgroup='singletons', showlegend=False), row=2, col=1)\n",
    "fig.update_layout(barmode='stack')\n",
    "fig.update_yaxes(title_text = \"# of genes\")\n",
    "fig.update_layout(height=700, width=1000, title_text=\"Pan-genome composition\")\n",
    "fig.show()"
   ]
  },
  {
   "cell_type": "code",
   "execution_count": null,
   "metadata": {
    "scrolled": true
   },
   "outputs": [],
   "source": [
    "dn_pg_sizes_df = pd.DataFrame(dn_pg_sizes)\n",
    "dn_pg_sizes_df.index = ['Core','Shell','Singletons']\n",
    "dn_pg_sizes_df = dn_pg_sizes_df.transpose()\n",
    "dn_pg_sizes_df['Total'] = dn_pg_sizes_df.sum(axis=1)\n",
    "\n",
    "mtp_pg_sizes_df = pd.DataFrame(mtp_pg_sizes)\n",
    "mtp_pg_sizes_df.index = ['Core','Shell','Singletons']\n",
    "mtp_pg_sizes_df = mtp_pg_sizes_df.transpose()\n",
    "mtp_pg_sizes_df['Total'] = mtp_pg_sizes_df.sum(axis=1)\n",
    "\n",
    "pg_sizes = dn_pg_sizes_df.join(mtp_pg_sizes_df, rsuffix='_MTP')\n",
    "pg_sizes.columns = pd.MultiIndex.from_product([['De novo','Map-to-pan'],['Core','Shell','Singletons','Total']])\n",
    "pg_sizes"
   ]
  },
  {
   "cell_type": "markdown",
   "metadata": {},
   "source": [
    "### Occupancy distributions"
   ]
  },
  {
   "cell_type": "code",
   "execution_count": null,
   "metadata": {},
   "outputs": [],
   "source": [
    "def occup_stats(pav_df):\n",
    "    occups = list(pav_df.sum(axis=1))\n",
    "    return (np.mean(occups), np.std(occups))"
   ]
  },
  {
   "cell_type": "code",
   "execution_count": null,
   "metadata": {},
   "outputs": [],
   "source": [
    "dn_pg_occup_stats = {pg: occup_stats(dn_pg_pav[pg]) for pg in pg_order}\n",
    "mtp_pg_occup_stats = {pg: occup_stats(mtp_pg_pav[pg]) for pg in pg_order}"
   ]
  },
  {
   "cell_type": "code",
   "execution_count": null,
   "metadata": {},
   "outputs": [],
   "source": [
    "fig = go.Figure()\n",
    "fig.add_trace(go.Bar(\n",
    "    x=pg_order, y=[dn_pg_occup_stats[pg][0] for pg in pg_order],\n",
    "    error_y=dict(type='data', array=[dn_pg_occup_stats[pg][1] for pg in pg_order]),\n",
    "    name='De novo', marker_color='lightblue'\n",
    "))\n",
    "fig.add_trace(go.Bar(\n",
    "    x=pg_order, y=[mtp_pg_occup_stats[pg][0] for pg in pg_order],\n",
    "    error_y=dict(type='data', array=[mtp_pg_occup_stats[pg][1] for pg in pg_order]),\n",
    "    name='Map-to-pan', marker_color='darkslateblue'\n",
    "))\n",
    "fig.update_yaxes(title_text = \"Occupancy\")\n",
    "fig.update_layout(title_text=\"Mean occupancy\")\n",
    "\n",
    "fig.show()"
   ]
  },
  {
   "cell_type": "code",
   "execution_count": null,
   "metadata": {},
   "outputs": [],
   "source": [
    "dn_occup_df = pd.DataFrame(dn_pg_occup_stats).transpose()\n",
    "dn_occup_df.columns = ['Mean','STD']\n",
    "mtp_occup_df = pd.DataFrame(mtp_pg_occup_stats).transpose()\n",
    "mtp_occup_df.columns = ['Mean','STD']\n",
    "\n",
    "occup_df = dn_occup_df.join(mtp_occup_df, rsuffix='MTP_')\n",
    "occup_df.columns = pd.MultiIndex.from_product([['De novo','Map-to-pan'],['Mean','STD']])\n",
    "occup_df"
   ]
  },
  {
   "cell_type": "markdown",
   "metadata": {},
   "source": [
    "## Genes per sample\n",
    "Number of genes detected as present in each sample, across data sets and pipelines"
   ]
  },
  {
   "cell_type": "code",
   "execution_count": null,
   "metadata": {},
   "outputs": [],
   "source": [
    "# generate df\n",
    "dn_gene_counts = pd.concat([dn_pg_pav[pg].sum() for pg in pg_order], axis=1)\n",
    "dn_gene_counts.columns = pg_order\n",
    "mtp_gene_counts = pd.concat([mtp_pg_pav[pg].sum() for pg in pg_order], axis=1)\n",
    "mtp_gene_counts.columns = pg_order\n",
    "\n",
    "gene_counts = dn_gene_counts.join(mtp_gene_counts, rsuffix='MTP_')\n",
    "gene_counts.columns = pd.MultiIndex.from_product([['De novo','Map-to-pan'],pg_order])\n",
    "gene_counts"
   ]
  },
  {
   "cell_type": "code",
   "execution_count": null,
   "metadata": {},
   "outputs": [],
   "source": [
    "dn_gene_counts_melt = dn_gene_counts.reset_index().melt(id_vars='index', value_vars=pg_order)\n",
    "dn_gene_counts_melt.columns = ['sample','PG','count']\n",
    "mtp_gene_counts_melt = mtp_gene_counts.reset_index().melt(id_vars='index', value_vars=pg_order)\n",
    "mtp_gene_counts_melt.columns = ['sample','PG','count']"
   ]
  },
  {
   "cell_type": "code",
   "execution_count": null,
   "metadata": {},
   "outputs": [],
   "source": [
    "fig = px.strip(dn_gene_counts_melt, x='PG', y='count', color='sample',\n",
    "               title='De-novo - number of genes per sample',\n",
    "              range_y=[18000,28000])\n",
    "fig.update_yaxes(title_text = \"# of genes\")\n",
    "fig.show()"
   ]
  },
  {
   "cell_type": "code",
   "execution_count": null,
   "metadata": {},
   "outputs": [],
   "source": [
    "fig = px.strip(mtp_gene_counts_melt, x='PG', y='count', color='sample',\n",
    "               title='Map-to-pan - number of genes per sample',\n",
    "              range_y=[18000,28000])\n",
    "fig.update_yaxes(title_text = \"# of genes\")\n",
    "fig.show()"
   ]
  },
  {
   "cell_type": "markdown",
   "metadata": {},
   "source": [
    "## Nonreference gene pool\n",
    "Exploring the nonreference gene pool of each pan-genome by comparing it to the HQ-assembly pan-genome."
   ]
  },
  {
   "cell_type": "markdown",
   "metadata": {},
   "source": [
    "### Matched/Unmatched proportions"
   ]
  },
  {
   "cell_type": "code",
   "execution_count": null,
   "metadata": {},
   "outputs": [],
   "source": [
    "pg_order = [\"x10\", \"x20\", \"x30\", \"x50\",\"full-data\"]"
   ]
  },
  {
   "cell_type": "code",
   "execution_count": null,
   "metadata": {},
   "outputs": [],
   "source": [
    "# How many non-ref genes per PG and how many of these match HQ non-ref\n",
    "dn_nonref_matches = {pg: pd.read_csv(os.path.join(dn_compare[pg],\"A_thaliana_DN_%s_vs_A_thaliana_DN_HQ_asm_max_weight_matches.tsv\" % pg.replace('-','_')), sep='\\t')\n",
    "             for pg in pg_order}\n",
    "mtp_nonref_matches = {pg: pd.read_csv(os.path.join(mtp_compare[pg],\"A_thaliana_MTP_%s_vs_A_thaliana_MTP_HQ_asm_max_weight_matches.tsv\" % pg.replace('-','_')), sep='\\t')\n",
    "             for pg in pg_order}"
   ]
  },
  {
   "cell_type": "code",
   "execution_count": null,
   "metadata": {},
   "outputs": [],
   "source": [
    "def count_nonref(pg1_pav_df, pg2_pav_df, matches_df):\n",
    "    pg1_nonref = pg1_pav_df.index.str.startswith('PanGene').sum()\n",
    "    pg2_nonref = pg2_pav_df.index.str.startswith('PanGene').sum()\n",
    "    matched_nonref = matches_df.shape[0]\n",
    "    return (matched_nonref, pg1_nonref - matched_nonref, pg2_nonref - matched_nonref)"
   ]
  },
  {
   "cell_type": "code",
   "execution_count": null,
   "metadata": {},
   "outputs": [],
   "source": [
    "dn_nonref_counts = {pg: count_nonref(dn_pg_pav[pg], dn_pg_pav['HQ-assembly'], dn_nonref_matches[pg]) for pg in pg_order}\n",
    "mtp_nonref_counts = {pg: count_nonref(mtp_pg_pav[pg], mtp_pg_pav['HQ-assembly'], mtp_nonref_matches[pg]) for pg in pg_order}"
   ]
  },
  {
   "cell_type": "code",
   "execution_count": null,
   "metadata": {},
   "outputs": [],
   "source": [
    "fig = make_subplots(rows=2, cols=1,\n",
    "                    subplot_titles=(\"De novo\", \"Map-to-pan\"),\n",
    "                   vertical_spacing=0.1)\n",
    "\n",
    "fig.add_trace(go.Bar(name='Matched', x=pg_order, y=[dn_nonref_counts[pg][0] for pg in pg_order], legendgroup='matched', marker_color='royalblue'), row=1, col=1)    ,\n",
    "fig.add_trace(go.Bar(name='PG+/HQ-', x=pg_order, y=[dn_nonref_counts[pg][1] for pg in pg_order], legendgroup='PG+/HQ-', marker_color='tomato'), row=1, col=1)\n",
    "fig.add_trace(go.Bar(name='PG-/HQ+', x=pg_order, y=[dn_nonref_counts[pg][2] for pg in pg_order], legendgroup='PG-/HQ+', marker_color='sandybrown'), row=1, col=1)\n",
    "fig.add_trace(go.Bar(name='Matched', x=pg_order, y=[mtp_nonref_counts[pg][0] for pg in pg_order], legendgroup='matched', showlegend=False, marker_color='royalblue'), row=2, col=1)    ,\n",
    "fig.add_trace(go.Bar(name='PG+/HQ-', x=pg_order, y=[mtp_nonref_counts[pg][1] for pg in pg_order], legendgroup='PG+/HQ-', showlegend=False, marker_color='tomato'), row=2, col=1)\n",
    "fig.add_trace(go.Bar(name='PG-/HQ+', x=pg_order, y=[mtp_nonref_counts[pg][2] for pg in pg_order], legendgroup='PG-/HQ+', showlegend=False, marker_color='sandybrown'), row=2, col=1)\n",
    "\n",
    "\n",
    "# Change the bar mode\n",
    "fig.update_layout(barmode='stack')\n",
    "fig.update_yaxes(title_text = \"# of genes\")\n",
    "fig.update_layout(title_text=\"Number of nonreference genes\")\n",
    "fig.show()"
   ]
  },
  {
   "cell_type": "code",
   "execution_count": null,
   "metadata": {},
   "outputs": [],
   "source": [
    "dn_nonref_df = pd.DataFrame(dn_nonref_counts).transpose()\n",
    "dn_nonref_df.columns = ['Matched', 'PG+/HQ-', 'PG-/HQ+']\n",
    "mtp_nonref_df = pd.DataFrame(mtp_nonref_counts).transpose()\n",
    "mtp_nonref_df.columns = ['Matched', 'PG+/HQ-', 'PG-/HQ+']\n",
    "nonref_df = dn_nonref_df.join(mtp_nonref_df, rsuffix='MTP_')\n",
    "nonref_df.columns = pd.MultiIndex.from_product([['De novo','Map-to-pan'],['Matched', 'PG+/HQ-', 'PG-/HQ+']])\n",
    "nonref_df"
   ]
  },
  {
   "cell_type": "markdown",
   "metadata": {},
   "source": [
    "### Matched/Unmatched occupancies\n",
    "Comapre occupancies of matched and unmatched nonreference genes"
   ]
  },
  {
   "cell_type": "code",
   "execution_count": null,
   "metadata": {},
   "outputs": [],
   "source": [
    "def nonref_occup(pg1_pav, pg2_pav, matches_df):\n",
    "    pg1_matched = set(matches_df.iloc[:,0])\n",
    "    pg2_matched = set(matches_df.iloc[:,1])\n",
    "    ref_occup_pg1 = pg1_pav.loc[(~ pg1_pav.index.str.startswith('PanGene'))].sum(axis=1) - 1\n",
    "    ref_occup_pg2 = pg2_pav.loc[(~ pg2_pav.index.str.startswith('PanGene'))].sum(axis=1) - 1\n",
    "    matched_occup_pg1 = pg1_pav.loc[(pg1_pav.index.str.startswith('PanGene')) & (pg1_pav.index.isin(pg1_matched))].sum(axis=1)\n",
    "    matched_occup_pg2 = pg2_pav.loc[(pg2_pav.index.str.startswith('PanGene')) & (pg2_pav.index.isin(pg2_matched))].sum(axis=1)\n",
    "    unmatched_occup_pg1 = pg1_pav.loc[(pg1_pav.index.str.startswith('PanGene')) & (~ pg1_pav.index.isin(pg1_matched))].sum(axis=1)\n",
    "    unmatched_occup_pg2 = pg2_pav.loc[(pg2_pav.index.str.startswith('PanGene')) & (~ pg2_pav.index.isin(pg2_matched))].sum(axis=1)\n",
    "    return [ref_occup_pg1, ref_occup_pg2, matched_occup_pg1, matched_occup_pg2, unmatched_occup_pg1, unmatched_occup_pg2]"
   ]
  },
  {
   "cell_type": "code",
   "execution_count": null,
   "metadata": {},
   "outputs": [],
   "source": [
    "dn_occup_nonref = {pg : nonref_occup(dn_pg_pav[pg], dn_pg_pav['HQ-assembly'], dn_nonref_matches[pg]) for pg in pg_order}\n",
    "mtp_occup_nonref = {pg : nonref_occup(mtp_pg_pav[pg], mtp_pg_pav['HQ-assembly'], mtp_nonref_matches[pg]) for pg in pg_order}"
   ]
  },
  {
   "cell_type": "code",
   "execution_count": null,
   "metadata": {},
   "outputs": [],
   "source": [
    "fig_dict = {\n",
    "    0 : ['Reference genes - PG', 'lightblue'],\n",
    "    1 : ['Reference genes - HQ', 'lightgreen'],\n",
    "    2 : ['Nonreference genes - matched - PG', 'tomato'],\n",
    "    3 : ['Nonreference genes - matched - HQ', 'orange'],\n",
    "    4 : ['Nonreference genes - unmatched - PG', 'grey'],\n",
    "    5 : ['Nonreference genes - unmatched - HQ', 'mediumorchid'],\n",
    "}\n",
    "\n",
    "fig = go.Figure()\n",
    "for i in range(6):\n",
    "    fig.add_trace(go.Bar(\n",
    "        x=pg_order, y=[dn_occup_nonref[pg][i].mean() for pg in pg_order],\n",
    "        error_y=dict(type='data', array=[dn_occup_nonref[pg][i].std() for pg in pg_order]),\n",
    "        name=fig_dict[i][0], marker_color=fig_dict[i][1]\n",
    "))\n",
    "\n",
    "fig.update_yaxes(title_text = \"Occupancy\")\n",
    "fig.update_layout(title_text=\"Mean occupancy - De novo\")\n",
    "\n",
    "fig.show()"
   ]
  },
  {
   "cell_type": "code",
   "execution_count": null,
   "metadata": {},
   "outputs": [],
   "source": [
    "fig = go.Figure()\n",
    "for i in range(6):\n",
    "    fig.add_trace(go.Bar(\n",
    "        x=pg_order, y=[mtp_occup_nonref[pg][i].mean() for pg in pg_order],\n",
    "        error_y=dict(type='data', array=[dn_occup_nonref[pg][i].std() for pg in pg_order]),\n",
    "        name=fig_dict[i][0], marker_color=fig_dict[i][1]\n",
    "))\n",
    "\n",
    "fig.update_yaxes(title_text = \"Occupancy\")\n",
    "fig.update_layout(title_text=\"Mean occupancy - Map-to-pan\")\n",
    "\n",
    "fig.show()"
   ]
  },
  {
   "cell_type": "raw",
   "metadata": {},
   "source": [
    "import matplotlib.pyplot as plt\n",
    "n, bins, patches = plt.hist(tmp[0], 7, density=True, histtype='step')\n",
    "plt.clf()\n",
    "pg1_matched = go.Scatter(\n",
    "    x=bins,\n",
    "    y=n,\n",
    "    mode='lines',\n",
    "    name= \"PG1 matched\",\n",
    "    line=dict(\n",
    "        shape='hvh',\n",
    "    )    \n",
    ")\n",
    "n, bins, patches = plt.hist(tmp[1], 7, density=True, histtype='step')\n",
    "plt.clf()\n",
    "pg2_matched = go.Scatter(\n",
    "    x=bins,\n",
    "    y=n,\n",
    "    mode='lines',\n",
    "    name= \"PG2 matched\",\n",
    "    line=dict(\n",
    "        shape='hvh'\n",
    "    )\n",
    ")\n",
    "n, bins, patches = plt.hist(tmp[2], 7, density=True, histtype='step')\n",
    "plt.clf()\n",
    "pg1_unmatched = go.Scatter(\n",
    "    x=bins,\n",
    "    y=n,\n",
    "    mode='lines',\n",
    "    name= \"PG1 unmatched\",\n",
    "    line=dict(\n",
    "        shape='hvh'\n",
    "    )\n",
    ")\n",
    "n, bins, patches = plt.hist(tmp[3], 7, density=True, histtype='step')\n",
    "plt.clf()\n",
    "pg2_unmatched = go.Scatter(\n",
    "    x=bins,\n",
    "    y=n,\n",
    "    mode='lines',\n",
    "    name= \"PG2 unmatched\",\n",
    "    line=dict(\n",
    "        shape='hvh'\n",
    "    )\n",
    ")\n",
    "\n",
    "fig = go.Figure(data=[pg1_matched, pg2_matched, pg1_unmatched, pg2_unmatched])\n",
    "fig.show()"
   ]
  },
  {
   "cell_type": "markdown",
   "metadata": {},
   "source": [
    "### Matched/Unmatched protein lengths"
   ]
  },
  {
   "cell_type": "code",
   "execution_count": null,
   "metadata": {},
   "outputs": [],
   "source": [
    "def prot_lens(pg, nonref_fasta, matches_df):\n",
    "    matched = set(matches_df.iloc[:,0])\n",
    "    lens = []\n",
    "    for rec in SeqIO.parse(nonref_fasta, 'fasta'):\n",
    "        l = len(rec.seq)\n",
    "        recid = rec.id\n",
    "        if recid in matched:\n",
    "            stat = 'matched'\n",
    "        else:\n",
    "            stat = 'unmatched'\n",
    "        d = {'PG': pg, 'prot': recid, 'length': l, 'status': stat}\n",
    "        lens.append(d)\n",
    "    return pd.DataFrame(lens)"
   ]
  },
  {
   "cell_type": "code",
   "execution_count": null,
   "metadata": {},
   "outputs": [],
   "source": [
    "dn_nonref_prot_lens = {pg: prot_lens(pg, dn_compare[pg] + '/A_thaliana_DN_%s_nonref.fasta' % pg.replace('-','_'), dn_nonref_matches[pg]) for pg in pg_order}\n",
    "mtp_nonref_prot_lens = {pg: prot_lens(pg, mtp_compare[pg] + '/A_thaliana_MTP_%s_nonref.fasta' % pg.replace('-','_'), mtp_nonref_matches[pg]) for pg in pg_order}"
   ]
  },
  {
   "cell_type": "code",
   "execution_count": null,
   "metadata": {},
   "outputs": [],
   "source": [
    "dn_lens_df = pd.concat(dn_nonref_prot_lens)\n",
    "mtp_lens_df = pd.concat(mtp_nonref_prot_lens)"
   ]
  },
  {
   "cell_type": "code",
   "execution_count": null,
   "metadata": {},
   "outputs": [],
   "source": [
    "fig = px.box(dn_lens_df, x='PG', y=\"length\", color='status', title='De novo - nonreference protein lengths',\n",
    "            color_discrete_sequence=['tomato','royalblue'])\n",
    "fig.update_yaxes(title_text = \"Protein length (AA)\")\n",
    "fig.update_xaxes(title_text = '')\n",
    "fig.update_layout(legend_traceorder=\"reversed\")\n",
    "fig.show()"
   ]
  },
  {
   "cell_type": "code",
   "execution_count": null,
   "metadata": {},
   "outputs": [],
   "source": [
    "fig = px.box(mtp_lens_df, x='PG', y=\"length\", color='status', title='Map-to-pan - nonreference protein lengths',\n",
    "            color_discrete_sequence=['tomato','royalblue'])\n",
    "fig.update_yaxes(title_text = \"Protein length (AA)\")\n",
    "fig.update_xaxes(title_text = '')\n",
    "fig.update_layout(legend_traceorder=\"reversed\")\n",
    "fig.show()"
   ]
  },
  {
   "cell_type": "code",
   "execution_count": null,
   "metadata": {},
   "outputs": [],
   "source": [
    "def prot_len_diff(lens_df, pg):\n",
    "    matched = lens_df.loc[(lens_df['PG'] == pg) & (lens_df['status'] == \"matched\")]['length']\n",
    "    unmatched = lens_df.loc[(lens_df['PG'] == pg) & (lens_df['status'] == \"unmatched\")]['length']\n",
    "    matched_mean = np.mean(matched)\n",
    "    unmatched_mean = np.mean(unmatched)\n",
    "    matched_median = np.median(matched)\n",
    "    unmatched_median = np.median(unmatched)\n",
    "    t,p = ttest_ind(matched, unmatched)\n",
    "    return [matched_mean,unmatched_mean,matched_median,unmatched_median,t,p]"
   ]
  },
  {
   "cell_type": "code",
   "execution_count": null,
   "metadata": {},
   "outputs": [],
   "source": [
    "cols = ['Matched mean','Unmatched mean','Matched median','Unmatched median','T','p']\n",
    "\n",
    "dn_prot_len_diff = {pg: prot_len_diff(dn_lens_df, pg) for pg in pg_order}\n",
    "dn_prot_len_diff_df = pd.DataFrame(dn_prot_len_diff).transpose()\n",
    "dn_prot_len_diff_df.columns = cols\n",
    "\n",
    "mtp_prot_len_diff = {pg: prot_len_diff(mtp_lens_df, pg) for pg in pg_order}\n",
    "mtp_prot_len_diff_df = pd.DataFrame(mtp_prot_len_diff).transpose()\n",
    "mtp_prot_len_diff_df.columns = cols\n",
    "\n",
    "prot_len_diff_df = dn_prot_len_diff_df.join(mtp_prot_len_diff_df, rsuffix='MTP_')\n",
    "prot_len_diff_df.columns = pd.MultiIndex.from_product([['De novo','Map-to-pan'],cols])\n",
    "\n",
    "prot_len_diff_df"
   ]
  },
  {
   "cell_type": "markdown",
   "metadata": {},
   "source": [
    "### Unmatched nonreference gene mapping\n",
    "To better understand the origin of unmatched nonreference genes, transcripts of such genes were mapped to all  assemblies in the other pan-genome, and the number of transcripts that could not be mapped (95% transcript sequence coverage) to any assembly was calculated.  \n",
    "It is assumed that unmatched transcripts that could not be mapped originate from the absence of the relevant sequences in the assembly, whereas mapped transcripts indicate another source, e.g. gene duplications or clustering issues."
   ]
  },
  {
   "cell_type": "code",
   "execution_count": null,
   "metadata": {},
   "outputs": [],
   "source": [
    "colnames = ['sample','chrom','start','end']\n",
    "dn_unmatched_mapping = {pg: [pd.read_csv(os.path.join(dn_compare[pg],\"A_thaliana_DN_%s_vs_A_thaliana_DN_HQ_asm_nonref_unmatched_mapped.tsv\" % pg.replace('-','_')), sep='\\t', names=colnames),\n",
    "                             pd.read_csv(os.path.join(dn_compare[pg],\"A_thaliana_DN_HQ_asm_vs_A_thaliana_DN_%s_nonref_unmatched_mapped.tsv\" % pg.replace('-','_')), sep='\\t', names=colnames)]\n",
    "                        for pg in pg_order}\n",
    "mtp_unmatched_mapping = {pg: [pd.read_csv(os.path.join(mtp_compare[pg],\"A_thaliana_MTP_%s_vs_A_thaliana_MTP_HQ_asm_nonref_unmatched_mapped.tsv\" % pg.replace('-','_')), sep='\\t', names=colnames),\n",
    "                             pd.read_csv(os.path.join(mtp_compare[pg],\"A_thaliana_MTP_HQ_asm_vs_A_thaliana_MTP_%s_nonref_unmatched_mapped.tsv\" % pg.replace('-','_')), sep='\\t', names=colnames)]\n",
    "                        for pg in pg_order}"
   ]
  },
  {
   "cell_type": "code",
   "execution_count": null,
   "metadata": {},
   "outputs": [],
   "source": [
    "# return [# of mapped, # of unmapped]\n",
    "def unmatched_mapping(mapping_df):\n",
    "    tmp = mapping_df['sample'].isna().value_counts()\n",
    "    return [tmp[False], tmp[True]]"
   ]
  },
  {
   "cell_type": "code",
   "execution_count": null,
   "metadata": {},
   "outputs": [],
   "source": [
    "dn_unmatched_mapping_counts = {pg: [unmatched_mapping(dn_unmatched_mapping[pg][0]), unmatched_mapping(dn_unmatched_mapping[pg][1])] for pg in pg_order} \n",
    "mtp_unmatched_mapping_counts = {pg: [unmatched_mapping(mtp_unmatched_mapping[pg][0]), unmatched_mapping(mtp_unmatched_mapping[pg][1])] for pg in pg_order} "
   ]
  },
  {
   "cell_type": "code",
   "execution_count": null,
   "metadata": {},
   "outputs": [],
   "source": [
    "x = [\n",
    "    list(chain(*[[pg]*2 for pg in pg_order])),\n",
    "    ['PG','HQ']*len(pg_order)\n",
    "]\n",
    "y1 = list(chain(*[[dn_unmatched_mapping_counts[pg][0][0], dn_unmatched_mapping_counts[pg][1][0]] for pg in pg_order]))\n",
    "y2 = list(chain(*[[dn_unmatched_mapping_counts[pg][0][1], dn_unmatched_mapping_counts[pg][1][1]] for pg in pg_order]))\n",
    "fig = go.Figure()\n",
    "fig.add_bar(name=\"Mapped\", x=x, y=y1)\n",
    "fig.add_bar(name=\"Unmapped\", x=x, y=y2)\n",
    "fig.update_layout(barmode=\"relative\", title_text=\"De novo - Unmatched nonreference genes\")\n",
    "fig.update_yaxes(title_text=\"# of genes\")\n",
    "fig.show()"
   ]
  },
  {
   "cell_type": "code",
   "execution_count": null,
   "metadata": {},
   "outputs": [],
   "source": [
    "x = [\n",
    "    list(chain(*[[pg]*2 for pg in pg_order])),\n",
    "    ['PG','HQ']*len(pg_order)\n",
    "]\n",
    "y1 = list(chain(*[[mtp_unmatched_mapping_counts[pg][0][0], mtp_unmatched_mapping_counts[pg][1][0]] for pg in pg_order]))\n",
    "y2 = list(chain(*[[mtp_unmatched_mapping_counts[pg][0][1], mtp_unmatched_mapping_counts[pg][1][1]] for pg in pg_order]))\n",
    "fig = go.Figure()\n",
    "fig.add_bar(name=\"Mapped\", x=x, y=y1)\n",
    "fig.add_bar(name=\"Unmapped\", x=x, y=y2)\n",
    "fig.update_layout(barmode=\"relative\", title_text=\"Map-to-pan - Unmatched nonreference genes\")\n",
    "fig.update_yaxes(title_text=\"# of genes\")\n",
    "fig.show()"
   ]
  },
  {
   "cell_type": "markdown",
   "metadata": {},
   "source": [
    "## Discrepancies\n",
    "Analyze discrepancies between each PG and the HQ PG"
   ]
  },
  {
   "cell_type": "code",
   "execution_count": null,
   "metadata": {},
   "outputs": [],
   "source": [
    "# read discrepancies tsvs\n",
    "dn_discrep = {pg: pd.read_csv(os.path.join(dn_compare[pg],\"discrepancies.tsv\"), sep='\\t', index_col='gene')\n",
    "             for pg in pg_order}\n",
    "mtp_discrep = {pg: pd.read_csv(os.path.join(mtp_compare[pg],\"discrepancies.tsv\"), sep='\\t', index_col='gene')\n",
    "             for pg in pg_order}"
   ]
  },
  {
   "cell_type": "markdown",
   "metadata": {},
   "source": [
    "### Discrpancy type\n",
    "PG+/HQ- or PG-/HQ+"
   ]
  },
  {
   "cell_type": "code",
   "execution_count": null,
   "metadata": {},
   "outputs": [],
   "source": [
    "# {PG : [-1 count, 1 count] }\n",
    "def count_discrep_types(df):\n",
    "    type_1 = len(df.loc[df['type']==1])\n",
    "    type_minus1 = len(df.loc[df['type']==-1])\n",
    "    return [type_minus1, type_1]"
   ]
  },
  {
   "cell_type": "code",
   "execution_count": null,
   "metadata": {},
   "outputs": [],
   "source": [
    "dn_discrep_types = {pg: count_discrep_types(dn_discrep[pg]) for pg in pg_order}\n",
    "mtp_discrep_types = {pg: count_discrep_types(mtp_discrep[pg]) for pg in pg_order}"
   ]
  },
  {
   "cell_type": "code",
   "execution_count": null,
   "metadata": {},
   "outputs": [],
   "source": [
    "# Only consider matched genes (ref + matched non-ref)\n",
    "# {PG : [-1 count, 1 count] }\n",
    "dn_discrep_types_matched = {pg: count_discrep_types(dn_discrep[pg].loc[~dn_discrep[pg].index.str.endswith('unmatched')]) for pg in pg_order}\n",
    "mtp_discrep_types_matched = {pg: count_discrep_types(mtp_discrep[pg].loc[~mtp_discrep[pg].index.str.endswith('unmatched')]) for pg in pg_order}"
   ]
  },
  {
   "cell_type": "code",
   "execution_count": null,
   "metadata": {
    "scrolled": false
   },
   "outputs": [],
   "source": [
    "fig = make_subplots(rows=2, cols=1,\n",
    "                    subplot_titles=(\"De novo\", \"Map-to-pan\"),\n",
    "                   vertical_spacing=0.1)\n",
    "\n",
    "fig.add_trace(go.Bar(name='PG-/HQ+', x=pg_order, y=[dn_discrep_types_matched[pg][0] for pg in pg_order], legendgroup='PG-/HQ+', marker_color='mediumpurple'), row=1, col=1)\n",
    "fig.add_trace(go.Bar(name='PG+/HQ-', x=pg_order, y=[dn_discrep_types_matched[pg][1] for pg in pg_order], legendgroup='PG+/HQ-', marker_color='palegreen'), row=1, col=1)\n",
    "fig.add_trace(go.Bar(name='PG-/HQ+', x=pg_order, y=[mtp_discrep_types_matched[pg][0] for pg in pg_order], showlegend=False, legendgroup='PG-/HQ+', marker_color='mediumpurple'), row=2, col=1)\n",
    "fig.add_trace(go.Bar(name='PG+/HQ-', x=pg_order, y=[mtp_discrep_types_matched[pg][1] for pg in pg_order], showlegend=False, legendgroup='PG+/HQ-', marker_color='palegreen'), row=2, col=1)\n",
    "\n",
    "# Change the bar mode\n",
    "fig.update_layout(barmode='stack')\n",
    "fig.update_yaxes(title_text = \"# of discrepancies\")\n",
    "fig.update_layout(title_text=\"Number of discrepancies - matched genes\")\n",
    "\n",
    "fig.show()"
   ]
  },
  {
   "cell_type": "code",
   "execution_count": null,
   "metadata": {},
   "outputs": [],
   "source": [
    "dn_discrep_matched_df = pd.DataFrame(dn_discrep_types_matched).transpose()\n",
    "dn_discrep_matched_df.columns = ['PG-/HQ+','PG+/HQ-']\n",
    "mtp_discrep_matched_df = pd.DataFrame(mtp_discrep_types_matched).transpose()\n",
    "mtp_discrep_matched_df.columns = ['PG-/HQ+','PG+/HQ-']\n",
    "\n",
    "discrep_matched_df = dn_discrep_matched_df.join(mtp_discrep_matched_df, rsuffix='MTP_')\n",
    "discrep_matched_df.columns = pd.MultiIndex.from_product([['De novo','Map-to-pan'],['PG-/HQ+','PG+/HQ-']])\n",
    "discrep_matched_df"
   ]
  },
  {
   "cell_type": "markdown",
   "metadata": {},
   "source": [
    "### Discrepancies per gene"
   ]
  },
  {
   "cell_type": "code",
   "execution_count": null,
   "metadata": {},
   "outputs": [],
   "source": [
    "dn_discrep_matched = {pg : dn_discrep[pg].dropna() for pg in dn_discrep}\n",
    "mtp_discrep_matched = {pg : mtp_discrep[pg].dropna() for pg in mtp_discrep}"
   ]
  },
  {
   "cell_type": "code",
   "execution_count": null,
   "metadata": {},
   "outputs": [],
   "source": [
    "dn_genes_with_x_discrep = pd.DataFrame({pg: dn_discrep_matched[pg].index.value_counts().value_counts() for pg in pg_order}).transpose().reset_index().melt(id_vars='index', value_vars=range(1,8))\n",
    "dn_genes_with_x_discrep.columns = ['PG', 'discrepancies','genes']\n",
    "mtp_genes_with_x_discrep = pd.DataFrame({pg: mtp_discrep_matched[pg].index.value_counts().value_counts() for pg in pg_order}).transpose().reset_index().melt(id_vars='index', value_vars=range(1,8))\n",
    "mtp_genes_with_x_discrep.columns = ['PG', 'discrepancies','genes']"
   ]
  },
  {
   "cell_type": "code",
   "execution_count": null,
   "metadata": {},
   "outputs": [],
   "source": [
    "fig = px.line(dn_genes_with_x_discrep, x='discrepancies', y='genes', color='PG', title=\"Discrepancies per gene - De novo\")\n",
    "fig.show()"
   ]
  },
  {
   "cell_type": "code",
   "execution_count": null,
   "metadata": {},
   "outputs": [],
   "source": [
    "fig = px.line(mtp_genes_with_x_discrep, x='discrepancies', y='genes', color='PG', title=\"Discrepancies per gene - Map-to-pan\")\n",
    "fig.show()"
   ]
  }
 ],
 "metadata": {
  "kernelspec": {
   "display_name": "Python 3",
   "language": "python",
   "name": "python3"
  },
  "language_info": {
   "codemirror_mode": {
    "name": "ipython",
    "version": 3
   },
   "file_extension": ".py",
   "mimetype": "text/x-python",
   "name": "python",
   "nbconvert_exporter": "python",
   "pygments_lexer": "ipython3",
   "version": "3.8.6"
  }
 },
 "nbformat": 4,
 "nbformat_minor": 4
}
