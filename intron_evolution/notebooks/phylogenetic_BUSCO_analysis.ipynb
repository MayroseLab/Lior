{
 "cells": [
  {
   "cell_type": "code",
   "execution_count": 1,
   "id": "26f94f54-ef2a-4443-a443-760bf46b2dec",
   "metadata": {},
   "outputs": [
    {
     "name": "stderr",
     "output_type": "stream",
     "text": [
      "\n",
      "Attaching package: ‘dplyr’\n",
      "\n",
      "\n",
      "The following objects are masked from ‘package:stats’:\n",
      "\n",
      "    filter, lag\n",
      "\n",
      "\n",
      "The following objects are masked from ‘package:base’:\n",
      "\n",
      "    intersect, setdiff, setequal, union\n",
      "\n",
      "\n",
      "\n",
      "Attaching package: ‘ape’\n",
      "\n",
      "\n",
      "The following object is masked from ‘package:dplyr’:\n",
      "\n",
      "    where\n",
      "\n",
      "\n",
      "Loading required package: maps\n",
      "\n",
      "Warning message:\n",
      "“package ‘RRphylo’ was built under R version 4.3.1”\n",
      "Loading required package: emmeans\n",
      "\n",
      "\n",
      "Attaching package: ‘RRphylo’\n",
      "\n",
      "\n",
      "The following object is masked from ‘package:phytools’:\n",
      "\n",
      "    node.paths\n",
      "\n",
      "\n"
     ]
    }
   ],
   "source": [
    "library(dplyr)\n",
    "library(ape)\n",
    "library(phytools)\n",
    "library(RRphylo)"
   ]
  },
  {
   "cell_type": "markdown",
   "id": "c4d72232-ce35-41ec-9bb6-b3ed50635534",
   "metadata": {},
   "source": [
    "## Load and prepare data"
   ]
  },
  {
   "cell_type": "code",
   "execution_count": 2,
   "id": "8b9ecbd0-407e-4123-a725-2240797b0b91",
   "metadata": {},
   "outputs": [],
   "source": [
    "simplify = function(s){\n",
    "    v = unlist(strsplit(s, '_'))\n",
    "    return(paste(v[1], v[2], sep='_'))\n",
    "}"
   ]
  },
  {
   "cell_type": "markdown",
   "id": "3c2b8208-e2eb-493e-93ea-342d6af307eb",
   "metadata": {},
   "source": [
    "### BUSCO matrices"
   ]
  },
  {
   "cell_type": "code",
   "execution_count": 3,
   "id": "dc8c2bb9-773c-4f77-bdfb-bed4da654353",
   "metadata": {},
   "outputs": [],
   "source": [
    "wd = \"/groups/itay_mayrose_nosnap/liorglic/Projects/intron_evolution/output/species_level_analysis/RESULT_euk_new\""
   ]
  },
  {
   "cell_type": "markdown",
   "id": "e8191192-c287-44c4-9799-97c344021bcc",
   "metadata": {},
   "source": [
    "#### Load BUSCO protein lengths matrix and create mask\n",
    "Based on MAD outliers. This is needed to remove potential errors in orthology assignments."
   ]
  },
  {
   "cell_type": "code",
   "execution_count": 4,
   "id": "72bec3d7-0284-426b-9bd3-c24d6cfc5aab",
   "metadata": {},
   "outputs": [],
   "source": [
    "busco_protein_len_tsv = file.path(wd, 'all_species', 'BUSCO_protein_len.stats')\n",
    "busco_protein_len_df = read.csv(busco_protein_len_tsv, sep='\\t', row.names = 1)\n",
    "colnames(busco_protein_len_df) = unlist(lapply(colnames(busco_protein_len_df), simplify))"
   ]
  },
  {
   "cell_type": "code",
   "execution_count": 5,
   "id": "7b421549-6f22-486f-9ace-3533e3b37b0c",
   "metadata": {},
   "outputs": [],
   "source": [
    "busco_names = rownames(busco_protein_len_df)\n",
    "mad_outliers = function(v){\n",
    "    med = median(v, na.rm = TRUE)\n",
    "    mad = median(abs(v-med), na.rm = TRUE)\n",
    "    lower = med - 3*mad\n",
    "    upper = med + 3*mad\n",
    "    outliers = (v < lower | v > upper)\n",
    "    names(outliers) = busco_names\n",
    "    return(outliers)\n",
    "}"
   ]
  },
  {
   "cell_type": "code",
   "execution_count": 6,
   "id": "09105110-e1e8-46d7-9427-bfcb7c7947f8",
   "metadata": {},
   "outputs": [],
   "source": [
    "mad_mask = busco_protein_len_df %>% mutate_all(mad_outliers)\n",
    "mad_mask = as.matrix(mad_mask)"
   ]
  },
  {
   "cell_type": "markdown",
   "id": "336ef1d8-9d1d-40a5-8342-91a0485d7089",
   "metadata": {},
   "source": [
    "#### Load matrices with gene structure features\n",
    "Mask each matrix using the MAD mask."
   ]
  },
  {
   "cell_type": "code",
   "execution_count": 7,
   "id": "ec032b29-c03a-4f7b-97ad-2259a5d1228d",
   "metadata": {},
   "outputs": [],
   "source": [
    "load_busco_matrix = function(busco_tsv){\n",
    "    busco_df = read.csv(busco_tsv, sep='\\t', row.names=1)\n",
    "    colnames(busco_df) = unlist(lapply(colnames(busco_df), simplify))\n",
    "    busco_df[mad_mask] = NA\n",
    "    return(busco_df)\n",
    "}"
   ]
  },
  {
   "cell_type": "code",
   "execution_count": 8,
   "id": "66e0c110-d3a1-40de-a78f-ae707f2bf8ba",
   "metadata": {},
   "outputs": [],
   "source": [
    "# intron content (fraction)\n",
    "busco_intron_frac_tsv = file.path(wd, 'all_species', 'BUSCO_intron_frac.stats')\n",
    "busco_intron_frac_df = load_busco_matrix(busco_intron_frac_tsv)\n",
    "# total intron length\n",
    "busco_tot_intron_len_tsv = file.path(wd, 'all_species', 'BUSCO_total_intron_len.stats')\n",
    "busco_tot_intron_len_df = load_busco_matrix(busco_tot_intron_len_tsv)\n",
    "# total exon length\n",
    "busco_tot_exon_len_tsv = file.path(wd, 'all_species', 'BUSCO_total_exon_len.stats')\n",
    "busco_tot_exon_len_df = load_busco_matrix(busco_tot_exon_len_tsv)\n",
    "# number of introns\n",
    "busco_n_introns_tsv = file.path(wd, 'all_species', 'BUSCO_n_introns.stats')\n",
    "busco_n_introns_df = load_busco_matrix(busco_n_introns_tsv)\n",
    "# intron lengths\n",
    "busco_intron_lens_tsv = file.path(wd, 'all_species', 'BUSCO_intron_lens.stats')\n",
    "busco_intron_lens_df = load_busco_matrix(busco_intron_lens_tsv)"
   ]
  },
  {
   "cell_type": "markdown",
   "id": "67aff8e8-5f0f-4f55-bf91-41f3bfe68476",
   "metadata": {},
   "source": [
    "#### Calculate species means\n",
    "Species means across all BUSCOs"
   ]
  },
  {
   "cell_type": "code",
   "execution_count": 9,
   "id": "dd90ee59-90b5-4435-ba15-0dab647cda13",
   "metadata": {},
   "outputs": [],
   "source": [
    "calc_sp_means = function(busco_df){\n",
    "    sp_means = busco_df %>% summarize_all(.funs = mean, na.rm = TRUE) %>% unlist() %>% as.vector()\n",
    "    names(sp_means) = colnames(busco_df)\n",
    "    return(sp_means)\n",
    "}"
   ]
  },
  {
   "cell_type": "code",
   "execution_count": 10,
   "id": "7126d996-015e-4e25-95aa-43b1c6357b61",
   "metadata": {},
   "outputs": [],
   "source": [
    "busco_intron_frac_sp_means_df = calc_sp_means(busco_intron_frac_df)\n",
    "busco_tot_intron_len_sp_means_df = calc_sp_means(busco_tot_intron_len_df)\n",
    "busco_tot_exon_len_sp_means_df = calc_sp_means(busco_tot_exon_len_df)\n",
    "busco_n_introns_sp_means_df = calc_sp_means(busco_n_introns_df)"
   ]
  },
  {
   "cell_type": "markdown",
   "id": "9ab56dac-b396-4123-88f8-97e902bafcd4",
   "metadata": {},
   "source": [
    "For intron lengths, we need to do it a bit differently"
   ]
  },
  {
   "cell_type": "code",
   "execution_count": 11,
   "id": "d40d3c1b-220a-4fbc-abfb-da806b0eb622",
   "metadata": {},
   "outputs": [],
   "source": [
    "calc_sp_means_split = function(x){\n",
    "    return(mean(as.numeric(unlist(strsplit(as.character(x), ','))), na.rm=TRUE))\n",
    "}"
   ]
  },
  {
   "cell_type": "code",
   "execution_count": 12,
   "id": "bbb224f3-a0f3-4286-9f74-211e023df4c5",
   "metadata": {},
   "outputs": [],
   "source": [
    "busco_intron_lens_sp_means_df = busco_intron_lens_df %>% summarize_all(.funs = calc_sp_means_split) %>% unlist() %>% as.vector()\n",
    "names(busco_intron_lens_sp_means_df) = colnames(busco_intron_lens_df)"
   ]
  },
  {
   "cell_type": "markdown",
   "id": "cca5992d-fd68-42b1-9225-ce54f00280d6",
   "metadata": {},
   "source": [
    "Combine all species means into one data frame containing all gene structure features"
   ]
  },
  {
   "cell_type": "code",
   "execution_count": 13,
   "id": "4230a4ea-66cf-444f-a70e-9515d98a1d5d",
   "metadata": {},
   "outputs": [],
   "source": [
    "busco_sp_means_df = cbind(busco_intron_frac_sp_means_df, busco_tot_intron_len_sp_means_df, busco_tot_exon_len_sp_means_df, busco_n_introns_sp_means_df, busco_intron_lens_sp_means_df)\n",
    "colnames(busco_sp_means_df) = c('Mean_intron_content', 'Mean_total_intron_length', 'Mean_total_exon_length', 'Mean_n_introns', 'Mean_intron_length')\n",
    "busco_sp_means_df = as.data.frame(busco_sp_means_df)"
   ]
  },
  {
   "cell_type": "markdown",
   "id": "96cfd0eb-215c-4771-a3b7-3c6ff27f8f5a",
   "metadata": {},
   "source": [
    "Log10 transformations"
   ]
  },
  {
   "cell_type": "code",
   "execution_count": 14,
   "id": "9076b035-c70a-48c0-8190-da030988aa82",
   "metadata": {},
   "outputs": [],
   "source": [
    "log10_transform = function(v){\n",
    "    log_v = log10(v)\n",
    "    log_v[is.na(log_v) | is.infinite(log_v)] = 0\n",
    "    return(log_v)\n",
    "}"
   ]
  },
  {
   "cell_type": "code",
   "execution_count": 15,
   "id": "c76ef406-c221-492b-a84a-4ae1080a24e3",
   "metadata": {},
   "outputs": [],
   "source": [
    "busco_sp_means_df$log_Mean_intron_length = log10_transform(busco_sp_means_df$Mean_intron_length)\n",
    "busco_sp_means_df$log_Mean_total_exon_length = log10_transform(busco_sp_means_df$Mean_total_exon_length)\n",
    "busco_sp_means_df$log_Mean_total_intron_length = log10_transform(busco_sp_means_df$Mean_total_intron_length)"
   ]
  },
  {
   "cell_type": "markdown",
   "id": "f4b996ba-0902-4b48-8b29-98e4a8156e23",
   "metadata": {},
   "source": [
    "### Phylogeny"
   ]
  },
  {
   "cell_type": "code",
   "execution_count": 16,
   "id": "6440dc5c-2021-4c45-868a-a17863c4bc2c",
   "metadata": {},
   "outputs": [],
   "source": [
    "euk_tree = \"../data/ENSEMBL_species_lists/species_clean_nospace.nwk\"\n",
    "euk_tree = read.tree(euk_tree)\n",
    "euk_tree = di2multi(euk_tree, tol=1)"
   ]
  },
  {
   "cell_type": "code",
   "execution_count": 17,
   "id": "28d0b2cc-2c4c-48e8-9a28-10485a47d75f",
   "metadata": {},
   "outputs": [],
   "source": [
    "tips = euk_tree$tip.label\n",
    "nodes<-sapply(tips,function(x,y) which(y==x),y=euk_tree$tip.label)\n",
    "## then get the edge lengths for those nodes\n",
    "edge.lengths<-setNames(euk_tree$edge.length[sapply(nodes,\n",
    "    function(x,y) which(y==x),y=euk_tree$edge[,2])],names(nodes))"
   ]
  },
  {
   "cell_type": "code",
   "execution_count": 18,
   "id": "90b29e02-42e8-4a4d-9245-4ae77a9e9dec",
   "metadata": {},
   "outputs": [],
   "source": [
    "# Remove terminal branches shorter than 1M years\n",
    "THRESHOLD = 1\n",
    "\n",
    "tip.label.to.node.num = function(tree,label){\n",
    "    return(which(tree$tip.label == label))\n",
    "}\n",
    "\n",
    "get_tips = function(node){\n",
    "    tips = names(tip_parents[which(tip_parents == node)])\n",
    "}\n",
    "\n",
    "get.branch.len = function(tree, node){\n",
    "    return(tree$edge.length[which(tree$edge[,2]==node)])\n",
    "}\n",
    "\n",
    "terminal_branch_len = c(-Inf)\n",
    "while (any(terminal_branch_len < THRESHOLD)){\n",
    "    # find the node numbers at the tips\n",
    "    tip_node_num = sapply(euk_tree$tip.label, tip.label.to.node.num, tree=euk_tree)\n",
    "    # find parent nodes of tips\n",
    "    tip_parents = sapply(tip_node_num, getParent, tree=euk_tree)\n",
    "    # get the children for each tip parent\n",
    "    tip_parents = sapply(as.character(unique(tip_parents)), get_tips)\n",
    "    # get terminal branch lengths\n",
    "    #terminal_branch_len = sapply(names(tip_parents), get.branch.len, tree=euk_tree)\n",
    "    terminal_branch_len = setNames(euk_tree$edge.length[sapply(tip_node_num,\n",
    "    function(x,y) which(y==x),y=euk_tree$edge[,2])],names(tip_node_num))\n",
    "    to_drop = c()\n",
    "    for (parent in names(tip_parents)){\n",
    "        #if (terminal_branch_len[[parent]] < THRESHOLD){\n",
    "        if (terminal_branch_len[tip_parents[[parent]][1]] < THRESHOLD){\n",
    "            to_drop = c(to_drop, tip_parents[[parent]][1])\n",
    "        }\n",
    "        else if (length(tip_parents[[parent]]) == 2 & terminal_branch_len[tip_parents[[parent]][2]] < THRESHOLD){\n",
    "            to_drop = c(to_drop, tip_parents[[parent]][2])\n",
    "        }\n",
    "    }\n",
    "    euk_tree = ape::drop.tip(euk_tree, to_drop)\n",
    "}"
   ]
  },
  {
   "cell_type": "markdown",
   "id": "24be45a9-e908-42c7-83b3-51148a2cb633",
   "metadata": {},
   "source": [
    "### Phylum assignment\n",
    "Assignment of species to phyla and selecting phyla with >10 species"
   ]
  },
  {
   "cell_type": "code",
   "execution_count": 19,
   "id": "e45c8cfb-95f9-488c-92b5-7a653b60e888",
   "metadata": {},
   "outputs": [],
   "source": [
    "phylum_tsv = \"../output/species_level_analysis/species_euk_phylum.tsv\"\n",
    "phylum_df = read.table(phylum_tsv, sep='\\t', header = TRUE)"
   ]
  },
  {
   "cell_type": "code",
   "execution_count": 20,
   "id": "c6e4a2dc-8e24-4fa2-a9b5-a49938ca2920",
   "metadata": {},
   "outputs": [],
   "source": [
    "species_phyla = phylum_df$phylum\n",
    "names(species_phyla) = phylum_df$species"
   ]
  },
  {
   "cell_type": "code",
   "execution_count": 21,
   "id": "fc87acef-c012-4f42-b07a-8abc2cfab955",
   "metadata": {},
   "outputs": [
    {
     "data": {
      "text/html": [
       "<style>\n",
       ".list-inline {list-style: none; margin:0; padding: 0}\n",
       ".list-inline>li {display: inline-block}\n",
       ".list-inline>li:not(:last-child)::after {content: \"\\00b7\"; padding: 0 .5ex}\n",
       "</style>\n",
       "<ol class=list-inline><li>'Arthropoda'</li><li>'Ascomycota'</li><li>'Chordata'</li><li>'Cnidaria'</li><li>'Mollusca'</li><li>'Nematoda'</li><li>'Streptophyta'</li></ol>\n"
      ],
      "text/latex": [
       "\\begin{enumerate*}\n",
       "\\item 'Arthropoda'\n",
       "\\item 'Ascomycota'\n",
       "\\item 'Chordata'\n",
       "\\item 'Cnidaria'\n",
       "\\item 'Mollusca'\n",
       "\\item 'Nematoda'\n",
       "\\item 'Streptophyta'\n",
       "\\end{enumerate*}\n"
      ],
      "text/markdown": [
       "1. 'Arthropoda'\n",
       "2. 'Ascomycota'\n",
       "3. 'Chordata'\n",
       "4. 'Cnidaria'\n",
       "5. 'Mollusca'\n",
       "6. 'Nematoda'\n",
       "7. 'Streptophyta'\n",
       "\n",
       "\n"
      ],
      "text/plain": [
       "[1] \"Arthropoda\"   \"Ascomycota\"   \"Chordata\"     \"Cnidaria\"     \"Mollusca\"    \n",
       "[6] \"Nematoda\"     \"Streptophyta\""
      ]
     },
     "metadata": {},
     "output_type": "display_data"
    }
   ],
   "source": [
    "species_by_phylum = as.data.frame(table(species_phyla))\n",
    "phyla10 = species_by_phylum[species_by_phylum$Freq >= 10,'species_phyla']\n",
    "phyla10 = as.character(phyla10)\n",
    "phyla10"
   ]
  },
  {
   "cell_type": "code",
   "execution_count": 22,
   "id": "d99f5bef-97d7-4a8e-92e5-ba2511232808",
   "metadata": {},
   "outputs": [],
   "source": [
    "phyla10_species = phylum_df[phylum_df$phylum %in% phyla10, 'species']"
   ]
  },
  {
   "cell_type": "code",
   "execution_count": 23,
   "id": "aff75dba-1dc3-4601-b7b1-0d6663af2c43",
   "metadata": {},
   "outputs": [],
   "source": [
    "# add phylum information to species means df\n",
    "busco_sp_means_df$species = rownames(busco_sp_means_df)\n",
    "busco_sp_means_df = left_join(busco_sp_means_df, phylum_df, by='species')\n",
    "rownames(busco_sp_means_df) = busco_sp_means_df$species"
   ]
  },
  {
   "cell_type": "code",
   "execution_count": 24,
   "id": "7e441710-0cf8-445f-a3b2-55c331e00c0e",
   "metadata": {},
   "outputs": [],
   "source": [
    "busco_sp_means_phyla10_df = busco_sp_means_df[busco_sp_means_df$phylum %in% phyla10,]"
   ]
  },
  {
   "cell_type": "markdown",
   "id": "1c7cab0a-50d5-406b-8c27-4eea358a5eba",
   "metadata": {},
   "source": [
    "## Modeling gene structure\n",
    "Based on BUSCO data"
   ]
  },
  {
   "cell_type": "markdown",
   "id": "2dca7525-8e35-4a7d-a95d-445482772733",
   "metadata": {},
   "source": [
    "### Species means"
   ]
  },
  {
   "cell_type": "markdown",
   "id": "c12d5065-b554-49aa-9025-cc9d934a3885",
   "metadata": {},
   "source": [
    "#### Intron content\n",
    "Fit a model where the intron content is explained by the total intron and total exon lengths"
   ]
  },
  {
   "cell_type": "code",
   "execution_count": 35,
   "id": "1073e5cd-d02a-4b34-9a49-97faf2e2057f",
   "metadata": {},
   "outputs": [],
   "source": [
    "# Run RRphylo on BUSCO species means intron content\n",
    "busco_intron_content = busco_sp_means_df$Mean_intron_content\n",
    "names(busco_intron_content) = rownames(busco_sp_means_df)\n",
    "busco_intron_content_rrphylo = RRphylo(tree = euk_tree, y = busco_intron_content)"
   ]
  },
  {
   "cell_type": "code",
   "execution_count": 36,
   "id": "87d77e59-6f79-4595-83c9-272e77817cef",
   "metadata": {},
   "outputs": [
    {
     "data": {
      "text/plain": [
       "\n",
       "Call:\n",
       "phylolm::phylolm(formula = modform, data = data, phy = tree, \n",
       "    model = model, method = method)\n",
       "\n",
       "   AIC logLik \n",
       " -2101   1055 \n",
       "\n",
       "Raw residuals:\n",
       "     Min       1Q   Median       3Q      Max \n",
       "-0.25027 -0.04363  0.22501  0.31178  0.39548 \n",
       "\n",
       "Mean tip height: 1225.956\n",
       "Parameter estimate(s) using ML:\n",
       "sigma2: 1.416589e-05 \n",
       "\n",
       "Coefficients:\n",
       "                               Estimate     StdErr t.value   p.value    \n",
       "(Intercept)                   0.5535394  0.0685078  8.0799 3.876e-15 ***\n",
       "log_Mean_total_intron_length  0.0887187  0.0065421 13.5613 < 2.2e-16 ***\n",
       "log_Mean_total_exon_length   -0.1345378  0.0165500 -8.1292 2.696e-15 ***\n",
       "---\n",
       "Signif. codes:  0 ‘***’ 0.001 ‘**’ 0.01 ‘*’ 0.05 ‘.’ 0.1 ‘ ’ 1\n",
       "\n",
       "R-squared: 0.2748\tAdjusted R-squared: 0.2722 "
      ]
     },
     "metadata": {},
     "output_type": "display_data"
    }
   ],
   "source": [
    "busco_intron_content_sp_means_pgls = PGLS_fossil(modform= Mean_intron_content ~ log_Mean_total_intron_length + log_Mean_total_exon_length, data=busco_sp_means_df, RR=busco_intron_content_rrphylo)\n",
    "summary(busco_intron_content_sp_means_pgls)"
   ]
  },
  {
   "cell_type": "markdown",
   "id": "8c60af1b-18a6-4af9-a717-542c6bd57709",
   "metadata": {},
   "source": [
    "__Compare to the model fitted to whole genome data set__"
   ]
  },
  {
   "cell_type": "code",
   "execution_count": 37,
   "id": "270eb3db-a982-43fa-9712-207b15e86f6a",
   "metadata": {},
   "outputs": [],
   "source": [
    "load('intron_content_sp_means_pgls.RData')"
   ]
  },
  {
   "cell_type": "code",
   "execution_count": 38,
   "id": "cd6089b7-8b08-4bce-afb1-1b0ad0b3fc91",
   "metadata": {},
   "outputs": [
    {
     "data": {
      "text/plain": [
       "\n",
       "Call:\n",
       "phylolm::phylolm(formula = modform, data = data, phy = tree, \n",
       "    model = model, method = method)\n",
       "\n",
       "   AIC logLik \n",
       " -2117   1062 \n",
       "\n",
       "Raw residuals:\n",
       "     Min       1Q   Median       3Q      Max \n",
       "-0.29225  0.00981  0.19015  0.26347  0.36382 \n",
       "\n",
       "Mean tip height: 1174.936\n",
       "Parameter estimate(s) using ML:\n",
       "sigma2: 1.205246e-05 \n",
       "\n",
       "Coefficients:\n",
       "                                              Estimate     StdErr t.value\n",
       "(Intercept)                                  0.0617214  0.0495260  1.2462\n",
       "Mean_total_exon_length_per_transcript_log   -0.0353313  0.0043338 -8.1526\n",
       "Mean_total_intron_length_per_transcript_log  0.1143764  0.0090240 12.6747\n",
       "                                              p.value    \n",
       "(Intercept)                                    0.2132    \n",
       "Mean_total_exon_length_per_transcript_log   2.268e-15 ***\n",
       "Mean_total_intron_length_per_transcript_log < 2.2e-16 ***\n",
       "---\n",
       "Signif. codes:  0 ‘***’ 0.001 ‘**’ 0.01 ‘*’ 0.05 ‘.’ 0.1 ‘ ’ 1\n",
       "\n",
       "R-squared: 0.2197\tAdjusted R-squared: 0.217 "
      ]
     },
     "metadata": {},
     "output_type": "display_data"
    }
   ],
   "source": [
    "summary(intron_content_sp_means_pgls)"
   ]
  },
  {
   "cell_type": "code",
   "execution_count": 39,
   "id": "2b39eb8e-d0d1-4148-af0e-598edd4153b5",
   "metadata": {},
   "outputs": [],
   "source": [
    "busco_intron_content_sp_means_pgls_pred = predict(busco_intron_content_sp_means_pgls)\n",
    "intron_content_sp_means_pgls_pred = predict(intron_content_sp_means_pgls)"
   ]
  },
  {
   "cell_type": "code",
   "execution_count": 40,
   "id": "3b6e3950-3cb5-4870-a125-03724f3129f5",
   "metadata": {},
   "outputs": [],
   "source": [
    "pred_df = as.data.frame(cbind(busco_intron_content_sp_means_pgls_pred, intron_content_sp_means_pgls_pred))"
   ]
  },
  {
   "cell_type": "code",
   "execution_count": 41,
   "id": "97a98ae1-8366-4efe-8fbd-8c72b57257ed",
   "metadata": {},
   "outputs": [
    {
     "data": {
      "text/html": [
       "0.781481031353392"
      ],
      "text/latex": [
       "0.781481031353392"
      ],
      "text/markdown": [
       "0.781481031353392"
      ],
      "text/plain": [
       "[1] 0.781481"
      ]
     },
     "metadata": {},
     "output_type": "display_data"
    }
   ],
   "source": [
    "cor(pred_df$busco_intron_content_sp_means_pgls_pred, pred_df$intron_content_sp_means_pgls_pred)**2"
   ]
  },
  {
   "cell_type": "markdown",
   "id": "4781ff52-7174-4371-af74-1fe6e17247c8",
   "metadata": {},
   "source": [
    "__Phylogenetic ANOVA__"
   ]
  },
  {
   "cell_type": "code",
   "execution_count": 42,
   "id": "8ffc0b63-7328-4e81-ae1d-ed5717aacd44",
   "metadata": {},
   "outputs": [],
   "source": [
    "busco_intron_content_rescaled_tree = rescaleRR(euk_tree, RR=busco_intron_content_rrphylo)"
   ]
  },
  {
   "cell_type": "code",
   "execution_count": 27,
   "id": "63afa2d3-88d4-480f-a4ca-e87d2f80ad45",
   "metadata": {},
   "outputs": [],
   "source": [
    "keep.tip = function(phy, tip){\n",
    "    all_tips = phy$tip.label\n",
    "    drop = setdiff(all_tips, tip)\n",
    "    return(drop.tip(phy,drop))\n",
    "}"
   ]
  },
  {
   "cell_type": "code",
   "execution_count": 44,
   "id": "bb5f8f97-3431-4c30-925f-b5eebeb3a8ac",
   "metadata": {},
   "outputs": [
    {
     "data": {
      "text/plain": [
       "ANOVA table: Phylogenetic ANOVA\n",
       "\n",
       "Response: y\n",
       "            Sum Sq  Mean Sq    F value Pr(>F)\n",
       "x        24.367593 4.061265 230.393634  0.082\n",
       "Residual  9.078166 0.017628                  \n",
       "\n",
       "P-value based on simulation.\n",
       "---------\n",
       "\n",
       "Pairwise posthoc test using method = \"holm\"\n",
       "\n",
       "Pairwise t-values:\n",
       "             Arthropoda Ascomycota   Chordata   Cnidaria   Mollusca  Nematoda\n",
       "Arthropoda     0.000000  12.950035 -25.085590  -5.697389  -9.091334 -0.231444\n",
       "Ascomycota   -12.950035   0.000000 -31.242087 -12.075096 -15.469778 -6.952369\n",
       "Chordata      25.085590  31.242087   0.000000   3.117426   0.036439  8.719873\n",
       "Cnidaria       5.697389  12.075096  -3.117426   0.000000  -2.275217  4.039982\n",
       "Mollusca       9.091334  15.469778  -0.036439   2.275217   0.000000  6.410270\n",
       "Nematoda       0.231444   6.952369  -8.719873  -4.039982  -6.410270  0.000000\n",
       "Streptophyta  10.212151  20.366765 -11.806685  -1.304550  -4.477640  4.121555\n",
       "             Streptophyta\n",
       "Arthropoda     -10.212151\n",
       "Ascomycota     -20.366765\n",
       "Chordata        11.806685\n",
       "Cnidaria         1.304550\n",
       "Mollusca         4.477640\n",
       "Nematoda        -4.121555\n",
       "Streptophyta     0.000000\n",
       "\n",
       "Pairwise corrected P-values:\n",
       "             Arthropoda Ascomycota Chordata Cnidaria Mollusca Nematoda\n",
       "Arthropoda        1.000      1.000    0.294        1     0.63    1.000\n",
       "Ascomycota        1.000      1.000    0.551        1     0.52    1.000\n",
       "Chordata          0.294      0.551    1.000        1     1.00    0.867\n",
       "Cnidaria          1.000      1.000    1.000        1     1.00    1.000\n",
       "Mollusca          0.630      0.520    1.000        1     1.00    1.000\n",
       "Nematoda          1.000      1.000    0.867        1     1.00    1.000\n",
       "Streptophyta      1.000      1.000    1.000        1     1.00    1.000\n",
       "             Streptophyta\n",
       "Arthropoda              1\n",
       "Ascomycota              1\n",
       "Chordata                1\n",
       "Cnidaria                1\n",
       "Mollusca                1\n",
       "Nematoda                1\n",
       "Streptophyta            1\n",
       "---------\n"
      ]
     },
     "metadata": {},
     "output_type": "display_data"
    }
   ],
   "source": [
    "busco_intron_content_rescaled_tree_phyla10 = keep.tip(busco_intron_content_rescaled_tree, phyla10_species)\n",
    "set.seed(100)\n",
    "x = busco_sp_means_phyla10_df$phylum\n",
    "names(x) = rownames(busco_sp_means_phyla10_df)\n",
    "y = busco_sp_means_phyla10_df$Mean_intron_content\n",
    "names(y) = rownames(busco_sp_means_phyla10_df)\n",
    "busco_intron_content_sp_means_phyl_anova = phylANOVA(busco_intron_content_rescaled_tree_phyla10, x, y)\n",
    "busco_intron_content_sp_means_phyl_anova"
   ]
  },
  {
   "cell_type": "markdown",
   "id": "542ac90b-ed41-4aa8-9b01-3bd23ba34749",
   "metadata": {},
   "source": [
    "#### Total intron length\n",
    "Total intron length ~ Mean intron length * Mean number of introns"
   ]
  },
  {
   "cell_type": "code",
   "execution_count": 45,
   "id": "340a38f2-e30d-4f4d-87a7-94488cf2264e",
   "metadata": {},
   "outputs": [],
   "source": [
    "busco_tot_intron_length = busco_sp_means_df$log_Mean_total_intron_length\n",
    "names(busco_tot_intron_length) = rownames(busco_sp_means_df)\n",
    "busco_tot_intron_length_rrphylo = RRphylo(tree = euk_tree, y = busco_tot_intron_length)"
   ]
  },
  {
   "cell_type": "code",
   "execution_count": 46,
   "id": "55e39ca7-7b0f-464f-a95d-aa184e38c680",
   "metadata": {},
   "outputs": [
    {
     "data": {
      "text/plain": [
       "\n",
       "Call:\n",
       "phylolm::phylolm(formula = modform, data = data, phy = tree, \n",
       "    model = model, method = method)\n",
       "\n",
       "   AIC logLik \n",
       " -2168   1089 \n",
       "\n",
       "Raw residuals:\n",
       "     Min       1Q   Median       3Q      Max \n",
       "-2.46463  0.06565  0.08682  0.10456  0.14649 \n",
       "\n",
       "Mean tip height: 1275.673\n",
       "Parameter estimate(s) using ML:\n",
       "sigma2: 1.454429e-05 \n",
       "\n",
       "Coefficients:\n",
       "                                        Estimate     StdErr t.value   p.value\n",
       "(Intercept)                           -0.1464948  0.0793444 -1.8463   0.06536\n",
       "log_Mean_intron_length                 1.1553566  0.0235307 49.0999 < 2.2e-16\n",
       "Mean_n_introns                         0.1364115  0.0098458 13.8547 < 2.2e-16\n",
       "log_Mean_intron_length:Mean_n_introns -0.0250989  0.0032963 -7.6142 1.108e-13\n",
       "                                         \n",
       "(Intercept)                           .  \n",
       "log_Mean_intron_length                ***\n",
       "Mean_n_introns                        ***\n",
       "log_Mean_intron_length:Mean_n_introns ***\n",
       "---\n",
       "Signif. codes:  0 ‘***’ 0.001 ‘**’ 0.01 ‘*’ 0.05 ‘.’ 0.1 ‘ ’ 1\n",
       "\n",
       "R-squared: 0.9149\tAdjusted R-squared: 0.9145 "
      ]
     },
     "metadata": {},
     "output_type": "display_data"
    }
   ],
   "source": [
    "busco_tot_intron_length_sp_means_pgls = PGLS_fossil(modform=  log_Mean_total_intron_length ~ log_Mean_intron_length * Mean_n_introns, data=busco_sp_means_df, RR=busco_tot_intron_length_rrphylo)\n",
    "summary(busco_tot_intron_length_sp_means_pgls)"
   ]
  },
  {
   "cell_type": "code",
   "execution_count": 47,
   "id": "92edaff4-19ca-484b-b4f1-4f72f822b7d0",
   "metadata": {},
   "outputs": [
    {
     "data": {
      "text/html": [
       "0.751252013292486"
      ],
      "text/latex": [
       "0.751252013292486"
      ],
      "text/markdown": [
       "0.751252013292486"
      ],
      "text/plain": [
       "[1] 0.751252"
      ]
     },
     "metadata": {},
     "output_type": "display_data"
    }
   ],
   "source": [
    "# Mean intron length partial R^2\n",
    "summary(PGLS_fossil(modform=  log_Mean_total_intron_length ~ log_Mean_intron_length, data=busco_sp_means_df, RR=busco_tot_intron_length_rrphylo))$adj.r.squared"
   ]
  },
  {
   "cell_type": "code",
   "execution_count": 48,
   "id": "da6f8104-120e-4d89-9959-9e91c414c22d",
   "metadata": {},
   "outputs": [
    {
     "data": {
      "text/html": [
       "0.10278025341089"
      ],
      "text/latex": [
       "0.10278025341089"
      ],
      "text/markdown": [
       "0.10278025341089"
      ],
      "text/plain": [
       "[1] 0.1027803"
      ]
     },
     "metadata": {},
     "output_type": "display_data"
    }
   ],
   "source": [
    "# Mean number of introns partial R^2\n",
    "summary(PGLS_fossil(modform=  log_Mean_total_intron_length ~ Mean_n_introns, data=busco_sp_means_df, RR=busco_tot_intron_length_rrphylo))$adj.r.squared"
   ]
  },
  {
   "cell_type": "markdown",
   "id": "92dfe340-54c4-4e39-b6f1-f0a94af16067",
   "metadata": {},
   "source": [
    "### Per BUSCO\n",
    "Analyze gene structure evolution per BUSCO"
   ]
  },
  {
   "cell_type": "code",
   "execution_count": 86,
   "id": "e295ce64-4b59-4673-a96c-03ebbebfc99a",
   "metadata": {},
   "outputs": [],
   "source": [
    "analyze_busco = function(busco_df, busco_id){\n",
    "    busco_data = as.numeric(busco_df[busco_id,])\n",
    "    names(busco_data) = colnames(busco_df)\n",
    "    busco_data = busco_data[!is.na(busco_data)]\n",
    "    if (length(busco_data) < 50){\n",
    "        return(NA)\n",
    "    }\n",
    "    busco_tree = keep.tip(euk_tree, names(busco_data))\n",
    "    rrphylo = RRphylo(tree = busco_tree, y = busco_data)\n",
    "    rescaled_tree = rescaleRR(busco_tree, RR=rrphylo)\n",
    "    # subset tree and data for phyla with >10 species\n",
    "    rescaled_tree_phyla10 = keep.tip(rescaled_tree, phyla10_species)\n",
    "    busco_data_phyla10 = busco_data[rescaled_tree_phyla10$tip.label]\n",
    "    # phylogenetic ANOVA\n",
    "    set.seed(100)\n",
    "    x = species_phyla[names(busco_data_phyla10)]\n",
    "    y = busco_data_phyla10\n",
    "    phyl_anova = phylANOVA(rescaled_tree_phyla10, x, y) \n",
    "    return (list(data=busco_data, rrphylo=rrphylo, phyl_ANOVA=phyl_anova))\n",
    "}"
   ]
  },
  {
   "cell_type": "raw",
   "id": "20f21c8c-1b47-4e13-9033-c0b1378f5419",
   "metadata": {
    "scrolled": true
   },
   "source": [
    "per_buscp_analysis_res = list()\n",
    "for (busco_id in rownames(busco_intron_frac_df)){\n",
    "    print(busco_id)\n",
    "    per_buscp_analysis_res[[busco_id]] = analyze_busco(busco_intron_frac_df, busco_id)\n",
    "}"
   ]
  },
  {
   "cell_type": "raw",
   "id": "e7b9de77-14bc-43d8-b869-14f81b07648d",
   "metadata": {},
   "source": [
    "save(per_buscp_analysis_res, file='per_buscp_analysis_res.RData')"
   ]
  },
  {
   "cell_type": "code",
   "execution_count": 1,
   "id": "f4ebe187-116f-435d-8863-b20780cc96e0",
   "metadata": {},
   "outputs": [],
   "source": [
    "load('per_buscp_analysis_res.RData')"
   ]
  },
  {
   "cell_type": "code",
   "execution_count": 69,
   "id": "f53fb913-c3be-45bf-a2b3-5e27eb53002d",
   "metadata": {
    "scrolled": true
   },
   "outputs": [
    {
     "data": {
      "text/html": [
       "<table class=\"dataframe\">\n",
       "<caption>A data.frame: 1 × 2</caption>\n",
       "<thead>\n",
       "\t<tr><th></th><th scope=col>brassica_napus</th><th scope=col>brassica_juncea</th></tr>\n",
       "\t<tr><th></th><th scope=col>&lt;dbl&gt;</th><th scope=col>&lt;dbl&gt;</th></tr>\n",
       "</thead>\n",
       "<tbody>\n",
       "\t<tr><th scope=row>1001705at2759</th><td>0.228</td><td>0.213</td></tr>\n",
       "</tbody>\n",
       "</table>\n"
      ],
      "text/latex": [
       "A data.frame: 1 × 2\n",
       "\\begin{tabular}{r|ll}\n",
       "  & brassica\\_napus & brassica\\_juncea\\\\\n",
       "  & <dbl> & <dbl>\\\\\n",
       "\\hline\n",
       "\t1001705at2759 & 0.228 & 0.213\\\\\n",
       "\\end{tabular}\n"
      ],
      "text/markdown": [
       "\n",
       "A data.frame: 1 × 2\n",
       "\n",
       "| <!--/--> | brassica_napus &lt;dbl&gt; | brassica_juncea &lt;dbl&gt; |\n",
       "|---|---|---|\n",
       "| 1001705at2759 | 0.228 | 0.213 |\n",
       "\n"
      ],
      "text/plain": [
       "              brassica_napus brassica_juncea\n",
       "1001705at2759 0.228          0.213          "
      ]
     },
     "metadata": {},
     "output_type": "display_data"
    }
   ],
   "source": [
    "busco_intron_frac_df['1001705at2759', c('brassica_napus','brassica_juncea')]"
   ]
  },
  {
   "cell_type": "code",
   "execution_count": 64,
   "id": "a3e6f211-fa73-4ab9-9de9-cd85432efbfd",
   "metadata": {},
   "outputs": [],
   "source": [
    "tmp_tree = per_buscp_analysis_res$`1001705at2759`$rrphylo$tree\n",
    "tmp_tree$node.label = per_buscp_analysis_res$`1001705at2759`$rrphylo$aces[,1]"
   ]
  },
  {
   "cell_type": "code",
   "execution_count": 51,
   "id": "5d70b191-a4bb-46c9-bc0e-618f5197188b",
   "metadata": {},
   "outputs": [
    {
     "data": {
      "image/png": "[encoded data removed]",
      "text/plain": [
       "Plot with title “Histogram of p”"
      ]
     },
     "metadata": {
      "image/png": {
       "height": 420,
       "width": 420
      }
     },
     "output_type": "display_data"
    }
   ],
   "source": [
    "p = c()\n",
    "for (busco_id in rownames(busco_intron_frac_df)){\n",
    "    if (length(per_buscp_analysis_res[[busco_id]]) == 1){\n",
    "        next\n",
    "    }\n",
    "    p = c(p, per_buscp_analysis_res[[busco_id]]$phyl_ANOVA$Pf)\n",
    "}\n",
    "hist(p)"
   ]
  },
  {
   "cell_type": "code",
   "execution_count": 54,
   "id": "64c1d34b-132f-4b76-aca8-eb1110b5d176",
   "metadata": {},
   "outputs": [
    {
     "data": {
      "text/html": [
       "<style>\n",
       ".list-inline {list-style: none; margin:0; padding: 0}\n",
       ".list-inline>li {display: inline-block}\n",
       ".list-inline>li:not(:last-child)::after {content: \"\\00b7\"; padding: 0 .5ex}\n",
       "</style>\n",
       "<ol class=list-inline><li>7.395</li><li>1.53</li><li>7.905</li><li>4.335</li><li>3.06</li><li>11.73</li><li>8.925</li><li>5.355</li><li>11.73</li><li>5.1</li><li>11.73</li><li>8.415</li><li>4.59</li><li>11.73</li><li>0.255</li><li>7.14</li><li>11.985</li><li>1.53</li></ol>\n"
      ],
      "text/latex": [
       "\\begin{enumerate*}\n",
       "\\item 7.395\n",
       "\\item 1.53\n",
       "\\item 7.905\n",
       "\\item 4.335\n",
       "\\item 3.06\n",
       "\\item 11.73\n",
       "\\item 8.925\n",
       "\\item 5.355\n",
       "\\item 11.73\n",
       "\\item 5.1\n",
       "\\item 11.73\n",
       "\\item 8.415\n",
       "\\item 4.59\n",
       "\\item 11.73\n",
       "\\item 0.255\n",
       "\\item 7.14\n",
       "\\item 11.985\n",
       "\\item 1.53\n",
       "\\end{enumerate*}\n"
      ],
      "text/markdown": [
       "1. 7.395\n",
       "2. 1.53\n",
       "3. 7.905\n",
       "4. 4.335\n",
       "5. 3.06\n",
       "6. 11.73\n",
       "7. 8.925\n",
       "8. 5.355\n",
       "9. 11.73\n",
       "10. 5.1\n",
       "11. 11.73\n",
       "12. 8.415\n",
       "13. 4.59\n",
       "14. 11.73\n",
       "15. 0.255\n",
       "16. 7.14\n",
       "17. 11.985\n",
       "18. 1.53\n",
       "\n",
       "\n"
      ],
      "text/plain": [
       " [1]  7.395  1.530  7.905  4.335  3.060 11.730  8.925  5.355 11.730  5.100\n",
       "[11] 11.730  8.415  4.590 11.730  0.255  7.140 11.985  1.530"
      ]
     },
     "metadata": {},
     "output_type": "display_data"
    }
   ],
   "source": [
    "p[p<0.05]*255"
   ]
  },
  {
   "cell_type": "code",
   "execution_count": null,
   "id": "fec75816-5ef3-4773-ab01-f3299f8dce35",
   "metadata": {},
   "outputs": [],
   "source": []
  },
  {
   "cell_type": "code",
   "execution_count": null,
   "id": "222d5f87-b002-4b1c-8f6d-c5024a115e7b",
   "metadata": {},
   "outputs": [],
   "source": []
  },
  {
   "cell_type": "code",
   "execution_count": 45,
   "id": "37fac757-1269-4948-859d-a322bec35749",
   "metadata": {},
   "outputs": [
    {
     "name": "stdout",
     "output_type": "stream",
     "text": [
      "[1] 396.3505\n",
      " [1] \"lepisosteus_oculatus\"          \"esox_lucius\"                  \n",
      " [3] \"oncorhynchus_mykiss\"           \"oncorhynchus_tshawytscha\"     \n",
      " [5] \"oncorhynchus_kisutch\"          \"salmo_salar\"                  \n",
      " [7] \"hucho_hucho\"                   \"sparus_aurata\"                \n",
      " [9] \"mola_mola\"                     \"tetraodon_nigroviridis\"       \n",
      "[11] \"takifugu_rubripes\"             \"larimichthys_crocea\"          \n",
      "[13] \"dicentrarchus_labrax\"          \"labrus_bergylta\"              \n",
      "[15] \"sander_lucioperca\"             \"cyclopterus_lumpus\"           \n",
      "[17] \"gasterosteus_aculeatus\"        \"cottoperca_gobio\"             \n",
      "[19] \"betta_splendens\"               \"anabas_testudineus\"           \n",
      "[21] \"mastacembelus_armatus\"         \"monopterus_albus\"             \n",
      "[23] \"lates_calcarifer\"              \"scophthalmus_maximus\"         \n",
      "[25] \"cynoglossus_semilaevis\"        \"seriola_dumerili\"             \n",
      "[27] \"seriola_lalandi\"               \"echeneis_naucrates\"           \n",
      "[29] \"amphilophus_citrinellus\"       \"pundamilia_nyererei\"          \n",
      "[31] \"maylandia_zebra\"               \"astatotilapia_calliptera\"     \n",
      "[33] \"haplochromis_burtoni\"          \"neolamprologus_brichardi\"     \n",
      "[35] \"oreochromis_aureus\"            \"oreochromis_niloticus\"        \n",
      "[37] \"oryzias_latipes\"               \"oryzias_sinensis\"             \n",
      "[39] \"oryzias_javanicus\"             \"cyprinodon_variegatus\"        \n",
      "[41] \"fundulus_heteroclitus\"         \"xiphophorus_couchianus\"       \n",
      "[43] \"xiphophorus_maculatus\"         \"gambusia_affinis\"             \n",
      "[45] \"poecilia_mexicana\"             \"poecilia_latipinna\"           \n",
      "[47] \"poecilia_reticulata\"           \"poecilia_formosa\"             \n",
      "[49] \"kryptolebias_marmoratus\"       \"nothobranchius_furzeri\"       \n",
      "[51] \"salarias_fasciatus\"            \"gouania_willdenowi\"           \n",
      "[53] \"amphiprion_ocellaris\"          \"amphiprion_percula\"           \n",
      "[55] \"acanthochromis_polyacanthus\"   \"stegastes_partitus\"           \n",
      "[57] \"parambassis_ranga\"             \"neogobius_melanostomus\"       \n",
      "[59] \"periophthalmus_magnuspinnatus\" \"sphaeramia_orbicularis\"       \n",
      "[61] \"hippocampus_comes\"             \"myripristis_murdjan\"          \n",
      "[63] \"gadus_morhua\"                  \"electrophorus_electricus\"     \n",
      "[65] \"ictalurus_punctatus\"           \"astyanax_mexicanus\"           \n",
      "[67] \"pygocentrus_nattereri\"         \"carassius_auratus\"            \n",
      "[69] \"cyprinus_carpio\"               \"danio_rerio\"                  \n",
      "[71] \"sinocyclocheilus_rhinocerous\"  \"sinocyclocheilus_grahami\"     \n",
      "[73] \"sinocyclocheilus_anshuiensis\"  \"clupea_harengus\"              \n",
      "[75] \"denticeps_clupeoides\"          \"paramormyrops_kingsleyae\"     \n",
      "[77] \"scleropages_formosus\"          \"erpetoichthys_calabaricus\"    \n"
     ]
    }
   ],
   "source": [
    "all_subtrees = subtrees(euk_tree)\n",
    "for (tree in all_subtrees){\n",
    "    tree_age = max(node.depth.edgelength(tree))\n",
    "    if (length(tree$tip.label) >= 30 & tree_age >= 396 & tree_age <= 397){\n",
    "        print(tree_age)\n",
    "        print(tree$tip.label)\n",
    "    }\n",
    "}"
   ]
  },
  {
   "cell_type": "code",
   "execution_count": null,
   "id": "39e09e2d-6770-4c06-a77f-a71784e2b6ad",
   "metadata": {},
   "outputs": [],
   "source": []
  }
 ],
 "metadata": {
  "kernelspec": {
   "display_name": "R",
   "language": "R",
   "name": "ir"
  },
  "language_info": {
   "codemirror_mode": "r",
   "file_extension": ".r",
   "mimetype": "text/x-r-source",
   "name": "R",
   "pygments_lexer": "r",
   "version": "4.2.3"
  }
 },
 "nbformat": 4,
 "nbformat_minor": 5
}
