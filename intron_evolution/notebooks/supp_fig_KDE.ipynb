{
 "cells": [
  {
   "cell_type": "markdown",
   "id": "13d67ffb-f228-4fec-ba75-e13ebb7eea3c",
   "metadata": {},
   "source": [
    "# Supplementary figure - per-species KDE\n",
    "This is an accessory notebook for generating the per-species KDE supplementary figure.  \n",
    "It is not included in the main analysis notebooks since it takes some time and slows down the run."
   ]
  },
  {
   "cell_type": "code",
   "execution_count": 1,
   "id": "30c096ec-99df-4341-aac1-bf6f3aafd3be",
   "metadata": {},
   "outputs": [],
   "source": [
    "import os\n",
    "import numpy as np\n",
    "import pandas as pd\n",
    "import scipy\n",
    "import plotly.express as px\n",
    "import plotly.graph_objects as go\n",
    "from plotly.subplots import make_subplots"
   ]
  },
  {
   "cell_type": "code",
   "execution_count": 2,
   "id": "bb31adbf-2c4e-4f11-9f44-dcf3b0f6ac2c",
   "metadata": {},
   "outputs": [],
   "source": [
    "# Plot template\n",
    "import plotly.io as pio\n",
    "\n",
    "pio.templates[\"custom\"] = go.layout.Template(\n",
    "    layout=go.Layout(\n",
    "        font_size=20,\n",
    "        xaxis_mirror=True, yaxis_mirror=True,\n",
    "        xaxis_rangemode='tozero', yaxis_rangemode='tozero',\n",
    "        height=500, width=800\n",
    "    )\n",
    ")\n",
    "\n",
    "pio.templates.default = \"simple_white+custom\"\n",
    "template_colors = pio.templates[pio.templates.default]['layout']['colorway']"
   ]
  },
  {
   "cell_type": "code",
   "execution_count": 3,
   "id": "729e8c97-3334-401f-a0d8-4c757b67cdc7",
   "metadata": {},
   "outputs": [],
   "source": [
    "figures_dir = '../fig'"
   ]
  },
  {
   "cell_type": "code",
   "execution_count": 4,
   "id": "a57c17e1-39c4-4593-a173-43469d76839f",
   "metadata": {},
   "outputs": [],
   "source": [
    "species_df = pd.read_csv('Table_S1.tsv', sep='\\t', usecols=['species','full_name','phylum'])"
   ]
  },
  {
   "cell_type": "code",
   "execution_count": 21,
   "id": "e46cb482-e189-434b-921e-57c9985d5634",
   "metadata": {},
   "outputs": [],
   "source": [
    "def kde(v, steps=1000):\n",
    "    kde = scipy.stats.gaussian_kde(v)\n",
    "    vmin = v.min()\n",
    "    vmax = v.max()\n",
    "    step = (vmax-vmin)/steps\n",
    "    x = np.arange(vmin,vmax,step)\n",
    "    y = kde.evaluate(x)\n",
    "    y = y/y.sum()\n",
    "    return x,y"
   ]
  },
  {
   "cell_type": "code",
   "execution_count": 79,
   "id": "3371a26c-8ba7-491b-9fb9-ceab4e6d4389",
   "metadata": {},
   "outputs": [
    {
     "name": "stdout",
     "output_type": "stream",
     "text": [
      "### Chordata ###\n",
      "acanthochromis_polyacanthus\n",
      "accipiter_nisus\n",
      "ailuropoda_melanoleuca\n"
     ]
    },
    {
     "name": "stderr",
     "output_type": "stream",
     "text": [
      "/var/tmp/pbs.8186134.power8.tau.ac.il/ipykernel_82405/2766828709.py:23: DtypeWarning:\n",
      "\n",
      "Columns (0) have mixed types. Specify dtype option on import or set low_memory=False.\n",
      "\n"
     ]
    },
    {
     "name": "stdout",
     "output_type": "stream",
     "text": [
      "amazona_collaria\n",
      "amphilophus_citrinellus\n",
      "amphiprion_ocellaris\n",
      "amphiprion_percula\n"
     ]
    },
    {
     "name": "stderr",
     "output_type": "stream",
     "text": [
      "/var/tmp/pbs.8186134.power8.tau.ac.il/ipykernel_82405/2766828709.py:23: DtypeWarning:\n",
      "\n",
      "Columns (0) have mixed types. Specify dtype option on import or set low_memory=False.\n",
      "\n"
     ]
    },
    {
     "name": "stdout",
     "output_type": "stream",
     "text": [
      "anabas_testudineus\n"
     ]
    },
    {
     "name": "stderr",
     "output_type": "stream",
     "text": [
      "/var/tmp/pbs.8186134.power8.tau.ac.il/ipykernel_82405/2766828709.py:23: DtypeWarning:\n",
      "\n",
      "Columns (0) have mixed types. Specify dtype option on import or set low_memory=False.\n",
      "\n"
     ]
    },
    {
     "name": "stdout",
     "output_type": "stream",
     "text": [
      "anas_platyrhynchos\n"
     ]
    },
    {
     "name": "stderr",
     "output_type": "stream",
     "text": [
      "/var/tmp/pbs.8186134.power8.tau.ac.il/ipykernel_82405/2766828709.py:23: DtypeWarning:\n",
      "\n",
      "Columns (0) have mixed types. Specify dtype option on import or set low_memory=False.\n",
      "\n"
     ]
    },
    {
     "name": "stdout",
     "output_type": "stream",
     "text": [
      "anas_zonorhyncha\n",
      "anolis_carolinensis\n"
     ]
    },
    {
     "name": "stderr",
     "output_type": "stream",
     "text": [
      "/var/tmp/pbs.8186134.power8.tau.ac.il/ipykernel_82405/2766828709.py:23: DtypeWarning:\n",
      "\n",
      "Columns (0) have mixed types. Specify dtype option on import or set low_memory=False.\n",
      "\n"
     ]
    },
    {
     "name": "stdout",
     "output_type": "stream",
     "text": [
      "anser_brachyrhynchus\n",
      "anser_cygnoides\n",
      "aotus_nancymaae\n",
      "apteryx_haastii\n",
      "apteryx_owenii\n",
      "apteryx_rowi\n",
      "aquila_chrysaetos\n"
     ]
    },
    {
     "name": "stderr",
     "output_type": "stream",
     "text": [
      "/var/tmp/pbs.8186134.power8.tau.ac.il/ipykernel_82405/2766828709.py:23: DtypeWarning:\n",
      "\n",
      "Columns (0) have mixed types. Specify dtype option on import or set low_memory=False.\n",
      "\n"
     ]
    },
    {
     "name": "stdout",
     "output_type": "stream",
     "text": [
      "astatotilapia_calliptera\n"
     ]
    },
    {
     "name": "stderr",
     "output_type": "stream",
     "text": [
      "/var/tmp/pbs.8186134.power8.tau.ac.il/ipykernel_82405/2766828709.py:23: DtypeWarning:\n",
      "\n",
      "Columns (0) have mixed types. Specify dtype option on import or set low_memory=False.\n",
      "\n"
     ]
    },
    {
     "name": "stdout",
     "output_type": "stream",
     "text": [
      "astyanax_mexicanus\n"
     ]
    },
    {
     "name": "stderr",
     "output_type": "stream",
     "text": [
      "/var/tmp/pbs.8186134.power8.tau.ac.il/ipykernel_82405/2766828709.py:23: DtypeWarning:\n",
      "\n",
      "Columns (0) have mixed types. Specify dtype option on import or set low_memory=False.\n",
      "\n"
     ]
    },
    {
     "name": "stdout",
     "output_type": "stream",
     "text": [
      "athene_cunicularia\n",
      "balaenoptera_musculus\n"
     ]
    },
    {
     "name": "stderr",
     "output_type": "stream",
     "text": [
      "/var/tmp/pbs.8186134.power8.tau.ac.il/ipykernel_82405/2766828709.py:23: DtypeWarning:\n",
      "\n",
      "Columns (0) have mixed types. Specify dtype option on import or set low_memory=False.\n",
      "\n"
     ]
    },
    {
     "name": "stdout",
     "output_type": "stream",
     "text": [
      "betta_splendens\n"
     ]
    },
    {
     "name": "stderr",
     "output_type": "stream",
     "text": [
      "/var/tmp/pbs.8186134.power8.tau.ac.il/ipykernel_82405/2766828709.py:23: DtypeWarning:\n",
      "\n",
      "Columns (0) have mixed types. Specify dtype option on import or set low_memory=False.\n",
      "\n"
     ]
    },
    {
     "name": "stdout",
     "output_type": "stream",
     "text": [
      "bison_bison\n",
      "bos_grunniens\n"
     ]
    },
    {
     "name": "stderr",
     "output_type": "stream",
     "text": [
      "/var/tmp/pbs.8186134.power8.tau.ac.il/ipykernel_82405/2766828709.py:23: DtypeWarning:\n",
      "\n",
      "Columns (0) have mixed types. Specify dtype option on import or set low_memory=False.\n",
      "\n"
     ]
    },
    {
     "name": "stdout",
     "output_type": "stream",
     "text": [
      "bos_indicus\n"
     ]
    },
    {
     "name": "stderr",
     "output_type": "stream",
     "text": [
      "/var/tmp/pbs.8186134.power8.tau.ac.il/ipykernel_82405/2766828709.py:23: DtypeWarning:\n",
      "\n",
      "Columns (0) have mixed types. Specify dtype option on import or set low_memory=False.\n",
      "\n"
     ]
    },
    {
     "name": "stdout",
     "output_type": "stream",
     "text": [
      "bos_mutus\n",
      "bos_taurus\n"
     ]
    },
    {
     "name": "stderr",
     "output_type": "stream",
     "text": [
      "/var/tmp/pbs.8186134.power8.tau.ac.il/ipykernel_82405/2766828709.py:23: DtypeWarning:\n",
      "\n",
      "Columns (0) have mixed types. Specify dtype option on import or set low_memory=False.\n",
      "\n"
     ]
    },
    {
     "name": "stdout",
     "output_type": "stream",
     "text": [
      "branchiostoma_lanceolatum\n",
      "bubo_bubo\n",
      "cairina_moschata\n",
      "calidris_pugnax\n",
      "callithrix_jacchus\n"
     ]
    },
    {
     "name": "stderr",
     "output_type": "stream",
     "text": [
      "/var/tmp/pbs.8186134.power8.tau.ac.il/ipykernel_82405/2766828709.py:23: DtypeWarning:\n",
      "\n",
      "Columns (0) have mixed types. Specify dtype option on import or set low_memory=False.\n",
      "\n"
     ]
    },
    {
     "name": "stdout",
     "output_type": "stream",
     "text": [
      "callorhinchus_milii\n",
      "camarhynchus_parvulus\n"
     ]
    },
    {
     "name": "stderr",
     "output_type": "stream",
     "text": [
      "/var/tmp/pbs.8186134.power8.tau.ac.il/ipykernel_82405/2766828709.py:23: DtypeWarning:\n",
      "\n",
      "Columns (0) have mixed types. Specify dtype option on import or set low_memory=False.\n",
      "\n"
     ]
    },
    {
     "name": "stdout",
     "output_type": "stream",
     "text": [
      "camelus_dromedarius\n"
     ]
    },
    {
     "name": "stderr",
     "output_type": "stream",
     "text": [
      "/var/tmp/pbs.8186134.power8.tau.ac.il/ipykernel_82405/2766828709.py:23: DtypeWarning:\n",
      "\n",
      "Columns (0) have mixed types. Specify dtype option on import or set low_memory=False.\n",
      "\n"
     ]
    },
    {
     "name": "stdout",
     "output_type": "stream",
     "text": [
      "canis_lupus\n",
      "capra_hircus\n"
     ]
    },
    {
     "name": "stderr",
     "output_type": "stream",
     "text": [
      "/var/tmp/pbs.8186134.power8.tau.ac.il/ipykernel_82405/2766828709.py:23: DtypeWarning:\n",
      "\n",
      "Columns (0) have mixed types. Specify dtype option on import or set low_memory=False.\n",
      "\n"
     ]
    },
    {
     "name": "stdout",
     "output_type": "stream",
     "text": [
      "carassius_auratus\n"
     ]
    },
    {
     "name": "stderr",
     "output_type": "stream",
     "text": [
      "/var/tmp/pbs.8186134.power8.tau.ac.il/ipykernel_82405/2766828709.py:23: DtypeWarning:\n",
      "\n",
      "Columns (0) have mixed types. Specify dtype option on import or set low_memory=False.\n",
      "\n"
     ]
    },
    {
     "name": "stdout",
     "output_type": "stream",
     "text": [
      "carlito_syrichta\n",
      "castor_canadensis\n",
      "catagonus_wagneri\n",
      "catharus_ustulatus\n"
     ]
    },
    {
     "name": "stderr",
     "output_type": "stream",
     "text": [
      "/var/tmp/pbs.8186134.power8.tau.ac.il/ipykernel_82405/2766828709.py:23: DtypeWarning:\n",
      "\n",
      "Columns (0) have mixed types. Specify dtype option on import or set low_memory=False.\n",
      "\n"
     ]
    },
    {
     "name": "stdout",
     "output_type": "stream",
     "text": [
      "cavia_aperea\n",
      "cavia_porcellus\n",
      "cebus_imitator\n",
      "cercocebus_atys\n",
      "cervus_hanglu\n"
     ]
    },
    {
     "name": "stderr",
     "output_type": "stream",
     "text": [
      "/var/tmp/pbs.8186134.power8.tau.ac.il/ipykernel_82405/2766828709.py:23: DtypeWarning:\n",
      "\n",
      "Columns (0) have mixed types. Specify dtype option on import or set low_memory=False.\n",
      "\n"
     ]
    },
    {
     "name": "stdout",
     "output_type": "stream",
     "text": [
      "chelonoidis_abingdonii\n",
      "chelydra_serpentina\n",
      "chinchilla_lanigera\n",
      "chlorocebus_sabaeus\n"
     ]
    },
    {
     "name": "stderr",
     "output_type": "stream",
     "text": [
      "/var/tmp/pbs.8186134.power8.tau.ac.il/ipykernel_82405/2766828709.py:23: DtypeWarning:\n",
      "\n",
      "Columns (0) have mixed types. Specify dtype option on import or set low_memory=False.\n",
      "\n"
     ]
    },
    {
     "name": "stdout",
     "output_type": "stream",
     "text": [
      "choloepus_hoffmanni\n",
      "chrysemys_picta\n",
      "chrysolophus_pictus\n",
      "ciona_savignyi\n",
      "clupea_harengus\n",
      "colobus_angolensis\n",
      "corvus_moneduloides\n"
     ]
    },
    {
     "name": "stderr",
     "output_type": "stream",
     "text": [
      "/var/tmp/pbs.8186134.power8.tau.ac.il/ipykernel_82405/2766828709.py:23: DtypeWarning:\n",
      "\n",
      "Columns (0) have mixed types. Specify dtype option on import or set low_memory=False.\n",
      "\n"
     ]
    },
    {
     "name": "stdout",
     "output_type": "stream",
     "text": [
      "cottoperca_gobio\n"
     ]
    },
    {
     "name": "stderr",
     "output_type": "stream",
     "text": [
      "/var/tmp/pbs.8186134.power8.tau.ac.il/ipykernel_82405/2766828709.py:23: DtypeWarning:\n",
      "\n",
      "Columns (0) have mixed types. Specify dtype option on import or set low_memory=False.\n",
      "\n"
     ]
    },
    {
     "name": "stdout",
     "output_type": "stream",
     "text": [
      "coturnix_japonica\n"
     ]
    },
    {
     "name": "stderr",
     "output_type": "stream",
     "text": [
      "/var/tmp/pbs.8186134.power8.tau.ac.il/ipykernel_82405/2766828709.py:23: DtypeWarning:\n",
      "\n",
      "Columns (0) have mixed types. Specify dtype option on import or set low_memory=False.\n",
      "\n"
     ]
    },
    {
     "name": "stdout",
     "output_type": "stream",
     "text": [
      "cricetulus_griseus\n",
      "crocodylus_porosus\n",
      "cyanistes_caeruleus\n",
      "cyclopterus_lumpus\n"
     ]
    },
    {
     "name": "stderr",
     "output_type": "stream",
     "text": [
      "/var/tmp/pbs.8186134.power8.tau.ac.il/ipykernel_82405/2766828709.py:23: DtypeWarning:\n",
      "\n",
      "Columns (0) have mixed types. Specify dtype option on import or set low_memory=False.\n",
      "\n"
     ]
    },
    {
     "name": "stdout",
     "output_type": "stream",
     "text": [
      "cynoglossus_semilaevis\n"
     ]
    },
    {
     "name": "stderr",
     "output_type": "stream",
     "text": [
      "/var/tmp/pbs.8186134.power8.tau.ac.il/ipykernel_82405/2766828709.py:23: DtypeWarning:\n",
      "\n",
      "Columns (0) have mixed types. Specify dtype option on import or set low_memory=False.\n",
      "\n"
     ]
    },
    {
     "name": "stdout",
     "output_type": "stream",
     "text": [
      "cyprinodon_variegatus\n",
      "cyprinus_carpio\n",
      "danio_rerio\n"
     ]
    },
    {
     "name": "stderr",
     "output_type": "stream",
     "text": [
      "/var/tmp/pbs.8186134.power8.tau.ac.il/ipykernel_82405/2766828709.py:23: DtypeWarning:\n",
      "\n",
      "Columns (0) have mixed types. Specify dtype option on import or set low_memory=False.\n",
      "\n"
     ]
    },
    {
     "name": "stdout",
     "output_type": "stream",
     "text": [
      "dasypus_novemcinctus\n",
      "delphinapterus_leucas\n",
      "denticeps_clupeoides\n"
     ]
    },
    {
     "name": "stderr",
     "output_type": "stream",
     "text": [
      "/var/tmp/pbs.8186134.power8.tau.ac.il/ipykernel_82405/2766828709.py:23: DtypeWarning:\n",
      "\n",
      "Columns (0) have mixed types. Specify dtype option on import or set low_memory=False.\n",
      "\n"
     ]
    },
    {
     "name": "stdout",
     "output_type": "stream",
     "text": [
      "dicentrarchus_labrax\n",
      "dipodomys_ordii\n",
      "dromaius_novaehollandiae\n",
      "echeneis_naucrates\n"
     ]
    },
    {
     "name": "stderr",
     "output_type": "stream",
     "text": [
      "/var/tmp/pbs.8186134.power8.tau.ac.il/ipykernel_82405/2766828709.py:23: DtypeWarning:\n",
      "\n",
      "Columns (0) have mixed types. Specify dtype option on import or set low_memory=False.\n",
      "\n"
     ]
    },
    {
     "name": "stdout",
     "output_type": "stream",
     "text": [
      "echinops_telfairi\n",
      "electrophorus_electricus\n",
      "eptatretus_burgeri\n",
      "equus_asinus\n"
     ]
    },
    {
     "name": "stderr",
     "output_type": "stream",
     "text": [
      "/var/tmp/pbs.8186134.power8.tau.ac.il/ipykernel_82405/2766828709.py:23: DtypeWarning:\n",
      "\n",
      "Columns (0) have mixed types. Specify dtype option on import or set low_memory=False.\n",
      "\n"
     ]
    },
    {
     "name": "stdout",
     "output_type": "stream",
     "text": [
      "equus_caballus\n"
     ]
    },
    {
     "name": "stderr",
     "output_type": "stream",
     "text": [
      "/var/tmp/pbs.8186134.power8.tau.ac.il/ipykernel_82405/2766828709.py:23: DtypeWarning:\n",
      "\n",
      "Columns (0) have mixed types. Specify dtype option on import or set low_memory=False.\n",
      "\n"
     ]
    },
    {
     "name": "stdout",
     "output_type": "stream",
     "text": [
      "erinaceus_europaeus\n",
      "erpetoichthys_calabaricus\n"
     ]
    },
    {
     "name": "stderr",
     "output_type": "stream",
     "text": [
      "/var/tmp/pbs.8186134.power8.tau.ac.il/ipykernel_82405/2766828709.py:23: DtypeWarning:\n",
      "\n",
      "Columns (0) have mixed types. Specify dtype option on import or set low_memory=False.\n",
      "\n"
     ]
    },
    {
     "name": "stdout",
     "output_type": "stream",
     "text": [
      "esox_lucius\n",
      "falco_tinnunculus\n",
      "felis_catus\n",
      "ficedula_albicollis\n"
     ]
    },
    {
     "name": "stderr",
     "output_type": "stream",
     "text": [
      "/var/tmp/pbs.8186134.power8.tau.ac.il/ipykernel_82405/2766828709.py:23: DtypeWarning:\n",
      "\n",
      "Columns (0) have mixed types. Specify dtype option on import or set low_memory=False.\n",
      "\n"
     ]
    },
    {
     "name": "stdout",
     "output_type": "stream",
     "text": [
      "fukomys_damarensis\n",
      "fundulus_heteroclitus\n",
      "gadus_morhua\n"
     ]
    },
    {
     "name": "stderr",
     "output_type": "stream",
     "text": [
      "/var/tmp/pbs.8186134.power8.tau.ac.il/ipykernel_82405/2766828709.py:23: DtypeWarning:\n",
      "\n",
      "Columns (0) have mixed types. Specify dtype option on import or set low_memory=False.\n",
      "\n"
     ]
    },
    {
     "name": "stdout",
     "output_type": "stream",
     "text": [
      "gallus_gallus\n"
     ]
    },
    {
     "name": "stderr",
     "output_type": "stream",
     "text": [
      "/var/tmp/pbs.8186134.power8.tau.ac.il/ipykernel_82405/2766828709.py:23: DtypeWarning:\n",
      "\n",
      "Columns (0) have mixed types. Specify dtype option on import or set low_memory=False.\n",
      "\n"
     ]
    },
    {
     "name": "stdout",
     "output_type": "stream",
     "text": [
      "gambusia_affinis\n",
      "gasterosteus_aculeatus\n",
      "geospiza_fortis\n",
      "gopherus_agassizii\n",
      "gorilla_gorilla\n"
     ]
    },
    {
     "name": "stderr",
     "output_type": "stream",
     "text": [
      "/var/tmp/pbs.8186134.power8.tau.ac.il/ipykernel_82405/2766828709.py:23: DtypeWarning:\n",
      "\n",
      "Columns (0) have mixed types. Specify dtype option on import or set low_memory=False.\n",
      "\n"
     ]
    },
    {
     "name": "stdout",
     "output_type": "stream",
     "text": [
      "gouania_willdenowi\n"
     ]
    },
    {
     "name": "stderr",
     "output_type": "stream",
     "text": [
      "/var/tmp/pbs.8186134.power8.tau.ac.il/ipykernel_82405/2766828709.py:23: DtypeWarning:\n",
      "\n",
      "Columns (0) have mixed types. Specify dtype option on import or set low_memory=False.\n",
      "\n"
     ]
    },
    {
     "name": "stdout",
     "output_type": "stream",
     "text": [
      "haplochromis_burtoni\n",
      "heterocephalus_glaber\n",
      "hippocampus_comes\n",
      "homo_sapiens\n"
     ]
    },
    {
     "name": "stderr",
     "output_type": "stream",
     "text": [
      "/var/tmp/pbs.8186134.power8.tau.ac.il/ipykernel_82405/2766828709.py:23: DtypeWarning:\n",
      "\n",
      "Columns (0) have mixed types. Specify dtype option on import or set low_memory=False.\n",
      "\n"
     ]
    },
    {
     "name": "stdout",
     "output_type": "stream",
     "text": [
      "hucho_hucho\n",
      "ictalurus_punctatus\n",
      "ictidomys_tridecemlineatus\n",
      "jaculus_jaculus\n",
      "junco_hyemalis\n",
      "kryptolebias_marmoratus\n",
      "labrus_bergylta\n",
      "larimichthys_crocea\n",
      "lates_calcarifer\n",
      "laticauda_laticaudata\n",
      "latimeria_chalumnae\n",
      "lepidothrix_coronata\n",
      "lepisosteus_oculatus\n",
      "leptobrachium_leishanense\n"
     ]
    },
    {
     "name": "stderr",
     "output_type": "stream",
     "text": [
      "/var/tmp/pbs.8186134.power8.tau.ac.il/ipykernel_82405/2766828709.py:23: DtypeWarning:\n",
      "\n",
      "Columns (0) have mixed types. Specify dtype option on import or set low_memory=False.\n",
      "\n"
     ]
    },
    {
     "name": "stdout",
     "output_type": "stream",
     "text": [
      "lonchura_striata\n",
      "loxodonta_africana\n",
      "lynx_canadensis\n",
      "macaca_fascicularis\n"
     ]
    },
    {
     "name": "stderr",
     "output_type": "stream",
     "text": [
      "/var/tmp/pbs.8186134.power8.tau.ac.il/ipykernel_82405/2766828709.py:23: DtypeWarning:\n",
      "\n",
      "Columns (0) have mixed types. Specify dtype option on import or set low_memory=False.\n",
      "\n"
     ]
    },
    {
     "name": "stdout",
     "output_type": "stream",
     "text": [
      "macaca_mulatta\n"
     ]
    },
    {
     "name": "stderr",
     "output_type": "stream",
     "text": [
      "/var/tmp/pbs.8186134.power8.tau.ac.il/ipykernel_82405/2766828709.py:23: DtypeWarning:\n",
      "\n",
      "Columns (0) have mixed types. Specify dtype option on import or set low_memory=False.\n",
      "\n"
     ]
    },
    {
     "name": "stdout",
     "output_type": "stream",
     "text": [
      "macaca_nemestrina\n",
      "malurus_cyaneus\n"
     ]
    },
    {
     "name": "stderr",
     "output_type": "stream",
     "text": [
      "/var/tmp/pbs.8186134.power8.tau.ac.il/ipykernel_82405/2766828709.py:23: DtypeWarning:\n",
      "\n",
      "Columns (0) have mixed types. Specify dtype option on import or set low_memory=False.\n",
      "\n"
     ]
    },
    {
     "name": "stdout",
     "output_type": "stream",
     "text": [
      "manacus_vitellinus\n",
      "mandrillus_leucophaeus\n",
      "marmota_marmota\n",
      "mastacembelus_armatus\n"
     ]
    },
    {
     "name": "stderr",
     "output_type": "stream",
     "text": [
      "/var/tmp/pbs.8186134.power8.tau.ac.il/ipykernel_82405/2766828709.py:23: DtypeWarning:\n",
      "\n",
      "Columns (0) have mixed types. Specify dtype option on import or set low_memory=False.\n",
      "\n"
     ]
    },
    {
     "name": "stdout",
     "output_type": "stream",
     "text": [
      "maylandia_zebra\n",
      "meleagris_gallopavo\n",
      "melopsittacus_undulatus\n"
     ]
    },
    {
     "name": "stderr",
     "output_type": "stream",
     "text": [
      "/var/tmp/pbs.8186134.power8.tau.ac.il/ipykernel_82405/2766828709.py:23: DtypeWarning:\n",
      "\n",
      "Columns (0) have mixed types. Specify dtype option on import or set low_memory=False.\n",
      "\n"
     ]
    },
    {
     "name": "stdout",
     "output_type": "stream",
     "text": [
      "meriones_unguiculatus\n",
      "mesocricetus_auratus\n",
      "microcebus_murinus\n"
     ]
    },
    {
     "name": "stderr",
     "output_type": "stream",
     "text": [
      "/var/tmp/pbs.8186134.power8.tau.ac.il/ipykernel_82405/2766828709.py:23: DtypeWarning:\n",
      "\n",
      "Columns (0) have mixed types. Specify dtype option on import or set low_memory=False.\n",
      "\n"
     ]
    },
    {
     "name": "stdout",
     "output_type": "stream",
     "text": [
      "microtus_ochrogaster\n",
      "mola_mola\n",
      "monodelphis_domestica\n"
     ]
    },
    {
     "name": "stderr",
     "output_type": "stream",
     "text": [
      "/var/tmp/pbs.8186134.power8.tau.ac.il/ipykernel_82405/2766828709.py:23: DtypeWarning:\n",
      "\n",
      "Columns (0) have mixed types. Specify dtype option on import or set low_memory=False.\n",
      "\n"
     ]
    },
    {
     "name": "stdout",
     "output_type": "stream",
     "text": [
      "monodon_monoceros\n",
      "monopterus_albus\n",
      "moschus_moschiferus\n",
      "mus_caroli\n"
     ]
    },
    {
     "name": "stderr",
     "output_type": "stream",
     "text": [
      "/var/tmp/pbs.8186134.power8.tau.ac.il/ipykernel_82405/2766828709.py:23: DtypeWarning:\n",
      "\n",
      "Columns (0) have mixed types. Specify dtype option on import or set low_memory=False.\n",
      "\n"
     ]
    },
    {
     "name": "stdout",
     "output_type": "stream",
     "text": [
      "mus_musculus\n"
     ]
    },
    {
     "name": "stderr",
     "output_type": "stream",
     "text": [
      "/var/tmp/pbs.8186134.power8.tau.ac.il/ipykernel_82405/2766828709.py:23: DtypeWarning:\n",
      "\n",
      "Columns (0) have mixed types. Specify dtype option on import or set low_memory=False.\n",
      "\n"
     ]
    },
    {
     "name": "stdout",
     "output_type": "stream",
     "text": [
      "mus_pahari\n"
     ]
    },
    {
     "name": "stderr",
     "output_type": "stream",
     "text": [
      "/var/tmp/pbs.8186134.power8.tau.ac.il/ipykernel_82405/2766828709.py:23: DtypeWarning:\n",
      "\n",
      "Columns (0) have mixed types. Specify dtype option on import or set low_memory=False.\n",
      "\n"
     ]
    },
    {
     "name": "stdout",
     "output_type": "stream",
     "text": [
      "mus_spicilegus\n",
      "mus_spretus\n"
     ]
    },
    {
     "name": "stderr",
     "output_type": "stream",
     "text": [
      "/var/tmp/pbs.8186134.power8.tau.ac.il/ipykernel_82405/2766828709.py:23: DtypeWarning:\n",
      "\n",
      "Columns (0) have mixed types. Specify dtype option on import or set low_memory=False.\n",
      "\n"
     ]
    },
    {
     "name": "stdout",
     "output_type": "stream",
     "text": [
      "mustela_putorius\n",
      "myotis_lucifugus\n",
      "myripristis_murdjan\n"
     ]
    },
    {
     "name": "stderr",
     "output_type": "stream",
     "text": [
      "/var/tmp/pbs.8186134.power8.tau.ac.il/ipykernel_82405/2766828709.py:23: DtypeWarning:\n",
      "\n",
      "Columns (0) have mixed types. Specify dtype option on import or set low_memory=False.\n",
      "\n"
     ]
    },
    {
     "name": "stdout",
     "output_type": "stream",
     "text": [
      "naja_naja\n"
     ]
    },
    {
     "name": "stderr",
     "output_type": "stream",
     "text": [
      "/var/tmp/pbs.8186134.power8.tau.ac.il/ipykernel_82405/2766828709.py:23: DtypeWarning:\n",
      "\n",
      "Columns (0) have mixed types. Specify dtype option on import or set low_memory=False.\n",
      "\n"
     ]
    },
    {
     "name": "stdout",
     "output_type": "stream",
     "text": [
      "nannospalax_galili\n",
      "neogobius_melanostomus\n",
      "neolamprologus_brichardi\n",
      "nomascus_leucogenys\n"
     ]
    },
    {
     "name": "stderr",
     "output_type": "stream",
     "text": [
      "/var/tmp/pbs.8186134.power8.tau.ac.il/ipykernel_82405/2766828709.py:23: DtypeWarning:\n",
      "\n",
      "Columns (0) have mixed types. Specify dtype option on import or set low_memory=False.\n",
      "\n"
     ]
    },
    {
     "name": "stdout",
     "output_type": "stream",
     "text": [
      "notamacropus_eugenii\n",
      "notechis_scutatus\n",
      "nothobranchius_furzeri\n",
      "nothoprocta_perdicaria\n",
      "numida_meleagris\n",
      "ochotona_princeps\n",
      "octodon_degus\n",
      "oncorhynchus_kisutch\n",
      "oncorhynchus_mykiss\n"
     ]
    },
    {
     "name": "stderr",
     "output_type": "stream",
     "text": [
      "/var/tmp/pbs.8186134.power8.tau.ac.il/ipykernel_82405/2766828709.py:23: DtypeWarning:\n",
      "\n",
      "Columns (0) have mixed types. Specify dtype option on import or set low_memory=False.\n",
      "\n"
     ]
    },
    {
     "name": "stdout",
     "output_type": "stream",
     "text": [
      "oncorhynchus_tshawytscha\n"
     ]
    },
    {
     "name": "stderr",
     "output_type": "stream",
     "text": [
      "/var/tmp/pbs.8186134.power8.tau.ac.il/ipykernel_82405/2766828709.py:23: DtypeWarning:\n",
      "\n",
      "Columns (0) have mixed types. Specify dtype option on import or set low_memory=False.\n",
      "\n"
     ]
    },
    {
     "name": "stdout",
     "output_type": "stream",
     "text": [
      "oreochromis_aureus\n",
      "oreochromis_niloticus\n",
      "ornithorhynchus_anatinus\n"
     ]
    },
    {
     "name": "stderr",
     "output_type": "stream",
     "text": [
      "/var/tmp/pbs.8186134.power8.tau.ac.il/ipykernel_82405/2766828709.py:23: DtypeWarning:\n",
      "\n",
      "Columns (0) have mixed types. Specify dtype option on import or set low_memory=False.\n",
      "\n"
     ]
    },
    {
     "name": "stdout",
     "output_type": "stream",
     "text": [
      "oryctolagus_cuniculus\n"
     ]
    },
    {
     "name": "stderr",
     "output_type": "stream",
     "text": [
      "/var/tmp/pbs.8186134.power8.tau.ac.il/ipykernel_82405/2766828709.py:23: DtypeWarning:\n",
      "\n",
      "Columns (0) have mixed types. Specify dtype option on import or set low_memory=False.\n",
      "\n"
     ]
    },
    {
     "name": "stdout",
     "output_type": "stream",
     "text": [
      "oryzias_javanicus\n"
     ]
    },
    {
     "name": "stderr",
     "output_type": "stream",
     "text": [
      "/var/tmp/pbs.8186134.power8.tau.ac.il/ipykernel_82405/2766828709.py:23: DtypeWarning:\n",
      "\n",
      "Columns (0) have mixed types. Specify dtype option on import or set low_memory=False.\n",
      "\n"
     ]
    },
    {
     "name": "stdout",
     "output_type": "stream",
     "text": [
      "oryzias_latipes\n"
     ]
    },
    {
     "name": "stderr",
     "output_type": "stream",
     "text": [
      "/var/tmp/pbs.8186134.power8.tau.ac.il/ipykernel_82405/2766828709.py:23: DtypeWarning:\n",
      "\n",
      "Columns (0) have mixed types. Specify dtype option on import or set low_memory=False.\n",
      "\n"
     ]
    },
    {
     "name": "stdout",
     "output_type": "stream",
     "text": [
      "oryzias_sinensis\n",
      "otolemur_garnettii\n",
      "otus_sunia\n",
      "ovis_aries\n"
     ]
    },
    {
     "name": "stderr",
     "output_type": "stream",
     "text": [
      "/var/tmp/pbs.8186134.power8.tau.ac.il/ipykernel_82405/2766828709.py:23: DtypeWarning:\n",
      "\n",
      "Columns (0) have mixed types. Specify dtype option on import or set low_memory=False.\n",
      "\n"
     ]
    },
    {
     "name": "stdout",
     "output_type": "stream",
     "text": [
      "pan_paniscus\n"
     ]
    },
    {
     "name": "stderr",
     "output_type": "stream",
     "text": [
      "/var/tmp/pbs.8186134.power8.tau.ac.il/ipykernel_82405/2766828709.py:23: DtypeWarning:\n",
      "\n",
      "Columns (0) have mixed types. Specify dtype option on import or set low_memory=False.\n",
      "\n"
     ]
    },
    {
     "name": "stdout",
     "output_type": "stream",
     "text": [
      "pan_troglodytes\n",
      "panthera_leo\n",
      "panthera_pardus\n",
      "panthera_tigris\n",
      "papio_anubis\n"
     ]
    },
    {
     "name": "stderr",
     "output_type": "stream",
     "text": [
      "/var/tmp/pbs.8186134.power8.tau.ac.il/ipykernel_82405/2766828709.py:23: DtypeWarning:\n",
      "\n",
      "Columns (0) have mixed types. Specify dtype option on import or set low_memory=False.\n",
      "\n"
     ]
    },
    {
     "name": "stdout",
     "output_type": "stream",
     "text": [
      "parambassis_ranga\n"
     ]
    },
    {
     "name": "stderr",
     "output_type": "stream",
     "text": [
      "/var/tmp/pbs.8186134.power8.tau.ac.il/ipykernel_82405/2766828709.py:23: DtypeWarning:\n",
      "\n",
      "Columns (0) have mixed types. Specify dtype option on import or set low_memory=False.\n",
      "\n"
     ]
    },
    {
     "name": "stdout",
     "output_type": "stream",
     "text": [
      "paramormyrops_kingsleyae\n",
      "parus_major\n"
     ]
    },
    {
     "name": "stderr",
     "output_type": "stream",
     "text": [
      "/var/tmp/pbs.8186134.power8.tau.ac.il/ipykernel_82405/2766828709.py:23: DtypeWarning:\n",
      "\n",
      "Columns (0) have mixed types. Specify dtype option on import or set low_memory=False.\n",
      "\n"
     ]
    },
    {
     "name": "stdout",
     "output_type": "stream",
     "text": [
      "pavo_cristatus\n",
      "pelodiscus_sinensis\n",
      "pelusios_castaneus\n",
      "periophthalmus_magnuspinnatus\n",
      "peromyscus_maniculatus\n"
     ]
    },
    {
     "name": "stderr",
     "output_type": "stream",
     "text": [
      "/var/tmp/pbs.8186134.power8.tau.ac.il/ipykernel_82405/2766828709.py:23: DtypeWarning:\n",
      "\n",
      "Columns (0) have mixed types. Specify dtype option on import or set low_memory=False.\n",
      "\n"
     ]
    },
    {
     "name": "stdout",
     "output_type": "stream",
     "text": [
      "petromyzon_marinus\n",
      "phascolarctos_cinereus\n",
      "phasianus_colchicus\n",
      "phocoena_sinus\n"
     ]
    },
    {
     "name": "stderr",
     "output_type": "stream",
     "text": [
      "/var/tmp/pbs.8186134.power8.tau.ac.il/ipykernel_82405/2766828709.py:23: DtypeWarning:\n",
      "\n",
      "Columns (0) have mixed types. Specify dtype option on import or set low_memory=False.\n",
      "\n"
     ]
    },
    {
     "name": "stdout",
     "output_type": "stream",
     "text": [
      "physeter_catodon\n"
     ]
    },
    {
     "name": "stderr",
     "output_type": "stream",
     "text": [
      "/var/tmp/pbs.8186134.power8.tau.ac.il/ipykernel_82405/2766828709.py:23: DtypeWarning:\n",
      "\n",
      "Columns (0) have mixed types. Specify dtype option on import or set low_memory=False.\n",
      "\n"
     ]
    },
    {
     "name": "stdout",
     "output_type": "stream",
     "text": [
      "piliocolobus_tephrosceles\n",
      "podarcis_muralis\n"
     ]
    },
    {
     "name": "stderr",
     "output_type": "stream",
     "text": [
      "/var/tmp/pbs.8186134.power8.tau.ac.il/ipykernel_82405/2766828709.py:23: DtypeWarning:\n",
      "\n",
      "Columns (0) have mixed types. Specify dtype option on import or set low_memory=False.\n",
      "\n"
     ]
    },
    {
     "name": "stdout",
     "output_type": "stream",
     "text": [
      "poecilia_formosa\n",
      "poecilia_latipinna\n",
      "poecilia_mexicana\n",
      "poecilia_reticulata\n",
      "pogona_vitticeps\n",
      "pongo_abelii\n",
      "procavia_capensis\n",
      "prolemur_simus\n",
      "propithecus_coquereli\n",
      "pseudonaja_textilis\n",
      "pteropus_vampyrus\n",
      "pundamilia_nyererei\n",
      "pygocentrus_nattereri\n",
      "rattus_norvegicus\n"
     ]
    },
    {
     "name": "stderr",
     "output_type": "stream",
     "text": [
      "/var/tmp/pbs.8186134.power8.tau.ac.il/ipykernel_82405/2766828709.py:23: DtypeWarning:\n",
      "\n",
      "Columns (0) have mixed types. Specify dtype option on import or set low_memory=False.\n",
      "\n"
     ]
    },
    {
     "name": "stdout",
     "output_type": "stream",
     "text": [
      "rhinolophus_ferrumequinum\n"
     ]
    },
    {
     "name": "stderr",
     "output_type": "stream",
     "text": [
      "/var/tmp/pbs.8186134.power8.tau.ac.il/ipykernel_82405/2766828709.py:23: DtypeWarning:\n",
      "\n",
      "Columns (0) have mixed types. Specify dtype option on import or set low_memory=False.\n",
      "\n"
     ]
    },
    {
     "name": "stdout",
     "output_type": "stream",
     "text": [
      "rhinopithecus_bieti\n",
      "rhinopithecus_roxellana\n",
      "saimiri_boliviensis\n",
      "salarias_fasciatus\n"
     ]
    },
    {
     "name": "stderr",
     "output_type": "stream",
     "text": [
      "/var/tmp/pbs.8186134.power8.tau.ac.il/ipykernel_82405/2766828709.py:23: DtypeWarning:\n",
      "\n",
      "Columns (0) have mixed types. Specify dtype option on import or set low_memory=False.\n",
      "\n"
     ]
    },
    {
     "name": "stdout",
     "output_type": "stream",
     "text": [
      "salmo_salar\n"
     ]
    },
    {
     "name": "stderr",
     "output_type": "stream",
     "text": [
      "/var/tmp/pbs.8186134.power8.tau.ac.il/ipykernel_82405/2766828709.py:23: DtypeWarning:\n",
      "\n",
      "Columns (0) have mixed types. Specify dtype option on import or set low_memory=False.\n",
      "\n"
     ]
    },
    {
     "name": "stdout",
     "output_type": "stream",
     "text": [
      "salvator_merianae\n",
      "sander_lucioperca\n",
      "sarcophilus_harrisii\n"
     ]
    },
    {
     "name": "stderr",
     "output_type": "stream",
     "text": [
      "/var/tmp/pbs.8186134.power8.tau.ac.il/ipykernel_82405/2766828709.py:23: DtypeWarning:\n",
      "\n",
      "Columns (0) have mixed types. Specify dtype option on import or set low_memory=False.\n",
      "\n"
     ]
    },
    {
     "name": "stdout",
     "output_type": "stream",
     "text": [
      "sciurus_vulgaris\n"
     ]
    },
    {
     "name": "stderr",
     "output_type": "stream",
     "text": [
      "/var/tmp/pbs.8186134.power8.tau.ac.il/ipykernel_82405/2766828709.py:23: DtypeWarning:\n",
      "\n",
      "Columns (0) have mixed types. Specify dtype option on import or set low_memory=False.\n",
      "\n"
     ]
    },
    {
     "name": "stdout",
     "output_type": "stream",
     "text": [
      "scleropages_formosus\n"
     ]
    },
    {
     "name": "stderr",
     "output_type": "stream",
     "text": [
      "/var/tmp/pbs.8186134.power8.tau.ac.il/ipykernel_82405/2766828709.py:23: DtypeWarning:\n",
      "\n",
      "Columns (0) have mixed types. Specify dtype option on import or set low_memory=False.\n",
      "\n"
     ]
    },
    {
     "name": "stdout",
     "output_type": "stream",
     "text": [
      "scophthalmus_maximus\n"
     ]
    },
    {
     "name": "stderr",
     "output_type": "stream",
     "text": [
      "/var/tmp/pbs.8186134.power8.tau.ac.il/ipykernel_82405/2766828709.py:23: DtypeWarning:\n",
      "\n",
      "Columns (0) have mixed types. Specify dtype option on import or set low_memory=False.\n",
      "\n"
     ]
    },
    {
     "name": "stdout",
     "output_type": "stream",
     "text": [
      "serinus_canaria\n",
      "seriola_dumerili\n",
      "seriola_lalandi\n",
      "sinocyclocheilus_anshuiensis\n",
      "sinocyclocheilus_grahami\n",
      "sinocyclocheilus_rhinocerous\n",
      "sorex_araneus\n",
      "sparus_aurata\n"
     ]
    },
    {
     "name": "stderr",
     "output_type": "stream",
     "text": [
      "/var/tmp/pbs.8186134.power8.tau.ac.il/ipykernel_82405/2766828709.py:23: DtypeWarning:\n",
      "\n",
      "Columns (0) have mixed types. Specify dtype option on import or set low_memory=False.\n",
      "\n"
     ]
    },
    {
     "name": "stdout",
     "output_type": "stream",
     "text": [
      "spermophilus_dauricus\n",
      "sphaeramia_orbicularis\n"
     ]
    },
    {
     "name": "stderr",
     "output_type": "stream",
     "text": [
      "/var/tmp/pbs.8186134.power8.tau.ac.il/ipykernel_82405/2766828709.py:23: DtypeWarning:\n",
      "\n",
      "Columns (0) have mixed types. Specify dtype option on import or set low_memory=False.\n",
      "\n"
     ]
    },
    {
     "name": "stdout",
     "output_type": "stream",
     "text": [
      "sphenodon_punctatus\n",
      "stegastes_partitus\n",
      "strigops_habroptila\n"
     ]
    },
    {
     "name": "stderr",
     "output_type": "stream",
     "text": [
      "/var/tmp/pbs.8186134.power8.tau.ac.il/ipykernel_82405/2766828709.py:23: DtypeWarning:\n",
      "\n",
      "Columns (0) have mixed types. Specify dtype option on import or set low_memory=False.\n",
      "\n"
     ]
    },
    {
     "name": "stdout",
     "output_type": "stream",
     "text": [
      "strix_occidentalis\n",
      "struthio_camelus\n",
      "suricata_suricatta\n"
     ]
    },
    {
     "name": "stderr",
     "output_type": "stream",
     "text": [
      "/var/tmp/pbs.8186134.power8.tau.ac.il/ipykernel_82405/2766828709.py:23: DtypeWarning:\n",
      "\n",
      "Columns (0) have mixed types. Specify dtype option on import or set low_memory=False.\n",
      "\n"
     ]
    },
    {
     "name": "stdout",
     "output_type": "stream",
     "text": [
      "sus_scrofa\n"
     ]
    },
    {
     "name": "stderr",
     "output_type": "stream",
     "text": [
      "/var/tmp/pbs.8186134.power8.tau.ac.il/ipykernel_82405/2766828709.py:23: DtypeWarning:\n",
      "\n",
      "Columns (0) have mixed types. Specify dtype option on import or set low_memory=False.\n",
      "\n"
     ]
    },
    {
     "name": "stdout",
     "output_type": "stream",
     "text": [
      "taeniopygia_guttata\n"
     ]
    },
    {
     "name": "stderr",
     "output_type": "stream",
     "text": [
      "/var/tmp/pbs.8186134.power8.tau.ac.il/ipykernel_82405/2766828709.py:23: DtypeWarning:\n",
      "\n",
      "Columns (0) have mixed types. Specify dtype option on import or set low_memory=False.\n",
      "\n"
     ]
    },
    {
     "name": "stdout",
     "output_type": "stream",
     "text": [
      "takifugu_rubripes\n"
     ]
    },
    {
     "name": "stderr",
     "output_type": "stream",
     "text": [
      "/var/tmp/pbs.8186134.power8.tau.ac.il/ipykernel_82405/2766828709.py:23: DtypeWarning:\n",
      "\n",
      "Columns (0) have mixed types. Specify dtype option on import or set low_memory=False.\n",
      "\n"
     ]
    },
    {
     "name": "stdout",
     "output_type": "stream",
     "text": [
      "tetraodon_nigroviridis\n"
     ]
    },
    {
     "name": "stderr",
     "output_type": "stream",
     "text": [
      "/var/tmp/pbs.8186134.power8.tau.ac.il/ipykernel_82405/2766828709.py:23: DtypeWarning:\n",
      "\n",
      "Columns (0) have mixed types. Specify dtype option on import or set low_memory=False.\n",
      "\n"
     ]
    },
    {
     "name": "stdout",
     "output_type": "stream",
     "text": [
      "theropithecus_gelada\n"
     ]
    },
    {
     "name": "stderr",
     "output_type": "stream",
     "text": [
      "/var/tmp/pbs.8186134.power8.tau.ac.il/ipykernel_82405/2766828709.py:23: DtypeWarning:\n",
      "\n",
      "Columns (0) have mixed types. Specify dtype option on import or set low_memory=False.\n",
      "\n"
     ]
    },
    {
     "name": "stdout",
     "output_type": "stream",
     "text": [
      "tupaia_belangeri\n",
      "tursiops_truncatus\n",
      "urocitellus_parryii\n",
      "ursus_americanus\n",
      "ursus_maritimus\n",
      "ursus_thibetanus\n",
      "varanus_komodoensis\n",
      "vicugna_pacos\n",
      "vombatus_ursinus\n",
      "vulpes_vulpes\n",
      "xenopus_tropicalis\n"
     ]
    },
    {
     "name": "stderr",
     "output_type": "stream",
     "text": [
      "/var/tmp/pbs.8186134.power8.tau.ac.il/ipykernel_82405/2766828709.py:23: DtypeWarning:\n",
      "\n",
      "Columns (0) have mixed types. Specify dtype option on import or set low_memory=False.\n",
      "\n"
     ]
    },
    {
     "name": "stdout",
     "output_type": "stream",
     "text": [
      "xiphophorus_couchianus\n",
      "xiphophorus_maculatus\n"
     ]
    },
    {
     "name": "stderr",
     "output_type": "stream",
     "text": [
      "/var/tmp/pbs.8186134.power8.tau.ac.il/ipykernel_82405/2766828709.py:23: DtypeWarning:\n",
      "\n",
      "Columns (0) have mixed types. Specify dtype option on import or set low_memory=False.\n",
      "\n"
     ]
    },
    {
     "name": "stdout",
     "output_type": "stream",
     "text": [
      "zalophus_californianus\n"
     ]
    },
    {
     "name": "stderr",
     "output_type": "stream",
     "text": [
      "/var/tmp/pbs.8186134.power8.tau.ac.il/ipykernel_82405/2766828709.py:23: DtypeWarning:\n",
      "\n",
      "Columns (0) have mixed types. Specify dtype option on import or set low_memory=False.\n",
      "\n"
     ]
    },
    {
     "name": "stdout",
     "output_type": "stream",
     "text": [
      "zonotrichia_albicollis\n",
      "zosterops_lateralis\n",
      "### Arthropoda ###\n",
      "acyrthosiphon_pisum\n",
      "aedes_aegypti\n",
      "aedes_albopictus\n",
      "agrilus_planipennis\n",
      "amphibalanus_amphitrite\n",
      "anopheles_arabiensis\n",
      "anopheles_atroparvus\n",
      "anopheles_darlingi\n",
      "anopheles_dirus\n",
      "anopheles_farauti\n",
      "anopheles_gambiae\n",
      "anopheles_melas\n",
      "anoplophora_glabripennis\n",
      "aphidius_gifuensis\n",
      "apis_dorsata\n",
      "apis_florea\n",
      "apis_mellifera\n",
      "athalia_rosae\n",
      "atta_cephalotes\n",
      "bactrocera_dorsalis\n",
      "bactrocera_latifrons\n",
      "bactrocera_tryoni\n",
      "belgica_antarctica\n",
      "bemisia_tabaci\n",
      "bombus_impatiens\n",
      "bombus_terrestris\n",
      "bombyx_mandarina\n",
      "bombyx_mori\n",
      "camponotus_floridanus\n",
      "centruroides_sculpturatus\n",
      "ceratitis_capitata\n",
      "cimex_lectularius\n",
      "culex_quinquefasciatus\n",
      "culicoides_sonorensis\n",
      "danaus_plexippus\n",
      "daphnia_magna\n",
      "daphnia_pulex\n",
      "dendroctonus_ponderosae\n",
      "dermacentor_silvarum\n",
      "dermatophagoides_pteronyssinus\n",
      "diabrotica_virgifera\n",
      "diuraphis_noxia\n",
      "drosophila_ananassae\n",
      "drosophila_erecta\n",
      "drosophila_grimshawi\n",
      "drosophila_melanogaster\n",
      "drosophila_mojavensis\n",
      "drosophila_persimilis\n",
      "drosophila_pseudoobscura\n",
      "drosophila_sechellia\n",
      "drosophila_simulans\n",
      "drosophila_virilis\n",
      "drosophila_willistoni\n",
      "drosophila_yakuba\n",
      "dufourea_novaeangliae\n",
      "eufriesea_mexicana\n",
      "eurytemora_affinis\n",
      "folsomia_candida\n",
      "glossina_palpalis\n",
      "habropoda_laboriosa\n",
      "haemaphysalis_longicornis\n",
      "harpegnathos_saltator\n",
      "heliconius_melpomene\n",
      "hermetia_illucens\n",
      "homarus_americanus\n",
      "hyalella_azteca\n",
      "hyalomma_asiaticum\n",
      "ixodes_persulcatus\n",
      "lepeophtheirus_salmonis\n",
      "leptinotarsa_decemlineata\n",
      "leptotrombidium_deliense\n",
      "limulus_polyphemus\n",
      "linepithema_humile\n",
      "lucilia_cuprina\n",
      "mayetiola_destructor\n",
      "megachile_rotundata\n",
      "monomorium_pharaonis\n",
      "musca_domestica\n",
      "nasonia_vitripennis\n",
      "onthophagus_taurus\n",
      "ooceraea_biroi\n",
      "orchesella_cincta\n",
      "orussus_abietinus\n",
      "parasteatoda_tepidariorum\n",
      "pediculus_humanus\n",
      "penaeus_chinensis\n",
      "penaeus_japonicus\n",
      "penaeus_monodon\n",
      "penaeus_vannamei\n",
      "phlebotomus_papatasi\n",
      "pogonomyrmex_barbatus\n",
      "pollicipes_pollicipes\n",
      "portunus_trituberculatus\n",
      "procambarus_clarkii\n",
      "rhagoletis_pomonella\n",
      "rhipicephalus_microplus\n",
      "rhipicephalus_sanguineus\n",
      "rhodnius_prolixus\n",
      "rhopalosiphum_maidis\n",
      "sipha_flava\n",
      "solenopsis_invicta\n",
      "stegodyphus_dumicola\n",
      "stegodyphus_mimosarum\n",
      "stomoxys_calcitrans\n",
      "strigamia_maritima\n",
      "teleopsis_dalmanni\n",
      "tetranychus_urticae\n",
      "trialeurodes_vaporariorum\n",
      "tribolium_castaneum\n",
      "trichogramma_pretiosum\n",
      "varroa_destructor\n",
      "zootermopsis_nevadensis\n",
      "### Mollusca ###\n",
      "aplysia_californica\n",
      "biomphalaria_glabrata\n",
      "crassostrea_gigas\n",
      "crassostrea_virginica\n",
      "gigantopelta_aegis\n",
      "haliotis_rufescens\n",
      "lottia_gigantea\n",
      "mercenaria_mercenaria\n",
      "mizuhopecten_yessoensis\n",
      "octopus_bimaculoides\n",
      "pomacea_canaliculata\n",
      "### Cnidaria ###\n",
      "acropora_millepora\n",
      "actinia_tenebrosa\n",
      "clytia_hemisphaerica\n",
      "dendronephthya_gigantea\n",
      "hydra_vulgaris\n",
      "nematostella_vectensis\n",
      "orbicella_faveolata\n",
      "pocillopora_damicornis\n",
      "stylophora_pistillata\n",
      "thelohanellus_kitauei\n",
      "### Nematoda ###\n",
      "ascaris_suum\n",
      "caenorhabditis_brenneri\n",
      "caenorhabditis_briggsae\n",
      "caenorhabditis_elegans\n",
      "caenorhabditis_japonica\n",
      "caenorhabditis_remanei\n",
      "pristionchus_pacificus\n",
      "strongyloides_ratti\n",
      "trichinella_spiralis\n",
      "trichuris_muris\n",
      "### Ascomycota ###\n",
      "aspergillus_clavatus\n",
      "aspergillus_flavus\n",
      "aspergillus_fumigatus\n",
      "aspergillus_nidulans\n",
      "aspergillus_niger\n",
      "aspergillus_oryzae\n"
     ]
    },
    {
     "name": "stderr",
     "output_type": "stream",
     "text": [
      "/var/tmp/pbs.8186134.power8.tau.ac.il/ipykernel_82405/2766828709.py:23: DtypeWarning:\n",
      "\n",
      "Columns (0) have mixed types. Specify dtype option on import or set low_memory=False.\n",
      "\n"
     ]
    },
    {
     "name": "stdout",
     "output_type": "stream",
     "text": [
      "aspergillus_terreus\n",
      "beauveria_bassiana\n",
      "blumeria_graminis\n",
      "botrytis_cinerea\n",
      "candida_albicans\n",
      "candida_parapsilosis\n",
      "candida_tropicalis\n",
      "colletotrichum_gloeosporioides\n",
      "colletotrichum_graminicola\n",
      "colletotrichum_higginsianum\n",
      "colletotrichum_orbiculare\n",
      "dothistroma_septosporum\n",
      "fusarium_culmorum\n",
      "fusarium_fujikuroi\n",
      "fusarium_graminearum\n"
     ]
    },
    {
     "name": "stderr",
     "output_type": "stream",
     "text": [
      "/var/tmp/pbs.8186134.power8.tau.ac.il/ipykernel_82405/2766828709.py:23: DtypeWarning:\n",
      "\n",
      "Columns (0) have mixed types. Specify dtype option on import or set low_memory=False.\n",
      "\n"
     ]
    },
    {
     "name": "stdout",
     "output_type": "stream",
     "text": [
      "fusarium_oxysporum\n",
      "fusarium_pseudograminearum\n",
      "fusarium_solani\n",
      "fusarium_verticillioides\n"
     ]
    },
    {
     "name": "stderr",
     "output_type": "stream",
     "text": [
      "/var/tmp/pbs.8186134.power8.tau.ac.il/ipykernel_82405/2766828709.py:23: DtypeWarning:\n",
      "\n",
      "Columns (0) have mixed types. Specify dtype option on import or set low_memory=False.\n",
      "\n"
     ]
    },
    {
     "name": "stdout",
     "output_type": "stream",
     "text": [
      "histoplasma_capsulatum\n",
      "komagataella_pastoris\n",
      "leptosphaeria_maculans\n",
      "neurospora_crassa\n",
      "pyrenophora_teres\n",
      "pyricularia_oryzae\n",
      "saccharomyces_cerevisiae\n",
      "schizosaccharomyces_cryophilus\n",
      "schizosaccharomyces_japonicus\n",
      "schizosaccharomyces_octosporus\n",
      "schizosaccharomyces_pombe\n",
      "sclerotinia_sclerotiorum\n",
      "trichoderma_reesei\n",
      "trichoderma_virens\n",
      "tuber_melanosporum\n",
      "verticillium_dahliae\n",
      "yarrowia_lipolytica\n",
      "zymoseptoria_tritici\n",
      "### Streptophyta ###\n",
      "actinidia_chinensis\n",
      "aegilops_tauschii\n",
      "amborella_trichopoda\n",
      "ananas_comosus\n",
      "arabidopsis_halleri\n",
      "arabidopsis_lyrata\n"
     ]
    },
    {
     "name": "stderr",
     "output_type": "stream",
     "text": [
      "/var/tmp/pbs.8186134.power8.tau.ac.il/ipykernel_82405/2766828709.py:23: DtypeWarning:\n",
      "\n",
      "Columns (0) have mixed types. Specify dtype option on import or set low_memory=False.\n",
      "\n"
     ]
    },
    {
     "name": "stdout",
     "output_type": "stream",
     "text": [
      "arabidopsis_thaliana\n"
     ]
    },
    {
     "name": "stderr",
     "output_type": "stream",
     "text": [
      "/var/tmp/pbs.8186134.power8.tau.ac.il/ipykernel_82405/2766828709.py:23: DtypeWarning:\n",
      "\n",
      "Columns (0) have mixed types. Specify dtype option on import or set low_memory=False.\n",
      "\n"
     ]
    },
    {
     "name": "stdout",
     "output_type": "stream",
     "text": [
      "arabis_alpina\n"
     ]
    },
    {
     "name": "stderr",
     "output_type": "stream",
     "text": [
      "/var/tmp/pbs.8186134.power8.tau.ac.il/ipykernel_82405/2766828709.py:23: DtypeWarning:\n",
      "\n",
      "Columns (0) have mixed types. Specify dtype option on import or set low_memory=False.\n",
      "\n"
     ]
    },
    {
     "name": "stdout",
     "output_type": "stream",
     "text": [
      "asparagus_officinalis\n",
      "avena_sativa\n",
      "beta_vulgaris\n"
     ]
    },
    {
     "name": "stderr",
     "output_type": "stream",
     "text": [
      "/var/tmp/pbs.8186134.power8.tau.ac.il/ipykernel_82405/2766828709.py:23: DtypeWarning:\n",
      "\n",
      "Columns (0) have mixed types. Specify dtype option on import or set low_memory=False.\n",
      "\n"
     ]
    },
    {
     "name": "stdout",
     "output_type": "stream",
     "text": [
      "brachypodium_distachyon\n"
     ]
    },
    {
     "name": "stderr",
     "output_type": "stream",
     "text": [
      "/var/tmp/pbs.8186134.power8.tau.ac.il/ipykernel_82405/2766828709.py:23: DtypeWarning:\n",
      "\n",
      "Columns (0) have mixed types. Specify dtype option on import or set low_memory=False.\n",
      "\n"
     ]
    },
    {
     "name": "stdout",
     "output_type": "stream",
     "text": [
      "brassica_juncea\n",
      "brassica_napus\n",
      "cajanus_cajan\n"
     ]
    },
    {
     "name": "stderr",
     "output_type": "stream",
     "text": [
      "/var/tmp/pbs.8186134.power8.tau.ac.il/ipykernel_82405/2766828709.py:23: DtypeWarning:\n",
      "\n",
      "Columns (0) have mixed types. Specify dtype option on import or set low_memory=False.\n",
      "\n"
     ]
    },
    {
     "name": "stdout",
     "output_type": "stream",
     "text": [
      "camelina_sativa\n"
     ]
    },
    {
     "name": "stderr",
     "output_type": "stream",
     "text": [
      "/var/tmp/pbs.8186134.power8.tau.ac.il/ipykernel_82405/2766828709.py:23: DtypeWarning:\n",
      "\n",
      "Columns (0) have mixed types. Specify dtype option on import or set low_memory=False.\n",
      "\n"
     ]
    },
    {
     "name": "stdout",
     "output_type": "stream",
     "text": [
      "cannabis_sativa\n"
     ]
    },
    {
     "name": "stderr",
     "output_type": "stream",
     "text": [
      "/var/tmp/pbs.8186134.power8.tau.ac.il/ipykernel_82405/2766828709.py:23: DtypeWarning:\n",
      "\n",
      "Columns (0) have mixed types. Specify dtype option on import or set low_memory=False.\n",
      "\n"
     ]
    },
    {
     "name": "stdout",
     "output_type": "stream",
     "text": [
      "capsicum_annuum\n"
     ]
    },
    {
     "name": "stderr",
     "output_type": "stream",
     "text": [
      "/var/tmp/pbs.8186134.power8.tau.ac.il/ipykernel_82405/2766828709.py:23: DtypeWarning:\n",
      "\n",
      "Columns (0) have mixed types. Specify dtype option on import or set low_memory=False.\n",
      "\n"
     ]
    },
    {
     "name": "stdout",
     "output_type": "stream",
     "text": [
      "chara_braunii\n",
      "chenopodium_quinoa\n",
      "citrullus_lanatus\n"
     ]
    },
    {
     "name": "stderr",
     "output_type": "stream",
     "text": [
      "/var/tmp/pbs.8186134.power8.tau.ac.il/ipykernel_82405/2766828709.py:23: DtypeWarning:\n",
      "\n",
      "Columns (0) have mixed types. Specify dtype option on import or set low_memory=False.\n",
      "\n"
     ]
    },
    {
     "name": "stdout",
     "output_type": "stream",
     "text": [
      "citrus_clementina\n",
      "coffea_canephora\n"
     ]
    },
    {
     "name": "stderr",
     "output_type": "stream",
     "text": [
      "/var/tmp/pbs.8186134.power8.tau.ac.il/ipykernel_82405/2766828709.py:23: DtypeWarning:\n",
      "\n",
      "Columns (0) have mixed types. Specify dtype option on import or set low_memory=False.\n",
      "\n"
     ]
    },
    {
     "name": "stdout",
     "output_type": "stream",
     "text": [
      "corchorus_capsularis\n",
      "corylus_avellana\n",
      "cucumis_melo\n",
      "cucumis_sativus\n"
     ]
    },
    {
     "name": "stderr",
     "output_type": "stream",
     "text": [
      "/var/tmp/pbs.8186134.power8.tau.ac.il/ipykernel_82405/2766828709.py:23: DtypeWarning:\n",
      "\n",
      "Columns (0) have mixed types. Specify dtype option on import or set low_memory=False.\n",
      "\n"
     ]
    },
    {
     "name": "stdout",
     "output_type": "stream",
     "text": [
      "cynara_cardunculus\n",
      "daucus_carota\n"
     ]
    },
    {
     "name": "stderr",
     "output_type": "stream",
     "text": [
      "/var/tmp/pbs.8186134.power8.tau.ac.il/ipykernel_82405/2766828709.py:23: DtypeWarning:\n",
      "\n",
      "Columns (0) have mixed types. Specify dtype option on import or set low_memory=False.\n",
      "\n"
     ]
    },
    {
     "name": "stdout",
     "output_type": "stream",
     "text": [
      "digitaria_exilis\n",
      "dioscorea_rotundata\n"
     ]
    },
    {
     "name": "stderr",
     "output_type": "stream",
     "text": [
      "/var/tmp/pbs.8186134.power8.tau.ac.il/ipykernel_82405/2766828709.py:23: DtypeWarning:\n",
      "\n",
      "Columns (0) have mixed types. Specify dtype option on import or set low_memory=False.\n",
      "\n"
     ]
    },
    {
     "name": "stdout",
     "output_type": "stream",
     "text": [
      "eragrostis_curvula\n"
     ]
    },
    {
     "name": "stderr",
     "output_type": "stream",
     "text": [
      "/var/tmp/pbs.8186134.power8.tau.ac.il/ipykernel_82405/2766828709.py:23: DtypeWarning:\n",
      "\n",
      "Columns (0) have mixed types. Specify dtype option on import or set low_memory=False.\n",
      "\n"
     ]
    },
    {
     "name": "stdout",
     "output_type": "stream",
     "text": [
      "eragrostis_tef\n",
      "eucalyptus_grandis\n",
      "eutrema_salsugineum\n",
      "ficus_carica\n"
     ]
    },
    {
     "name": "stderr",
     "output_type": "stream",
     "text": [
      "/var/tmp/pbs.8186134.power8.tau.ac.il/ipykernel_82405/2766828709.py:23: DtypeWarning:\n",
      "\n",
      "Columns (0) have mixed types. Specify dtype option on import or set low_memory=False.\n",
      "\n"
     ]
    },
    {
     "name": "stdout",
     "output_type": "stream",
     "text": [
      "fraxinus_excelsior\n",
      "glycine_max\n"
     ]
    },
    {
     "name": "stderr",
     "output_type": "stream",
     "text": [
      "/var/tmp/pbs.8186134.power8.tau.ac.il/ipykernel_82405/2766828709.py:23: DtypeWarning:\n",
      "\n",
      "Columns (0) have mixed types. Specify dtype option on import or set low_memory=False.\n",
      "\n"
     ]
    },
    {
     "name": "stdout",
     "output_type": "stream",
     "text": [
      "gossypium_raimondii\n"
     ]
    },
    {
     "name": "stderr",
     "output_type": "stream",
     "text": [
      "/var/tmp/pbs.8186134.power8.tau.ac.il/ipykernel_82405/2766828709.py:23: DtypeWarning:\n",
      "\n",
      "Columns (0) have mixed types. Specify dtype option on import or set low_memory=False.\n",
      "\n"
     ]
    },
    {
     "name": "stdout",
     "output_type": "stream",
     "text": [
      "helianthus_annuus\n"
     ]
    },
    {
     "name": "stderr",
     "output_type": "stream",
     "text": [
      "/var/tmp/pbs.8186134.power8.tau.ac.il/ipykernel_82405/2766828709.py:23: DtypeWarning:\n",
      "\n",
      "Columns (0) have mixed types. Specify dtype option on import or set low_memory=False.\n",
      "\n"
     ]
    },
    {
     "name": "stdout",
     "output_type": "stream",
     "text": [
      "hordeum_vulgare\n",
      "ipomoea_triloba\n",
      "juglans_regia\n"
     ]
    },
    {
     "name": "stderr",
     "output_type": "stream",
     "text": [
      "/var/tmp/pbs.8186134.power8.tau.ac.il/ipykernel_82405/2766828709.py:23: DtypeWarning:\n",
      "\n",
      "Columns (0) have mixed types. Specify dtype option on import or set low_memory=False.\n",
      "\n"
     ]
    },
    {
     "name": "stdout",
     "output_type": "stream",
     "text": [
      "kalanchoe_fedtschenkoi\n",
      "lactuca_sativa\n"
     ]
    },
    {
     "name": "stderr",
     "output_type": "stream",
     "text": [
      "/var/tmp/pbs.8186134.power8.tau.ac.il/ipykernel_82405/2766828709.py:23: DtypeWarning:\n",
      "\n",
      "Columns (0) have mixed types. Specify dtype option on import or set low_memory=False.\n",
      "\n"
     ]
    },
    {
     "name": "stdout",
     "output_type": "stream",
     "text": [
      "leersia_perrieri\n",
      "lolium_perenne\n"
     ]
    },
    {
     "name": "stderr",
     "output_type": "stream",
     "text": [
      "/var/tmp/pbs.8186134.power8.tau.ac.il/ipykernel_82405/2766828709.py:23: DtypeWarning:\n",
      "\n",
      "Columns (0) have mixed types. Specify dtype option on import or set low_memory=False.\n",
      "\n"
     ]
    },
    {
     "name": "stdout",
     "output_type": "stream",
     "text": [
      "lupinus_angustifolius\n",
      "malus_domestica\n"
     ]
    },
    {
     "name": "stderr",
     "output_type": "stream",
     "text": [
      "/var/tmp/pbs.8186134.power8.tau.ac.il/ipykernel_82405/2766828709.py:23: DtypeWarning:\n",
      "\n",
      "Columns (0) have mixed types. Specify dtype option on import or set low_memory=False.\n",
      "\n"
     ]
    },
    {
     "name": "stdout",
     "output_type": "stream",
     "text": [
      "manihot_esculenta\n",
      "marchantia_polymorpha\n",
      "medicago_truncatula\n"
     ]
    },
    {
     "name": "stderr",
     "output_type": "stream",
     "text": [
      "/var/tmp/pbs.8186134.power8.tau.ac.il/ipykernel_82405/2766828709.py:23: DtypeWarning:\n",
      "\n",
      "Columns (0) have mixed types. Specify dtype option on import or set low_memory=False.\n",
      "\n"
     ]
    },
    {
     "name": "stdout",
     "output_type": "stream",
     "text": [
      "musa_acuminata\n",
      "nicotiana_attenuata\n"
     ]
    },
    {
     "name": "stderr",
     "output_type": "stream",
     "text": [
      "/var/tmp/pbs.8186134.power8.tau.ac.il/ipykernel_82405/2766828709.py:23: DtypeWarning:\n",
      "\n",
      "Columns (0) have mixed types. Specify dtype option on import or set low_memory=False.\n",
      "\n"
     ]
    },
    {
     "name": "stdout",
     "output_type": "stream",
     "text": [
      "nymphaea_colorata\n"
     ]
    },
    {
     "name": "stderr",
     "output_type": "stream",
     "text": [
      "/var/tmp/pbs.8186134.power8.tau.ac.il/ipykernel_82405/2766828709.py:23: DtypeWarning:\n",
      "\n",
      "Columns (0) have mixed types. Specify dtype option on import or set low_memory=False.\n",
      "\n"
     ]
    },
    {
     "name": "stdout",
     "output_type": "stream",
     "text": [
      "olea_europaea\n",
      "oryza_barthii\n",
      "oryza_brachyantha\n"
     ]
    },
    {
     "name": "stderr",
     "output_type": "stream",
     "text": [
      "/var/tmp/pbs.8186134.power8.tau.ac.il/ipykernel_82405/2766828709.py:23: DtypeWarning:\n",
      "\n",
      "Columns (0) have mixed types. Specify dtype option on import or set low_memory=False.\n",
      "\n"
     ]
    },
    {
     "name": "stdout",
     "output_type": "stream",
     "text": [
      "oryza_glaberrima\n"
     ]
    },
    {
     "name": "stderr",
     "output_type": "stream",
     "text": [
      "/var/tmp/pbs.8186134.power8.tau.ac.il/ipykernel_82405/2766828709.py:23: DtypeWarning:\n",
      "\n",
      "Columns (0) have mixed types. Specify dtype option on import or set low_memory=False.\n",
      "\n"
     ]
    },
    {
     "name": "stdout",
     "output_type": "stream",
     "text": [
      "oryza_glumipatula\n",
      "oryza_longistaminata\n",
      "oryza_meridionalis\n",
      "oryza_nivara\n",
      "oryza_punctata\n",
      "oryza_rufipogon\n",
      "panicum_hallii\n"
     ]
    },
    {
     "name": "stderr",
     "output_type": "stream",
     "text": [
      "/var/tmp/pbs.8186134.power8.tau.ac.il/ipykernel_82405/2766828709.py:23: DtypeWarning:\n",
      "\n",
      "Columns (0) have mixed types. Specify dtype option on import or set low_memory=False.\n",
      "\n"
     ]
    },
    {
     "name": "stdout",
     "output_type": "stream",
     "text": [
      "papaver_somniferum\n"
     ]
    },
    {
     "name": "stderr",
     "output_type": "stream",
     "text": [
      "/var/tmp/pbs.8186134.power8.tau.ac.il/ipykernel_82405/2766828709.py:23: DtypeWarning:\n",
      "\n",
      "Columns (0) have mixed types. Specify dtype option on import or set low_memory=False.\n",
      "\n"
     ]
    },
    {
     "name": "stdout",
     "output_type": "stream",
     "text": [
      "phaseolus_vulgaris\n"
     ]
    },
    {
     "name": "stderr",
     "output_type": "stream",
     "text": [
      "/var/tmp/pbs.8186134.power8.tau.ac.il/ipykernel_82405/2766828709.py:23: DtypeWarning:\n",
      "\n",
      "Columns (0) have mixed types. Specify dtype option on import or set low_memory=False.\n",
      "\n"
     ]
    },
    {
     "name": "stdout",
     "output_type": "stream",
     "text": [
      "physcomitrium_patens\n"
     ]
    },
    {
     "name": "stderr",
     "output_type": "stream",
     "text": [
      "/var/tmp/pbs.8186134.power8.tau.ac.il/ipykernel_82405/2766828709.py:23: DtypeWarning:\n",
      "\n",
      "Columns (0) have mixed types. Specify dtype option on import or set low_memory=False.\n",
      "\n"
     ]
    },
    {
     "name": "stdout",
     "output_type": "stream",
     "text": [
      "pistacia_vera\n",
      "pisum_sativum\n",
      "populus_trichocarpa\n"
     ]
    },
    {
     "name": "stderr",
     "output_type": "stream",
     "text": [
      "/var/tmp/pbs.8186134.power8.tau.ac.il/ipykernel_82405/2766828709.py:23: DtypeWarning:\n",
      "\n",
      "Columns (0) have mixed types. Specify dtype option on import or set low_memory=False.\n",
      "\n"
     ]
    },
    {
     "name": "stdout",
     "output_type": "stream",
     "text": [
      "prunus_avium\n",
      "prunus_dulcis\n",
      "prunus_persica\n",
      "quercus_lobata\n"
     ]
    },
    {
     "name": "stderr",
     "output_type": "stream",
     "text": [
      "/var/tmp/pbs.8186134.power8.tau.ac.il/ipykernel_82405/2766828709.py:23: DtypeWarning:\n",
      "\n",
      "Columns (0) have mixed types. Specify dtype option on import or set low_memory=False.\n",
      "\n"
     ]
    },
    {
     "name": "stdout",
     "output_type": "stream",
     "text": [
      "quercus_suber\n",
      "rosa_chinensis\n"
     ]
    },
    {
     "name": "stderr",
     "output_type": "stream",
     "text": [
      "/var/tmp/pbs.8186134.power8.tau.ac.il/ipykernel_82405/2766828709.py:23: DtypeWarning:\n",
      "\n",
      "Columns (0) have mixed types. Specify dtype option on import or set low_memory=False.\n",
      "\n"
     ]
    },
    {
     "name": "stdout",
     "output_type": "stream",
     "text": [
      "saccharum_spontaneum\n",
      "secale_cereale\n",
      "selaginella_moellendorffii\n",
      "sesamum_indicum\n",
      "setaria_italica\n",
      "setaria_viridis\n"
     ]
    },
    {
     "name": "stderr",
     "output_type": "stream",
     "text": [
      "/var/tmp/pbs.8186134.power8.tau.ac.il/ipykernel_82405/2766828709.py:23: DtypeWarning:\n",
      "\n",
      "Columns (0) have mixed types. Specify dtype option on import or set low_memory=False.\n",
      "\n"
     ]
    },
    {
     "name": "stdout",
     "output_type": "stream",
     "text": [
      "solanum_lycopersicum\n"
     ]
    },
    {
     "name": "stderr",
     "output_type": "stream",
     "text": [
      "/var/tmp/pbs.8186134.power8.tau.ac.il/ipykernel_82405/2766828709.py:23: DtypeWarning:\n",
      "\n",
      "Columns (0) have mixed types. Specify dtype option on import or set low_memory=False.\n",
      "\n"
     ]
    },
    {
     "name": "stdout",
     "output_type": "stream",
     "text": [
      "solanum_tuberosum\n",
      "sorghum_bicolor\n"
     ]
    },
    {
     "name": "stderr",
     "output_type": "stream",
     "text": [
      "/var/tmp/pbs.8186134.power8.tau.ac.il/ipykernel_82405/2766828709.py:23: DtypeWarning:\n",
      "\n",
      "Columns (0) have mixed types. Specify dtype option on import or set low_memory=False.\n",
      "\n"
     ]
    },
    {
     "name": "stdout",
     "output_type": "stream",
     "text": [
      "theobroma_cacao\n"
     ]
    },
    {
     "name": "stderr",
     "output_type": "stream",
     "text": [
      "/var/tmp/pbs.8186134.power8.tau.ac.il/ipykernel_82405/2766828709.py:23: DtypeWarning:\n",
      "\n",
      "Columns (0) have mixed types. Specify dtype option on import or set low_memory=False.\n",
      "\n"
     ]
    },
    {
     "name": "stdout",
     "output_type": "stream",
     "text": [
      "trifolium_pratense\n",
      "triticum_dicoccoides\n",
      "triticum_spelta\n",
      "triticum_urartu\n"
     ]
    },
    {
     "name": "stderr",
     "output_type": "stream",
     "text": [
      "/var/tmp/pbs.8186134.power8.tau.ac.il/ipykernel_82405/2766828709.py:23: DtypeWarning:\n",
      "\n",
      "Columns (0) have mixed types. Specify dtype option on import or set low_memory=False.\n",
      "\n"
     ]
    },
    {
     "name": "stdout",
     "output_type": "stream",
     "text": [
      "vigna_angularis\n"
     ]
    },
    {
     "name": "stderr",
     "output_type": "stream",
     "text": [
      "/var/tmp/pbs.8186134.power8.tau.ac.il/ipykernel_82405/2766828709.py:23: DtypeWarning:\n",
      "\n",
      "Columns (0) have mixed types. Specify dtype option on import or set low_memory=False.\n",
      "\n"
     ]
    },
    {
     "name": "stdout",
     "output_type": "stream",
     "text": [
      "vigna_radiata\n"
     ]
    },
    {
     "name": "stderr",
     "output_type": "stream",
     "text": [
      "/var/tmp/pbs.8186134.power8.tau.ac.il/ipykernel_82405/2766828709.py:23: DtypeWarning:\n",
      "\n",
      "Columns (0) have mixed types. Specify dtype option on import or set low_memory=False.\n",
      "\n"
     ]
    },
    {
     "name": "stdout",
     "output_type": "stream",
     "text": [
      "vigna_unguiculata\n"
     ]
    },
    {
     "name": "stderr",
     "output_type": "stream",
     "text": [
      "/var/tmp/pbs.8186134.power8.tau.ac.il/ipykernel_82405/2766828709.py:23: DtypeWarning:\n",
      "\n",
      "Columns (0) have mixed types. Specify dtype option on import or set low_memory=False.\n",
      "\n"
     ]
    },
    {
     "name": "stdout",
     "output_type": "stream",
     "text": [
      "vitis_vinifera\n"
     ]
    },
    {
     "name": "stderr",
     "output_type": "stream",
     "text": [
      "/var/tmp/pbs.8186134.power8.tau.ac.il/ipykernel_82405/2766828709.py:23: DtypeWarning:\n",
      "\n",
      "Columns (0) have mixed types. Specify dtype option on import or set low_memory=False.\n",
      "\n"
     ]
    },
    {
     "name": "stdout",
     "output_type": "stream",
     "text": [
      "zea_mays\n"
     ]
    },
    {
     "name": "stderr",
     "output_type": "stream",
     "text": [
      "/var/tmp/pbs.8186134.power8.tau.ac.il/ipykernel_82405/2766828709.py:23: DtypeWarning:\n",
      "\n",
      "Columns (0) have mixed types. Specify dtype option on import or set low_memory=False.\n",
      "\n"
     ]
    }
   ],
   "source": [
    "gff_headers = ['seqid','source','ftype','start','end','score','strand','phase','atributes']\n",
    "phy_order = ['Chordata', 'Arthropoda', 'Mollusca', 'Cnidaria', 'Nematoda', 'Ascomycota', 'Streptophyta']\n",
    "phyla_colors = dict(zip(phy_order, template_colors))\n",
    "wd = \"../output/species_level_analysis/RESULT_euk/per_species\"\n",
    "figures = []\n",
    "\n",
    "for phy in phy_order:\n",
    "    print(f'### {phy} ###')\n",
    "    phy_species_df = species_df.query('phylum == @phy')\n",
    "    species = list(phy_species_df['species'])\n",
    "    cols = 3\n",
    "    rows = len(species) // cols + 1\n",
    "    fig = make_subplots(rows=rows, cols=cols, subplot_titles=species, shared_yaxes=True,\n",
    "                       x_title='Log10 Intron length (bp)')\n",
    "    r = 1\n",
    "    c = 1\n",
    "    min_x, max_x, min_y, max_y = [np.nan]*4\n",
    "    for row in phy_species_df.iterrows():\n",
    "        sp = row[1]['species']\n",
    "        sp_full = row[1]['full_name']\n",
    "        print(sp)\n",
    "        gff = os.path.join(wd,sp_full,'annotation.canon.introns.gff3')\n",
    "        gff_df = pd.read_csv(gff, sep='\\t', comment='#', names=gff_headers)\n",
    "        introns_df = gff_df.query('ftype == \"intron\"')\n",
    "        intron_len = np.log10(introns_df['end'] - introns_df['start'] + 1)\n",
    "        x,y = kde(intron_len)\n",
    "        fig.add_trace(go.Scatter(x=x,y=y), row=r, col=c)\n",
    "        x_min = min(x); y_min = min(x); x_max = max(x); y_max = max(y)\n",
    "        min_x = min(x_min, min_x); min_y = min(y_min, min_y); max_x = max(x_max, max_x); max_y = max(y_max, max_y)\n",
    "        c += 1\n",
    "        if c > cols:\n",
    "            c = 1\n",
    "            r += 1\n",
    "    fig.update_layout(title_text=phy, width=1000, height=200*rows,\n",
    "                     margin=dict(l=150, r=80, t=80, b=80))\n",
    "    fig.update_traces(marker_color=phyla_colors[phy], showlegend=False)\n",
    "    fig.update_xaxes(range=[min_x, max_x])\n",
    "    fig.update_yaxes(range=[min_y, max_y])\n",
    "    fig.add_annotation(x=-0.12, y=0.5, text='Density', xref=\"paper\", yref=\"paper\", textangle=270)\n",
    "    figures.append(fig)"
   ]
  },
  {
   "cell_type": "code",
   "execution_count": 82,
   "id": "ef2bac3c-7dbb-4fd3-8903-8b4e94a6fe4f",
   "metadata": {},
   "outputs": [],
   "source": [
    "fig_name = 'fig_S4'\n",
    "fig_path = os.path.join(figures_dir, fig_name + '.html')\n",
    "#os.remove(fig_path)\n",
    "with open(fig_path, 'a') as fo:\n",
    "    for fig in figures:\n",
    "        fo.write(fig.to_html(full_html=False, include_plotlyjs='cdn'))"
   ]
  },
  {
   "cell_type": "code",
   "execution_count": null,
   "id": "aa02ce3a-0392-4aed-a1c7-4596ad1eaaa1",
   "metadata": {},
   "outputs": [],
   "source": []
  }
 ],
 "metadata": {
  "kernelspec": {
   "display_name": "Python 3 (ipykernel)",
   "language": "python",
   "name": "python3"
  },
  "language_info": {
   "codemirror_mode": {
    "name": "ipython",
    "version": 3
   },
   "file_extension": ".py",
   "mimetype": "text/x-python",
   "name": "python",
   "nbconvert_exporter": "python",
   "pygments_lexer": "ipython3",
   "version": "3.10.11"
  }
 },
 "nbformat": 4,
 "nbformat_minor": 5
}
