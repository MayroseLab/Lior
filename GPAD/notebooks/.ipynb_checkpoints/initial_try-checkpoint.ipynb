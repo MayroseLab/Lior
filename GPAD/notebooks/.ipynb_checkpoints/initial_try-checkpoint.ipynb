{
 "cells": [
  {
   "cell_type": "markdown",
   "metadata": {},
   "source": [
    "# Initial try\n",
    "This notebook contains manual commands for first attempts at establishing the GPAD pipeline.  \n",
    "These steps include an example data set to work with, then manual data processing and analysis."
   ]
  },
  {
   "cell_type": "code",
   "execution_count": 1,
   "metadata": {},
   "outputs": [
    {
     "data": {
      "text/html": [
       "        <script type=\"text/javascript\">\n",
       "        window.PlotlyConfig = {MathJaxConfig: 'local'};\n",
       "        if (window.MathJax) {MathJax.Hub.Config({SVG: {font: \"STIX-Web\"}});}\n",
       "        if (typeof require !== 'undefined') {\n",
       "        require.undef(\"plotly\");\n",
       "        requirejs.config({\n",
       "            paths: {\n",
       "                'plotly': ['https://cdn.plot.ly/plotly-latest.min']\n",
       "            }\n",
       "        });\n",
       "        require(['plotly'], function(Plotly) {\n",
       "            window._Plotly = Plotly;\n",
       "        });\n",
       "        }\n",
       "        </script>\n",
       "        "
      ]
     },
     "metadata": {},
     "output_type": "display_data"
    }
   ],
   "source": [
    "import pandas as pd\n",
    "import seaborn as sns\n",
    "from plotly.offline import download_plotlyjs, init_notebook_mode, plot, iplot\n",
    "import plotly.graph_objs as go\n",
    "init_notebook_mode(connected=True)\n",
    "import ipywidgets as widgets\n",
    "from ipywidgets import interact, interact_manual\n",
    "\n",
    "data_dir = \"../data\"\n",
    "out_dir = \"../output/initial\""
   ]
  },
  {
   "cell_type": "markdown",
   "metadata": {},
   "source": [
    "## Data download\n",
    "Downloading the raw data for developing GPAD.  \n",
    "Specifically, tomato assembly, annotation and reads.\n",
    "Start by downloading and extracting the Heinz1706 relevant data."
   ]
  },
  {
   "cell_type": "code",
   "execution_count": 6,
   "metadata": {},
   "outputs": [
    {
     "name": "stdout",
     "output_type": "stream",
     "text": [
      "--2019-09-07 18:20:30--  http://ftp.sra.ebi.ac.uk/vol1/fastq/SRR157/008/SRR1572628/SRR1572628_1.fastq.gz\n",
      "Resolving ftp.sra.ebi.ac.uk (ftp.sra.ebi.ac.uk)... 193.62.192.7\n",
      "Connecting to ftp.sra.ebi.ac.uk (ftp.sra.ebi.ac.uk)|193.62.192.7|:80... connected.\n",
      "HTTP request sent, awaiting response... 200 OK\n",
      "Length: 2212339546 (2.1G) [application/octet-stream]\n",
      "Saving to: ‘../data/SRR1572628_1.fastq.gz’\n",
      "\n",
      "100%[====================================>] 2,212,339,546  527KB/s   in 68m 45s\n",
      "\n",
      "2019-09-07 19:29:16 (524 KB/s) - ‘../data/SRR1572628_1.fastq.gz’ saved [2212339546/2212339546]\n",
      "\n",
      "--2019-09-07 19:29:17--  http://ftp.sra.ebi.ac.uk/vol1/fastq/SRR157/008/SRR1572628/SRR1572628_2.fastq.gz\n",
      "Resolving ftp.sra.ebi.ac.uk (ftp.sra.ebi.ac.uk)... 193.62.192.7\n",
      "Connecting to ftp.sra.ebi.ac.uk (ftp.sra.ebi.ac.uk)|193.62.192.7|:80... connected.\n",
      "HTTP request sent, awaiting response... 200 OK\n",
      "Length: 2285974731 (2.1G) [application/octet-stream]\n",
      "Saving to: ‘../data/SRR1572628_2.fastq.gz’\n",
      "\n",
      "100%[====================================>] 2,285,974,731  529KB/s   in 71m 23s\n",
      "\n",
      "2019-09-07 20:40:41 (521 KB/s) - ‘../data/SRR1572628_2.fastq.gz’ saved [2285974731/2285974731]\n",
      "\n"
     ]
    }
   ],
   "source": [
    "# download Heinz data\n",
    "!wget ftp://ftp.solgenomics.net/tomato_genome/Heinz1706/assembly/build_4.00/S_lycopersicum_chromosomes.4.00.fa -P $data_dir\n",
    "!wget ftp://ftp.solgenomics.net/tomato_genome/Heinz1706/annotation/ITAG4.0_release/ITAG4.0_gene_models.gff  -P $data_dir\n",
    "!wget ftp.sra.ebi.ac.uk/vol1/fastq/SRR157/008/SRR1572628/SRR1572628_1.fastq.gz  -P $data_dir\n",
    "!wget ftp.sra.ebi.ac.uk/vol1/fastq/SRR157/008/SRR1572628/SRR1572628_2.fastq.gz  -P $data_dir"
   ]
  },
  {
   "cell_type": "code",
   "execution_count": 7,
   "metadata": {},
   "outputs": [],
   "source": [
    "# extract reads\n",
    "!pigz -d $data_dir/SRR1572628_1.fastq.gz\n",
    "!pigz -d $data_dir/SRR1572628_2.fastq.gz"
   ]
  },
  {
   "cell_type": "markdown",
   "metadata": {},
   "source": [
    "## Align reads\n",
    "Align heinz reads to reference genome.  \n",
    "Data is ~x5 coverage."
   ]
  },
  {
   "cell_type": "code",
   "execution_count": 1,
   "metadata": {},
   "outputs": [],
   "source": [
    "!mkdir $out_dir"
   ]
  },
  {
   "cell_type": "code",
   "execution_count": 2,
   "metadata": {},
   "outputs": [
    {
     "name": "stdout",
     "output_type": "stream",
     "text": [
      "4332493.power8.tau.ac.il\n"
     ]
    }
   ],
   "source": [
    "# index heinz ref\n",
    "index_sh = \"%s/index_genome.sh\" % out_dir\n",
    "!qsub $index_sh"
   ]
  },
  {
   "cell_type": "code",
   "execution_count": 4,
   "metadata": {},
   "outputs": [
    {
     "name": "stdout",
     "output_type": "stream",
     "text": [
      "4336012.power8.tau.ac.il\n"
     ]
    }
   ],
   "source": [
    "# align reads\n",
    "align_sh = \"%s/align_reads.sh\" % out_dir\n",
    "!qsub $align_sh"
   ]
  },
  {
   "cell_type": "code",
   "execution_count": 4,
   "metadata": {},
   "outputs": [
    {
     "name": "stdout",
     "output_type": "stream",
     "text": [
      "4377619.power8.tau.ac.il\n"
     ]
    }
   ],
   "source": [
    "# convert to bam and sort\n",
    "sort_bam_sh = \"%s/sort_bam.sh\" % out_dir\n",
    "!qsub $sort_bam_sh"
   ]
  },
  {
   "cell_type": "markdown",
   "metadata": {},
   "source": [
    "## Calculate gene coverage\n",
    "The goal is to create coverage distributions per gene. "
   ]
  },
  {
   "cell_type": "code",
   "execution_count": 5,
   "metadata": {},
   "outputs": [
    {
     "name": "stdout",
     "output_type": "stream",
     "text": [
      "4386592.power8.tau.ac.il\n"
     ]
    }
   ],
   "source": [
    "# start by creating a bedGraph\n",
    "make_bedgraph_sh = \"%s/make_bedGraph.sh\" % out_dir\n",
    "!qsub $make_bedgraph_sh"
   ]
  },
  {
   "cell_type": "code",
   "execution_count": 22,
   "metadata": {},
   "outputs": [
    {
     "name": "stdout",
     "output_type": "stream",
     "text": [
      "../output/initial/ITAG4.0_gene_models_exons.bed\n",
      "../data/ITAG4.0_gene_models.gff\n"
     ]
    }
   ],
   "source": [
    "# convert gff exons to bed\n",
    "gff_file = \"%s/ITAG4.0_gene_models.gff\" % data_dir\n",
    "exons_bed = \"%s/ITAG4.0_gene_models_exons.bed\" % out_dir"
   ]
  },
  {
   "cell_type": "code",
   "execution_count": 29,
   "metadata": {},
   "outputs": [],
   "source": [
    "%%bash\n",
    "grep -v '#' ../data/ITAG4.0_gene_models.gff | awk '$3 == \"exon\" {split($9,a,\";\"); split(a[2],b,\"=\"); split(b[2],c,\":\"); print $1\"\\t\"$4\"\\t\"$5\"\\t\"c[2]}' > ../output/initial/ITAG4.0_gene_models_exons.bed"
   ]
  },
  {
   "cell_type": "code",
   "execution_count": 30,
   "metadata": {},
   "outputs": [
    {
     "name": "stdout",
     "output_type": "stream",
     "text": [
      "4401603.power8.tau.ac.il\n"
     ]
    }
   ],
   "source": [
    "# intersect exons with bedGraph. Use -wao to keep gene names and calculate number of overlapping bp\n",
    "intersect_sh = \"%s/intersect_exons_with_bedgraph.sh\" % out_dir\n",
    "!qsub $intersect_sh"
   ]
  },
  {
   "cell_type": "code",
   "execution_count": 2,
   "metadata": {},
   "outputs": [],
   "source": [
    "# process intersect result\n",
    "exons_cov_file = \"%s/exons_coverage.tsv\" % out_dir\n",
    "headers = [\"exon_chrom\", \"exon_start\", \"exon_end\", \"gene\",\n",
    "           \"cov_block_chrom\", \"cov_block_start\", \"cov_block_end\", \"coverage\", \"overlap\"]\n",
    "exons_cov_df = pd.read_csv(exons_cov_file, names=headers, sep='\\t')"
   ]
  },
  {
   "cell_type": "code",
   "execution_count": 3,
   "metadata": {},
   "outputs": [
    {
     "data": {
      "text/html": [
       "<div>\n",
       "<style scoped>\n",
       "    .dataframe tbody tr th:only-of-type {\n",
       "        vertical-align: middle;\n",
       "    }\n",
       "\n",
       "    .dataframe tbody tr th {\n",
       "        vertical-align: top;\n",
       "    }\n",
       "\n",
       "    .dataframe thead th {\n",
       "        text-align: right;\n",
       "    }\n",
       "</style>\n",
       "<table border=\"1\" class=\"dataframe\">\n",
       "  <thead>\n",
       "    <tr style=\"text-align: right;\">\n",
       "      <th></th>\n",
       "      <th>exon_chrom</th>\n",
       "      <th>exon_start</th>\n",
       "      <th>exon_end</th>\n",
       "      <th>gene</th>\n",
       "      <th>cov_block_chrom</th>\n",
       "      <th>cov_block_start</th>\n",
       "      <th>cov_block_end</th>\n",
       "      <th>coverage</th>\n",
       "      <th>overlap</th>\n",
       "    </tr>\n",
       "  </thead>\n",
       "  <tbody>\n",
       "    <tr>\n",
       "      <th>0</th>\n",
       "      <td>SL4.0ch00</td>\n",
       "      <td>93750</td>\n",
       "      <td>94430</td>\n",
       "      <td>Solyc00g500001.1.1</td>\n",
       "      <td>SL4.0ch00</td>\n",
       "      <td>93749</td>\n",
       "      <td>93762</td>\n",
       "      <td>11</td>\n",
       "      <td>12</td>\n",
       "    </tr>\n",
       "    <tr>\n",
       "      <th>1</th>\n",
       "      <td>SL4.0ch00</td>\n",
       "      <td>93750</td>\n",
       "      <td>94430</td>\n",
       "      <td>Solyc00g500001.1.1</td>\n",
       "      <td>SL4.0ch00</td>\n",
       "      <td>93762</td>\n",
       "      <td>93766</td>\n",
       "      <td>12</td>\n",
       "      <td>4</td>\n",
       "    </tr>\n",
       "    <tr>\n",
       "      <th>2</th>\n",
       "      <td>SL4.0ch00</td>\n",
       "      <td>93750</td>\n",
       "      <td>94430</td>\n",
       "      <td>Solyc00g500001.1.1</td>\n",
       "      <td>SL4.0ch00</td>\n",
       "      <td>93766</td>\n",
       "      <td>93770</td>\n",
       "      <td>13</td>\n",
       "      <td>4</td>\n",
       "    </tr>\n",
       "    <tr>\n",
       "      <th>3</th>\n",
       "      <td>SL4.0ch00</td>\n",
       "      <td>93750</td>\n",
       "      <td>94430</td>\n",
       "      <td>Solyc00g500001.1.1</td>\n",
       "      <td>SL4.0ch00</td>\n",
       "      <td>93770</td>\n",
       "      <td>93772</td>\n",
       "      <td>15</td>\n",
       "      <td>2</td>\n",
       "    </tr>\n",
       "    <tr>\n",
       "      <th>4</th>\n",
       "      <td>SL4.0ch00</td>\n",
       "      <td>93750</td>\n",
       "      <td>94430</td>\n",
       "      <td>Solyc00g500001.1.1</td>\n",
       "      <td>SL4.0ch00</td>\n",
       "      <td>93772</td>\n",
       "      <td>93786</td>\n",
       "      <td>14</td>\n",
       "      <td>14</td>\n",
       "    </tr>\n",
       "  </tbody>\n",
       "</table>\n",
       "</div>"
      ],
      "text/plain": [
       "  exon_chrom  exon_start  exon_end                gene cov_block_chrom  \\\n",
       "0  SL4.0ch00       93750     94430  Solyc00g500001.1.1       SL4.0ch00   \n",
       "1  SL4.0ch00       93750     94430  Solyc00g500001.1.1       SL4.0ch00   \n",
       "2  SL4.0ch00       93750     94430  Solyc00g500001.1.1       SL4.0ch00   \n",
       "3  SL4.0ch00       93750     94430  Solyc00g500001.1.1       SL4.0ch00   \n",
       "4  SL4.0ch00       93750     94430  Solyc00g500001.1.1       SL4.0ch00   \n",
       "\n",
       "   cov_block_start  cov_block_end  coverage  overlap  \n",
       "0            93749          93762        11       12  \n",
       "1            93762          93766        12        4  \n",
       "2            93766          93770        13        4  \n",
       "3            93770          93772        15        2  \n",
       "4            93772          93786        14       14  "
      ]
     },
     "execution_count": 3,
     "metadata": {},
     "output_type": "execute_result"
    }
   ],
   "source": [
    "exons_cov_df.head()"
   ]
  },
  {
   "cell_type": "code",
   "execution_count": 4,
   "metadata": {},
   "outputs": [],
   "source": [
    "cov_dist_per_gene = exons_cov_df.groupby(['gene', 'coverage'])['overlap'].sum()"
   ]
  },
  {
   "cell_type": "code",
   "execution_count": 5,
   "metadata": {},
   "outputs": [
    {
     "data": {
      "text/plain": [
       "gene                coverage\n",
       "Solyc00g005280.1.1  13           2\n",
       "                    14          21\n",
       "                    15           8\n",
       "                    16          25\n",
       "                    17          56\n",
       "                    18          49\n",
       "                    19          50\n",
       "                    20          40\n",
       "                    21          29\n",
       "                    22          52\n",
       "                    23           5\n",
       "                    24          10\n",
       "                    25           9\n",
       "                    26           4\n",
       "                    27           1\n",
       "                    28          13\n",
       "                    29          14\n",
       "                    30          16\n",
       "                    31           5\n",
       "Solyc00g006650.1.1  7           11\n",
       "                    8           35\n",
       "                    9           15\n",
       "                    10           2\n",
       "                    11          22\n",
       "                    12           8\n",
       "                    13          20\n",
       "                    14           4\n",
       "                    21           2\n",
       "                    22           6\n",
       "                    23          16\n",
       "Name: overlap, dtype: int64"
      ]
     },
     "execution_count": 5,
     "metadata": {},
     "output_type": "execute_result"
    }
   ],
   "source": [
    "cov_dist_per_gene.head(30)"
   ]
  },
  {
   "cell_type": "code",
   "execution_count": 5,
   "metadata": {},
   "outputs": [],
   "source": [
    "example = cov_dist_per_gene['Solyc00g005280.1.1']\n",
    "example_vec = example.index.repeat(example)"
   ]
  },
  {
   "cell_type": "code",
   "execution_count": 6,
   "metadata": {},
   "outputs": [
    {
     "data": {
      "text/plain": [
       "<matplotlib.axes._subplots.AxesSubplot at 0x2b27f2e5e6d8>"
      ]
     },
     "execution_count": 6,
     "metadata": {},
     "output_type": "execute_result"
    },
    {
     "data": {
      "image/png": "[encoded data removed]",
      "text/plain": [
       "<Figure size 432x288 with 1 Axes>"
      ]
     },
     "metadata": {
      "needs_background": "light"
     },
     "output_type": "display_data"
    }
   ],
   "source": [
    "sns.distplot(example_vec)"
   ]
  },
  {
   "cell_type": "code",
   "execution_count": 7,
   "metadata": {},
   "outputs": [],
   "source": [
    "# visualize histograms of gene coverage\n",
    "figs = []\n",
    "for gene_name in cov_dist_per_gene.index.get_level_values(0).unique()[1000:1100]:\n",
    "    gene = cov_dist_per_gene[gene_name]\n",
    "    vec = gene.index.repeat(gene)\n",
    "    data = go.Histogram(x=vec, xbins=dict(size=1), histnorm='percent')\n",
    "    layout = go.Layout(\n",
    "        title=gene_name,\n",
    "        xaxis=dict(title='Coverage'),\n",
    "        yaxis=dict(title='% of exon bp')\n",
    "        )\n",
    "    fig = go.Figure(data=data, layout=layout)\n",
    "    figs.append(fig)"
   ]
  },
  {
   "cell_type": "code",
   "execution_count": 8,
   "metadata": {},
   "outputs": [
    {
     "data": {
      "application/vnd.jupyter.widget-view+json": {
       "model_id": "87ac936616c74a458d2ad24dde5df31d",
       "version_major": 2,
       "version_minor": 0
      },
      "text/plain": [
       "interactive(children=(IntSlider(value=50, description='i'), Output()), _dom_classes=('widget-interact',))"
      ]
     },
     "metadata": {},
     "output_type": "display_data"
    }
   ],
   "source": [
    "@interact\n",
    "def show_hist_for_gene(i=(0,100,1)):\n",
    "    figs[i].show()"
   ]
  },
  {
   "cell_type": "code",
   "execution_count": 9,
   "metadata": {},
   "outputs": [
    {
     "name": "stderr",
     "output_type": "stream",
     "text": [
      "/groups/itay_mayrose/liorglic/miniconda3/envs/jupyterlab/lib/python3.7/site-packages/ipykernel_launcher.py:12: RuntimeWarning:\n",
      "\n",
      "invalid value encountered in long_scalars\n",
      "\n"
     ]
    }
   ],
   "source": [
    "# collect summary stats accross all genes\n",
    "gene_names = []\n",
    "means = []\n",
    "medians = []\n",
    "perc_covs = []\n",
    "seq_depth = 5\n",
    "for gene_name in cov_dist_per_gene.index.get_level_values(0).unique():\n",
    "    gene = cov_dist_per_gene[gene_name]\n",
    "    vec = pd.Series(gene.index.repeat(gene))\n",
    "    mean = vec.mean()\n",
    "    median = vec.median()\n",
    "    perc_cov = vec[vec > seq_depth/2].sum()/vec.sum()*100  # % of gene with coverage > sequencing depth/2\n",
    "    gene_names.append(gene_name)\n",
    "    means.append(mean)\n",
    "    medians.append(median)\n",
    "    perc_covs.append(perc_cov)\n",
    "stats_dict = {'gene': gene_names, 'mean_cov': means, 'median_cov': medians, 'perc_cov': perc_covs}\n",
    "gene_coverage_stats_df = pd.DataFrame(stats_dict)"
   ]
  },
  {
   "cell_type": "code",
   "execution_count": 52,
   "metadata": {},
   "outputs": [
    {
     "data": {
      "text/html": [
       "<div>\n",
       "<style scoped>\n",
       "    .dataframe tbody tr th:only-of-type {\n",
       "        vertical-align: middle;\n",
       "    }\n",
       "\n",
       "    .dataframe tbody tr th {\n",
       "        vertical-align: top;\n",
       "    }\n",
       "\n",
       "    .dataframe thead th {\n",
       "        text-align: right;\n",
       "    }\n",
       "</style>\n",
       "<table border=\"1\" class=\"dataframe\">\n",
       "  <thead>\n",
       "    <tr style=\"text-align: right;\">\n",
       "      <th></th>\n",
       "      <th>gene</th>\n",
       "      <th>mean_cov</th>\n",
       "      <th>median_cov</th>\n",
       "      <th>perc_cov</th>\n",
       "    </tr>\n",
       "  </thead>\n",
       "  <tbody>\n",
       "    <tr>\n",
       "      <th>0</th>\n",
       "      <td>Solyc00g005280.1.1</td>\n",
       "      <td>20.276284</td>\n",
       "      <td>19.0</td>\n",
       "      <td>100.000000</td>\n",
       "    </tr>\n",
       "    <tr>\n",
       "      <th>1</th>\n",
       "      <td>Solyc00g006650.1.1</td>\n",
       "      <td>13.176471</td>\n",
       "      <td>11.0</td>\n",
       "      <td>100.000000</td>\n",
       "    </tr>\n",
       "    <tr>\n",
       "      <th>2</th>\n",
       "      <td>Solyc00g007330.1.1</td>\n",
       "      <td>3.696731</td>\n",
       "      <td>3.0</td>\n",
       "      <td>90.271424</td>\n",
       "    </tr>\n",
       "    <tr>\n",
       "      <th>3</th>\n",
       "      <td>Solyc00g007340.1.1</td>\n",
       "      <td>5.032609</td>\n",
       "      <td>5.0</td>\n",
       "      <td>97.516199</td>\n",
       "    </tr>\n",
       "    <tr>\n",
       "      <th>4</th>\n",
       "      <td>Solyc00g007350.1.1</td>\n",
       "      <td>5.427602</td>\n",
       "      <td>6.0</td>\n",
       "      <td>98.416007</td>\n",
       "    </tr>\n",
       "  </tbody>\n",
       "</table>\n",
       "</div>"
      ],
      "text/plain": [
       "                 gene   mean_cov  median_cov    perc_cov\n",
       "0  Solyc00g005280.1.1  20.276284        19.0  100.000000\n",
       "1  Solyc00g006650.1.1  13.176471        11.0  100.000000\n",
       "2  Solyc00g007330.1.1   3.696731         3.0   90.271424\n",
       "3  Solyc00g007340.1.1   5.032609         5.0   97.516199\n",
       "4  Solyc00g007350.1.1   5.427602         6.0   98.416007"
      ]
     },
     "execution_count": 52,
     "metadata": {},
     "output_type": "execute_result"
    }
   ],
   "source": [
    "gene_coverage_stats_df.head()"
   ]
  },
  {
   "cell_type": "code",
   "execution_count": 10,
   "metadata": {},
   "outputs": [
    {
     "data": {
      "application/vnd.jupyter.widget-view+json": {
       "model_id": "810dd1a91c1b41d8b1786509c42e2ccd",
       "version_major": 2,
       "version_minor": 0
      },
      "text/plain": [
       "interactive(children=(Dropdown(description='stat', options=('mean_cov', 'median_cov', 'perc_cov'), value='mean…"
      ]
     },
     "metadata": {},
     "output_type": "display_data"
    }
   ],
   "source": [
    "@interact\n",
    "def hist_stat(stat=['mean_cov','median_cov','perc_cov']):\n",
    "    data = go.Histogram(x=gene_coverage_stats_df[stat])\n",
    "    layout = go.Layout(\n",
    "        title=\"Histogram of mean coverage\",\n",
    "        xaxis=dict(title=stat),\n",
    "        yaxis=dict(title='# of genes')\n",
    "        )\n",
    "    fig = go.Figure(data=data, layout=layout)\n",
    "    fig.show()"
   ]
  },
  {
   "cell_type": "markdown",
   "metadata": {},
   "source": [
    "## Create negative examples\n",
    "So far all examples are \"positive\" genes, in the sense that they are assumed to be real genes that exist in the ref genome.  \n",
    "Next step is to look at \"negative\" examples - genes that do not exist in the genome, and how their coverage distributions look.  \n",
    "To get a list of negative genes:\n",
    "1. Blast sequences from relative species against the ref genome\n",
    "2. Look for genes that are not found (use some criteria) in the ref\n",
    "3. Align reads from ref to negative genes"
   ]
  },
  {
   "cell_type": "code",
   "execution_count": 5,
   "metadata": {},
   "outputs": [
    {
     "name": "stdout",
     "output_type": "stream",
     "text": [
      "--2019-09-14 17:42:13--  ftp://ftp.solgenomics.net/genomes/Solanum_pennellii/annotations/Spenn-v2-cds-annot.fa\n",
      "           => ‘../data/Spenn-v2-cds-annot.fa.1’\n",
      "Resolving ftp.solgenomics.net (ftp.solgenomics.net)... 132.236.81.147\n",
      "Connecting to ftp.solgenomics.net (ftp.solgenomics.net)|132.236.81.147|:21... connected.\n",
      "Logging in as anonymous ... Logged in!\n",
      "==> SYST ... done.    ==> PWD ... done.\n",
      "==> TYPE I ... done.  ==> CWD (1) /genomes/Solanum_pennellii/annotations ... done.\n",
      "==> SIZE Spenn-v2-cds-annot.fa ... 78585655\n",
      "==> PASV ... done.    ==> RETR Spenn-v2-cds-annot.fa ... done.\n",
      "Length: 78585655 (75M) (unauthoritative)\n",
      "\n",
      "100%[======================================>] 78,585,655  19.3MB/s   in 4.7s   \n",
      "\n",
      "2019-09-14 17:42:21 (16.0 MB/s) - ‘../data/Spenn-v2-cds-annot.fa.1’ saved [78585655]\n",
      "\n",
      "--2019-09-14 17:42:21--  ftp://ftp.solgenomics.net/genomes/Solanum_pimpinellifolium/LA0480/annotation/s.pimp.maker.transcripts.FINAL.UTR.fna\n",
      "           => ‘../data/s.pimp.maker.transcripts.FINAL.UTR.fna’\n",
      "Resolving ftp.solgenomics.net (ftp.solgenomics.net)... 132.236.81.147\n",
      "Connecting to ftp.solgenomics.net (ftp.solgenomics.net)|132.236.81.147|:21... connected.\n",
      "Logging in as anonymous ... Logged in!\n",
      "==> SYST ... done.    ==> PWD ... done.\n",
      "==> TYPE I ... done.  ==> CWD (1) /genomes/Solanum_pimpinellifolium/LA0480/annotation ... done.\n",
      "==> SIZE s.pimp.maker.transcripts.FINAL.UTR.fna ... 38168721\n",
      "==> PASV ... done.    ==> RETR s.pimp.maker.transcripts.FINAL.UTR.fna ... done.\n",
      "Length: 38168721 (36M) (unauthoritative)\n",
      "\n",
      "100%[======================================>] 38,168,721  12.6MB/s   in 2.9s   \n",
      "\n",
      "2019-09-14 17:42:26 (12.6 MB/s) - ‘../data/s.pimp.maker.transcripts.FINAL.UTR.fna’ saved [38168721]\n",
      "\n",
      "--2019-09-14 17:42:26--  ftp://ftp.solgenomics.net/genomes/Solanum_chilense/Stam_et_al_2019/Solanum_chilense.cds.fa\n",
      "           => ‘../data/Solanum_chilense.cds.fa.1’\n",
      "Resolving ftp.solgenomics.net (ftp.solgenomics.net)... 132.236.81.147\n",
      "Connecting to ftp.solgenomics.net (ftp.solgenomics.net)|132.236.81.147|:21... connected.\n",
      "Logging in as anonymous ... Logged in!\n",
      "==> SYST ... done.    ==> PWD ... done.\n",
      "==> TYPE I ... done.  ==> CWD (1) /genomes/Solanum_chilense/Stam_et_al_2019 ... done.\n",
      "==> SIZE Solanum_chilense.cds.fa ... 30765896\n",
      "==> PASV ... done.    ==> RETR Solanum_chilense.cds.fa ... done.\n",
      "Length: 30765896 (29M) (unauthoritative)\n",
      "\n",
      "100%[======================================>] 30,765,896  11.7MB/s   in 2.5s   \n",
      "\n",
      "2019-09-14 17:42:31 (11.7 MB/s) - ‘../data/Solanum_chilense.cds.fa.1’ saved [30765896]\n",
      "\n"
     ]
    }
   ],
   "source": [
    "# download transcripts data from wild relatives\n",
    "#species include: S. pennellii, S. pimpinellifolium and S. chilense, \n",
    "!wget ftp://ftp.solgenomics.net/genomes/Solanum_pennellii/annotations/Spenn-v2-cds-annot.fa -P $data_dir\n",
    "!wget ftp://ftp.solgenomics.net/genomes/Solanum_pimpinellifolium/LA0480/annotation/s.pimp.maker.transcripts.FINAL.UTR.fna  -P $data_dir\n",
    "!wget ftp://ftp.solgenomics.net/genomes/Solanum_chilense/Stam_et_al_2019/Solanum_chilense.cds.fa -P $data_dir"
   ]
  },
  {
   "cell_type": "code",
   "execution_count": 7,
   "metadata": {},
   "outputs": [],
   "source": [
    "# concat all transcripts into one file\n",
    "relative_transcripts_fasta = \"%s/relative_transcripts.fasta\" % out_dir\n",
    "files = \"%s/Spenn-v2-cds-annot.fa %s/s.pimp.maker.transcripts.FINAL.UTR.fna %s/Solanum_chilense.cds.fa\" %(data_dir,data_dir,data_dir)\n",
    "!cat $files > $relative_transcripts_fasta"
   ]
  },
  {
   "cell_type": "code",
   "execution_count": 3,
   "metadata": {},
   "outputs": [
    {
     "name": "stdout",
     "output_type": "stream",
     "text": [
      "5163978.power8.tau.ac.il\r\n"
     ]
    }
   ],
   "source": [
    "# use minimap2 to map genes from relative species to ref genome\n",
    "minimap_sh = \"%s/minimap.sh\" % out_dir\n",
    "!qsub $minimap_sh"
   ]
  },
  {
   "cell_type": "markdown",
   "metadata": {},
   "source": [
    "To simulate a realistic scenario, align Heinz reads to each relative species genome, then repeat the procedure above to get coverage stats for their genes."
   ]
  },
  {
   "cell_type": "code",
   "execution_count": 4,
   "metadata": {},
   "outputs": [
    {
     "name": "stdout",
     "output_type": "stream",
     "text": [
      "--2019-09-14 17:20:41--  ftp://ftp.solgenomics.net/genomes/Solanum_pennellii/Spenn.fasta\n",
      "           => ‘../output/initial/Spenn.fasta’\n",
      "Resolving ftp.solgenomics.net (ftp.solgenomics.net)... 132.236.81.147\n",
      "Connecting to ftp.solgenomics.net (ftp.solgenomics.net)|132.236.81.147|:21... connected.\n",
      "Logging in as anonymous ... Logged in!\n",
      "==> SYST ... done.    ==> PWD ... done.\n",
      "==> TYPE I ... done.  ==> CWD (1) /genomes/Solanum_pennellii ... done.\n",
      "==> SIZE Spenn.fasta ... 1003809056\n",
      "==> PASV ... done.    ==> RETR Spenn.fasta ... done.\n",
      "Length: 1003809056 (957M) (unauthoritative)\n",
      "\n",
      "100%[====================================>] 1,003,809,056 18.9MB/s   in 53s    \n",
      "\n",
      "2019-09-14 17:21:37 (18.2 MB/s) - ‘../output/initial/Spenn.fasta’ saved [1003809056]\n",
      "\n",
      "--2019-09-14 17:21:38--  ftp://ftp.solgenomics.net/genomes/Solanum_pimpinellifolium/LA0480/assembly/tomato-scaffolds.abyss.77.fasta.gz\n",
      "           => ‘../output/initial/tomato-scaffolds.abyss.77.fasta.gz’\n",
      "Resolving ftp.solgenomics.net (ftp.solgenomics.net)... 132.236.81.147\n",
      "Connecting to ftp.solgenomics.net (ftp.solgenomics.net)|132.236.81.147|:21... connected.\n",
      "Logging in as anonymous ... Logged in!\n",
      "==> SYST ... done.    ==> PWD ... done.\n",
      "==> TYPE I ... done.  ==> CWD (1) /genomes/Solanum_pimpinellifolium/LA0480/assembly ... done.\n",
      "==> SIZE tomato-scaffolds.abyss.77.fasta.gz ... 223789373\n",
      "==> PASV ... done.    ==> RETR tomato-scaffolds.abyss.77.fasta.gz ... done.\n",
      "Length: 223789373 (213M) (unauthoritative)\n",
      "\n",
      "100%[======================================>] 223,789,373 19.4MB/s   in 12s    \n",
      "\n",
      "2019-09-14 17:21:54 (17.4 MB/s) - ‘../output/initial/tomato-scaffolds.abyss.77.fasta.gz’ saved [223789373]\n",
      "\n",
      "--2019-09-14 17:22:06--  ftp://ftp.solgenomics.net/genomes/Solanum_chilense/Stam_et_al_2019/Solanum_chilense.scaffolds.fa\n",
      "           => ‘../output/initial/Solanum_chilense.scaffolds.fa’\n",
      "Resolving ftp.solgenomics.net (ftp.solgenomics.net)... 132.236.81.147\n",
      "Connecting to ftp.solgenomics.net (ftp.solgenomics.net)|132.236.81.147|:21... connected.\n",
      "Logging in as anonymous ... Logged in!\n",
      "==> SYST ... done.    ==> PWD ... done.\n",
      "==> TYPE I ... done.  ==> CWD (1) /genomes/Solanum_chilense/Stam_et_al_2019 ... done.\n",
      "==> SIZE Solanum_chilense.scaffolds.fa ... 930361482\n",
      "==> PASV ... done.    ==> RETR Solanum_chilense.scaffolds.fa ... done.\n",
      "Length: 930361482 (887M) (unauthoritative)\n",
      "\n",
      "100%[======================================>] 930,361,482 19.6MB/s   in 54s    \n",
      "\n",
      "2019-09-14 17:23:05 (16.5 MB/s) - ‘../output/initial/Solanum_chilense.scaffolds.fa’ saved [930361482]\n",
      "\n"
     ]
    }
   ],
   "source": [
    "# download genomes\n",
    "!wget ftp://ftp.solgenomics.net/genomes/Solanum_pennellii/Spenn.fasta -P $data_dir\n",
    "!wget ftp://ftp.solgenomics.net/genomes/Solanum_pimpinellifolium/LA0480/assembly/tomato-scaffolds.abyss.77.fasta.gz -O $data_dir/Spimp.fasta\n",
    "!pigz -d $data_dir/tomato-scaffolds.abyss.77.fasta.gz\n",
    "!wget ftp://ftp.solgenomics.net/genomes/Solanum_chilense/Stam_et_al_2019/Solanum_chilense.scaffolds.fa -P $data_dir"
   ]
  },
  {
   "cell_type": "code",
   "execution_count": 2,
   "metadata": {},
   "outputs": [
    {
     "name": "stdout",
     "output_type": "stream",
     "text": [
      "--2019-09-21 11:58:32--  ftp://ftp.solgenomics.net/genomes/Solanum_pimpinellifolium/LA0480/annotation/s.pimp.mgm.FINAL.gff\n",
      "           => ‘../data/s.pimp.mgm.FINAL.gff’\n",
      "Resolving ftp.solgenomics.net (ftp.solgenomics.net)... 132.236.81.147\n",
      "Connecting to ftp.solgenomics.net (ftp.solgenomics.net)|132.236.81.147|:21... connected.\n",
      "Logging in as anonymous ... Logged in!\n",
      "==> SYST ... done.    ==> PWD ... done.\n",
      "==> TYPE I ... done.  ==> CWD (1) /genomes/Solanum_pimpinellifolium/LA0480/annotation ... done.\n",
      "==> SIZE s.pimp.mgm.FINAL.gff ... 30221923\n",
      "==> PASV ... done.    ==> RETR s.pimp.mgm.FINAL.gff ... done.\n",
      "Length: 30221923 (29M) (unauthoritative)\n",
      "\n",
      "100%[======================================>] 30,221,923  10.4MB/s   in 2.8s   \n",
      "\n",
      "2019-09-21 11:58:38 (10.4 MB/s) - ‘../data/s.pimp.mgm.FINAL.gff’ saved [30221923]\n",
      "\n"
     ]
    }
   ],
   "source": [
    "# download annotations\n",
    "!wget ftp://ftp.solgenomics.net/genomes/Solanum_pimpinellifolium/LA0480/annotation/s.pimp.mgm.FINAL.gff -P $data_dir"
   ]
  },
  {
   "cell_type": "code",
   "execution_count": null,
   "metadata": {},
   "outputs": [],
   "source": [
    "# index each genome towards BWA run\n",
    "index_relatives_sh = $out_dir/index_relative_genomes.sh\n",
    "!qsub $index_relatives_sh"
   ]
  },
  {
   "cell_type": "code",
   "execution_count": null,
   "metadata": {},
   "outputs": [],
   "source": [
    "# Align Heinz reads to relatives' genomes\n",
    "align_to_spenn_sh = \"%s/align_reads_to_Spenn.sh\" % out_dir\n",
    "align_to_spimp_sh = \"%s/align_reads_to_Spimp.sh\" % out_dir\n",
    "align_to_schil_sh = \"%s/align_reads_to_Schil.sh\" % out_dir\n",
    "!qsub $align_to_spenn_sh\n",
    "!qsub $align_to_spimp_sh\n",
    "!qsub $align_to_schil_sh"
   ]
  },
  {
   "cell_type": "code",
   "execution_count": null,
   "metadata": {},
   "outputs": [],
   "source": [
    "# make bedgraph for each species\n",
    "make_relatives_bedgraph_sh = \"%s/make_relatives_bedGraphs.sh\" % out_dir\n",
    "!qsub $make_relatives_bedgraph_sh"
   ]
  },
  {
   "cell_type": "markdown",
   "metadata": {},
   "source": [
    "### S. pimp"
   ]
  },
  {
   "cell_type": "code",
   "execution_count": null,
   "metadata": {},
   "outputs": [],
   "source": [
    "# convert gff to bed, only including exons"
   ]
  },
  {
   "cell_type": "code",
   "execution_count": 4,
   "metadata": {},
   "outputs": [],
   "source": [
    "%%bash\n",
    "grep -v '#' ../data//s.pimp.mgm.FINAL.gff | awk '$3 == \"exon\" {split($9,a,\"=\"); split(a[2],b,\":\"); print $1\"\\t\"$4\"\\t\"$5\"\\t\"b[1]}' > ../output/initial/s.pimp.mgm.FINAL_exons.bed"
   ]
  },
  {
   "cell_type": "code",
   "execution_count": 5,
   "metadata": {},
   "outputs": [
    {
     "name": "stdout",
     "output_type": "stream",
     "text": [
      "6254948.power8.tau.ac.il\r\n"
     ]
    }
   ],
   "source": [
    "# intersect exons bed with bedGraph. Use -wao to keep gene names and calculate number of overlapping bp\n",
    "intersect_sh = \"%s/intersect_S_pimp_exons_with_bedgraph.sh\" % out_dir\n",
    "!qsub $intersect_sh"
   ]
  },
  {
   "cell_type": "code",
   "execution_count": 8,
   "metadata": {},
   "outputs": [
    {
     "name": "stderr",
     "output_type": "stream",
     "text": [
      "/groups/itay_mayrose/liorglic/miniconda3/envs/jupyterlab/lib/python3.7/site-packages/IPython/core/interactiveshell.py:3057: DtypeWarning:\n",
      "\n",
      "Columns (4,7) have mixed types. Specify dtype option on import or set low_memory=False.\n",
      "\n"
     ]
    }
   ],
   "source": [
    "# process intersect result\n",
    "spimp_exons_cov_file = \"%s/Spimp_exons_coverage.tsv\" % out_dir\n",
    "headers = [\"exon_chrom\", \"exon_start\", \"exon_end\", \"gene\",\n",
    "           \"cov_block_chrom\", \"cov_block_start\", \"cov_block_end\", \"coverage\", \"overlap\"]\n",
    "spimp_exons_cov_df = pd.read_csv(spimp_exons_cov_file, names=headers, sep='\\t')"
   ]
  },
  {
   "cell_type": "code",
   "execution_count": 9,
   "metadata": {},
   "outputs": [
    {
     "data": {
      "text/html": [
       "<div>\n",
       "<style scoped>\n",
       "    .dataframe tbody tr th:only-of-type {\n",
       "        vertical-align: middle;\n",
       "    }\n",
       "\n",
       "    .dataframe tbody tr th {\n",
       "        vertical-align: top;\n",
       "    }\n",
       "\n",
       "    .dataframe thead th {\n",
       "        text-align: right;\n",
       "    }\n",
       "</style>\n",
       "<table border=\"1\" class=\"dataframe\">\n",
       "  <thead>\n",
       "    <tr style=\"text-align: right;\">\n",
       "      <th></th>\n",
       "      <th>exon_chrom</th>\n",
       "      <th>exon_start</th>\n",
       "      <th>exon_end</th>\n",
       "      <th>gene</th>\n",
       "      <th>cov_block_chrom</th>\n",
       "      <th>cov_block_start</th>\n",
       "      <th>cov_block_end</th>\n",
       "      <th>coverage</th>\n",
       "      <th>overlap</th>\n",
       "    </tr>\n",
       "  </thead>\n",
       "  <tbody>\n",
       "    <tr>\n",
       "      <th>0</th>\n",
       "      <td>3066150</td>\n",
       "      <td>9692</td>\n",
       "      <td>9951</td>\n",
       "      <td>SPi14667.1</td>\n",
       "      <td>3066150</td>\n",
       "      <td>9658</td>\n",
       "      <td>9695</td>\n",
       "      <td>5</td>\n",
       "      <td>3</td>\n",
       "    </tr>\n",
       "    <tr>\n",
       "      <th>1</th>\n",
       "      <td>3066150</td>\n",
       "      <td>9692</td>\n",
       "      <td>9951</td>\n",
       "      <td>SPi14667.1</td>\n",
       "      <td>3066150</td>\n",
       "      <td>9695</td>\n",
       "      <td>9705</td>\n",
       "      <td>2</td>\n",
       "      <td>10</td>\n",
       "    </tr>\n",
       "    <tr>\n",
       "      <th>2</th>\n",
       "      <td>3066150</td>\n",
       "      <td>9692</td>\n",
       "      <td>9951</td>\n",
       "      <td>SPi14667.1</td>\n",
       "      <td>3066150</td>\n",
       "      <td>9705</td>\n",
       "      <td>9719</td>\n",
       "      <td>1</td>\n",
       "      <td>14</td>\n",
       "    </tr>\n",
       "    <tr>\n",
       "      <th>3</th>\n",
       "      <td>3066150</td>\n",
       "      <td>9692</td>\n",
       "      <td>9951</td>\n",
       "      <td>SPi14667.1</td>\n",
       "      <td>3066150</td>\n",
       "      <td>9719</td>\n",
       "      <td>9739</td>\n",
       "      <td>0</td>\n",
       "      <td>20</td>\n",
       "    </tr>\n",
       "    <tr>\n",
       "      <th>4</th>\n",
       "      <td>3066150</td>\n",
       "      <td>9692</td>\n",
       "      <td>9951</td>\n",
       "      <td>SPi14667.1</td>\n",
       "      <td>3066150</td>\n",
       "      <td>9739</td>\n",
       "      <td>9782</td>\n",
       "      <td>1</td>\n",
       "      <td>43</td>\n",
       "    </tr>\n",
       "  </tbody>\n",
       "</table>\n",
       "</div>"
      ],
      "text/plain": [
       "   exon_chrom  exon_start  exon_end        gene cov_block_chrom  \\\n",
       "0     3066150        9692      9951  SPi14667.1         3066150   \n",
       "1     3066150        9692      9951  SPi14667.1         3066150   \n",
       "2     3066150        9692      9951  SPi14667.1         3066150   \n",
       "3     3066150        9692      9951  SPi14667.1         3066150   \n",
       "4     3066150        9692      9951  SPi14667.1         3066150   \n",
       "\n",
       "   cov_block_start  cov_block_end coverage  overlap  \n",
       "0             9658           9695        5        3  \n",
       "1             9695           9705        2       10  \n",
       "2             9705           9719        1       14  \n",
       "3             9719           9739        0       20  \n",
       "4             9739           9782        1       43  "
      ]
     },
     "execution_count": 9,
     "metadata": {},
     "output_type": "execute_result"
    }
   ],
   "source": [
    "spimp_exons_cov_df.head()"
   ]
  },
  {
   "cell_type": "code",
   "execution_count": 10,
   "metadata": {},
   "outputs": [],
   "source": [
    "spimp_cov_dist_per_gene = spimp_exons_cov_df.groupby(['gene', 'coverage'])['overlap'].sum()"
   ]
  },
  {
   "cell_type": "code",
   "execution_count": 12,
   "metadata": {},
   "outputs": [
    {
     "data": {
      "text/plain": [
       "gene        coverage\n",
       "SPi00001.1  0           519\n",
       "            1            42\n",
       "            2            42\n",
       "            3            90\n",
       "            4            84\n",
       "            5            62\n",
       "SPi00002.1  1            11\n",
       "            10           28\n",
       "            11            1\n",
       "            2            92\n",
       "            3           210\n",
       "            4           197\n",
       "            5           262\n",
       "            6           240\n",
       "            7           210\n",
       "            8           189\n",
       "            9            83\n",
       "SPi00003.1  0           189\n",
       "            1           120\n",
       "            2           172\n",
       "Name: overlap, dtype: int64"
      ]
     },
     "execution_count": 12,
     "metadata": {},
     "output_type": "execute_result"
    }
   ],
   "source": [
    "spimp_cov_dist_per_gene.head(20)"
   ]
  },
  {
   "cell_type": "code",
   "execution_count": 13,
   "metadata": {},
   "outputs": [],
   "source": [
    "# get list of S. pimp genes not found in Heinz (according to minimap alignment)\n",
    "!samtools view -f 4 $out_dir/relative_transcripts_vs_heinz.sam | grep SPi | cut -f1 > $out_dir/Spimp_genes_not_in_heinz"
   ]
  },
  {
   "cell_type": "code",
   "execution_count": 21,
   "metadata": {},
   "outputs": [],
   "source": [
    "spimp_genes_not_in_heinz = pd.read_csv(\"%s/Spimp_genes_not_in_heinz\" % out_dir, names=[\"gene\"])"
   ]
  },
  {
   "cell_type": "code",
   "execution_count": 105,
   "metadata": {},
   "outputs": [],
   "source": [
    "# extract exon cov data for these missing genes\n",
    "spimp_cov_dist_per_gene_df = spimp_cov_dist_per_gene.to_frame()\n",
    "spimp_cov_dist_per_gene_df = spimp_cov_dist_per_gene_df.reset_index(level=['coverage'])\n",
    "spimp_not_in_heinz_cov_dist = spimp_cov_dist_per_gene_df.merge(spimp_genes_not_in_heinz, how='inner', on='gene')"
   ]
  },
  {
   "cell_type": "code",
   "execution_count": 80,
   "metadata": {},
   "outputs": [
    {
     "data": {
      "text/html": [
       "<div>\n",
       "<style scoped>\n",
       "    .dataframe tbody tr th:only-of-type {\n",
       "        vertical-align: middle;\n",
       "    }\n",
       "\n",
       "    .dataframe tbody tr th {\n",
       "        vertical-align: top;\n",
       "    }\n",
       "\n",
       "    .dataframe thead th {\n",
       "        text-align: right;\n",
       "    }\n",
       "</style>\n",
       "<table border=\"1\" class=\"dataframe\">\n",
       "  <thead>\n",
       "    <tr style=\"text-align: right;\">\n",
       "      <th></th>\n",
       "      <th>gene</th>\n",
       "      <th>coverage</th>\n",
       "      <th>overlap</th>\n",
       "    </tr>\n",
       "  </thead>\n",
       "  <tbody>\n",
       "    <tr>\n",
       "      <th>0</th>\n",
       "      <td>SPi00467.1</td>\n",
       "      <td>0</td>\n",
       "      <td>1489</td>\n",
       "    </tr>\n",
       "    <tr>\n",
       "      <th>1</th>\n",
       "      <td>SPi00473.1</td>\n",
       "      <td>0</td>\n",
       "      <td>371</td>\n",
       "    </tr>\n",
       "    <tr>\n",
       "      <th>2</th>\n",
       "      <td>SPi05397.1</td>\n",
       "      <td>0</td>\n",
       "      <td>352</td>\n",
       "    </tr>\n",
       "    <tr>\n",
       "      <th>3</th>\n",
       "      <td>SPi05397.1</td>\n",
       "      <td>1</td>\n",
       "      <td>18</td>\n",
       "    </tr>\n",
       "    <tr>\n",
       "      <th>4</th>\n",
       "      <td>SPi05398.1</td>\n",
       "      <td>0</td>\n",
       "      <td>266</td>\n",
       "    </tr>\n",
       "  </tbody>\n",
       "</table>\n",
       "</div>"
      ],
      "text/plain": [
       "         gene coverage  overlap\n",
       "0  SPi00467.1        0     1489\n",
       "1  SPi00473.1        0      371\n",
       "2  SPi05397.1        0      352\n",
       "3  SPi05397.1        1       18\n",
       "4  SPi05398.1        0      266"
      ]
     },
     "execution_count": 80,
     "metadata": {},
     "output_type": "execute_result"
    }
   ],
   "source": [
    "spimp_not_in_heinz_cov_dist.head()"
   ]
  },
  {
   "cell_type": "code",
   "execution_count": 95,
   "metadata": {},
   "outputs": [],
   "source": [
    "# visualize histograms of gene coverage\n",
    "figs = []\n",
    "for gene_name in spimp_not_in_heinz_cov_dist['gene'].unique():\n",
    "    gene = spimp_not_in_heinz_cov_dist.loc[spimp_not_in_heinz_cov_dist['gene'] == gene_name]\n",
    "    vec = gene['coverage'].repeat(gene['overlap'])\n",
    "    data = go.Histogram(x=vec, xbins=dict(size=1), histnorm='percent')\n",
    "    layout = go.Layout(\n",
    "        title=gene_name,\n",
    "        xaxis=dict(title='Coverage'),\n",
    "        yaxis=dict(title='% of exon bp')\n",
    "        )\n",
    "    fig = go.Figure(data=data, layout=layout)\n",
    "    figs.append(fig)   "
   ]
  },
  {
   "cell_type": "code",
   "execution_count": 98,
   "metadata": {},
   "outputs": [
    {
     "data": {
      "application/vnd.jupyter.widget-view+json": {
       "model_id": "cf9d113fad6f40c9878d7900129bab56",
       "version_major": 2,
       "version_minor": 0
      },
      "text/plain": [
       "interactive(children=(IntSlider(value=25, description='i', max=50), Output()), _dom_classes=('widget-interact'…"
      ]
     },
     "metadata": {},
     "output_type": "display_data"
    }
   ],
   "source": [
    "@interact\n",
    "def show_hist_for_gene(i=(0,50,1)):\n",
    "    figs[i].show()"
   ]
  },
  {
   "cell_type": "code",
   "execution_count": 153,
   "metadata": {},
   "outputs": [
    {
     "data": {
      "text/html": [
       "<div>\n",
       "<style scoped>\n",
       "    .dataframe tbody tr th:only-of-type {\n",
       "        vertical-align: middle;\n",
       "    }\n",
       "\n",
       "    .dataframe tbody tr th {\n",
       "        vertical-align: top;\n",
       "    }\n",
       "\n",
       "    .dataframe thead th {\n",
       "        text-align: right;\n",
       "    }\n",
       "</style>\n",
       "<table border=\"1\" class=\"dataframe\">\n",
       "  <thead>\n",
       "    <tr style=\"text-align: right;\">\n",
       "      <th></th>\n",
       "      <th>coverage</th>\n",
       "      <th>overlap</th>\n",
       "    </tr>\n",
       "    <tr>\n",
       "      <th>gene</th>\n",
       "      <th></th>\n",
       "      <th></th>\n",
       "    </tr>\n",
       "  </thead>\n",
       "  <tbody>\n",
       "    <tr>\n",
       "      <th>SPi00255.1</th>\n",
       "      <td>.</td>\n",
       "      <td>0</td>\n",
       "    </tr>\n",
       "    <tr>\n",
       "      <th>SPi01527.1</th>\n",
       "      <td>.</td>\n",
       "      <td>0</td>\n",
       "    </tr>\n",
       "    <tr>\n",
       "      <th>SPi01729.1</th>\n",
       "      <td>.</td>\n",
       "      <td>0</td>\n",
       "    </tr>\n",
       "    <tr>\n",
       "      <th>SPi01749.1</th>\n",
       "      <td>.</td>\n",
       "      <td>0</td>\n",
       "    </tr>\n",
       "    <tr>\n",
       "      <th>SPi01871.2</th>\n",
       "      <td>.</td>\n",
       "      <td>0</td>\n",
       "    </tr>\n",
       "    <tr>\n",
       "      <th>SPi02096.1</th>\n",
       "      <td>.</td>\n",
       "      <td>0</td>\n",
       "    </tr>\n",
       "    <tr>\n",
       "      <th>SPi02519.1</th>\n",
       "      <td>.</td>\n",
       "      <td>0</td>\n",
       "    </tr>\n",
       "    <tr>\n",
       "      <th>SPi02594.1</th>\n",
       "      <td>.</td>\n",
       "      <td>0</td>\n",
       "    </tr>\n",
       "    <tr>\n",
       "      <th>SPi02834.1</th>\n",
       "      <td>.</td>\n",
       "      <td>0</td>\n",
       "    </tr>\n",
       "    <tr>\n",
       "      <th>SPi03027.1</th>\n",
       "      <td>.</td>\n",
       "      <td>0</td>\n",
       "    </tr>\n",
       "    <tr>\n",
       "      <th>SPi03179.1</th>\n",
       "      <td>.</td>\n",
       "      <td>0</td>\n",
       "    </tr>\n",
       "    <tr>\n",
       "      <th>SPi03276.1</th>\n",
       "      <td>.</td>\n",
       "      <td>0</td>\n",
       "    </tr>\n",
       "    <tr>\n",
       "      <th>SPi03370.1</th>\n",
       "      <td>.</td>\n",
       "      <td>0</td>\n",
       "    </tr>\n",
       "    <tr>\n",
       "      <th>SPi03419.1</th>\n",
       "      <td>.</td>\n",
       "      <td>0</td>\n",
       "    </tr>\n",
       "    <tr>\n",
       "      <th>SPi03631.1</th>\n",
       "      <td>.</td>\n",
       "      <td>0</td>\n",
       "    </tr>\n",
       "    <tr>\n",
       "      <th>SPi04000.1</th>\n",
       "      <td>.</td>\n",
       "      <td>0</td>\n",
       "    </tr>\n",
       "    <tr>\n",
       "      <th>SPi04018.1</th>\n",
       "      <td>.</td>\n",
       "      <td>0</td>\n",
       "    </tr>\n",
       "    <tr>\n",
       "      <th>SPi04027.1</th>\n",
       "      <td>.</td>\n",
       "      <td>0</td>\n",
       "    </tr>\n",
       "    <tr>\n",
       "      <th>SPi04343.1</th>\n",
       "      <td>.</td>\n",
       "      <td>0</td>\n",
       "    </tr>\n",
       "    <tr>\n",
       "      <th>SPi04484.1</th>\n",
       "      <td>.</td>\n",
       "      <td>0</td>\n",
       "    </tr>\n",
       "    <tr>\n",
       "      <th>SPi04485.1</th>\n",
       "      <td>.</td>\n",
       "      <td>0</td>\n",
       "    </tr>\n",
       "    <tr>\n",
       "      <th>SPi04620.1</th>\n",
       "      <td>.</td>\n",
       "      <td>0</td>\n",
       "    </tr>\n",
       "    <tr>\n",
       "      <th>SPi04728.1</th>\n",
       "      <td>.</td>\n",
       "      <td>0</td>\n",
       "    </tr>\n",
       "    <tr>\n",
       "      <th>SPi04960.1</th>\n",
       "      <td>.</td>\n",
       "      <td>0</td>\n",
       "    </tr>\n",
       "    <tr>\n",
       "      <th>SPi05407.1</th>\n",
       "      <td>.</td>\n",
       "      <td>0</td>\n",
       "    </tr>\n",
       "    <tr>\n",
       "      <th>SPi05543.1</th>\n",
       "      <td>.</td>\n",
       "      <td>0</td>\n",
       "    </tr>\n",
       "    <tr>\n",
       "      <th>SPi06005.1</th>\n",
       "      <td>.</td>\n",
       "      <td>0</td>\n",
       "    </tr>\n",
       "    <tr>\n",
       "      <th>SPi06203.1</th>\n",
       "      <td>.</td>\n",
       "      <td>0</td>\n",
       "    </tr>\n",
       "    <tr>\n",
       "      <th>SPi06558.1</th>\n",
       "      <td>.</td>\n",
       "      <td>0</td>\n",
       "    </tr>\n",
       "    <tr>\n",
       "      <th>SPi06674.1</th>\n",
       "      <td>.</td>\n",
       "      <td>0</td>\n",
       "    </tr>\n",
       "    <tr>\n",
       "      <th>...</th>\n",
       "      <td>...</td>\n",
       "      <td>...</td>\n",
       "    </tr>\n",
       "    <tr>\n",
       "      <th>SPi17652.1</th>\n",
       "      <td>.</td>\n",
       "      <td>0</td>\n",
       "    </tr>\n",
       "    <tr>\n",
       "      <th>SPi17821.1</th>\n",
       "      <td>.</td>\n",
       "      <td>0</td>\n",
       "    </tr>\n",
       "    <tr>\n",
       "      <th>SPi17876.1</th>\n",
       "      <td>.</td>\n",
       "      <td>0</td>\n",
       "    </tr>\n",
       "    <tr>\n",
       "      <th>SPi17907.1</th>\n",
       "      <td>.</td>\n",
       "      <td>0</td>\n",
       "    </tr>\n",
       "    <tr>\n",
       "      <th>SPi18187.1</th>\n",
       "      <td>.</td>\n",
       "      <td>0</td>\n",
       "    </tr>\n",
       "    <tr>\n",
       "      <th>SPi18291.1</th>\n",
       "      <td>.</td>\n",
       "      <td>0</td>\n",
       "    </tr>\n",
       "    <tr>\n",
       "      <th>SPi18460.1</th>\n",
       "      <td>.</td>\n",
       "      <td>0</td>\n",
       "    </tr>\n",
       "    <tr>\n",
       "      <th>SPi18530.1</th>\n",
       "      <td>.</td>\n",
       "      <td>0</td>\n",
       "    </tr>\n",
       "    <tr>\n",
       "      <th>SPi18664.1</th>\n",
       "      <td>.</td>\n",
       "      <td>0</td>\n",
       "    </tr>\n",
       "    <tr>\n",
       "      <th>SPi20888.1</th>\n",
       "      <td>.</td>\n",
       "      <td>0</td>\n",
       "    </tr>\n",
       "    <tr>\n",
       "      <th>SPi21038.1</th>\n",
       "      <td>.</td>\n",
       "      <td>0</td>\n",
       "    </tr>\n",
       "    <tr>\n",
       "      <th>SPi21130.1</th>\n",
       "      <td>.</td>\n",
       "      <td>0</td>\n",
       "    </tr>\n",
       "    <tr>\n",
       "      <th>SPi21368.1</th>\n",
       "      <td>.</td>\n",
       "      <td>0</td>\n",
       "    </tr>\n",
       "    <tr>\n",
       "      <th>SPi21582.1</th>\n",
       "      <td>.</td>\n",
       "      <td>0</td>\n",
       "    </tr>\n",
       "    <tr>\n",
       "      <th>SPi21913.1</th>\n",
       "      <td>.</td>\n",
       "      <td>0</td>\n",
       "    </tr>\n",
       "    <tr>\n",
       "      <th>SPi21913.2</th>\n",
       "      <td>.</td>\n",
       "      <td>0</td>\n",
       "    </tr>\n",
       "    <tr>\n",
       "      <th>SPi21946.1</th>\n",
       "      <td>.</td>\n",
       "      <td>0</td>\n",
       "    </tr>\n",
       "    <tr>\n",
       "      <th>SPi22172.1</th>\n",
       "      <td>.</td>\n",
       "      <td>0</td>\n",
       "    </tr>\n",
       "    <tr>\n",
       "      <th>SPi22531.1</th>\n",
       "      <td>.</td>\n",
       "      <td>0</td>\n",
       "    </tr>\n",
       "    <tr>\n",
       "      <th>SPi23041.1</th>\n",
       "      <td>.</td>\n",
       "      <td>0</td>\n",
       "    </tr>\n",
       "    <tr>\n",
       "      <th>SPi23205.1</th>\n",
       "      <td>.</td>\n",
       "      <td>0</td>\n",
       "    </tr>\n",
       "    <tr>\n",
       "      <th>SPi23498.1</th>\n",
       "      <td>.</td>\n",
       "      <td>0</td>\n",
       "    </tr>\n",
       "    <tr>\n",
       "      <th>SPi23537.1</th>\n",
       "      <td>.</td>\n",
       "      <td>0</td>\n",
       "    </tr>\n",
       "    <tr>\n",
       "      <th>SPi23656.1</th>\n",
       "      <td>.</td>\n",
       "      <td>0</td>\n",
       "    </tr>\n",
       "    <tr>\n",
       "      <th>SPi24136.1</th>\n",
       "      <td>.</td>\n",
       "      <td>0</td>\n",
       "    </tr>\n",
       "    <tr>\n",
       "      <th>SPi24164.1</th>\n",
       "      <td>.</td>\n",
       "      <td>0</td>\n",
       "    </tr>\n",
       "    <tr>\n",
       "      <th>SPi24593.1</th>\n",
       "      <td>.</td>\n",
       "      <td>0</td>\n",
       "    </tr>\n",
       "    <tr>\n",
       "      <th>SPi24919.1</th>\n",
       "      <td>.</td>\n",
       "      <td>0</td>\n",
       "    </tr>\n",
       "    <tr>\n",
       "      <th>SPi25077.1</th>\n",
       "      <td>.</td>\n",
       "      <td>0</td>\n",
       "    </tr>\n",
       "    <tr>\n",
       "      <th>SPi25108.1</th>\n",
       "      <td>.</td>\n",
       "      <td>0</td>\n",
       "    </tr>\n",
       "  </tbody>\n",
       "</table>\n",
       "<p>112 rows × 2 columns</p>\n",
       "</div>"
      ],
      "text/plain": [
       "           coverage  overlap\n",
       "gene                        \n",
       "SPi00255.1        .        0\n",
       "SPi01527.1        .        0\n",
       "SPi01729.1        .        0\n",
       "SPi01749.1        .        0\n",
       "SPi01871.2        .        0\n",
       "SPi02096.1        .        0\n",
       "SPi02519.1        .        0\n",
       "SPi02594.1        .        0\n",
       "SPi02834.1        .        0\n",
       "SPi03027.1        .        0\n",
       "SPi03179.1        .        0\n",
       "SPi03276.1        .        0\n",
       "SPi03370.1        .        0\n",
       "SPi03419.1        .        0\n",
       "SPi03631.1        .        0\n",
       "SPi04000.1        .        0\n",
       "SPi04018.1        .        0\n",
       "SPi04027.1        .        0\n",
       "SPi04343.1        .        0\n",
       "SPi04484.1        .        0\n",
       "SPi04485.1        .        0\n",
       "SPi04620.1        .        0\n",
       "SPi04728.1        .        0\n",
       "SPi04960.1        .        0\n",
       "SPi05407.1        .        0\n",
       "SPi05543.1        .        0\n",
       "SPi06005.1        .        0\n",
       "SPi06203.1        .        0\n",
       "SPi06558.1        .        0\n",
       "SPi06674.1        .        0\n",
       "...             ...      ...\n",
       "SPi17652.1        .        0\n",
       "SPi17821.1        .        0\n",
       "SPi17876.1        .        0\n",
       "SPi17907.1        .        0\n",
       "SPi18187.1        .        0\n",
       "SPi18291.1        .        0\n",
       "SPi18460.1        .        0\n",
       "SPi18530.1        .        0\n",
       "SPi18664.1        .        0\n",
       "SPi20888.1        .        0\n",
       "SPi21038.1        .        0\n",
       "SPi21130.1        .        0\n",
       "SPi21368.1        .        0\n",
       "SPi21582.1        .        0\n",
       "SPi21913.1        .        0\n",
       "SPi21913.2        .        0\n",
       "SPi21946.1        .        0\n",
       "SPi22172.1        .        0\n",
       "SPi22531.1        .        0\n",
       "SPi23041.1        .        0\n",
       "SPi23205.1        .        0\n",
       "SPi23498.1        .        0\n",
       "SPi23537.1        .        0\n",
       "SPi23656.1        .        0\n",
       "SPi24136.1        .        0\n",
       "SPi24164.1        .        0\n",
       "SPi24593.1        .        0\n",
       "SPi24919.1        .        0\n",
       "SPi25077.1        .        0\n",
       "SPi25108.1        .        0\n",
       "\n",
       "[112 rows x 2 columns]"
      ]
     },
     "execution_count": 153,
     "metadata": {},
     "output_type": "execute_result"
    }
   ],
   "source": []
  },
  {
   "cell_type": "code",
   "execution_count": 116,
   "metadata": {},
   "outputs": [
    {
     "name": "stdout",
     "output_type": "stream",
     "text": [
      "           coverage  overlap\n",
      "gene                        \n",
      "SPi00001.1        0      519\n",
      "SPi00001.1        1       42\n",
      "SPi00001.1        2       42\n",
      "SPi00001.1        3       90\n",
      "SPi00001.1        4       84\n",
      "           coverage  overlap\n",
      "gene                        \n",
      "SPi00002.1        1       11\n",
      "SPi00002.1       10       28\n",
      "SPi00002.1       11        1\n",
      "SPi00002.1        2       92\n",
      "SPi00002.1        3      210\n",
      "           coverage  overlap\n",
      "gene                        \n",
      "SPi00003.1        0      189\n",
      "SPi00003.1        1      120\n",
      "SPi00003.1        2      172\n",
      "SPi00003.1        3      239\n",
      "SPi00003.1        4      155\n",
      "           coverage  overlap\n",
      "gene                        \n",
      "SPi00004.1        1       29\n",
      "SPi00004.1        2       57\n",
      "SPi00004.1        3       53\n",
      "SPi00004.1        4       82\n",
      "SPi00004.1        5      109\n",
      "           coverage  overlap\n",
      "gene                        \n",
      "SPi00005.1        0       30\n",
      "SPi00005.1        1       57\n",
      "SPi00005.1       10      101\n",
      "SPi00005.1       11      142\n",
      "SPi00005.1       12       75\n",
      "           coverage  overlap\n",
      "gene                        \n",
      "SPi00006.1        0       29\n",
      "SPi00006.1        1      137\n",
      "SPi00006.1       10      130\n",
      "SPi00006.1       11       50\n",
      "SPi00006.1       12       49\n",
      "           coverage  overlap\n",
      "gene                        \n",
      "SPi00007.1        0       97\n",
      "SPi00007.1        1       68\n",
      "SPi00007.1       10      115\n",
      "SPi00007.1       11      142\n",
      "SPi00007.1       12       25\n",
      "           coverage  overlap\n",
      "gene                        \n",
      "SPi00008.1        0       49\n",
      "SPi00008.1        1      140\n",
      "SPi00008.1       10      109\n",
      "SPi00008.1       11      116\n",
      "SPi00008.1       12       48\n",
      "           coverage  overlap\n",
      "gene                        \n",
      "SPi00009.1        0       61\n",
      "SPi00009.1        1       93\n",
      "SPi00009.1       10       66\n",
      "SPi00009.1       11       58\n",
      "SPi00009.1       12        2\n",
      "           coverage  overlap\n",
      "gene                        \n",
      "SPi00010.1        0        4\n",
      "SPi00010.1        1       10\n",
      "SPi00010.1       10       93\n",
      "SPi00010.1       11       54\n",
      "SPi00010.1       12       30\n",
      "           coverage  overlap\n",
      "gene                        \n",
      "SPi00011.1        0       16\n",
      "SPi00011.1        1       24\n",
      "SPi00011.1       10      108\n",
      "SPi00011.1        2      111\n",
      "SPi00011.1        3      165\n",
      "           coverage  overlap\n",
      "gene                        \n",
      "SPi00012.1        0       25\n",
      "SPi00012.1        1       93\n",
      "SPi00012.1       10      105\n",
      "SPi00012.1       11      126\n",
      "SPi00012.1       12      140\n",
      "           coverage  overlap\n",
      "gene                        \n",
      "SPi00013.1        0       17\n",
      "SPi00013.1        1      112\n",
      "SPi00013.1       10       74\n",
      "SPi00013.1       11       32\n",
      "SPi00013.1       12       44\n",
      "           coverage  overlap\n",
      "gene                        \n",
      "SPi00014.1        1       21\n",
      "SPi00014.1       10       96\n",
      "SPi00014.1       11       39\n",
      "SPi00014.1       12       54\n",
      "SPi00014.1       13       44\n",
      "           coverage  overlap\n",
      "gene                        \n",
      "SPi00015.1        0       21\n",
      "SPi00015.1        1       74\n",
      "SPi00015.1       10       17\n",
      "SPi00015.1       11       42\n",
      "SPi00015.1        2      225\n",
      "           coverage  overlap\n",
      "gene                        \n",
      "SPi00016.1        0        2\n",
      "SPi00016.1        1       30\n",
      "SPi00016.1       10       70\n",
      "SPi00016.1       11       25\n",
      "SPi00016.1       12        7\n",
      "           coverage  overlap\n",
      "gene                        \n",
      "SPi00017.1        0      149\n",
      "SPi00017.1        1       58\n",
      "SPi00017.1       10       50\n",
      "SPi00017.1       11       44\n",
      "SPi00017.1       12       29\n",
      "coverage     0\n",
      "overlap     73\n",
      "Name: SPi00018.1, dtype: object\n"
     ]
    },
    {
     "ename": "AttributeError",
     "evalue": "'str' object has no attribute 'repeat'",
     "output_type": "error",
     "traceback": [
      "\u001b[0;31m---------------------------------------------------------------------------\u001b[0m",
      "\u001b[0;31mAttributeError\u001b[0m                            Traceback (most recent call last)",
      "\u001b[0;32m<ipython-input-116-105c6a682f13>\u001b[0m in \u001b[0;36m<module>\u001b[0;34m\u001b[0m\n\u001b[1;32m      4\u001b[0m     \u001b[0mgene\u001b[0m \u001b[0;34m=\u001b[0m \u001b[0mspimp_in_heinz_cov_dist\u001b[0m\u001b[0;34m.\u001b[0m\u001b[0mloc\u001b[0m\u001b[0;34m[\u001b[0m\u001b[0mgene_name\u001b[0m\u001b[0;34m]\u001b[0m\u001b[0;34m\u001b[0m\u001b[0;34m\u001b[0m\u001b[0m\n\u001b[1;32m      5\u001b[0m     \u001b[0mprint\u001b[0m\u001b[0;34m(\u001b[0m\u001b[0mgene\u001b[0m\u001b[0;34m.\u001b[0m\u001b[0mhead\u001b[0m\u001b[0;34m(\u001b[0m\u001b[0;34m)\u001b[0m\u001b[0;34m)\u001b[0m\u001b[0;34m\u001b[0m\u001b[0;34m\u001b[0m\u001b[0m\n\u001b[0;32m----> 6\u001b[0;31m     \u001b[0mvec\u001b[0m \u001b[0;34m=\u001b[0m \u001b[0mgene\u001b[0m\u001b[0;34m[\u001b[0m\u001b[0;34m'coverage'\u001b[0m\u001b[0;34m]\u001b[0m\u001b[0;34m.\u001b[0m\u001b[0mrepeat\u001b[0m\u001b[0;34m(\u001b[0m\u001b[0mgene\u001b[0m\u001b[0;34m[\u001b[0m\u001b[0;34m'overlap'\u001b[0m\u001b[0;34m]\u001b[0m\u001b[0;34m)\u001b[0m\u001b[0;34m\u001b[0m\u001b[0;34m\u001b[0m\u001b[0m\n\u001b[0m\u001b[1;32m      7\u001b[0m     \u001b[0mdata\u001b[0m \u001b[0;34m=\u001b[0m \u001b[0mgo\u001b[0m\u001b[0;34m.\u001b[0m\u001b[0mHistogram\u001b[0m\u001b[0;34m(\u001b[0m\u001b[0mx\u001b[0m\u001b[0;34m=\u001b[0m\u001b[0mvec\u001b[0m\u001b[0;34m,\u001b[0m \u001b[0mxbins\u001b[0m\u001b[0;34m=\u001b[0m\u001b[0mdict\u001b[0m\u001b[0;34m(\u001b[0m\u001b[0msize\u001b[0m\u001b[0;34m=\u001b[0m\u001b[0;36m1\u001b[0m\u001b[0;34m)\u001b[0m\u001b[0;34m,\u001b[0m \u001b[0mhistnorm\u001b[0m\u001b[0;34m=\u001b[0m\u001b[0;34m'percent'\u001b[0m\u001b[0;34m)\u001b[0m\u001b[0;34m\u001b[0m\u001b[0;34m\u001b[0m\u001b[0m\n\u001b[1;32m      8\u001b[0m     layout = go.Layout(\n",
      "\u001b[0;31mAttributeError\u001b[0m: 'str' object has no attribute 'repeat'"
     ]
    }
   ],
   "source": [
    "# visualize histograms of gene coverage\n",
    "figs = []\n",
    "for gene_name in spimp_in_heinz_cov_dist.index.unique()[0:100]:\n",
    "    gene = spimp_in_heinz_cov_dist.loc[gene_name]\n",
    "    print(gene.head())\n",
    "    vec = gene['coverage'].repeat(gene['overlap'])\n",
    "    data = go.Histogram(x=vec, xbins=dict(size=1), histnorm='percent')\n",
    "    layout = go.Layout(\n",
    "        title=gene_name,\n",
    "        xaxis=dict(title='Coverage'),\n",
    "        yaxis=dict(title='% of exon bp')\n",
    "        )\n",
    "    fig = go.Figure(data=data, layout=layout)\n",
    "    figs.append(fig)   "
   ]
  },
  {
   "cell_type": "code",
   "execution_count": null,
   "metadata": {},
   "outputs": [],
   "source": []
  }
 ],
 "metadata": {
  "kernelspec": {
   "display_name": "Python 3",
   "language": "python",
   "name": "python3"
  },
  "language_info": {
   "codemirror_mode": {
    "name": "ipython",
    "version": 3
   },
   "file_extension": ".py",
   "mimetype": "text/x-python",
   "name": "python",
   "nbconvert_exporter": "python",
   "pygments_lexer": "ipython3",
   "version": "3.7.3"
  }
 },
 "nbformat": 4,
 "nbformat_minor": 4
}
