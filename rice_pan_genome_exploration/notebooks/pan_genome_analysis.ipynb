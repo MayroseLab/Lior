{
 "cells": [
  {
   "cell_type": "markdown",
   "metadata": {},
   "source": [
    "# Rice pan genome exploration\n",
    "This notebook contains a preliminary analysis of the rice pan genome published by [Zhao et al (2018)](https://www.nature.com/articles/s41588-018-0041-z).  \n",
    "The analysis is performed on a csv table detailing absence/presence of genes in each of the 67 rice lines in this publication.  \n",
    "The main goal was to observe how many genomes are actually needed to reach saturation in pan genome gene content."
   ]
  },
  {
   "cell_type": "code",
   "execution_count": 27,
   "metadata": {},
   "outputs": [],
   "source": [
    "#library(data.table)\n",
    "library(ggplot2)\n",
    "#library(gdata)\n",
    "\n",
    "DATA_PATH <- \"../data\"\n",
    "R_PATH <- \"../R\"\n",
    "FIGS_PATH <- \"../figs\"\n",
    "OUT_PATH <- \"../output\""
   ]
  },
  {
   "cell_type": "markdown",
   "metadata": {},
   "source": [
    "## Get and process data"
   ]
  },
  {
   "cell_type": "code",
   "execution_count": 24,
   "metadata": {},
   "outputs": [
    {
     "data": {
      "text/html": [],
      "text/latex": [],
      "text/markdown": [],
      "text/plain": [
       "character(0)"
      ]
     },
     "metadata": {},
     "output_type": "display_data"
    }
   ],
   "source": [
    "# download original data\n",
    "source_url <- \"http://202.127.18.228/RicePanGenome/data/Totall-42580-Genes-core-pan.xlsx\"\n",
    "system(paste(\"wget\", source_url, \"-P\", DATA_PATH), intern=T)"
   ]
  },
  {
   "cell_type": "code",
   "execution_count": null,
   "metadata": {
    "collapsed": true
   },
   "outputs": [],
   "source": [
    "# Convert to csv\n",
    "orig_xlsx <- file.path(DATA_PATH,\"Totall-42580-Genes-core-pan.xlsx\")\n",
    "orig_csv_convert <- file.path(OUT_PATH,\"Totall-42580-Genes-core-pan.csv\")\n",
    "#gdata(...)"
   ]
  },
  {
   "cell_type": "code",
   "execution_count": null,
   "metadata": {
    "collapsed": true
   },
   "outputs": [],
   "source": [
    "# read csv\n"
   ]
  },
  {
   "cell_type": "code",
   "execution_count": null,
   "metadata": {
    "collapsed": true
   },
   "outputs": [],
   "source": []
  }
 ],
 "metadata": {
  "kernelspec": {
   "display_name": "R",
   "language": "R",
   "name": "ir"
  },
  "language_info": {
   "codemirror_mode": "r",
   "file_extension": ".r",
   "mimetype": "text/x-r-source",
   "name": "R",
   "pygments_lexer": "r",
   "version": "3.4.2"
  }
 },
 "nbformat": 4,
 "nbformat_minor": 2
}
